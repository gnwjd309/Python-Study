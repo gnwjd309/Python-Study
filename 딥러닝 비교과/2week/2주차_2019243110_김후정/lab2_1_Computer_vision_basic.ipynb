{
  "nbformat": 4,
  "nbformat_minor": 0,
  "metadata": {
    "colab": {
      "name": "lab2_1_Computer_vision_basic.ipynb",
      "provenance": [],
      "collapsed_sections": [],
      "toc_visible": true
    },
    "kernelspec": {
      "name": "python3",
      "display_name": "Python 3"
    }
  },
  "cells": [
    {
      "cell_type": "markdown",
      "metadata": {
        "id": "OkC133N2Fxew"
      },
      "source": [
        "# 2-1. Computer Vision Basic"
      ]
    },
    {
      "cell_type": "markdown",
      "metadata": {
        "id": "hZ2T-m4VZ2ix"
      },
      "source": [
        "## Computer Vision 종류"
      ]
    },
    {
      "cell_type": "markdown",
      "metadata": {
        "id": "rMHI8s4SZ9R-"
      },
      "source": [
        "### 1. Image Classification\r\n",
        "- 지원모델\r\n",
        "  - ResNet, MobileNet, DenseNet, VGG, ...\r\n",
        "-  <img src='https://cv.gluon.ai/_static/image-classification.png' />"
      ]
    },
    {
      "cell_type": "markdown",
      "metadata": {
        "id": "rEeXqZ41aUYY"
      },
      "source": [
        "### 2. Object Detection\r\n",
        "- 지원모델\r\n",
        "  - Faster RCNN, SSD, Yolo-v3\r\n",
        "- <img src='https://cv.gluon.ai/_static/object-detection.png' />"
      ]
    },
    {
      "cell_type": "markdown",
      "metadata": {
        "id": "oi0Z0r5B9x1L"
      },
      "source": [
        "### 3. Semantic Segmentation\r\n",
        "- 지원모델\r\n",
        "  - FCN, PSP, DeepLab_v3\r\n",
        "- <img src='https://cv.gluon.ai/_static/semantic-segmentation.png' />"
      ]
    },
    {
      "cell_type": "markdown",
      "metadata": {
        "id": "hT-RKgog9_rh"
      },
      "source": [
        "### 4. Instance Segmentation\r\n",
        "- 지원모델\r\n",
        "  - Mask RCNN\r\n",
        "- <img src='https://cv.gluon.ai/_static/instance-segmentation.png' />"
      ]
    },
    {
      "cell_type": "markdown",
      "metadata": {
        "id": "hwWJOAKHA39F"
      },
      "source": [
        "### 5. Pose Estimation\r\n",
        "- 지원모델\r\n",
        "  - Simple Pose\r\n",
        "- <img src='https://cv.gluon.ai/_static/pose-estimation.svg' width=638px   /> \r\n",
        " "
      ]
    },
    {
      "cell_type": "markdown",
      "metadata": {
        "id": "WwC6YMszBqDq"
      },
      "source": [
        "### 6. Video Action REcognition\r\n",
        "- 지원모델\r\n",
        "  - TSN, i3D, Non-local, SlowFast\r\n",
        "- <img src='https://cv.gluon.ai/_static/action-recognition.png' width=638px />"
      ]
    },
    {
      "cell_type": "markdown",
      "metadata": {
        "id": "_0de6e47ihC2"
      },
      "source": [
        "### 7. Depth Prediction\r\n",
        "- 지원모델\r\n",
        "  - Monodepth2\r\n",
        "- <img src='https://github.com/dmlc/gluon-cv/raw/master/docs/_static/depth.png'  width=638px />"
      ]
    },
    {
      "cell_type": "markdown",
      "metadata": {
        "id": "pCanuyPrjLYs"
      },
      "source": [
        "### 8. Object Tracking\r\n",
        "- 지원모델\r\n",
        "  - SiamRPN, SMOT\r\n",
        "- <img src='https://cv.gluon.ai/_static/smot_demo.gif'  width=638px />\r\n"
      ]
    },
    {
      "cell_type": "markdown",
      "metadata": {
        "id": "mgAecPWVie3J"
      },
      "source": [
        "--------------------"
      ]
    },
    {
      "cell_type": "markdown",
      "metadata": {
        "id": "eS9l19vt0bsL"
      },
      "source": [
        "## Neural Network"
      ]
    },
    {
      "cell_type": "markdown",
      "metadata": {
        "id": "3ZvMw8foz_UV"
      },
      "source": [
        "- 각각의 화살표마다 가중치값이 적용되며, 학습 시 해당 값에 대하여 값을 설정하면서 학습한다\r\n",
        "<img src='https://sites.google.com/site/ticketlabdocumentation/_/rsrc/1524654219496/computer-vision/neural_net2.jpeg' width=100%>"
      ]
    },
    {
      "cell_type": "markdown",
      "metadata": {
        "id": "5GtPcPJ_GUNM"
      },
      "source": [
        "## image에서 특징을 추출 하기"
      ]
    },
    {
      "cell_type": "markdown",
      "metadata": {
        "id": "jOImwrhhHSbH"
      },
      "source": [
        "<img src='https://static.news.zumst.com/images/43/2017/08/10/4ef3dd3f75444118b9cfce45fd2a52f7.jpg' >"
      ]
    },
    {
      "cell_type": "markdown",
      "metadata": {
        "id": "FqWkMmlZIhC7"
      },
      "source": [
        "### image download"
      ]
    },
    {
      "cell_type": "code",
      "metadata": {
        "id": "AzsYmRK2FniH",
        "colab": {
          "base_uri": "https://localhost:8080/"
        },
        "outputId": "ff1c64cf-e99a-4924-9f25-57a87d4a652a"
      },
      "source": [
        "!curl https://static.news.zumst.com/images/43/2017/08/10/4ef3dd3f75444118b9cfce45fd2a52f7.jpg > son.png"
      ],
      "execution_count": 1,
      "outputs": [
        {
          "output_type": "stream",
          "text": [
            "  % Total    % Received % Xferd  Average Speed   Time    Time     Time  Current\n",
            "                                 Dload  Upload   Total   Spent    Left  Speed\n",
            "100 28540  100 28540    0     0  29453      0 --:--:-- --:--:-- --:--:-- 29422\n"
          ],
          "name": "stdout"
        }
      ]
    },
    {
      "cell_type": "markdown",
      "metadata": {
        "id": "rqLmUJeWIsZP"
      },
      "source": [
        "### image load"
      ]
    },
    {
      "cell_type": "code",
      "metadata": {
        "id": "pA1Z7J2-Hx3l"
      },
      "source": [
        "from keras.preprocessing.image import load_img\r\n",
        "from keras.preprocessing.image import img_to_array\r\n",
        "from keras.models import Model\r\n",
        "from matplotlib import pyplot\r\n",
        "from numpy import expand_dims"
      ],
      "execution_count": 2,
      "outputs": []
    },
    {
      "cell_type": "code",
      "metadata": {
        "id": "_umNs97ne7_N"
      },
      "source": [
        "img_org = load_img('./son.png')"
      ],
      "execution_count": 3,
      "outputs": []
    },
    {
      "cell_type": "code",
      "metadata": {
        "id": "QTR24swne_di",
        "colab": {
          "base_uri": "https://localhost:8080/"
        },
        "outputId": "fe903f3d-5a1d-4047-b409-08a28c7022fc"
      },
      "source": [
        "img_org = img_to_array(img_org) \r\n",
        "img_org.shape"
      ],
      "execution_count": 4,
      "outputs": [
        {
          "output_type": "execute_result",
          "data": {
            "text/plain": [
              "(600, 600, 3)"
            ]
          },
          "metadata": {
            "tags": []
          },
          "execution_count": 4
        }
      ]
    },
    {
      "cell_type": "code",
      "metadata": {
        "id": "zkywVfLsIb3x"
      },
      "source": [
        "img = load_img('./son.png', target_size=(250, 250))"
      ],
      "execution_count": 5,
      "outputs": []
    },
    {
      "cell_type": "code",
      "metadata": {
        "id": "NvMMDRPvTC_y",
        "colab": {
          "base_uri": "https://localhost:8080/"
        },
        "outputId": "07a93340-9ba2-4b99-ef40-55fa481c84a1"
      },
      "source": [
        "250*250*3"
      ],
      "execution_count": 6,
      "outputs": [
        {
          "output_type": "execute_result",
          "data": {
            "text/plain": [
              "187500"
            ]
          },
          "metadata": {
            "tags": []
          },
          "execution_count": 6
        }
      ]
    },
    {
      "cell_type": "markdown",
      "metadata": {
        "id": "ltd4hiqmTJQc"
      },
      "source": [
        "특징을 유지한채로 128 개의 array에 담아내기!"
      ]
    },
    {
      "cell_type": "code",
      "metadata": {
        "id": "MQylVW_yI2fC",
        "colab": {
          "base_uri": "https://localhost:8080/"
        },
        "outputId": "08196abc-5a1b-4edd-92b7-c1504f2c2990"
      },
      "source": [
        "type(img)"
      ],
      "execution_count": 7,
      "outputs": [
        {
          "output_type": "execute_result",
          "data": {
            "text/plain": [
              "PIL.Image.Image"
            ]
          },
          "metadata": {
            "tags": []
          },
          "execution_count": 7
        }
      ]
    },
    {
      "cell_type": "markdown",
      "metadata": {
        "id": "Rtejkf8NJTIp"
      },
      "source": [
        "### ndarray 형태로 변환"
      ]
    },
    {
      "cell_type": "code",
      "metadata": {
        "id": "nU5WWLT4JA7o"
      },
      "source": [
        " img = img_to_array(img) "
      ],
      "execution_count": 8,
      "outputs": []
    },
    {
      "cell_type": "code",
      "metadata": {
        "id": "0VIAlviAJISw",
        "colab": {
          "base_uri": "https://localhost:8080/"
        },
        "outputId": "03fd76f7-ed6f-40b3-e3e8-53d5341df40a"
      },
      "source": [
        "type(img)"
      ],
      "execution_count": 9,
      "outputs": [
        {
          "output_type": "execute_result",
          "data": {
            "text/plain": [
              "numpy.ndarray"
            ]
          },
          "metadata": {
            "tags": []
          },
          "execution_count": 9
        }
      ]
    },
    {
      "cell_type": "code",
      "metadata": {
        "id": "7TJaIvNMQqh-",
        "colab": {
          "base_uri": "https://localhost:8080/"
        },
        "outputId": "916421f2-6d2f-42b4-f743-bbf5bf700a80"
      },
      "source": [
        "img.shape"
      ],
      "execution_count": 10,
      "outputs": [
        {
          "output_type": "execute_result",
          "data": {
            "text/plain": [
              "(250, 250, 3)"
            ]
          },
          "metadata": {
            "tags": []
          },
          "execution_count": 10
        }
      ]
    },
    {
      "cell_type": "code",
      "metadata": {
        "id": "U53HmXY7JGmw",
        "colab": {
          "base_uri": "https://localhost:8080/"
        },
        "outputId": "2d688038-12e1-454b-8bb6-cd4f45ecee5c"
      },
      "source": [
        "img"
      ],
      "execution_count": 11,
      "outputs": [
        {
          "output_type": "execute_result",
          "data": {
            "text/plain": [
              "array([[[188., 190., 202.],\n",
              "        [188., 190., 202.],\n",
              "        [188., 190., 202.],\n",
              "        ...,\n",
              "        [171., 174., 183.],\n",
              "        [171., 174., 183.],\n",
              "        [171., 174., 183.]],\n",
              "\n",
              "       [[188., 190., 202.],\n",
              "        [188., 190., 202.],\n",
              "        [188., 190., 202.],\n",
              "        ...,\n",
              "        [171., 174., 183.],\n",
              "        [171., 174., 183.],\n",
              "        [171., 174., 183.]],\n",
              "\n",
              "       [[188., 190., 202.],\n",
              "        [188., 190., 202.],\n",
              "        [188., 190., 202.],\n",
              "        ...,\n",
              "        [171., 174., 183.],\n",
              "        [171., 174., 183.],\n",
              "        [171., 174., 183.]],\n",
              "\n",
              "       ...,\n",
              "\n",
              "       [[195., 199., 208.],\n",
              "        [195., 199., 208.],\n",
              "        [195., 199., 208.],\n",
              "        ...,\n",
              "        [147., 153., 165.],\n",
              "        [147., 153., 165.],\n",
              "        [146., 152., 164.]],\n",
              "\n",
              "       [[195., 199., 208.],\n",
              "        [195., 199., 208.],\n",
              "        [195., 199., 208.],\n",
              "        ...,\n",
              "        [147., 153., 165.],\n",
              "        [147., 153., 165.],\n",
              "        [146., 152., 164.]],\n",
              "\n",
              "       [[195., 199., 208.],\n",
              "        [195., 199., 208.],\n",
              "        [195., 199., 208.],\n",
              "        ...,\n",
              "        [147., 153., 165.],\n",
              "        [147., 153., 165.],\n",
              "        [146., 152., 164.]]], dtype=float32)"
            ]
          },
          "metadata": {
            "tags": []
          },
          "execution_count": 11
        }
      ]
    },
    {
      "cell_type": "markdown",
      "metadata": {
        "id": "xaZqDNX8hs_V"
      },
      "source": [
        "- normallize(0~1)"
      ]
    },
    {
      "cell_type": "code",
      "metadata": {
        "id": "HiB975E2Z8Mo"
      },
      "source": [
        "img /= 255."
      ],
      "execution_count": 12,
      "outputs": []
    },
    {
      "cell_type": "code",
      "metadata": {
        "id": "Vkox_iRKZ_FI",
        "colab": {
          "base_uri": "https://localhost:8080/"
        },
        "outputId": "a47de7b4-931b-4ffa-f92d-2cd0fff665e7"
      },
      "source": [
        "img"
      ],
      "execution_count": 13,
      "outputs": [
        {
          "output_type": "execute_result",
          "data": {
            "text/plain": [
              "array([[[0.7372549 , 0.74509805, 0.7921569 ],\n",
              "        [0.7372549 , 0.74509805, 0.7921569 ],\n",
              "        [0.7372549 , 0.74509805, 0.7921569 ],\n",
              "        ...,\n",
              "        [0.67058825, 0.68235296, 0.7176471 ],\n",
              "        [0.67058825, 0.68235296, 0.7176471 ],\n",
              "        [0.67058825, 0.68235296, 0.7176471 ]],\n",
              "\n",
              "       [[0.7372549 , 0.74509805, 0.7921569 ],\n",
              "        [0.7372549 , 0.74509805, 0.7921569 ],\n",
              "        [0.7372549 , 0.74509805, 0.7921569 ],\n",
              "        ...,\n",
              "        [0.67058825, 0.68235296, 0.7176471 ],\n",
              "        [0.67058825, 0.68235296, 0.7176471 ],\n",
              "        [0.67058825, 0.68235296, 0.7176471 ]],\n",
              "\n",
              "       [[0.7372549 , 0.74509805, 0.7921569 ],\n",
              "        [0.7372549 , 0.74509805, 0.7921569 ],\n",
              "        [0.7372549 , 0.74509805, 0.7921569 ],\n",
              "        ...,\n",
              "        [0.67058825, 0.68235296, 0.7176471 ],\n",
              "        [0.67058825, 0.68235296, 0.7176471 ],\n",
              "        [0.67058825, 0.68235296, 0.7176471 ]],\n",
              "\n",
              "       ...,\n",
              "\n",
              "       [[0.7647059 , 0.78039217, 0.8156863 ],\n",
              "        [0.7647059 , 0.78039217, 0.8156863 ],\n",
              "        [0.7647059 , 0.78039217, 0.8156863 ],\n",
              "        ...,\n",
              "        [0.5764706 , 0.6       , 0.64705884],\n",
              "        [0.5764706 , 0.6       , 0.64705884],\n",
              "        [0.57254905, 0.59607846, 0.6431373 ]],\n",
              "\n",
              "       [[0.7647059 , 0.78039217, 0.8156863 ],\n",
              "        [0.7647059 , 0.78039217, 0.8156863 ],\n",
              "        [0.7647059 , 0.78039217, 0.8156863 ],\n",
              "        ...,\n",
              "        [0.5764706 , 0.6       , 0.64705884],\n",
              "        [0.5764706 , 0.6       , 0.64705884],\n",
              "        [0.57254905, 0.59607846, 0.6431373 ]],\n",
              "\n",
              "       [[0.7647059 , 0.78039217, 0.8156863 ],\n",
              "        [0.7647059 , 0.78039217, 0.8156863 ],\n",
              "        [0.7647059 , 0.78039217, 0.8156863 ],\n",
              "        ...,\n",
              "        [0.5764706 , 0.6       , 0.64705884],\n",
              "        [0.5764706 , 0.6       , 0.64705884],\n",
              "        [0.57254905, 0.59607846, 0.6431373 ]]], dtype=float32)"
            ]
          },
          "metadata": {
            "tags": []
          },
          "execution_count": 13
        }
      ]
    },
    {
      "cell_type": "markdown",
      "metadata": {
        "id": "W5cLB5m-ilQZ"
      },
      "source": [
        "### 변환된 데이터를 pyplot으로 확인하기"
      ]
    },
    {
      "cell_type": "code",
      "metadata": {
        "id": "ka7bVIlfJHfI"
      },
      "source": [
        "import matplotlib.pyplot as plt"
      ],
      "execution_count": 14,
      "outputs": []
    },
    {
      "cell_type": "code",
      "metadata": {
        "id": "SrdNc11fOC11"
      },
      "source": [
        " plt.rcParams['figure.figsize'] = (10, 10) # set figure size"
      ],
      "execution_count": 15,
      "outputs": []
    },
    {
      "cell_type": "code",
      "metadata": {
        "id": "3P02IHa9OGEd",
        "colab": {
          "base_uri": "https://localhost:8080/",
          "height": 594
        },
        "outputId": "a6ea9c57-d433-44f2-fd81-adfd278ee9e5"
      },
      "source": [
        " plt.imshow(img)\r\n",
        " plt.show()"
      ],
      "execution_count": 16,
      "outputs": [
        {
          "output_type": "display_data",
          "data": {
            "image/png": "[encoded data removed]",
            "text/plain": [
              "<Figure size 720x720 with 1 Axes>"
            ]
          },
          "metadata": {
            "tags": [],
            "needs_background": "light"
          }
        }
      ]
    },
    {
      "cell_type": "markdown",
      "metadata": {
        "id": "37sM9sZnUDge"
      },
      "source": [
        "### convolution"
      ]
    },
    {
      "cell_type": "code",
      "metadata": {
        "id": "x6lfzsUZUVFS"
      },
      "source": [
        "import tensorflow as tf\r\n",
        "import numpy as np\r\n",
        "from tensorflow.keras import datasets, layers, models"
      ],
      "execution_count": 17,
      "outputs": []
    },
    {
      "cell_type": "markdown",
      "metadata": {
        "id": "AMvmiPZud-xc"
      },
      "source": [
        "- input_shape 과 마지막 layer의 shape이 중요합니다"
      ]
    },
    {
      "cell_type": "markdown",
      "metadata": {
        "id": "aXzWBCrybRUf"
      },
      "source": [
        "<img src='https://cezannec.github.io/assets/cnn_intro/CNN_ex.png' width=100% />"
      ]
    },
    {
      "cell_type": "code",
      "metadata": {
        "id": "YZbLeOkDOeJZ"
      },
      "source": [
        "model = models.Sequential() \r\n",
        "model.add(layers.InputLayer(input_shape=(250,250,3)))\r\n",
        "model.add(layers.Conv2D(32, (3, 3), activation='relu'))\r\n",
        "model.add(layers.MaxPooling2D((2, 2)))\r\n",
        "model.add(layers.Conv2D(64, (3, 3), activation='relu'))\r\n",
        "model.add(layers.MaxPooling2D((2, 2)))\r\n",
        "model.add(layers.Flatten())\r\n",
        "model.add(layers.Dense(128, activation='relu'))"
      ],
      "execution_count": 18,
      "outputs": []
    },
    {
      "cell_type": "code",
      "metadata": {
        "id": "QGY_URMFUQW7",
        "colab": {
          "base_uri": "https://localhost:8080/"
        },
        "outputId": "5c65491d-a3f9-4da8-ea97-02f28a71b61a"
      },
      "source": [
        "model.summary()"
      ],
      "execution_count": 19,
      "outputs": [
        {
          "output_type": "stream",
          "text": [
            "Model: \"sequential\"\n",
            "_________________________________________________________________\n",
            "Layer (type)                 Output Shape              Param #   \n",
            "=================================================================\n",
            "conv2d (Conv2D)              (None, 248, 248, 32)      896       \n",
            "_________________________________________________________________\n",
            "max_pooling2d (MaxPooling2D) (None, 124, 124, 32)      0         \n",
            "_________________________________________________________________\n",
            "conv2d_1 (Conv2D)            (None, 122, 122, 64)      18496     \n",
            "_________________________________________________________________\n",
            "max_pooling2d_1 (MaxPooling2 (None, 61, 61, 64)        0         \n",
            "_________________________________________________________________\n",
            "flatten (Flatten)            (None, 238144)            0         \n",
            "_________________________________________________________________\n",
            "dense (Dense)                (None, 128)               30482560  \n",
            "=================================================================\n",
            "Total params: 30,501,952\n",
            "Trainable params: 30,501,952\n",
            "Non-trainable params: 0\n",
            "_________________________________________________________________\n"
          ],
          "name": "stdout"
        }
      ]
    },
    {
      "cell_type": "code",
      "metadata": {
        "id": "EHE6QDvXV8NO"
      },
      "source": [
        "img = expand_dims(img, axis=0)"
      ],
      "execution_count": 20,
      "outputs": []
    },
    {
      "cell_type": "code",
      "metadata": {
        "id": "Zz-OJ0bMhwdi",
        "colab": {
          "base_uri": "https://localhost:8080/"
        },
        "outputId": "e3646312-8c95-4df1-a26c-829ee3131d8c"
      },
      "source": [
        "img.shape"
      ],
      "execution_count": 21,
      "outputs": [
        {
          "output_type": "execute_result",
          "data": {
            "text/plain": [
              "(1, 250, 250, 3)"
            ]
          },
          "metadata": {
            "tags": []
          },
          "execution_count": 21
        }
      ]
    },
    {
      "cell_type": "markdown",
      "metadata": {
        "id": "JpL3SBU9YEIU"
      },
      "source": [
        "- 참고 : [how-to-visualize-filters-and-feature-maps-in-convolutional-neural-networks](https://machinelearningmastery.com/how-to-visualize-filters-and-feature-maps-in-convolutional-neural-networks/)"
      ]
    },
    {
      "cell_type": "code",
      "metadata": {
        "id": "boeewux8YkUz"
      },
      "source": [
        "feature_maps = model.predict(img)"
      ],
      "execution_count": 22,
      "outputs": []
    },
    {
      "cell_type": "code",
      "metadata": {
        "id": "wbhc12rVZAkd",
        "colab": {
          "base_uri": "https://localhost:8080/"
        },
        "outputId": "ebb9563d-036d-43c7-e562-5d0b4bce3dc2"
      },
      "source": [
        "feature_maps.shape"
      ],
      "execution_count": 23,
      "outputs": [
        {
          "output_type": "execute_result",
          "data": {
            "text/plain": [
              "(1, 128)"
            ]
          },
          "metadata": {
            "tags": []
          },
          "execution_count": 23
        }
      ]
    },
    {
      "cell_type": "code",
      "metadata": {
        "id": "yg1hdbKCZCzz",
        "colab": {
          "base_uri": "https://localhost:8080/"
        },
        "outputId": "2dc0b324-0918-4e08-f14f-8f1172588daf"
      },
      "source": [
        "feature_maps.reshape(128)"
      ],
      "execution_count": 24,
      "outputs": [
        {
          "output_type": "execute_result",
          "data": {
            "text/plain": [
              "array([0.170383  , 0.        , 0.0459097 , 0.        , 0.19862667,\n",
              "       0.10642939, 0.1227645 , 0.07036267, 0.        , 0.        ,\n",
              "       0.07541052, 0.15655312, 0.        , 0.23595542, 0.02700287,\n",
              "       0.33693776, 0.        , 0.03147428, 0.22211665, 0.        ,\n",
              "       0.17703143, 0.12354991, 0.04591892, 0.01518628, 0.        ,\n",
              "       0.1516832 , 0.        , 0.        , 0.        , 0.02885579,\n",
              "       0.        , 0.        , 0.        , 0.29458016, 0.26901838,\n",
              "       0.25019562, 0.09064079, 0.00189218, 0.1369171 , 0.16522187,\n",
              "       0.14369702, 0.18749791, 0.        , 0.        , 0.1603178 ,\n",
              "       0.        , 0.05753745, 0.        , 0.        , 0.00443613,\n",
              "       0.        , 0.        , 0.09177294, 0.3101793 , 0.17348912,\n",
              "       0.        , 0.        , 0.06668472, 0.08924548, 0.18485436,\n",
              "       0.27495074, 0.08943026, 0.09513498, 0.08822294, 0.        ,\n",
              "       0.        , 0.        , 0.        , 0.12737904, 0.41799733,\n",
              "       0.18102638, 0.        , 0.        , 0.18110101, 0.06200072,\n",
              "       0.        , 0.        , 0.        , 0.        , 0.        ,\n",
              "       0.        , 0.        , 0.00713004, 0.        , 0.10457695,\n",
              "       0.03656185, 0.        , 0.        , 0.13449095, 0.25813794,\n",
              "       0.        , 0.        , 0.06239138, 0.0043365 , 0.        ,\n",
              "       0.3643796 , 0.        , 0.10632823, 0.        , 0.28410697,\n",
              "       0.        , 0.34966797, 0.14054589, 0.40884688, 0.        ,\n",
              "       0.        , 0.1890549 , 0.26982525, 0.        , 0.11238989,\n",
              "       0.        , 0.13114402, 0.        , 0.        , 0.        ,\n",
              "       0.        , 0.12900412, 0.        , 0.        , 0.        ,\n",
              "       0.23716003, 0.3837356 , 0.        , 0.09563843, 0.        ,\n",
              "       0.        , 0.        , 0.14537725], dtype=float32)"
            ]
          },
          "metadata": {
            "tags": []
          },
          "execution_count": 24
        }
      ]
    },
    {
      "cell_type": "markdown",
      "metadata": {
        "id": "vQodk0G7d0w4"
      },
      "source": [
        "### 분류기 만들기"
      ]
    },
    {
      "cell_type": "code",
      "metadata": {
        "id": "Iq4re-cKbJmE"
      },
      "source": [
        "model2 = models.Sequential()\r\n",
        "model2.add(layers.InputLayer(input_shape=(250, 250, 3)))\r\n",
        "model2.add(layers.Conv2D(32, (3, 3), activation='relu'))\r\n",
        "model2.add(layers.MaxPooling2D((2, 2)))\r\n",
        "model2.add(layers.Conv2D(64, (3, 3), activation='relu'))\r\n",
        "model2.add(layers.MaxPooling2D((2, 2))) \r\n",
        "model2.add(layers.Flatten()) \r\n",
        "model2.add(layers.Dense(10, activation='softmax'))"
      ],
      "execution_count": 25,
      "outputs": []
    },
    {
      "cell_type": "code",
      "metadata": {
        "id": "oGS2zj2ibOYv"
      },
      "source": [
        "feature_maps2 = model2.predict(img)"
      ],
      "execution_count": 26,
      "outputs": []
    },
    {
      "cell_type": "code",
      "metadata": {
        "id": "sGpLjdMPiFJF",
        "colab": {
          "base_uri": "https://localhost:8080/"
        },
        "outputId": "bae0eed3-bc15-497f-ca29-0d05e7344273"
      },
      "source": [
        "feature_maps2.shape"
      ],
      "execution_count": 27,
      "outputs": [
        {
          "output_type": "execute_result",
          "data": {
            "text/plain": [
              "(1, 10)"
            ]
          },
          "metadata": {
            "tags": []
          },
          "execution_count": 27
        }
      ]
    },
    {
      "cell_type": "code",
      "metadata": {
        "id": "GRj4CHeKbR3B",
        "colab": {
          "base_uri": "https://localhost:8080/"
        },
        "outputId": "3d5151ba-d56e-499f-86c9-9d2a9e7d3c3f"
      },
      "source": [
        "feature_maps2.reshape(10)"
      ],
      "execution_count": 28,
      "outputs": [
        {
          "output_type": "execute_result",
          "data": {
            "text/plain": [
              "array([0.10161756, 0.08779899, 0.10413536, 0.09804672, 0.11015927,\n",
              "       0.11019863, 0.10535953, 0.07392069, 0.08878244, 0.11998081],\n",
              "      dtype=float32)"
            ]
          },
          "metadata": {
            "tags": []
          },
          "execution_count": 28
        }
      ]
    },
    {
      "cell_type": "markdown",
      "metadata": {
        "id": "Jhk_gF7TjxYy"
      },
      "source": [
        "## 기존의 모델을 이용하여 특징 추출하기\r\n",
        "- [keras available models](https://keras.io/api/applications/)\r\n",
        "- [imagenet](http://www.image-net.org/)\r\n",
        "- [imagenet models architecture](https://www.researchgate.net/profile/Tiago_Carvalho13/publication/330478807/figure/fig1/AS:756995804110849@1557493272678/VGG16-VGG19-Inception-V3-Xception-and-ResNet-50-architectures.ppm)"
      ]
    },
    {
      "cell_type": "markdown",
      "metadata": {
        "id": "FuuQ0cZokhKm"
      },
      "source": [
        "### resnet50"
      ]
    },
    {
      "cell_type": "code",
      "metadata": {
        "id": "EX1UlBiibS8Y"
      },
      "source": [
        "from keras.applications.resnet50 import ResNet50\r\n",
        "from keras.applications.resnet50 import preprocess_input as resnet50_preprocessing\r\n",
        "from keras.applications.resnet50 import decode_predictions as resnet50_decode"
      ],
      "execution_count": 29,
      "outputs": []
    },
    {
      "cell_type": "markdown",
      "metadata": {
        "id": "7R7lX8rGoMnQ"
      },
      "source": [
        "#### residual network\r\n",
        "<img src='https://miro.medium.com/max/546/1*5zSgo2L71FJos8XendgCvQ.jpeg' />"
      ]
    },
    {
      "cell_type": "markdown",
      "metadata": {
        "id": "K9RQStqJpwVR"
      },
      "source": [
        "#### resnet50 framework\r\n",
        "<img src='https://www.medrxiv.org/content/medrxiv/early/2020/11/12/2020.11.08.20227819/F3.large.jpg?width=800&height=600&carousel=1'>"
      ]
    },
    {
      "cell_type": "markdown",
      "metadata": {
        "id": "Zbk7FO0UksWD"
      },
      "source": [
        "#### resnet50 layers\r\n",
        "<img src='https://iq.opengenus.org/content/images/2020/03/Screenshot-from-2020-03-20-15-49-54.png' width=100% />\r\n",
        "  - FLOPs = Floating point operations"
      ]
    },
    {
      "cell_type": "code",
      "metadata": {
        "id": "g_VoCRQsg8p_",
        "colab": {
          "base_uri": "https://localhost:8080/"
        },
        "outputId": "d1d13c93-b166-456f-9d30-6e18b6c71555"
      },
      "source": [
        "model_resnet_50 = ResNet50()"
      ],
      "execution_count": 30,
      "outputs": [
        {
          "output_type": "stream",
          "text": [
            "Downloading data from https://storage.googleapis.com/tensorflow/keras-applications/resnet/resnet50_weights_tf_dim_ordering_tf_kernels.h5\n",
            "102973440/102967424 [==============================] - 2s 0us/step\n"
          ],
          "name": "stdout"
        }
      ]
    },
    {
      "cell_type": "markdown",
      "metadata": {
        "id": "OMjJDZ7Bkkar"
      },
      "source": [
        "#### image test"
      ]
    },
    {
      "cell_type": "code",
      "metadata": {
        "id": "R4qqIhwSqZl7",
        "colab": {
          "base_uri": "https://localhost:8080/"
        },
        "outputId": "ea12ab89-9e3a-4bc3-ac2a-6fc5022f5110"
      },
      "source": [
        "!curl https://sbybiz.org/app/uploads/2014/06/soccer-ball-300x200.jpg > ball.jpg"
      ],
      "execution_count": 31,
      "outputs": [
        {
          "output_type": "stream",
          "text": [
            "  % Total    % Received % Xferd  Average Speed   Time    Time     Time  Current\n",
            "                                 Dload  Upload   Total   Spent    Left  Speed\n",
            "100 21809  100 21809    0     0  46303      0 --:--:-- --:--:-- --:--:-- 46303\n"
          ],
          "name": "stdout"
        }
      ]
    },
    {
      "cell_type": "markdown",
      "metadata": {
        "id": "7F02XTcQqkd_"
      },
      "source": [
        "<img src=\"https://sbybiz.org/app/uploads/2014/06/soccer-ball-300x200.jpg\" />"
      ]
    },
    {
      "cell_type": "code",
      "metadata": {
        "id": "Y8MsdfkUhGAo"
      },
      "source": [
        "img = load_img('./ball.jpg', target_size=(224, 224))\r\n",
        "x = img_to_array(img)\r\n",
        "x = np.expand_dims(x, axis=0)\r\n",
        "x = resnet50_preprocessing(x)"
      ],
      "execution_count": 32,
      "outputs": []
    },
    {
      "cell_type": "code",
      "metadata": {
        "id": "SuNdmcSAkoyG"
      },
      "source": [
        "preds_resnet_50 = model_resnet_50.predict(x)"
      ],
      "execution_count": 33,
      "outputs": []
    },
    {
      "cell_type": "code",
      "metadata": {
        "id": "wf8CPKxMlXLG",
        "colab": {
          "base_uri": "https://localhost:8080/"
        },
        "outputId": "3fd6f8d0-2c14-4e22-ff73-41edfe401e32"
      },
      "source": [
        "print('predicated:', resnet50_decode(preds_resnet_50, top=3)[0])"
      ],
      "execution_count": 34,
      "outputs": [
        {
          "output_type": "stream",
          "text": [
            "Downloading data from https://storage.googleapis.com/download.tensorflow.org/data/imagenet_class_index.json\n",
            "40960/35363 [==================================] - 0s 0us/step\n",
            "predicated: [('n04254680', 'soccer_ball', 0.999905), ('n04540053', 'volleyball', 1.6411299e-05), ('n03134739', 'croquet_ball', 1.4350643e-05)]\n"
          ],
          "name": "stdout"
        }
      ]
    },
    {
      "cell_type": "markdown",
      "metadata": {
        "id": "Ycd8e7gAtX2h"
      },
      "source": [
        "### VGG16"
      ]
    },
    {
      "cell_type": "code",
      "metadata": {
        "id": "dP-DQmWVloZl"
      },
      "source": [
        "from tensorflow.keras.applications.vgg16 import VGG16\r\n",
        "from tensorflow.keras.preprocessing import image\r\n",
        "from tensorflow.keras.applications.vgg16 import preprocess_input, decode_predictions\r\n",
        "import numpy as np"
      ],
      "execution_count": 35,
      "outputs": []
    },
    {
      "cell_type": "code",
      "metadata": {
        "id": "Pem77tnvtcur",
        "colab": {
          "base_uri": "https://localhost:8080/"
        },
        "outputId": "a57fac7e-877a-44b6-aeb4-04227763b0fa"
      },
      "source": [
        "model_vgg16 = VGG16(weights='imagenet')"
      ],
      "execution_count": 36,
      "outputs": [
        {
          "output_type": "stream",
          "text": [
            "Downloading data from https://storage.googleapis.com/tensorflow/keras-applications/vgg16/vgg16_weights_tf_dim_ordering_tf_kernels.h5\n",
            "553467904/553467096 [==============================] - 8s 0us/step\n"
          ],
          "name": "stdout"
        }
      ]
    },
    {
      "cell_type": "markdown",
      "metadata": {
        "id": "HbbbaRY3md2R"
      },
      "source": [
        "#### VGG16 architecture\r\n",
        "<img src='https://neurohive.io/wp-content/uploads/2018/11/vgg16-neural-network.jpg' width=100% />"
      ]
    },
    {
      "cell_type": "markdown",
      "metadata": {
        "id": "AqD4fAEnqD_I"
      },
      "source": [
        "#### VGG16 layers\r\n",
        "<img src='https://neurohive.io/wp-content/uploads/2018/11/Capture-564x570.jpg'   />"
      ]
    },
    {
      "cell_type": "code",
      "metadata": {
        "id": "sdwPirFdttkN"
      },
      "source": [
        "img_path = './ball.jpg'\r\n",
        "img = image.load_img(img_path, target_size=(224, 224))"
      ],
      "execution_count": 37,
      "outputs": []
    },
    {
      "cell_type": "code",
      "metadata": {
        "id": "75czL84Rturg"
      },
      "source": [
        "x = image.img_to_array(img)\r\n",
        "x = np.expand_dims(x, axis=0)\r\n",
        "x = preprocess_input(x)"
      ],
      "execution_count": 38,
      "outputs": []
    },
    {
      "cell_type": "code",
      "metadata": {
        "id": "Um_iU9hftwFz"
      },
      "source": [
        "preds_vgg16 = model_vgg16.predict(x)"
      ],
      "execution_count": 39,
      "outputs": []
    },
    {
      "cell_type": "code",
      "metadata": {
        "id": "dfO3uuVQvnFL",
        "colab": {
          "base_uri": "https://localhost:8080/"
        },
        "outputId": "074eef55-928a-462e-e347-e109470e71c7"
      },
      "source": [
        "preds_vgg16.shape"
      ],
      "execution_count": 40,
      "outputs": [
        {
          "output_type": "execute_result",
          "data": {
            "text/plain": [
              "(1, 1000)"
            ]
          },
          "metadata": {
            "tags": []
          },
          "execution_count": 40
        }
      ]
    },
    {
      "cell_type": "code",
      "metadata": {
        "id": "4F28pTqLtwtr",
        "colab": {
          "base_uri": "https://localhost:8080/"
        },
        "outputId": "8626ca66-070f-41b8-e916-5f22e8c9ed3f"
      },
      "source": [
        "# decode_predictions(features[0])\r\n",
        "print('predicated:', decode_predictions(preds_vgg16, top=3)[0])"
      ],
      "execution_count": 41,
      "outputs": [
        {
          "output_type": "stream",
          "text": [
            "predicated: [('n04254680', 'soccer_ball', 0.99999917), ('n04540053', 'volleyball', 3.150363e-07), ('n03445777', 'golf_ball', 2.3648246e-07)]\n"
          ],
          "name": "stdout"
        }
      ]
    },
    {
      "cell_type": "markdown",
      "metadata": {
        "id": "tScP4w8avJmv"
      },
      "source": [
        "### VGG16 custom - top(분류부분) 제거"
      ]
    },
    {
      "cell_type": "code",
      "metadata": {
        "id": "Z7eLR72Vt7aJ",
        "colab": {
          "base_uri": "https://localhost:8080/"
        },
        "outputId": "e1885bde-7c8a-4039-aa9b-c50596cdee5c"
      },
      "source": [
        "model_vgg16_custom = VGG16(weights='imagenet', include_top=False)"
      ],
      "execution_count": 42,
      "outputs": [
        {
          "output_type": "stream",
          "text": [
            "Downloading data from https://storage.googleapis.com/tensorflow/keras-applications/vgg16/vgg16_weights_tf_dim_ordering_tf_kernels_notop.h5\n",
            "58892288/58889256 [==============================] - 1s 0us/step\n"
          ],
          "name": "stdout"
        }
      ]
    },
    {
      "cell_type": "code",
      "metadata": {
        "id": "0kytvVSHvYcD",
        "colab": {
          "base_uri": "https://localhost:8080/"
        },
        "outputId": "c061b32f-6d14-48b4-f495-72ca7dd09b20"
      },
      "source": [
        "model_vgg16_custom.summary()"
      ],
      "execution_count": 43,
      "outputs": [
        {
          "output_type": "stream",
          "text": [
            "Model: \"vgg16\"\n",
            "_________________________________________________________________\n",
            "Layer (type)                 Output Shape              Param #   \n",
            "=================================================================\n",
            "input_5 (InputLayer)         [(None, None, None, 3)]   0         \n",
            "_________________________________________________________________\n",
            "block1_conv1 (Conv2D)        (None, None, None, 64)    1792      \n",
            "_________________________________________________________________\n",
            "block1_conv2 (Conv2D)        (None, None, None, 64)    36928     \n",
            "_________________________________________________________________\n",
            "block1_pool (MaxPooling2D)   (None, None, None, 64)    0         \n",
            "_________________________________________________________________\n",
            "block2_conv1 (Conv2D)        (None, None, None, 128)   73856     \n",
            "_________________________________________________________________\n",
            "block2_conv2 (Conv2D)        (None, None, None, 128)   147584    \n",
            "_________________________________________________________________\n",
            "block2_pool (MaxPooling2D)   (None, None, None, 128)   0         \n",
            "_________________________________________________________________\n",
            "block3_conv1 (Conv2D)        (None, None, None, 256)   295168    \n",
            "_________________________________________________________________\n",
            "block3_conv2 (Conv2D)        (None, None, None, 256)   590080    \n",
            "_________________________________________________________________\n",
            "block3_conv3 (Conv2D)        (None, None, None, 256)   590080    \n",
            "_________________________________________________________________\n",
            "block3_pool (MaxPooling2D)   (None, None, None, 256)   0         \n",
            "_________________________________________________________________\n",
            "block4_conv1 (Conv2D)        (None, None, None, 512)   1180160   \n",
            "_________________________________________________________________\n",
            "block4_conv2 (Conv2D)        (None, None, None, 512)   2359808   \n",
            "_________________________________________________________________\n",
            "block4_conv3 (Conv2D)        (None, None, None, 512)   2359808   \n",
            "_________________________________________________________________\n",
            "block4_pool (MaxPooling2D)   (None, None, None, 512)   0         \n",
            "_________________________________________________________________\n",
            "block5_conv1 (Conv2D)        (None, None, None, 512)   2359808   \n",
            "_________________________________________________________________\n",
            "block5_conv2 (Conv2D)        (None, None, None, 512)   2359808   \n",
            "_________________________________________________________________\n",
            "block5_conv3 (Conv2D)        (None, None, None, 512)   2359808   \n",
            "_________________________________________________________________\n",
            "block5_pool (MaxPooling2D)   (None, None, None, 512)   0         \n",
            "=================================================================\n",
            "Total params: 14,714,688\n",
            "Trainable params: 14,714,688\n",
            "Non-trainable params: 0\n",
            "_________________________________________________________________\n"
          ],
          "name": "stdout"
        }
      ]
    },
    {
      "cell_type": "code",
      "metadata": {
        "id": "Uytmqq8DvahY",
        "colab": {
          "base_uri": "https://localhost:8080/"
        },
        "outputId": "c6126533-43c5-439e-d386-820271404bd8"
      },
      "source": [
        "preds_vgg16_custom = model_vgg16_custom.predict(x)"
      ],
      "execution_count": 44,
      "outputs": [
        {
          "output_type": "stream",
          "text": [
            "WARNING:tensorflow:5 out of the last 5 calls to <function Model.make_predict_function.<locals>.predict_function at 0x7f75ea8e1950> triggered tf.function retracing. Tracing is expensive and the excessive number of tracings could be due to (1) creating @tf.function repeatedly in a loop, (2) passing tensors with different shapes, (3) passing Python objects instead of tensors. For (1), please define your @tf.function outside of the loop. For (2), @tf.function has experimental_relax_shapes=True option that relaxes argument shapes that can avoid unnecessary retracing. For (3), please refer to https://www.tensorflow.org/guide/function#controlling_retracing and https://www.tensorflow.org/api_docs/python/tf/function for  more details.\n"
          ],
          "name": "stdout"
        }
      ]
    },
    {
      "cell_type": "code",
      "metadata": {
        "id": "znjRojpXvuHR",
        "colab": {
          "base_uri": "https://localhost:8080/"
        },
        "outputId": "6f1b7697-6f9f-4c92-c512-d183b21a2b70"
      },
      "source": [
        "preds_vgg16_custom.shape"
      ],
      "execution_count": 45,
      "outputs": [
        {
          "output_type": "execute_result",
          "data": {
            "text/plain": [
              "(1, 7, 7, 512)"
            ]
          },
          "metadata": {
            "tags": []
          },
          "execution_count": 45
        }
      ]
    },
    {
      "cell_type": "markdown",
      "metadata": {
        "id": "K9m7b_REmRex"
      },
      "source": [
        "### VGG16 custom - 원하는 layer 출력까지만 "
      ]
    },
    {
      "cell_type": "code",
      "metadata": {
        "id": "foHFeI1kvwBG"
      },
      "source": [
        "model_vgg16 = VGG16(weights='imagenet')\r\n",
        "model_vgg16_custom_fc2 = Model(inputs=model_vgg16.input, outputs=model_vgg16.get_layer('fc2').output)"
      ],
      "execution_count": 46,
      "outputs": []
    },
    {
      "cell_type": "code",
      "metadata": {
        "id": "oAFnCORtl7YC",
        "colab": {
          "base_uri": "https://localhost:8080/"
        },
        "outputId": "556dc9b9-df6c-498d-e7ea-f3288ef3683b"
      },
      "source": [
        "model_vgg16_custom_fc2.summary()"
      ],
      "execution_count": 47,
      "outputs": [
        {
          "output_type": "stream",
          "text": [
            "Model: \"model\"\n",
            "_________________________________________________________________\n",
            "Layer (type)                 Output Shape              Param #   \n",
            "=================================================================\n",
            "input_6 (InputLayer)         [(None, 224, 224, 3)]     0         \n",
            "_________________________________________________________________\n",
            "block1_conv1 (Conv2D)        (None, 224, 224, 64)      1792      \n",
            "_________________________________________________________________\n",
            "block1_conv2 (Conv2D)        (None, 224, 224, 64)      36928     \n",
            "_________________________________________________________________\n",
            "block1_pool (MaxPooling2D)   (None, 112, 112, 64)      0         \n",
            "_________________________________________________________________\n",
            "block2_conv1 (Conv2D)        (None, 112, 112, 128)     73856     \n",
            "_________________________________________________________________\n",
            "block2_conv2 (Conv2D)        (None, 112, 112, 128)     147584    \n",
            "_________________________________________________________________\n",
            "block2_pool (MaxPooling2D)   (None, 56, 56, 128)       0         \n",
            "_________________________________________________________________\n",
            "block3_conv1 (Conv2D)        (None, 56, 56, 256)       295168    \n",
            "_________________________________________________________________\n",
            "block3_conv2 (Conv2D)        (None, 56, 56, 256)       590080    \n",
            "_________________________________________________________________\n",
            "block3_conv3 (Conv2D)        (None, 56, 56, 256)       590080    \n",
            "_________________________________________________________________\n",
            "block3_pool (MaxPooling2D)   (None, 28, 28, 256)       0         \n",
            "_________________________________________________________________\n",
            "block4_conv1 (Conv2D)        (None, 28, 28, 512)       1180160   \n",
            "_________________________________________________________________\n",
            "block4_conv2 (Conv2D)        (None, 28, 28, 512)       2359808   \n",
            "_________________________________________________________________\n",
            "block4_conv3 (Conv2D)        (None, 28, 28, 512)       2359808   \n",
            "_________________________________________________________________\n",
            "block4_pool (MaxPooling2D)   (None, 14, 14, 512)       0         \n",
            "_________________________________________________________________\n",
            "block5_conv1 (Conv2D)        (None, 14, 14, 512)       2359808   \n",
            "_________________________________________________________________\n",
            "block5_conv2 (Conv2D)        (None, 14, 14, 512)       2359808   \n",
            "_________________________________________________________________\n",
            "block5_conv3 (Conv2D)        (None, 14, 14, 512)       2359808   \n",
            "_________________________________________________________________\n",
            "block5_pool (MaxPooling2D)   (None, 7, 7, 512)         0         \n",
            "_________________________________________________________________\n",
            "flatten (Flatten)            (None, 25088)             0         \n",
            "_________________________________________________________________\n",
            "fc1 (Dense)                  (None, 4096)              102764544 \n",
            "_________________________________________________________________\n",
            "fc2 (Dense)                  (None, 4096)              16781312  \n",
            "=================================================================\n",
            "Total params: 134,260,544\n",
            "Trainable params: 134,260,544\n",
            "Non-trainable params: 0\n",
            "_________________________________________________________________\n"
          ],
          "name": "stdout"
        }
      ]
    },
    {
      "cell_type": "code",
      "metadata": {
        "id": "YFhfLPH8mJdJ",
        "colab": {
          "base_uri": "https://localhost:8080/"
        },
        "outputId": "f93e41cb-37ff-47de-d17f-a960a236f2c2"
      },
      "source": [
        "features_custom_fc2 = model_vgg16_custom_fc2.predict(x)"
      ],
      "execution_count": 48,
      "outputs": [
        {
          "output_type": "stream",
          "text": [
            "WARNING:tensorflow:6 out of the last 6 calls to <function Model.make_predict_function.<locals>.predict_function at 0x7f75ea0639d8> triggered tf.function retracing. Tracing is expensive and the excessive number of tracings could be due to (1) creating @tf.function repeatedly in a loop, (2) passing tensors with different shapes, (3) passing Python objects instead of tensors. For (1), please define your @tf.function outside of the loop. For (2), @tf.function has experimental_relax_shapes=True option that relaxes argument shapes that can avoid unnecessary retracing. For (3), please refer to https://www.tensorflow.org/guide/function#controlling_retracing and https://www.tensorflow.org/api_docs/python/tf/function for  more details.\n"
          ],
          "name": "stdout"
        }
      ]
    },
    {
      "cell_type": "code",
      "metadata": {
        "id": "4DbgO1UhmwNQ",
        "colab": {
          "base_uri": "https://localhost:8080/"
        },
        "outputId": "bd4d85c0-eaee-47d3-ff02-ed1657f83842"
      },
      "source": [
        "features_custom_fc2.shape"
      ],
      "execution_count": 49,
      "outputs": [
        {
          "output_type": "execute_result",
          "data": {
            "text/plain": [
              "(1, 4096)"
            ]
          },
          "metadata": {
            "tags": []
          },
          "execution_count": 49
        }
      ]
    },
    {
      "cell_type": "markdown",
      "metadata": {
        "id": "C3Kp9-k5nBh6"
      },
      "source": [
        "### VGG16 custom - 10개 추출"
      ]
    },
    {
      "cell_type": "code",
      "metadata": {
        "id": "uwlEl3EBnZWY"
      },
      "source": [
        "from tensorflow.keras.layers import Dense"
      ],
      "execution_count": 50,
      "outputs": []
    },
    {
      "cell_type": "markdown",
      "metadata": {
        "id": "GPzPYmX7oHJN"
      },
      "source": [
        "#### base layer"
      ]
    },
    {
      "cell_type": "code",
      "metadata": {
        "id": "y27DwOg_nBNu"
      },
      "source": [
        "model_vgg16 = VGG16(weights='imagenet')\r\n",
        "model_vgg16_custom_fc2 = Model(inputs=model_vgg16.input, outputs=model_vgg16.get_layer('fc2').output)"
      ],
      "execution_count": 51,
      "outputs": []
    },
    {
      "cell_type": "markdown",
      "metadata": {
        "id": "ms4MEPxdoDuZ"
      },
      "source": [
        "#### output layer design"
      ]
    },
    {
      "cell_type": "code",
      "metadata": {
        "id": "9X2Hi9Wxoath"
      },
      "source": [
        "x = model_vgg16_custom_fc2.output"
      ],
      "execution_count": 52,
      "outputs": []
    },
    {
      "cell_type": "code",
      "metadata": {
        "id": "Ba8g1UQ7m9HW"
      },
      "source": [
        "x = Dense(512, activation='relu')(x)"
      ],
      "execution_count": 53,
      "outputs": []
    },
    {
      "cell_type": "code",
      "metadata": {
        "id": "ohfukypSnytE"
      },
      "source": [
        "x = Dense(64, activation='relu')(x)"
      ],
      "execution_count": 54,
      "outputs": []
    },
    {
      "cell_type": "code",
      "metadata": {
        "id": "uoZnN5GnnhJO"
      },
      "source": [
        "predictions = Dense(10, activation='softmax')(x)"
      ],
      "execution_count": 55,
      "outputs": []
    },
    {
      "cell_type": "code",
      "metadata": {
        "id": "oYKQhaqPnkif"
      },
      "source": [
        "model_vgg16_custom_class10 = Model(inputs=model_vgg16_custom_fc2.input, outputs=predictions)"
      ],
      "execution_count": 56,
      "outputs": []
    },
    {
      "cell_type": "code",
      "metadata": {
        "id": "79340OxFp7wj",
        "colab": {
          "base_uri": "https://localhost:8080/"
        },
        "outputId": "bc8b554a-41bd-4f8a-dd0b-b7a82798e223"
      },
      "source": [
        "model_vgg16_custom_class10.summary()"
      ],
      "execution_count": 57,
      "outputs": [
        {
          "output_type": "stream",
          "text": [
            "Model: \"model_2\"\n",
            "_________________________________________________________________\n",
            "Layer (type)                 Output Shape              Param #   \n",
            "=================================================================\n",
            "input_7 (InputLayer)         [(None, 224, 224, 3)]     0         \n",
            "_________________________________________________________________\n",
            "block1_conv1 (Conv2D)        (None, 224, 224, 64)      1792      \n",
            "_________________________________________________________________\n",
            "block1_conv2 (Conv2D)        (None, 224, 224, 64)      36928     \n",
            "_________________________________________________________________\n",
            "block1_pool (MaxPooling2D)   (None, 112, 112, 64)      0         \n",
            "_________________________________________________________________\n",
            "block2_conv1 (Conv2D)        (None, 112, 112, 128)     73856     \n",
            "_________________________________________________________________\n",
            "block2_conv2 (Conv2D)        (None, 112, 112, 128)     147584    \n",
            "_________________________________________________________________\n",
            "block2_pool (MaxPooling2D)   (None, 56, 56, 128)       0         \n",
            "_________________________________________________________________\n",
            "block3_conv1 (Conv2D)        (None, 56, 56, 256)       295168    \n",
            "_________________________________________________________________\n",
            "block3_conv2 (Conv2D)        (None, 56, 56, 256)       590080    \n",
            "_________________________________________________________________\n",
            "block3_conv3 (Conv2D)        (None, 56, 56, 256)       590080    \n",
            "_________________________________________________________________\n",
            "block3_pool (MaxPooling2D)   (None, 28, 28, 256)       0         \n",
            "_________________________________________________________________\n",
            "block4_conv1 (Conv2D)        (None, 28, 28, 512)       1180160   \n",
            "_________________________________________________________________\n",
            "block4_conv2 (Conv2D)        (None, 28, 28, 512)       2359808   \n",
            "_________________________________________________________________\n",
            "block4_conv3 (Conv2D)        (None, 28, 28, 512)       2359808   \n",
            "_________________________________________________________________\n",
            "block4_pool (MaxPooling2D)   (None, 14, 14, 512)       0         \n",
            "_________________________________________________________________\n",
            "block5_conv1 (Conv2D)        (None, 14, 14, 512)       2359808   \n",
            "_________________________________________________________________\n",
            "block5_conv2 (Conv2D)        (None, 14, 14, 512)       2359808   \n",
            "_________________________________________________________________\n",
            "block5_conv3 (Conv2D)        (None, 14, 14, 512)       2359808   \n",
            "_________________________________________________________________\n",
            "block5_pool (MaxPooling2D)   (None, 7, 7, 512)         0         \n",
            "_________________________________________________________________\n",
            "flatten (Flatten)            (None, 25088)             0         \n",
            "_________________________________________________________________\n",
            "fc1 (Dense)                  (None, 4096)              102764544 \n",
            "_________________________________________________________________\n",
            "fc2 (Dense)                  (None, 4096)              16781312  \n",
            "_________________________________________________________________\n",
            "dense_2 (Dense)              (None, 512)               2097664   \n",
            "_________________________________________________________________\n",
            "dense_3 (Dense)              (None, 64)                32832     \n",
            "_________________________________________________________________\n",
            "dense_4 (Dense)              (None, 10)                650       \n",
            "=================================================================\n",
            "Total params: 136,391,690\n",
            "Trainable params: 136,391,690\n",
            "Non-trainable params: 0\n",
            "_________________________________________________________________\n"
          ],
          "name": "stdout"
        }
      ]
    },
    {
      "cell_type": "markdown",
      "metadata": {
        "id": "6qqDtUYQoka_"
      },
      "source": [
        "### 학습필요\r\n",
        "- 새로 추가된 output layer에 대해서는 학습된 데이터가 없습니다\r\n",
        "- 이런 형태의 학습을 transfer learning  이라고 합니다"
      ]
    },
    {
      "cell_type": "markdown",
      "metadata": {
        "id": "XiQjtWaWo_lg"
      },
      "source": [
        "1. 기존에 존재하던 layer는 별도 학습되지않도록 설정"
      ]
    },
    {
      "cell_type": "code",
      "metadata": {
        "id": "Lfb5NE77oLq9"
      },
      "source": [
        "for layer in model_vgg16_custom_fc2.layers:\r\n",
        "    layer.trainable = False"
      ],
      "execution_count": 59,
      "outputs": []
    },
    {
      "cell_type": "markdown",
      "metadata": {
        "id": "Z-q8QohlpQfS"
      },
      "source": [
        "2. 모델을 compile(초기화) 해 줍니다"
      ]
    },
    {
      "cell_type": "code",
      "metadata": {
        "id": "jYmWcfpTpJzr"
      },
      "source": [
        "model_vgg16_custom_class10.compile(optimizer='rmsprop', loss='categorical_crossentropy')"
      ],
      "execution_count": 60,
      "outputs": []
    },
    {
      "cell_type": "markdown",
      "metadata": {
        "id": "ReRnvj4npXt8"
      },
      "source": [
        "3. 데이터들을 준비해서 학습해주는 과정이 필요합니다\r\n",
        "  - 10개의 class를 정의했으니 10개의 유형의 데이터를 준비해서 \r\n",
        "  - 학습시킵니다"
      ]
    },
    {
      "cell_type": "code",
      "metadata": {
        "id": "QzvwFZGgpTrN"
      },
      "source": [
        "# model_vgg16_custom_class10.fit(...)"
      ],
      "execution_count": 61,
      "outputs": []
    },
    {
      "cell_type": "markdown",
      "metadata": {
        "id": "O9YxqTetpu78"
      },
      "source": [
        "4. 학습이 다 되면 사용하면 됩니다"
      ]
    },
    {
      "cell_type": "code",
      "metadata": {
        "id": "NrTgcNmip1Ho"
      },
      "source": [
        "# features_custom_class10 = model_vgg16_custom_class10.predict(x)"
      ],
      "execution_count": 63,
      "outputs": []
    }
  ]
}