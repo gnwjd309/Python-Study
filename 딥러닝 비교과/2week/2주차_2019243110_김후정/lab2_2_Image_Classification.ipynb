{
  "nbformat": 4,
  "nbformat_minor": 0,
  "metadata": {
    "colab": {
      "name": "lab2_2_Image_Classification.ipynb",
      "provenance": [],
      "collapsed_sections": [],
      "toc_visible": true
    },
    "kernelspec": {
      "name": "python3",
      "display_name": "Python 3"
    }
  },
  "cells": [
    {
      "cell_type": "markdown",
      "metadata": {
        "id": "IcP65hf6ybEm"
      },
      "source": [
        "# 2-2. Image Classification with GluonCV"
      ]
    },
    {
      "cell_type": "markdown",
      "metadata": {
        "id": "eaSpq-87WdsH"
      },
      "source": [
        "## gluon-cv\r\n",
        "<img src='https://cv.gluon.ai/_static/short_demo.gif' width=100% />"
      ]
    },
    {
      "cell_type": "markdown",
      "metadata": {
        "id": "S8o2FBaXFm6S"
      },
      "source": [
        "### install\r\n",
        "- [참고](https://cv.gluon.ai/contents.html#installation)"
      ]
    },
    {
      "cell_type": "markdown",
      "metadata": {
        "id": "-UMTq7ycqbih"
      },
      "source": [
        "### cpu only version install"
      ]
    },
    {
      "cell_type": "code",
      "metadata": {
        "id": "GOPwRvriGDHz"
      },
      "source": [
        "# cpu only\r\n",
        "# !pip3 install --upgrade mxnet > /dev/null"
      ],
      "execution_count": null,
      "outputs": []
    },
    {
      "cell_type": "markdown",
      "metadata": {
        "id": "8Y6zwRq1qeeJ"
      },
      "source": [
        "### gpu version install\r\n",
        "- deep learning library 버전을 확인한다"
      ]
    },
    {
      "cell_type": "code",
      "metadata": {
        "id": "O5dQD8ZliGbq",
        "colab": {
          "base_uri": "https://localhost:8080/"
        },
        "outputId": "7f1d8ccf-60f7-466c-f155-ab29d3499b5e"
      },
      "source": [
        "!nvcc --version"
      ],
      "execution_count": null,
      "outputs": [
        {
          "output_type": "stream",
          "text": [
            "nvcc: NVIDIA (R) Cuda compiler driver\n",
            "Copyright (c) 2005-2019 NVIDIA Corporation\n",
            "Built on Sun_Jul_28_19:07:16_PDT_2019\n",
            "Cuda compilation tools, release 10.1, V10.1.243\n"
          ],
          "name": "stdout"
        }
      ]
    },
    {
      "cell_type": "markdown",
      "metadata": {
        "id": "VFMAbJRTqlPV"
      },
      "source": [
        "### cuda version에 따라 mxnet-cuXXX를 설치한다\r\n",
        "- 10.0 : `mxnet-cu100`\r\n",
        "- 10.1 : `mxnet-cu101`\r\n",
        "- 10.2 : `mxnet-cu102`"
      ]
    },
    {
      "cell_type": "code",
      "metadata": {
        "id": "2U3tZrj8yVXT",
        "colab": {
          "base_uri": "https://localhost:8080/"
        },
        "outputId": "aa169c2b-4fce-45c9-d6aa-01f15e5c286a"
      },
      "source": [
        "# CUDA 버전이 10.1인경우 mxnet-cu101을 설치한다\r\n",
        "!pip3 install --upgrade mxnet-cu101"
      ],
      "execution_count": null,
      "outputs": [
        {
          "output_type": "stream",
          "text": [
            "Collecting mxnet-cu101\n",
            "\u001b[?25l  Downloading https://files.pythonhosted.org/packages/40/26/9655677b901537f367c3c473376e4106abc72e01a8fc25b1cb6ed9c37e8c/mxnet_cu101-1.7.0-py2.py3-none-manylinux2014_x86_64.whl (846.0MB)\n",
            "\u001b[K     |███████████████████████████████▌| 834.1MB 1.3MB/s eta 0:00:10tcmalloc: large alloc 1147494400 bytes == 0x39d92000 @  0x7efc8bc00615 0x591e47 0x4cc179 0x4cc2db 0x50a1cc 0x50beb4 0x507be4 0x509900 0x50a2fd 0x50beb4 0x507be4 0x509900 0x50a2fd 0x50cc96 0x58e683 0x50c127 0x58e683 0x50c127 0x58e683 0x50c127 0x58e683 0x50c127 0x5095c8 0x50a2fd 0x50beb4 0x507be4 0x509900 0x50a2fd 0x50beb4 0x5095c8 0x50a2fd\n",
            "\u001b[K     |████████████████████████████████| 846.0MB 21kB/s \n",
            "\u001b[?25hCollecting graphviz<0.9.0,>=0.8.1\n",
            "  Downloading https://files.pythonhosted.org/packages/53/39/4ab213673844e0c004bed8a0781a0721a3f6bb23eb8854ee75c236428892/graphviz-0.8.4-py2.py3-none-any.whl\n",
            "Requirement already satisfied, skipping upgrade: numpy<2.0.0,>1.16.0 in /usr/local/lib/python3.6/dist-packages (from mxnet-cu101) (1.19.5)\n",
            "Requirement already satisfied, skipping upgrade: requests<3,>=2.20.0 in /usr/local/lib/python3.6/dist-packages (from mxnet-cu101) (2.23.0)\n",
            "Requirement already satisfied, skipping upgrade: chardet<4,>=3.0.2 in /usr/local/lib/python3.6/dist-packages (from requests<3,>=2.20.0->mxnet-cu101) (3.0.4)\n",
            "Requirement already satisfied, skipping upgrade: urllib3!=1.25.0,!=1.25.1,<1.26,>=1.21.1 in /usr/local/lib/python3.6/dist-packages (from requests<3,>=2.20.0->mxnet-cu101) (1.24.3)\n",
            "Requirement already satisfied, skipping upgrade: certifi>=2017.4.17 in /usr/local/lib/python3.6/dist-packages (from requests<3,>=2.20.0->mxnet-cu101) (2020.12.5)\n",
            "Requirement already satisfied, skipping upgrade: idna<3,>=2.5 in /usr/local/lib/python3.6/dist-packages (from requests<3,>=2.20.0->mxnet-cu101) (2.10)\n",
            "Installing collected packages: graphviz, mxnet-cu101\n",
            "  Found existing installation: graphviz 0.10.1\n",
            "    Uninstalling graphviz-0.10.1:\n",
            "      Successfully uninstalled graphviz-0.10.1\n",
            "Successfully installed graphviz-0.8.4 mxnet-cu101-1.7.0\n"
          ],
          "name": "stdout"
        }
      ]
    },
    {
      "cell_type": "markdown",
      "metadata": {
        "id": "7rGdFxhqq1lS"
      },
      "source": [
        "### gluon-cv install"
      ]
    },
    {
      "cell_type": "code",
      "metadata": {
        "id": "z-p8MVMTF3JB",
        "colab": {
          "base_uri": "https://localhost:8080/"
        },
        "outputId": "31044437-8ced-492c-c4b6-c4f5117cfc16"
      },
      "source": [
        "!pip3 install --upgrade gluoncv"
      ],
      "execution_count": null,
      "outputs": [
        {
          "output_type": "stream",
          "text": [
            "Collecting gluoncv\n",
            "\u001b[?25l  Downloading https://files.pythonhosted.org/packages/af/b0/21026a98449815a6ca4bbe49a96511d75466468a0bd7c175b3b55de09857/gluoncv-0.9.1.post0-py2.py3-none-any.whl (1.0MB)\n",
            "\r\u001b[K     |▎                               | 10kB 21.3MB/s eta 0:00:01\r\u001b[K     |▋                               | 20kB 15.2MB/s eta 0:00:01\r\u001b[K     |█                               | 30kB 13.2MB/s eta 0:00:01\r\u001b[K     |█▎                              | 40kB 12.2MB/s eta 0:00:01\r\u001b[K     |█▋                              | 51kB 8.3MB/s eta 0:00:01\r\u001b[K     |██                              | 61kB 9.3MB/s eta 0:00:01\r\u001b[K     |██▏                             | 71kB 9.2MB/s eta 0:00:01\r\u001b[K     |██▌                             | 81kB 9.4MB/s eta 0:00:01\r\u001b[K     |██▉                             | 92kB 9.5MB/s eta 0:00:01\r\u001b[K     |███▏                            | 102kB 8.3MB/s eta 0:00:01\r\u001b[K     |███▌                            | 112kB 8.3MB/s eta 0:00:01\r\u001b[K     |███▉                            | 122kB 8.3MB/s eta 0:00:01\r\u001b[K     |████                            | 133kB 8.3MB/s eta 0:00:01\r\u001b[K     |████▍                           | 143kB 8.3MB/s eta 0:00:01\r\u001b[K     |████▊                           | 153kB 8.3MB/s eta 0:00:01\r\u001b[K     |█████                           | 163kB 8.3MB/s eta 0:00:01\r\u001b[K     |█████▍                          | 174kB 8.3MB/s eta 0:00:01\r\u001b[K     |█████▊                          | 184kB 8.3MB/s eta 0:00:01\r\u001b[K     |██████                          | 194kB 8.3MB/s eta 0:00:01\r\u001b[K     |██████▎                         | 204kB 8.3MB/s eta 0:00:01\r\u001b[K     |██████▋                         | 215kB 8.3MB/s eta 0:00:01\r\u001b[K     |███████                         | 225kB 8.3MB/s eta 0:00:01\r\u001b[K     |███████▎                        | 235kB 8.3MB/s eta 0:00:01\r\u001b[K     |███████▋                        | 245kB 8.3MB/s eta 0:00:01\r\u001b[K     |███████▉                        | 256kB 8.3MB/s eta 0:00:01\r\u001b[K     |████████▏                       | 266kB 8.3MB/s eta 0:00:01\r\u001b[K     |████████▌                       | 276kB 8.3MB/s eta 0:00:01\r\u001b[K     |████████▉                       | 286kB 8.3MB/s eta 0:00:01\r\u001b[K     |█████████▏                      | 296kB 8.3MB/s eta 0:00:01\r\u001b[K     |█████████▌                      | 307kB 8.3MB/s eta 0:00:01\r\u001b[K     |█████████▉                      | 317kB 8.3MB/s eta 0:00:01\r\u001b[K     |██████████                      | 327kB 8.3MB/s eta 0:00:01\r\u001b[K     |██████████▍                     | 337kB 8.3MB/s eta 0:00:01\r\u001b[K     |██████████▊                     | 348kB 8.3MB/s eta 0:00:01\r\u001b[K     |███████████                     | 358kB 8.3MB/s eta 0:00:01\r\u001b[K     |███████████▍                    | 368kB 8.3MB/s eta 0:00:01\r\u001b[K     |███████████▊                    | 378kB 8.3MB/s eta 0:00:01\r\u001b[K     |████████████                    | 389kB 8.3MB/s eta 0:00:01\r\u001b[K     |████████████▎                   | 399kB 8.3MB/s eta 0:00:01\r\u001b[K     |████████████▋                   | 409kB 8.3MB/s eta 0:00:01\r\u001b[K     |█████████████                   | 419kB 8.3MB/s eta 0:00:01\r\u001b[K     |█████████████▎                  | 430kB 8.3MB/s eta 0:00:01\r\u001b[K     |█████████████▋                  | 440kB 8.3MB/s eta 0:00:01\r\u001b[K     |█████████████▉                  | 450kB 8.3MB/s eta 0:00:01\r\u001b[K     |██████████████▏                 | 460kB 8.3MB/s eta 0:00:01\r\u001b[K     |██████████████▌                 | 471kB 8.3MB/s eta 0:00:01\r\u001b[K     |██████████████▉                 | 481kB 8.3MB/s eta 0:00:01\r\u001b[K     |███████████████▏                | 491kB 8.3MB/s eta 0:00:01\r\u001b[K     |███████████████▌                | 501kB 8.3MB/s eta 0:00:01\r\u001b[K     |███████████████▊                | 512kB 8.3MB/s eta 0:00:01\r\u001b[K     |████████████████                | 522kB 8.3MB/s eta 0:00:01\r\u001b[K     |████████████████▍               | 532kB 8.3MB/s eta 0:00:01\r\u001b[K     |████████████████▊               | 542kB 8.3MB/s eta 0:00:01\r\u001b[K     |█████████████████               | 552kB 8.3MB/s eta 0:00:01\r\u001b[K     |█████████████████▍              | 563kB 8.3MB/s eta 0:00:01\r\u001b[K     |█████████████████▊              | 573kB 8.3MB/s eta 0:00:01\r\u001b[K     |██████████████████              | 583kB 8.3MB/s eta 0:00:01\r\u001b[K     |██████████████████▎             | 593kB 8.3MB/s eta 0:00:01\r\u001b[K     |██████████████████▋             | 604kB 8.3MB/s eta 0:00:01\r\u001b[K     |███████████████████             | 614kB 8.3MB/s eta 0:00:01\r\u001b[K     |███████████████████▎            | 624kB 8.3MB/s eta 0:00:01\r\u001b[K     |███████████████████▋            | 634kB 8.3MB/s eta 0:00:01\r\u001b[K     |███████████████████▉            | 645kB 8.3MB/s eta 0:00:01\r\u001b[K     |████████████████████▏           | 655kB 8.3MB/s eta 0:00:01\r\u001b[K     |████████████████████▌           | 665kB 8.3MB/s eta 0:00:01\r\u001b[K     |████████████████████▉           | 675kB 8.3MB/s eta 0:00:01\r\u001b[K     |█████████████████████▏          | 686kB 8.3MB/s eta 0:00:01\r\u001b[K     |█████████████████████▌          | 696kB 8.3MB/s eta 0:00:01\r\u001b[K     |█████████████████████▊          | 706kB 8.3MB/s eta 0:00:01\r\u001b[K     |██████████████████████          | 716kB 8.3MB/s eta 0:00:01\r\u001b[K     |██████████████████████▍         | 727kB 8.3MB/s eta 0:00:01\r\u001b[K     |██████████████████████▊         | 737kB 8.3MB/s eta 0:00:01\r\u001b[K     |███████████████████████         | 747kB 8.3MB/s eta 0:00:01\r\u001b[K     |███████████████████████▍        | 757kB 8.3MB/s eta 0:00:01\r\u001b[K     |███████████████████████▋        | 768kB 8.3MB/s eta 0:00:01\r\u001b[K     |████████████████████████        | 778kB 8.3MB/s eta 0:00:01\r\u001b[K     |████████████████████████▎       | 788kB 8.3MB/s eta 0:00:01\r\u001b[K     |████████████████████████▋       | 798kB 8.3MB/s eta 0:00:01\r\u001b[K     |█████████████████████████       | 808kB 8.3MB/s eta 0:00:01\r\u001b[K     |█████████████████████████▎      | 819kB 8.3MB/s eta 0:00:01\r\u001b[K     |█████████████████████████▌      | 829kB 8.3MB/s eta 0:00:01\r\u001b[K     |█████████████████████████▉      | 839kB 8.3MB/s eta 0:00:01\r\u001b[K     |██████████████████████████▏     | 849kB 8.3MB/s eta 0:00:01\r\u001b[K     |██████████████████████████▌     | 860kB 8.3MB/s eta 0:00:01\r\u001b[K     |██████████████████████████▉     | 870kB 8.3MB/s eta 0:00:01\r\u001b[K     |███████████████████████████▏    | 880kB 8.3MB/s eta 0:00:01\r\u001b[K     |███████████████████████████▌    | 890kB 8.3MB/s eta 0:00:01\r\u001b[K     |███████████████████████████▊    | 901kB 8.3MB/s eta 0:00:01\r\u001b[K     |████████████████████████████    | 911kB 8.3MB/s eta 0:00:01\r\u001b[K     |████████████████████████████▍   | 921kB 8.3MB/s eta 0:00:01\r\u001b[K     |████████████████████████████▊   | 931kB 8.3MB/s eta 0:00:01\r\u001b[K     |█████████████████████████████   | 942kB 8.3MB/s eta 0:00:01\r\u001b[K     |█████████████████████████████▍  | 952kB 8.3MB/s eta 0:00:01\r\u001b[K     |█████████████████████████████▋  | 962kB 8.3MB/s eta 0:00:01\r\u001b[K     |██████████████████████████████  | 972kB 8.3MB/s eta 0:00:01\r\u001b[K     |██████████████████████████████▎ | 983kB 8.3MB/s eta 0:00:01\r\u001b[K     |██████████████████████████████▋ | 993kB 8.3MB/s eta 0:00:01\r\u001b[K     |███████████████████████████████ | 1.0MB 8.3MB/s eta 0:00:01\r\u001b[K     |███████████████████████████████▎| 1.0MB 8.3MB/s eta 0:00:01\r\u001b[K     |███████████████████████████████▌| 1.0MB 8.3MB/s eta 0:00:01\r\u001b[K     |███████████████████████████████▉| 1.0MB 8.3MB/s eta 0:00:01\r\u001b[K     |████████████████████████████████| 1.0MB 8.3MB/s \n",
            "\u001b[?25hRequirement already satisfied, skipping upgrade: tqdm in /usr/local/lib/python3.6/dist-packages (from gluoncv) (4.41.1)\n",
            "Requirement already satisfied, skipping upgrade: matplotlib in /usr/local/lib/python3.6/dist-packages (from gluoncv) (3.2.2)\n",
            "Requirement already satisfied, skipping upgrade: opencv-python in /usr/local/lib/python3.6/dist-packages (from gluoncv) (4.1.2.30)\n",
            "Requirement already satisfied, skipping upgrade: requests in /usr/local/lib/python3.6/dist-packages (from gluoncv) (2.23.0)\n",
            "Collecting decord\n",
            "\u001b[?25l  Downloading https://files.pythonhosted.org/packages/c0/0c/7d99cfcde7b85f80c9ea9b0b19441339ad3cef59ee7fa5386598db714efe/decord-0.4.2-py2.py3-none-manylinux1_x86_64.whl (11.8MB)\n",
            "\u001b[K     |████████████████████████████████| 11.8MB 10.6MB/s \n",
            "\u001b[?25hCollecting tensorboardx\n",
            "\u001b[?25l  Downloading https://files.pythonhosted.org/packages/af/0c/4f41bcd45db376e6fe5c619c01100e9b7531c55791b7244815bac6eac32c/tensorboardX-2.1-py2.py3-none-any.whl (308kB)\n",
            "\u001b[K     |████████████████████████████████| 317kB 37.1MB/s \n",
            "\u001b[?25hCollecting portalocker\n",
            "  Downloading https://files.pythonhosted.org/packages/89/a6/3814b7107e0788040870e8825eebf214d72166adf656ba7d4bf14759a06a/portalocker-2.0.0-py2.py3-none-any.whl\n",
            "Requirement already satisfied, skipping upgrade: numpy in /usr/local/lib/python3.6/dist-packages (from gluoncv) (1.19.5)\n",
            "Collecting yacs\n",
            "  Downloading https://files.pythonhosted.org/packages/38/4f/fe9a4d472aa867878ce3bb7efb16654c5d63672b86dc0e6e953a67018433/yacs-0.1.8-py3-none-any.whl\n",
            "Requirement already satisfied, skipping upgrade: Pillow in /usr/local/lib/python3.6/dist-packages (from gluoncv) (7.0.0)\n",
            "Requirement already satisfied, skipping upgrade: scipy in /usr/local/lib/python3.6/dist-packages (from gluoncv) (1.4.1)\n",
            "Requirement already satisfied, skipping upgrade: pyyaml in /usr/local/lib/python3.6/dist-packages (from gluoncv) (3.13)\n",
            "Collecting autocfg\n",
            "  Downloading https://files.pythonhosted.org/packages/94/4d/71221541472d0e45351cf9b11b0c3d55c032b80dcf8bc0763b28791e3dd3/autocfg-0.0.6-py2.py3-none-any.whl\n",
            "Requirement already satisfied, skipping upgrade: pandas in /usr/local/lib/python3.6/dist-packages (from gluoncv) (1.1.5)\n",
            "Collecting autogluon.core\n",
            "\u001b[?25l  Downloading https://files.pythonhosted.org/packages/82/5d/3cb4d9a0b9424241395e8c02abff14322894b29c2ca36245d21c51d9ded2/autogluon.core-0.0.16b20210115-py3-none-any.whl (246kB)\n",
            "\u001b[K     |████████████████████████████████| 256kB 51.1MB/s \n",
            "\u001b[?25hRequirement already satisfied, skipping upgrade: pyparsing!=2.0.4,!=2.1.2,!=2.1.6,>=2.0.1 in /usr/local/lib/python3.6/dist-packages (from matplotlib->gluoncv) (2.4.7)\n",
            "Requirement already satisfied, skipping upgrade: cycler>=0.10 in /usr/local/lib/python3.6/dist-packages (from matplotlib->gluoncv) (0.10.0)\n",
            "Requirement already satisfied, skipping upgrade: python-dateutil>=2.1 in /usr/local/lib/python3.6/dist-packages (from matplotlib->gluoncv) (2.8.1)\n",
            "Requirement already satisfied, skipping upgrade: kiwisolver>=1.0.1 in /usr/local/lib/python3.6/dist-packages (from matplotlib->gluoncv) (1.3.1)\n",
            "Requirement already satisfied, skipping upgrade: urllib3!=1.25.0,!=1.25.1,<1.26,>=1.21.1 in /usr/local/lib/python3.6/dist-packages (from requests->gluoncv) (1.24.3)\n",
            "Requirement already satisfied, skipping upgrade: chardet<4,>=3.0.2 in /usr/local/lib/python3.6/dist-packages (from requests->gluoncv) (3.0.4)\n",
            "Requirement already satisfied, skipping upgrade: idna<3,>=2.5 in /usr/local/lib/python3.6/dist-packages (from requests->gluoncv) (2.10)\n",
            "Requirement already satisfied, skipping upgrade: certifi>=2017.4.17 in /usr/local/lib/python3.6/dist-packages (from requests->gluoncv) (2020.12.5)\n",
            "Requirement already satisfied, skipping upgrade: six in /usr/local/lib/python3.6/dist-packages (from tensorboardx->gluoncv) (1.15.0)\n",
            "Requirement already satisfied, skipping upgrade: protobuf>=3.8.0 in /usr/local/lib/python3.6/dist-packages (from tensorboardx->gluoncv) (3.12.4)\n",
            "Requirement already satisfied, skipping upgrade: dataclasses; python_version < \"3.7\" in /usr/local/lib/python3.6/dist-packages (from autocfg->gluoncv) (0.8)\n",
            "Requirement already satisfied, skipping upgrade: pytz>=2017.2 in /usr/local/lib/python3.6/dist-packages (from pandas->gluoncv) (2018.9)\n",
            "Requirement already satisfied, skipping upgrade: scikit-learn<0.24,>=0.22.0 in /usr/local/lib/python3.6/dist-packages (from autogluon.core->gluoncv) (0.22.2.post1)\n",
            "Requirement already satisfied, skipping upgrade: tornado>=5.0.1 in /usr/local/lib/python3.6/dist-packages (from autogluon.core->gluoncv) (5.1.1)\n",
            "Collecting distributed>=2.6.0\n",
            "\u001b[?25l  Downloading https://files.pythonhosted.org/packages/d5/e4/4721ec1a62285d5bf7647127389ae674fc7d55bdae45680e7c64a2aeae67/distributed-2021.1.0-py3-none-any.whl (671kB)\n",
            "\u001b[K     |████████████████████████████████| 675kB 49.9MB/s \n",
            "\u001b[?25hCollecting boto3\n",
            "\u001b[?25l  Downloading https://files.pythonhosted.org/packages/13/4c/e81c2f215e93a6cb5efdaa991669e3ef1ec6ecfe4407c582c3dfc7d2c281/boto3-1.16.56-py2.py3-none-any.whl (130kB)\n",
            "\u001b[K     |████████████████████████████████| 133kB 41.8MB/s \n",
            "\u001b[?25hRequirement already satisfied, skipping upgrade: dill==0.3.3 in /usr/local/lib/python3.6/dist-packages (from autogluon.core->gluoncv) (0.3.3)\n",
            "Collecting ConfigSpace<=0.4.16\n",
            "\u001b[?25l  Downloading https://files.pythonhosted.org/packages/3a/f9/685e3cb6e2a87e4989b83950dfbe8cecc49fd158f4ff3d1368dc62014e8d/ConfigSpace-0.4.16.tar.gz (964kB)\n",
            "\u001b[K     |████████████████████████████████| 972kB 41.3MB/s \n",
            "\u001b[?25h  Installing build dependencies ... \u001b[?25l\u001b[?25hdone\n",
            "  Getting requirements to build wheel ... \u001b[?25l\u001b[?25hdone\n",
            "    Preparing wheel metadata ... \u001b[?25l\u001b[?25hdone\n",
            "Requirement already satisfied, skipping upgrade: dask>=2.6.0 in /usr/local/lib/python3.6/dist-packages (from autogluon.core->gluoncv) (2.12.0)\n",
            "Collecting scikit-optimize\n",
            "\u001b[?25l  Downloading https://files.pythonhosted.org/packages/8b/03/be33e89f55866065a02e515c5b319304a801a9f1027a9b311a9b1d1f8dc7/scikit_optimize-0.8.1-py2.py3-none-any.whl (101kB)\n",
            "\u001b[K     |████████████████████████████████| 102kB 9.2MB/s \n",
            "\u001b[?25hRequirement already satisfied, skipping upgrade: graphviz<0.9.0,>=0.8.1 in /usr/local/lib/python3.6/dist-packages (from autogluon.core->gluoncv) (0.8.4)\n",
            "Requirement already satisfied, skipping upgrade: pytest in /usr/local/lib/python3.6/dist-packages (from autogluon.core->gluoncv) (3.6.4)\n",
            "Collecting paramiko>=2.4\n",
            "\u001b[?25l  Downloading https://files.pythonhosted.org/packages/95/19/124e9287b43e6ff3ebb9cdea3e5e8e88475a873c05ccdf8b7e20d2c4201e/paramiko-2.7.2-py2.py3-none-any.whl (206kB)\n",
            "\u001b[K     |████████████████████████████████| 215kB 56.5MB/s \n",
            "\u001b[?25hRequirement already satisfied, skipping upgrade: cython in /usr/local/lib/python3.6/dist-packages (from autogluon.core->gluoncv) (0.29.21)\n",
            "Requirement already satisfied, skipping upgrade: autograd>=1.3 in /usr/local/lib/python3.6/dist-packages (from autogluon.core->gluoncv) (1.3)\n",
            "Requirement already satisfied, skipping upgrade: setuptools in /usr/local/lib/python3.6/dist-packages (from protobuf>=3.8.0->tensorboardx->gluoncv) (51.1.1)\n",
            "Requirement already satisfied, skipping upgrade: joblib>=0.11 in /usr/local/lib/python3.6/dist-packages (from scikit-learn<0.24,>=0.22.0->autogluon.core->gluoncv) (1.0.0)\n",
            "Collecting cloudpickle>=1.5.0\n",
            "  Downloading https://files.pythonhosted.org/packages/e7/e3/898487e5dbeb612054cf2e0c188463acb358167fef749c53c8bb8918cea1/cloudpickle-1.6.0-py3-none-any.whl\n",
            "Requirement already satisfied, skipping upgrade: toolz>=0.8.2 in /usr/local/lib/python3.6/dist-packages (from distributed>=2.6.0->autogluon.core->gluoncv) (0.11.1)\n",
            "Requirement already satisfied, skipping upgrade: psutil>=5.0 in /usr/local/lib/python3.6/dist-packages (from distributed>=2.6.0->autogluon.core->gluoncv) (5.4.8)\n",
            "Requirement already satisfied, skipping upgrade: click>=6.6 in /usr/local/lib/python3.6/dist-packages (from distributed>=2.6.0->autogluon.core->gluoncv) (7.1.2)\n",
            "Collecting contextvars; python_version < \"3.7\"\n",
            "  Downloading https://files.pythonhosted.org/packages/83/96/55b82d9f13763be9d672622e1b8106c85acb83edd7cc2fa5bc67cd9877e9/contextvars-2.4.tar.gz\n",
            "Requirement already satisfied, skipping upgrade: zict>=0.1.3 in /usr/local/lib/python3.6/dist-packages (from distributed>=2.6.0->autogluon.core->gluoncv) (2.0.0)\n",
            "Requirement already satisfied, skipping upgrade: tblib>=1.6.0 in /usr/local/lib/python3.6/dist-packages (from distributed>=2.6.0->autogluon.core->gluoncv) (1.7.0)\n",
            "Requirement already satisfied, skipping upgrade: msgpack>=0.6.0 in /usr/local/lib/python3.6/dist-packages (from distributed>=2.6.0->autogluon.core->gluoncv) (1.0.2)\n",
            "Requirement already satisfied, skipping upgrade: sortedcontainers!=2.0.0,!=2.0.1 in /usr/local/lib/python3.6/dist-packages (from distributed>=2.6.0->autogluon.core->gluoncv) (2.3.0)\n",
            "Collecting botocore<1.20.0,>=1.19.56\n",
            "\u001b[?25l  Downloading https://files.pythonhosted.org/packages/d7/72/c904c62945127699aac8aa5bbd508ec851d55da46aaf1072c061de3eb6fa/botocore-1.19.56-py2.py3-none-any.whl (7.2MB)\n",
            "\u001b[K     |████████████████████████████████| 7.2MB 24.4MB/s \n",
            "\u001b[?25hCollecting jmespath<1.0.0,>=0.7.1\n",
            "  Downloading https://files.pythonhosted.org/packages/07/cb/5f001272b6faeb23c1c9e0acc04d48eaaf5c862c17709d20e3469c6e0139/jmespath-0.10.0-py2.py3-none-any.whl\n",
            "Collecting s3transfer<0.4.0,>=0.3.0\n",
            "\u001b[?25l  Downloading https://files.pythonhosted.org/packages/ea/43/4b4a1b26eb03a429a4c37ca7fdf369d938bd60018fc194e94b8379b0c77c/s3transfer-0.3.4-py2.py3-none-any.whl (69kB)\n",
            "\u001b[K     |████████████████████████████████| 71kB 12.1MB/s \n",
            "\u001b[?25hCollecting pyaml>=16.9\n",
            "  Downloading https://files.pythonhosted.org/packages/15/c4/1310a054d33abc318426a956e7d6df0df76a6ddfa9c66f6310274fb75d42/pyaml-20.4.0-py2.py3-none-any.whl\n",
            "Requirement already satisfied, skipping upgrade: py>=1.5.0 in /usr/local/lib/python3.6/dist-packages (from pytest->autogluon.core->gluoncv) (1.10.0)\n",
            "Requirement already satisfied, skipping upgrade: attrs>=17.4.0 in /usr/local/lib/python3.6/dist-packages (from pytest->autogluon.core->gluoncv) (20.3.0)\n",
            "Requirement already satisfied, skipping upgrade: atomicwrites>=1.0 in /usr/local/lib/python3.6/dist-packages (from pytest->autogluon.core->gluoncv) (1.4.0)\n",
            "Requirement already satisfied, skipping upgrade: more-itertools>=4.0.0 in /usr/local/lib/python3.6/dist-packages (from pytest->autogluon.core->gluoncv) (8.6.0)\n",
            "Requirement already satisfied, skipping upgrade: pluggy<0.8,>=0.5 in /usr/local/lib/python3.6/dist-packages (from pytest->autogluon.core->gluoncv) (0.7.1)\n",
            "Collecting cryptography>=2.5\n",
            "\u001b[?25l  Downloading https://files.pythonhosted.org/packages/c9/de/7054df0620b5411ba45480f0261e1fb66a53f3db31b28e3aa52c026e72d9/cryptography-3.3.1-cp36-abi3-manylinux2010_x86_64.whl (2.6MB)\n",
            "\u001b[K     |████████████████████████████████| 2.6MB 55.9MB/s \n",
            "\u001b[?25hCollecting pynacl>=1.0.1\n",
            "\u001b[?25l  Downloading https://files.pythonhosted.org/packages/9d/57/2f5e6226a674b2bcb6db531e8b383079b678df5b10cdaa610d6cf20d77ba/PyNaCl-1.4.0-cp35-abi3-manylinux1_x86_64.whl (961kB)\n",
            "\u001b[K     |████████████████████████████████| 962kB 20.6MB/s \n",
            "\u001b[?25hCollecting bcrypt>=3.1.3\n",
            "\u001b[?25l  Downloading https://files.pythonhosted.org/packages/26/70/6d218afbe4c73538053c1016dd631e8f25fffc10cd01f5c272d7acf3c03d/bcrypt-3.2.0-cp36-abi3-manylinux2010_x86_64.whl (63kB)\n",
            "\u001b[K     |████████████████████████████████| 71kB 6.4MB/s \n",
            "\u001b[?25hRequirement already satisfied, skipping upgrade: future>=0.15.2 in /usr/local/lib/python3.6/dist-packages (from autograd>=1.3->autogluon.core->gluoncv) (0.16.0)\n",
            "Collecting immutables>=0.9\n",
            "\u001b[?25l  Downloading https://files.pythonhosted.org/packages/99/e0/ea6fd4697120327d26773b5a84853f897a68e33d3f9376b00a8ff96e4f63/immutables-0.14-cp36-cp36m-manylinux1_x86_64.whl (98kB)\n",
            "\u001b[K     |████████████████████████████████| 102kB 9.4MB/s \n",
            "\u001b[?25hRequirement already satisfied, skipping upgrade: heapdict in /usr/local/lib/python3.6/dist-packages (from zict>=0.1.3->distributed>=2.6.0->autogluon.core->gluoncv) (1.0.1)\n",
            "Requirement already satisfied, skipping upgrade: cffi>=1.12 in /usr/local/lib/python3.6/dist-packages (from cryptography>=2.5->paramiko>=2.4->autogluon.core->gluoncv) (1.14.4)\n",
            "Requirement already satisfied, skipping upgrade: pycparser in /usr/local/lib/python3.6/dist-packages (from cffi>=1.12->cryptography>=2.5->paramiko>=2.4->autogluon.core->gluoncv) (2.20)\n",
            "Building wheels for collected packages: ConfigSpace\n",
            "  Building wheel for ConfigSpace (PEP 517) ... \u001b[?25l\u001b[?25hdone\n",
            "  Created wheel for ConfigSpace: filename=ConfigSpace-0.4.16-cp36-cp36m-linux_x86_64.whl size=2881512 sha256=a724c01f41c1627c18ef12e4726b6b07142887baf150c53d759dad39c3f91ecf\n",
            "  Stored in directory: /root/.cache/pip/wheels/4f/13/2f/a0ae8e1081410d394133980a2ccd1c5524ed4f0c83ba9a61a7\n",
            "Successfully built ConfigSpace\n",
            "Building wheels for collected packages: contextvars\n",
            "  Building wheel for contextvars (setup.py) ... \u001b[?25l\u001b[?25hdone\n",
            "  Created wheel for contextvars: filename=contextvars-2.4-cp36-none-any.whl size=7667 sha256=7e31c6a15b9d765d2453feba2e3e148e5ee0691b5a2be4de82facf3a05ee3095\n",
            "  Stored in directory: /root/.cache/pip/wheels/a5/7d/68/1ebae2668bda2228686e3c1cf16f2c2384cea6e9334ad5f6de\n",
            "Successfully built contextvars\n",
            "\u001b[31mERROR: distributed 2021.1.0 has requirement dask>=2020.12.0, but you'll have dask 2.12.0 which is incompatible.\u001b[0m\n",
            "\u001b[31mERROR: botocore 1.19.56 has requirement urllib3<1.27,>=1.25.4; python_version != \"3.4\", but you'll have urllib3 1.24.3 which is incompatible.\u001b[0m\n",
            "Installing collected packages: decord, tensorboardx, portalocker, yacs, autocfg, cloudpickle, immutables, contextvars, distributed, jmespath, botocore, s3transfer, boto3, ConfigSpace, pyaml, scikit-optimize, cryptography, pynacl, bcrypt, paramiko, autogluon.core, gluoncv\n",
            "  Found existing installation: cloudpickle 1.3.0\n",
            "    Uninstalling cloudpickle-1.3.0:\n",
            "      Successfully uninstalled cloudpickle-1.3.0\n",
            "  Found existing installation: distributed 1.25.3\n",
            "    Uninstalling distributed-1.25.3:\n",
            "      Successfully uninstalled distributed-1.25.3\n",
            "Successfully installed ConfigSpace-0.4.16 autocfg-0.0.6 autogluon.core-0.0.16b20210115 bcrypt-3.2.0 boto3-1.16.56 botocore-1.19.56 cloudpickle-1.6.0 contextvars-2.4 cryptography-3.3.1 decord-0.4.2 distributed-2021.1.0 gluoncv-0.9.1.post0 immutables-0.14 jmespath-0.10.0 paramiko-2.7.2 portalocker-2.0.0 pyaml-20.4.0 pynacl-1.4.0 s3transfer-0.3.4 scikit-optimize-0.8.1 tensorboardx-2.1 yacs-0.1.8\n"
          ],
          "name": "stdout"
        }
      ]
    },
    {
      "cell_type": "markdown",
      "metadata": {
        "id": "dbJdTfppHHjD"
      },
      "source": [
        "## image classification"
      ]
    },
    {
      "cell_type": "markdown",
      "metadata": {
        "id": "KqFXqUTBq9J9"
      },
      "source": [
        "## 이미지 준비"
      ]
    },
    {
      "cell_type": "code",
      "metadata": {
        "id": "RXO_bW4cHiRZ",
        "colab": {
          "base_uri": "https://localhost:8080/"
        },
        "outputId": "4b01c8ee-9876-4722-96a9-072f04a18f6d"
      },
      "source": [
        "!curl https://raw.githubusercontent.com/dmlc/web-data/master/gluoncv/classification/mt_baker.jpg > mt_baker.jpg"
      ],
      "execution_count": null,
      "outputs": [
        {
          "output_type": "stream",
          "text": [
            "  % Total    % Received % Xferd  Average Speed   Time    Time     Time  Current\n",
            "                                 Dload  Upload   Total   Spent    Left  Speed\n",
            "100  304k  100  304k    0     0   905k      0 --:--:-- --:--:-- --:--:--  905k\n"
          ],
          "name": "stdout"
        }
      ]
    },
    {
      "cell_type": "markdown",
      "metadata": {
        "id": "AFf2UFfjNzmM"
      },
      "source": [
        "<img src='https://raw.githubusercontent.com/dmlc/web-data/master/gluoncv/classification/mt_baker.jpg' height=300px/>"
      ]
    },
    {
      "cell_type": "markdown",
      "metadata": {
        "id": "H7O9jURvOEEV"
      },
      "source": [
        "### 라이브러리 import"
      ]
    },
    {
      "cell_type": "code",
      "metadata": {
        "id": "vzmZZU7THk3M"
      },
      "source": [
        "from mxnet import nd, image\r\n",
        "\r\n",
        "import gluoncv as gcv\r\n",
        "gcv.utils.check_version('0.6.0')\r\n",
        "from gluoncv.data.transforms.presets.imagenet import transform_eval\r\n",
        "from gluoncv.model_zoo import get_model"
      ],
      "execution_count": null,
      "outputs": []
    },
    {
      "cell_type": "markdown",
      "metadata": {
        "id": "GJoWvIHBOByo"
      },
      "source": [
        "### 분류 모델 loading\r\n",
        "- modelzoo에서 모델을 다운받아온다"
      ]
    },
    {
      "cell_type": "code",
      "metadata": {
        "id": "lrDgY49TMvq5"
      },
      "source": [
        "model_name = 'ResNet50_v2'"
      ],
      "execution_count": null,
      "outputs": []
    },
    {
      "cell_type": "code",
      "metadata": {
        "id": "-sm4hsa_NSsX",
        "colab": {
          "base_uri": "https://localhost:8080/"
        },
        "outputId": "e4fd6d7e-e6ed-4a2f-af3e-4634b80004ad"
      },
      "source": [
        "net = get_model(model_name, pretrained=True)"
      ],
      "execution_count": null,
      "outputs": [
        {
          "output_type": "stream",
          "text": [
            "Downloading /root/.mxnet/models/resnet50_v2-ecdde353.zip from https://apache-mxnet.s3-accelerate.dualstack.amazonaws.com/gluon/models/resnet50_v2-ecdde353.zip...\n"
          ],
          "name": "stdout"
        },
        {
          "output_type": "stream",
          "text": [
            "92863KB [00:01, 72033.62KB/s]                           \n"
          ],
          "name": "stderr"
        }
      ]
    },
    {
      "cell_type": "markdown",
      "metadata": {
        "id": "F3-8qrZ1OHeS"
      },
      "source": [
        "### 결과값의 유형"
      ]
    },
    {
      "cell_type": "code",
      "metadata": {
        "id": "vvuuJcZNNXlW"
      },
      "source": [
        "classes = net.classes"
      ],
      "execution_count": null,
      "outputs": []
    },
    {
      "cell_type": "code",
      "metadata": {
        "id": "cq6tuVPgrbm5",
        "colab": {
          "base_uri": "https://localhost:8080/"
        },
        "outputId": "8a1b81e0-d6c5-42d9-8dac-80fae2084697"
      },
      "source": [
        "len(classes)"
      ],
      "execution_count": null,
      "outputs": [
        {
          "output_type": "execute_result",
          "data": {
            "text/plain": [
              "1000"
            ]
          },
          "metadata": {
            "tags": []
          },
          "execution_count": 9
        }
      ]
    },
    {
      "cell_type": "markdown",
      "metadata": {
        "id": "07ERpT-6OJNl"
      },
      "source": [
        "### image 변환"
      ]
    },
    {
      "cell_type": "code",
      "metadata": {
        "id": "BnA1Q_ltNlE4"
      },
      "source": [
        "image_file='./mt_baker.jpg'"
      ],
      "execution_count": null,
      "outputs": []
    },
    {
      "cell_type": "code",
      "metadata": {
        "id": "4IUULVZPNhVH"
      },
      "source": [
        "img = image.imread(image_file)"
      ],
      "execution_count": null,
      "outputs": []
    },
    {
      "cell_type": "code",
      "metadata": {
        "id": "6g1mKzCwOM6K",
        "colab": {
          "base_uri": "https://localhost:8080/"
        },
        "outputId": "a1ecd6ef-5057-47ec-8d05-e66b75e85a60"
      },
      "source": [
        "type(img)"
      ],
      "execution_count": null,
      "outputs": [
        {
          "output_type": "execute_result",
          "data": {
            "text/plain": [
              "mxnet.ndarray.ndarray.NDArray"
            ]
          },
          "metadata": {
            "tags": []
          },
          "execution_count": 12
        }
      ]
    },
    {
      "cell_type": "code",
      "metadata": {
        "id": "gQrL2_GzOWYy",
        "colab": {
          "base_uri": "https://localhost:8080/"
        },
        "outputId": "13e6b440-81d1-43d1-cd70-dd3298b51d25"
      },
      "source": [
        "img.shape"
      ],
      "execution_count": null,
      "outputs": [
        {
          "output_type": "execute_result",
          "data": {
            "text/plain": [
              "(1458, 3000, 3)"
            ]
          },
          "metadata": {
            "tags": []
          },
          "execution_count": 13
        }
      ]
    },
    {
      "cell_type": "markdown",
      "metadata": {
        "id": "EBD55D5Us3Wy"
      },
      "source": [
        "### resnet model 에 넣는 데이터 형태로 변환\r\n",
        "- 224*224"
      ]
    },
    {
      "cell_type": "markdown",
      "metadata": {
        "id": "vHXOM-tnrh-e"
      },
      "source": [
        "### QUIZ. "
      ]
    },
    {
      "cell_type": "markdown",
      "metadata": {
        "id": "4r79QvI9ruP5"
      },
      "source": [
        "왜 244*244로 변환하는건가요?"
      ]
    },
    {
      "cell_type": "markdown",
      "metadata": {
        "id": "CAXb4uhqrz8Z"
      },
      "source": [
        "### imagenet transform 함수 활용"
      ]
    },
    {
      "cell_type": "code",
      "metadata": {
        "id": "mlQff-tJNool"
      },
      "source": [
        "img = transform_eval(img)"
      ],
      "execution_count": null,
      "outputs": []
    },
    {
      "cell_type": "code",
      "metadata": {
        "id": "XbR_pJ1QOQmW",
        "colab": {
          "base_uri": "https://localhost:8080/"
        },
        "outputId": "88597523-36dd-403f-d959-f49ff171a8c5"
      },
      "source": [
        "type(img)"
      ],
      "execution_count": null,
      "outputs": [
        {
          "output_type": "execute_result",
          "data": {
            "text/plain": [
              "mxnet.ndarray.ndarray.NDArray"
            ]
          },
          "metadata": {
            "tags": []
          },
          "execution_count": 15
        }
      ]
    },
    {
      "cell_type": "code",
      "metadata": {
        "id": "D82kXOldOZlv",
        "colab": {
          "base_uri": "https://localhost:8080/"
        },
        "outputId": "ed662028-95dd-4760-99f8-0e63dd70e0c6"
      },
      "source": [
        "img.shape"
      ],
      "execution_count": null,
      "outputs": [
        {
          "output_type": "execute_result",
          "data": {
            "text/plain": [
              "(1, 3, 224, 224)"
            ]
          },
          "metadata": {
            "tags": []
          },
          "execution_count": 16
        }
      ]
    },
    {
      "cell_type": "markdown",
      "metadata": {
        "id": "KgQR9GiMs6GL"
      },
      "source": [
        "### 분류모델 실행"
      ]
    },
    {
      "cell_type": "code",
      "metadata": {
        "id": "R3nqE3lrNrzA"
      },
      "source": [
        "pred = net(img)"
      ],
      "execution_count": null,
      "outputs": []
    },
    {
      "cell_type": "markdown",
      "metadata": {
        "id": "hnjhTrDrtFrW"
      },
      "source": [
        "### 분류결과 출력"
      ]
    },
    {
      "cell_type": "code",
      "metadata": {
        "id": "w00V5NLgNtLD",
        "colab": {
          "base_uri": "https://localhost:8080/"
        },
        "outputId": "d8e3dc55-8d1a-4ff8-9f5a-c42364dfde32"
      },
      "source": [
        "topK = 5\r\n",
        "ind = nd.topk(pred, k=topK)[0].astype('int')\r\n",
        "print('The input picture is classified to be')\r\n",
        "for i in range(topK):\r\n",
        "    print('\\t[%s], with probability %.3f.'%\r\n",
        "          (classes[ind[i].asscalar()], nd.softmax(pred)[0][ind[i]].asscalar()))"
      ],
      "execution_count": null,
      "outputs": [
        {
          "output_type": "stream",
          "text": [
            "The input picture is classified to be\n",
            "\t[volcano], with probability 0.530.\n",
            "\t[alp], with probability 0.465.\n",
            "\t[valley], with probability 0.002.\n",
            "\t[mountain tent], with probability 0.001.\n",
            "\t[lakeside], with probability 0.000.\n"
          ],
          "name": "stdout"
        }
      ]
    },
    {
      "cell_type": "markdown",
      "metadata": {
        "id": "30dUz0nxtjlT"
      },
      "source": [
        "# 함수로 만들어서 간단하게 활용하자"
      ]
    },
    {
      "cell_type": "code",
      "metadata": {
        "id": "GNFKu9mhtmhW"
      },
      "source": [
        "def get_classify_result(model_name, image_file):\r\n",
        "  # model load\r\n",
        "  net = get_model(model_name, pretrained=True)\r\n",
        "  classes = net.classes\r\n",
        "\r\n",
        "  # image load\r\n",
        "  img = image.imread(image_file)\r\n",
        "  img = transform_eval(img)\r\n",
        "\r\n",
        "  # predict(classify)\r\n",
        "  pred = net(img)\r\n",
        "\r\n",
        "  topK = 5\r\n",
        "  ind = nd.topk(pred, k=topK)[0].astype('int')\r\n",
        "  print('The input picture is classified to be')\r\n",
        "  for i in range(topK):\r\n",
        "      print('\\t[%s], with probability %.3f.'%\r\n",
        "            (classes[ind[i].asscalar()], nd.softmax(pred)[0][ind[i]].asscalar()))"
      ],
      "execution_count": null,
      "outputs": []
    },
    {
      "cell_type": "code",
      "metadata": {
        "id": "3YNHGI72uyYd",
        "colab": {
          "base_uri": "https://localhost:8080/"
        },
        "outputId": "b8df7b36-88c3-4cbe-8574-e732f66ea8f7"
      },
      "source": [
        "get_classify_result( 'ResNet50_v2','./mt_baker.jpg' )"
      ],
      "execution_count": null,
      "outputs": [
        {
          "output_type": "stream",
          "text": [
            "The input picture is classified to be\n",
            "\t[volcano], with probability 0.530.\n",
            "\t[alp], with probability 0.465.\n",
            "\t[valley], with probability 0.002.\n",
            "\t[mountain tent], with probability 0.001.\n",
            "\t[lakeside], with probability 0.000.\n"
          ],
          "name": "stdout"
        }
      ]
    },
    {
      "cell_type": "markdown",
      "metadata": {
        "id": "SdgC9caA48fN"
      },
      "source": [
        "# Transfer Learning\r\n",
        "- [Resnet기반의 이미지 분류기 만들기](https://cv.gluon.ai/build/examples_classification/transfer_learning_minc.html)\r\n",
        "- 연예인사진 유사도 같은 프로그램 이렇게 만들 수 있습니다\r\n",
        "- 회사 연말행사에 닮은사람 이벤트 하면 재미있겠네요"
      ]
    },
    {
      "cell_type": "markdown",
      "metadata": {
        "id": "IFRlq7a_WTJI"
      },
      "source": [
        "## image download\r\n",
        "- 실습을 위해 작은 파일셋을 내려받아서 진행\r\n"
      ]
    },
    {
      "cell_type": "code",
      "metadata": {
        "id": "9dQQuGxzVtXO",
        "colab": {
          "base_uri": "https://localhost:8080/"
        },
        "outputId": "2d1e7db7-059c-4784-8adb-15536e155571"
      },
      "source": [
        "import zipfile, os\r\n",
        "from gluoncv.utils import download\r\n",
        "\r\n",
        "file_url = 'https://raw.githubusercontent.com/dmlc/web-data/master/gluoncv/classification/minc-2500-tiny.zip'\r\n",
        "zip_file = download(file_url, path='./')\r\n",
        "with zipfile.ZipFile(zip_file, 'r') as zin:\r\n",
        "    zin.extractall(os.path.expanduser('./'))"
      ],
      "execution_count": 31,
      "outputs": [
        {
          "output_type": "stream",
          "text": [
            "Downloading ./minc-2500-tiny.zip from https://raw.githubusercontent.com/dmlc/web-data/master/gluoncv/classification/minc-2500-tiny.zip...\n"
          ],
          "name": "stdout"
        },
        {
          "output_type": "stream",
          "text": [
            "8038KB [00:00, 28501.25KB/s]                          \n"
          ],
          "name": "stderr"
        }
      ]
    },
    {
      "cell_type": "markdown",
      "metadata": {
        "id": "y5kv1KwrWeko"
      },
      "source": [
        "## 학습에 필요한 라이브러리"
      ]
    },
    {
      "cell_type": "code",
      "metadata": {
        "id": "6qTGi1OjWeB8"
      },
      "source": [
        "import mxnet as mx\r\n",
        "import numpy as np\r\n",
        "import os, time, shutil\r\n",
        "\r\n",
        "from mxnet import gluon, image, init, nd\r\n",
        "from mxnet import autograd as ag\r\n",
        "from mxnet.gluon import nn\r\n",
        "from mxnet.gluon.data.vision import transforms\r\n",
        "from gluoncv.utils import makedirs\r\n",
        "from gluoncv.model_zoo import get_model"
      ],
      "execution_count": 32,
      "outputs": []
    },
    {
      "cell_type": "markdown",
      "metadata": {
        "id": "LAPRS0qqWmGe"
      },
      "source": [
        "## 학습(Train) 변수"
      ]
    },
    {
      "cell_type": "code",
      "metadata": {
        "id": "2lTKLee9WpTo"
      },
      "source": [
        "classes = 23\r\n",
        "\r\n",
        "epochs = 5\r\n",
        "lr = 0.001\r\n",
        "per_device_batch_size = 1\r\n",
        "momentum = 0.9\r\n",
        "wd = 0.0001\r\n",
        "\r\n",
        "lr_factor = 0.75\r\n",
        "lr_steps = [10, 20, 30, np.inf]\r\n",
        "\r\n",
        "num_gpus = 0\r\n",
        "num_workers = 8\r\n",
        "ctx = [mx.gpu(i) for i in range(num_gpus)] if num_gpus > 0 else [mx.cpu()]\r\n",
        "batch_size = per_device_batch_size * max(num_gpus, 1)"
      ],
      "execution_count": 33,
      "outputs": []
    },
    {
      "cell_type": "markdown",
      "metadata": {
        "id": "SMx6Q3MmW33x"
      },
      "source": [
        "## 데이터 증폭(Augmentation)\r\n",
        "- Randomly crop the image and resize it to 224x224\r\n",
        "- Randomly flip the image horizontally\r\n",
        "- Randomly jitter color and add noise\r\n",
        "- Transpose the data from height*width*num_channels to num_channels*height*width, and map values from [0, 255] to [0, 1] Normalize with the mean and standard deviation from the ImageNet dataset."
      ]
    },
    {
      "cell_type": "code",
      "metadata": {
        "id": "VV1oUvhtW6kM"
      },
      "source": [
        "jitter_param = 0.4\r\n",
        "lighting_param = 0.1\r\n",
        "\r\n",
        "transform_train = transforms.Compose([\r\n",
        "    transforms.RandomResizedCrop(224),\r\n",
        "    transforms.RandomFlipLeftRight(),\r\n",
        "    transforms.RandomColorJitter(brightness=jitter_param, contrast=jitter_param,\r\n",
        "                                 saturation=jitter_param),\r\n",
        "    transforms.RandomLighting(lighting_param),\r\n",
        "    transforms.ToTensor(),\r\n",
        "    transforms.Normalize([0.485, 0.456, 0.406], [0.229, 0.224, 0.225])\r\n",
        "])\r\n",
        "\r\n",
        "transform_test = transforms.Compose([\r\n",
        "    transforms.Resize(256),\r\n",
        "    transforms.CenterCrop(224),\r\n",
        "    transforms.ToTensor(),\r\n",
        "    transforms.Normalize([0.485, 0.456, 0.406], [0.229, 0.224, 0.225])\r\n",
        "])"
      ],
      "execution_count": 34,
      "outputs": []
    },
    {
      "cell_type": "markdown",
      "metadata": {
        "id": "F7_rZmTtXTVA"
      },
      "source": [
        "## data load/pre processing"
      ]
    },
    {
      "cell_type": "code",
      "metadata": {
        "id": "HmDqBWsCXRjB"
      },
      "source": [
        "path = './minc-2500-tiny'\r\n",
        "train_path = os.path.join(path, 'train')\r\n",
        "val_path = os.path.join(path, 'val')\r\n",
        "test_path = os.path.join(path, 'test')\r\n",
        "\r\n",
        "train_data = gluon.data.DataLoader(\r\n",
        "    gluon.data.vision.ImageFolderDataset(train_path).transform_first(transform_train),\r\n",
        "    batch_size=batch_size, shuffle=True, num_workers=num_workers)\r\n",
        "\r\n",
        "val_data = gluon.data.DataLoader(\r\n",
        "    gluon.data.vision.ImageFolderDataset(val_path).transform_first(transform_test),\r\n",
        "    batch_size=batch_size, shuffle=False, num_workers = num_workers)\r\n",
        "\r\n",
        "test_data = gluon.data.DataLoader(\r\n",
        "    gluon.data.vision.ImageFolderDataset(test_path).transform_first(transform_test),\r\n",
        "    batch_size=batch_size, shuffle=False, num_workers = num_workers)"
      ],
      "execution_count": 35,
      "outputs": []
    },
    {
      "cell_type": "markdown",
      "metadata": {
        "id": "XFFG9pZKXfFs"
      },
      "source": [
        "## 기존 학습된 모델 로딩"
      ]
    },
    {
      "cell_type": "code",
      "metadata": {
        "id": "Xf9jjWMnXcr1"
      },
      "source": [
        "model_name = 'ResNet50_v2'\r\n",
        "finetune_net = get_model(model_name, pretrained=True)\r\n",
        "# output 재정의\r\n",
        "with finetune_net.name_scope():\r\n",
        "    finetune_net.output = nn.Dense(classes)\r\n",
        "finetune_net.output.initialize(init.Xavier(), ctx = ctx)\r\n",
        "finetune_net.collect_params().reset_ctx(ctx)\r\n",
        "finetune_net.hybridize()\r\n",
        "\r\n",
        "trainer = gluon.Trainer(finetune_net.collect_params(), 'sgd', {\r\n",
        "                        'learning_rate': lr, 'momentum': momentum, 'wd': wd})\r\n",
        "metric = mx.metric.Accuracy()\r\n",
        "L = gluon.loss.SoftmaxCrossEntropyLoss()"
      ],
      "execution_count": 36,
      "outputs": []
    },
    {
      "cell_type": "markdown",
      "metadata": {
        "id": "F2yZ41uUX5vF"
      },
      "source": [
        "## 학습도중의 validation과 test를 위해서 test function 정의"
      ]
    },
    {
      "cell_type": "code",
      "metadata": {
        "id": "sJpg3dPTXwND"
      },
      "source": [
        "def test(net, val_data, ctx):\r\n",
        "    metric = mx.metric.Accuracy()\r\n",
        "    for i, batch in enumerate(val_data):\r\n",
        "        data = gluon.utils.split_and_load(batch[0], ctx_list=ctx, batch_axis=0, even_split=False)\r\n",
        "        label = gluon.utils.split_and_load(batch[1], ctx_list=ctx, batch_axis=0, even_split=False)\r\n",
        "        outputs = [net(X) for X in data]\r\n",
        "        metric.update(label, outputs)\r\n",
        "\r\n",
        "    return metric.get()"
      ],
      "execution_count": 37,
      "outputs": []
    },
    {
      "cell_type": "markdown",
      "metadata": {
        "id": "Fsz0afYPYBwg"
      },
      "source": [
        "## train"
      ]
    },
    {
      "cell_type": "code",
      "metadata": {
        "id": "GM14FGYgXyQh",
        "colab": {
          "base_uri": "https://localhost:8080/"
        },
        "outputId": "0827cd6c-d061-4bde-8851-6ba75ae7f09f"
      },
      "source": [
        "lr_counter = 0\r\n",
        "num_batch = len(train_data)\r\n",
        "\r\n",
        "for epoch in range(epochs):\r\n",
        "    if epoch == lr_steps[lr_counter]:\r\n",
        "        trainer.set_learning_rate(trainer.learning_rate*lr_factor)\r\n",
        "        lr_counter += 1\r\n",
        "\r\n",
        "    tic = time.time()\r\n",
        "    train_loss = 0\r\n",
        "    metric.reset()\r\n",
        "\r\n",
        "    for i, batch in enumerate(train_data):\r\n",
        "        data = gluon.utils.split_and_load(batch[0], ctx_list=ctx, batch_axis=0, even_split=False)\r\n",
        "        label = gluon.utils.split_and_load(batch[1], ctx_list=ctx, batch_axis=0, even_split=False)\r\n",
        "        with ag.record():\r\n",
        "            outputs = [finetune_net(X) for X in data]\r\n",
        "            loss = [L(yhat, y) for yhat, y in zip(outputs, label)]\r\n",
        "        for l in loss:\r\n",
        "            l.backward()\r\n",
        "\r\n",
        "        trainer.step(batch_size)\r\n",
        "        train_loss += sum([l.mean().asscalar() for l in loss]) / len(loss)\r\n",
        "\r\n",
        "        metric.update(label, outputs)\r\n",
        "\r\n",
        "    _, train_acc = metric.get()\r\n",
        "    train_loss /= num_batch\r\n",
        "\r\n",
        "    _, val_acc = test(finetune_net, val_data, ctx)\r\n",
        "\r\n",
        "    print('[Epoch %d] Train-acc: %.3f, loss: %.3f | Val-acc: %.3f | time: %.1f' %\r\n",
        "             (epoch, train_acc, train_loss, val_acc, time.time() - tic))\r\n",
        "\r\n",
        "_, test_acc = test(finetune_net, test_data, ctx)\r\n",
        "print('[Finished] Test-acc: %.3f' % (test_acc))"
      ],
      "execution_count": 38,
      "outputs": [
        {
          "output_type": "stream",
          "text": [
            "[Epoch 0] Train-acc: 0.017, loss: 4.111 | Val-acc: 0.087 | time: 69.7\n",
            "[Epoch 1] Train-acc: 0.035, loss: 4.096 | Val-acc: 0.043 | time: 69.1\n",
            "[Epoch 2] Train-acc: 0.026, loss: 4.355 | Val-acc: 0.065 | time: 69.5\n",
            "[Epoch 3] Train-acc: 0.000, loss: 4.053 | Val-acc: 0.000 | time: 69.2\n",
            "[Epoch 4] Train-acc: 0.043, loss: 3.924 | Val-acc: 0.043 | time: 69.2\n",
            "[Finished] Test-acc: 0.065\n"
          ],
          "name": "stdout"
        }
      ]
    },
    {
      "cell_type": "markdown",
      "metadata": {
        "id": "Boqva6SxxhGm"
      },
      "source": [
        "# 실습\r\n"
      ]
    },
    {
      "cell_type": "markdown",
      "metadata": {
        "id": "qhiy1jMEx-mf"
      },
      "source": [
        "## 1. 이미지넷 모델 중에서 volcano 정확도가 가장 높은 모델을 찾기\r\n",
        "- [ImageNet](https://cv.gluon.ai/model_zoo/classification.html#imagenet)"
      ]
    },
    {
      "cell_type": "code",
      "metadata": {
        "colab": {
          "base_uri": "https://localhost:8080/"
        },
        "id": "f89jEJNKfLaY",
        "outputId": "f7dd5feb-bc48-4976-df5b-a621060460c3"
      },
      "source": [
        "get_classify_result( 'ResNet34_v1','./mt_baker.jpg' )"
      ],
      "execution_count": 24,
      "outputs": [
        {
          "output_type": "stream",
          "text": [
            "\r  0%|          | 0/79094 [00:00<?, ?KB/s]"
          ],
          "name": "stderr"
        },
        {
          "output_type": "stream",
          "text": [
            "Downloading /root/.mxnet/models/resnet34_v1-48216ba9.zip from https://apache-mxnet.s3-accelerate.dualstack.amazonaws.com/gluon/models/resnet34_v1-48216ba9.zip...\n"
          ],
          "name": "stdout"
        },
        {
          "output_type": "stream",
          "text": [
            "79095KB [00:01, 63757.20KB/s]                           \n"
          ],
          "name": "stderr"
        },
        {
          "output_type": "stream",
          "text": [
            "The input picture is classified to be\n",
            "\t[volcano], with probability 0.985.\n",
            "\t[alp], with probability 0.013.\n",
            "\t[valley], with probability 0.001.\n",
            "\t[mountain tent], with probability 0.000.\n",
            "\t[lakeside], with probability 0.000.\n"
          ],
          "name": "stdout"
        }
      ]
    },
    {
      "cell_type": "markdown",
      "metadata": {
        "id": "j1fNLYSFyBu8"
      },
      "source": [
        "## 2. 아래의 이미지를 이용하여 비행기 정확도가 가장 높은 모델을 찾기\r\n"
      ]
    },
    {
      "cell_type": "markdown",
      "metadata": {
        "id": "OnXZPFPtyV6p"
      },
      "source": [
        "<img src='https://previews.123rf.com/images/akinshin/akinshin1508/akinshin150800008/43579353-%ED%9D%B0%EC%83%89-%EB%B0%B0%EA%B2%BD-%EB%B2%A1%ED%84%B0-%EC%9D%BC%EB%9F%AC%EC%8A%A4%ED%8A%B8-%EB%A0%88%EC%9D%B4-%EC%85%98%EC%97%90-%EB%B9%84%ED%96%89%EA%B8%B0-%EC%8B%A4%EB%A3%A8%EC%97%A3.jpg' height=300px/>"
      ]
    },
    {
      "cell_type": "code",
      "metadata": {
        "id": "8_37IRjTy0W-",
        "colab": {
          "base_uri": "https://localhost:8080/"
        },
        "outputId": "2d81bf75-4ad2-4fb0-ad82-fb9a0c229ce6"
      },
      "source": [
        "!curl https://previews.123rf.com/images/akinshin/akinshin1508/akinshin150800008/43579353-%ED%9D%B0%EC%83%89-%EB%B0%B0%EA%B2%BD-%EB%B2%A1%ED%84%B0-%EC%9D%BC%EB%9F%AC%EC%8A%A4%ED%8A%B8-%EB%A0%88%EC%9D%B4-%EC%85%98%EC%97%90-%EB%B9%84%ED%96%89%EA%B8%B0-%EC%8B%A4%EB%A3%A8%EC%97%A3.jpg > plane.jpg"
      ],
      "execution_count": 25,
      "outputs": [
        {
          "output_type": "stream",
          "text": [
            "  % Total    % Received % Xferd  Average Speed   Time    Time     Time  Current\n",
            "                                 Dload  Upload   Total   Spent    Left  Speed\n",
            "\r  0     0    0     0    0     0      0      0 --:--:-- --:--:-- --:--:--     0\r100 38625  100 38625    0     0   275k      0 --:--:-- --:--:-- --:--:--  275k\n"
          ],
          "name": "stdout"
        }
      ]
    },
    {
      "cell_type": "code",
      "metadata": {
        "colab": {
          "base_uri": "https://localhost:8080/"
        },
        "id": "2YquKvNze7iE",
        "outputId": "590bff27-7dc8-4dc0-9b60-6e9134512f25"
      },
      "source": [
        "get_classify_result( 'DenseNet201','./plane.jpg' )"
      ],
      "execution_count": 30,
      "outputs": [
        {
          "output_type": "stream",
          "text": [
            "Downloading /root/.mxnet/models/densenet201-1cdbc116.zip from https://apache-mxnet.s3-accelerate.dualstack.amazonaws.com/gluon/models/densenet201-1cdbc116.zip...\n"
          ],
          "name": "stdout"
        },
        {
          "output_type": "stream",
          "text": [
            "74804KB [00:01, 44822.47KB/s]                           \n"
          ],
          "name": "stderr"
        },
        {
          "output_type": "stream",
          "text": [
            "The input picture is classified to be\n",
            "\t[warplane], with probability 0.856.\n",
            "\t[wing], with probability 0.054.\n",
            "\t[airliner], with probability 0.045.\n",
            "\t[aircraft carrier], with probability 0.012.\n",
            "\t[projectile], with probability 0.005.\n"
          ],
          "name": "stdout"
        }
      ]
    }
  ]
}