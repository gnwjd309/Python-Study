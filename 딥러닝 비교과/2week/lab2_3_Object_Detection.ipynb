{
  "nbformat": 4,
  "nbformat_minor": 0,
  "metadata": {
    "colab": {
      "name": "lab2-3.Object_Detection.ipynb",
      "provenance": [],
      "toc_visible": true
    },
    "kernelspec": {
      "name": "python3",
      "display_name": "Python 3"
    }
  },
  "cells": [
    {
      "cell_type": "markdown",
      "metadata": {
        "id": "0NXPcey6BcIM"
      },
      "source": [
        "# 2-3. Object Detection"
      ]
    },
    {
      "cell_type": "code",
      "metadata": {
        "id": "RQa531M0BUAk"
      },
      "source": [
        "!pip3 install --upgrade mxnet-cu101 > /dev/null\r\n",
        "!pip3 install --upgrade gluoncv > /dev/null"
      ],
      "execution_count": null,
      "outputs": []
    },
    {
      "cell_type": "markdown",
      "metadata": {
        "id": "AzL5UeMuByOm"
      },
      "source": [
        "## 측정단위(mAP)\r\n",
        "- mean average precision\r\n",
        "  - 실제값과 예측한 값의 평균값(mean average)\r\n",
        "  - object 가 여러개인경우 각 class당 AP를 구하고 class 개수로 나눈다"
      ]
    },
    {
      "cell_type": "markdown",
      "metadata": {
        "id": "XkhP9Y85DdxA"
      },
      "source": [
        "## 테스트이미지\r\n",
        "- <img src='https://github.com/karolmajek/Mask_RCNN/blob/master/images/2516944023_d00345997d_z.jpg?raw=true' /> \r\n",
        "\r\n",
        "- <img src='https://github.com/dmlc/web-data/blob/master/gluoncv/detection/biking.jpg?raw=true' width=640 /> \r\n",
        "\r\n",
        "- <img src='https://github.com/karolmajek/Mask_RCNN/blob/master/images/8433365521_9252889f9a_z.jpg?raw=true' />\r\n"
      ]
    },
    {
      "cell_type": "markdown",
      "metadata": {
        "id": "M5JB_g9WECPi"
      },
      "source": [
        "## SSD\r\n",
        "- Single-shot detector"
      ]
    },
    {
      "cell_type": "code",
      "metadata": {
        "id": "U8CGqyWuBlXu"
      },
      "source": [
        "from gluoncv import model_zoo, data, utils"
      ],
      "execution_count": null,
      "outputs": []
    },
    {
      "cell_type": "markdown",
      "metadata": {
        "id": "A5Yxm6L_GNi0"
      },
      "source": [
        "- 테스트용도"
      ]
    },
    {
      "cell_type": "code",
      "metadata": {
        "id": "w9HE4XM5EI7N"
      },
      "source": [
        "from matplotlib import pyplot as plt"
      ],
      "execution_count": null,
      "outputs": []
    },
    {
      "cell_type": "code",
      "metadata": {
        "id": "zSTzPwqpEG1a"
      },
      "source": [
        "net = model_zoo.get_model('ssd_512_resnet50_v1_voc', pretrained=True)"
      ],
      "execution_count": null,
      "outputs": []
    },
    {
      "cell_type": "markdown",
      "metadata": {
        "id": "hkDKI3dCFuBc"
      },
      "source": [
        "### SSD Architectgure\r\n",
        "- extract feature maps\r\n",
        "\r\n",
        "<img src='https://miro.medium.com/max/700/1*aex5im2aYcsk4RVKUD4zeg.jpeg' width=100%>\r\n",
        "- apply convolution filters to detect objects.\r\n",
        "\r\n",
        "<img src='https://miro.medium.com/max/1000/1*up-gIJ9rPkHXUGRoqWuULQ.jpeg' width=100%>"
      ]
    },
    {
      "cell_type": "markdown",
      "metadata": {
        "id": "LTQ44XRrF_p6"
      },
      "source": [
        "### SSD layer"
      ]
    },
    {
      "cell_type": "code",
      "metadata": {
        "id": "pXRWf8X6ENs8"
      },
      "source": [
        "net.summary"
      ],
      "execution_count": null,
      "outputs": []
    },
    {
      "cell_type": "markdown",
      "metadata": {
        "id": "q6-T8-y1GZC5"
      },
      "source": [
        "### ssd 이미지 전처리"
      ]
    },
    {
      "cell_type": "code",
      "metadata": {
        "id": "qwsBv7wDEO3n"
      },
      "source": [
        "im_fname = utils.download('https://github.com/karolmajek/Mask_RCNN/blob/master/images/2516944023_d00345997d_z.jpg?raw=true')\r\n",
        "x, img = data.transforms.presets.ssd.load_test(im_fname, short=512)"
      ],
      "execution_count": null,
      "outputs": []
    },
    {
      "cell_type": "code",
      "metadata": {
        "id": "E19dasaLGgxc"
      },
      "source": [
        "print('Shape of pre-processed image:', x.shape)"
      ],
      "execution_count": null,
      "outputs": []
    },
    {
      "cell_type": "markdown",
      "metadata": {
        "id": "vlmhDRRSGqAv"
      },
      "source": [
        "### inference\r\n",
        "- ssd model 에 이미지 적용"
      ]
    },
    {
      "cell_type": "code",
      "metadata": {
        "id": "ecnZSMF7GjuT"
      },
      "source": [
        "class_IDs, scores, bounding_boxes = net(x)\r\n",
        "# class_IDs : detection box의 유형\r\n",
        "# scores : detection 된 box의 점수(AP)\r\n",
        "# bounding_boxes : detecing 된 box 좌표들"
      ],
      "execution_count": null,
      "outputs": []
    },
    {
      "cell_type": "code",
      "metadata": {
        "id": "Ml2tc-aFGxfk"
      },
      "source": [
        "ax = utils.viz.plot_bbox(img, bounding_boxes[0], scores[0],\r\n",
        "                         class_IDs[0], class_names=net.classes)\r\n",
        "plt.rcParams[\"figure.figsize\"] = (20,15)\r\n",
        "plt.show()"
      ],
      "execution_count": null,
      "outputs": []
    },
    {
      "cell_type": "markdown",
      "metadata": {
        "id": "2fyBy0LkHiIA"
      },
      "source": [
        "### 함수로 한번에 처리해보자"
      ]
    },
    {
      "cell_type": "code",
      "metadata": {
        "id": "CsE-VaxHHEIf"
      },
      "source": [
        "def display_ssd(model_name, image_filename):\r\n",
        "  import time\r\n",
        "  from gluoncv import model_zoo, data, utils\r\n",
        "  from matplotlib import pyplot as plt\r\n",
        "\r\n",
        "  # model download from model_zoo\r\n",
        "  net = model_zoo.get_model(model_name, pretrained=True)\r\n",
        "  tic = time.time()\r\n",
        "\r\n",
        "  # image pre processing\r\n",
        "  x, img = data.transforms.presets.ssd.load_test(image_filename, short=512)\r\n",
        "  print('Shape of pre-processed image:', x.shape)\r\n",
        "\r\n",
        "  # inference\r\n",
        "  class_IDs, scores, bounding_boxes = net(x)\r\n",
        "\r\n",
        "  # display\r\n",
        "  ax = utils.viz.plot_bbox(img, bounding_boxes[0], scores[0], class_IDs[0], class_names=net.classes)\r\n",
        "  plt.rcParams[\"figure.figsize\"] = (20,15)\r\n",
        "  plt.show()\r\n",
        "  print('process time : {}'.format(time.time() - tic))"
      ],
      "execution_count": null,
      "outputs": []
    },
    {
      "cell_type": "markdown",
      "metadata": {
        "id": "OF4L0GDyQc4T"
      },
      "source": [
        "### 이미지 테스트"
      ]
    },
    {
      "cell_type": "code",
      "metadata": {
        "id": "avVVh1zCIblb"
      },
      "source": [
        "im_fname = utils.download('https://github.com/dmlc/web-data/blob/master/gluoncv/detection/biking.jpg?raw=true')\r\n",
        "display_ssd('ssd_512_resnet50_v1_voc', im_fname)"
      ],
      "execution_count": null,
      "outputs": []
    },
    {
      "cell_type": "code",
      "metadata": {
        "id": "_tCvjUCMJC5q"
      },
      "source": [
        "im_fname = utils.download('https://github.com/karolmajek/Mask_RCNN/blob/master/images/8433365521_9252889f9a_z.jpg?raw=true')\r\n",
        "display_ssd('ssd_512_resnet50_v1_voc', im_fname)"
      ],
      "execution_count": null,
      "outputs": []
    },
    {
      "cell_type": "markdown",
      "metadata": {
        "id": "5Wc_q5vNJyRw"
      },
      "source": [
        "## Faster RCNN"
      ]
    },
    {
      "cell_type": "markdown",
      "metadata": {
        "id": "aEu7dp9DO3Qt"
      },
      "source": [
        "### Faster RCNN Framework\r\n",
        "1. Convolution layers\r\n",
        "2. Region Proposel Network(RPN)\r\n",
        "3. Classes and Bounding Boxes prediction\r\n",
        "- <img src='https://miro.medium.com/max/2400/1*jYDMaYeH-TrcoofDqCdxug.jpeg' width=100% />\r\n"
      ]
    },
    {
      "cell_type": "code",
      "metadata": {
        "id": "_nQSXqR5PcN9"
      },
      "source": [
        "net = model_zoo.get_model('faster_rcnn_resnet50_v1b_voc', pretrained=True)"
      ],
      "execution_count": null,
      "outputs": []
    },
    {
      "cell_type": "markdown",
      "metadata": {
        "id": "NvADF-VXQJlE"
      },
      "source": [
        "### Faster RCNN layer"
      ]
    },
    {
      "cell_type": "code",
      "metadata": {
        "id": "_1lN5uRHPgCw"
      },
      "source": [
        "net.summary"
      ],
      "execution_count": null,
      "outputs": []
    },
    {
      "cell_type": "markdown",
      "metadata": {
        "id": "GtnzVWhpQYWr"
      },
      "source": [
        "### 처리 함수 정의"
      ]
    },
    {
      "cell_type": "code",
      "metadata": {
        "id": "_eETDz0DLCxF"
      },
      "source": [
        "def display_frcnn(model_name, image_filename):\r\n",
        "  import time\r\n",
        "  from gluoncv import model_zoo, data, utils\r\n",
        "  from matplotlib import pyplot as plt\r\n",
        "\r\n",
        "  # model download from model_zoo\r\n",
        "  net = model_zoo.get_model(model_name, pretrained=True)\r\n",
        "\r\n",
        "  tic = time.time()\r\n",
        "  # image pre processing(위의 display_ssd와 이미지 전처리 부분이 다릅니다)\r\n",
        "  x, img = data.transforms.presets.rcnn.load_test(image_filename, short=512)\r\n",
        "  print('Shape of pre-processed image:', x.shape)\r\n",
        "\r\n",
        "  # inference\r\n",
        "  class_IDs, scores, bounding_boxes = net(x)\r\n",
        "\r\n",
        "  # display\r\n",
        "  ax = utils.viz.plot_bbox(img, bounding_boxes[0], scores[0], class_IDs[0], class_names=net.classes)\r\n",
        "  plt.rcParams[\"figure.figsize\"] = (15,12)\r\n",
        "  plt.show()\r\n",
        "  \r\n",
        "  print('process time : {}'.format(time.time() - tic))"
      ],
      "execution_count": null,
      "outputs": []
    },
    {
      "cell_type": "markdown",
      "metadata": {
        "id": "8MU8Vd96Qaoq"
      },
      "source": [
        "### 이미지 테스트"
      ]
    },
    {
      "cell_type": "code",
      "metadata": {
        "id": "f371HM_9KA7f"
      },
      "source": [
        "im_fname = utils.download('https://github.com/karolmajek/Mask_RCNN/blob/master/images/2516944023_d00345997d_z.jpg?raw=true')\r\n",
        "display_frcnn('faster_rcnn_resnet50_v1b_voc', im_fname)"
      ],
      "execution_count": null,
      "outputs": []
    },
    {
      "cell_type": "code",
      "metadata": {
        "id": "bUxFPVwyJZto"
      },
      "source": [
        "im_fname = utils.download('https://github.com/dmlc/web-data/blob/master/gluoncv/detection/biking.jpg?raw=true')\r\n",
        "display_frcnn('faster_rcnn_resnet50_v1b_voc', im_fname)"
      ],
      "execution_count": null,
      "outputs": []
    },
    {
      "cell_type": "code",
      "metadata": {
        "id": "yK1dRgacJ9c_"
      },
      "source": [
        "im_fname = utils.download('https://github.com/karolmajek/Mask_RCNN/blob/master/images/8433365521_9252889f9a_z.jpg?raw=true')\r\n",
        "display_frcnn('faster_rcnn_resnet50_v1b_voc', im_fname)"
      ],
      "execution_count": null,
      "outputs": []
    },
    {
      "cell_type": "markdown",
      "metadata": {
        "id": "IKwZMczdQrvn"
      },
      "source": [
        "## YOLO(You only look once) v3\r\n",
        "- realtime object detection"
      ]
    },
    {
      "cell_type": "markdown",
      "metadata": {
        "id": "p_xSbscCSCvi"
      },
      "source": [
        "### YOLO v3 Framework\r\n",
        "<img src='https://www.researchgate.net/profile/Paolo-Valdez/publication/341369179/figure/fig1/AS:890935600750593@1589427008836/The-YOLO-v3-architecture.ppm' width=100% />"
      ]
    },
    {
      "cell_type": "code",
      "metadata": {
        "id": "MUSnotLxKR3G"
      },
      "source": [
        "net = model_zoo.get_model('yolo3_darknet53_voc', pretrained=True)"
      ],
      "execution_count": null,
      "outputs": []
    },
    {
      "cell_type": "markdown",
      "metadata": {
        "id": "3krWWJ9cUfAv"
      },
      "source": [
        "### YOLO Layer"
      ]
    },
    {
      "cell_type": "code",
      "metadata": {
        "id": "iKvenurvULQk"
      },
      "source": [
        "net.summary"
      ],
      "execution_count": null,
      "outputs": []
    },
    {
      "cell_type": "markdown",
      "metadata": {
        "id": "SMLKJheyUhws"
      },
      "source": [
        "### 처리함수 정의"
      ]
    },
    {
      "cell_type": "code",
      "metadata": {
        "id": "x6ZjGZF4UNnX"
      },
      "source": [
        "def display_yolo(model_name, image_filename):\r\n",
        "  import time\r\n",
        "  from gluoncv import model_zoo, data, utils\r\n",
        "  from matplotlib import pyplot as plt\r\n",
        "\r\n",
        "  # model download from model_zoo\r\n",
        "  net = model_zoo.get_model(model_name, pretrained=True)\r\n",
        "\r\n",
        "  tic = time.time()\r\n",
        "  # image pre processing(위의 display_ssd와 이미지 전처리 부분이 다릅니다)\r\n",
        "  x, img = data.transforms.presets.yolo.load_test(image_filename, short=512)\r\n",
        "  print('Shape of pre-processed image:', x.shape)\r\n",
        "\r\n",
        "  # inference\r\n",
        "  class_IDs, scores, bounding_boxes = net(x)\r\n",
        "\r\n",
        "  # display\r\n",
        "  ax = utils.viz.plot_bbox(img, bounding_boxes[0], scores[0], class_IDs[0], class_names=net.classes)\r\n",
        "  plt.rcParams[\"figure.figsize\"] = (15,12)\r\n",
        "  plt.show()\r\n",
        "  \r\n",
        "  print('process time : {}'.format(time.time() - tic))"
      ],
      "execution_count": null,
      "outputs": []
    },
    {
      "cell_type": "markdown",
      "metadata": {
        "id": "tgn3d2nEVeQr"
      },
      "source": [
        "### 이미지 테스트"
      ]
    },
    {
      "cell_type": "code",
      "metadata": {
        "id": "jH3-_IPwUr3h"
      },
      "source": [
        "im_fname = utils.download('https://github.com/karolmajek/Mask_RCNN/blob/master/images/2516944023_d00345997d_z.jpg?raw=true')\r\n",
        "display_yolo('yolo3_darknet53_voc', im_fname)"
      ],
      "execution_count": null,
      "outputs": []
    },
    {
      "cell_type": "code",
      "metadata": {
        "id": "J4qIRL85UvLr"
      },
      "source": [
        "im_fname = utils.download('https://github.com/dmlc/web-data/blob/master/gluoncv/detection/biking.jpg?raw=true')\r\n",
        "display_yolo('yolo3_darknet53_voc', im_fname)"
      ],
      "execution_count": null,
      "outputs": []
    },
    {
      "cell_type": "code",
      "metadata": {
        "id": "NDWkGt2TUvuo"
      },
      "source": [
        "im_fname = utils.download('https://github.com/karolmajek/Mask_RCNN/blob/master/images/8433365521_9252889f9a_z.jpg?raw=true')\r\n",
        "display_yolo('yolo3_darknet53_voc', im_fname)"
      ],
      "execution_count": null,
      "outputs": []
    },
    {
      "cell_type": "markdown",
      "metadata": {
        "id": "P00m8YJU4o30"
      },
      "source": [
        "## CenterNET"
      ]
    },
    {
      "cell_type": "markdown",
      "metadata": {
        "id": "F2gy8tOV4uJa"
      },
      "source": [
        "### CenterNET Framework\r\n",
        "- 특징, 모양, 크기, heatmap(포인트), 위치 를 이용한다.\r\n",
        "- 확장성을 가진다\r\n",
        "  - object tracking\r\n",
        "  - instance segmantation\r\n",
        "  - action recognition\r\n",
        "  - HOI(Human object interaction)\r\n",
        "\r\n",
        "<img src='https://pic3.zhimg.com/v2-911f9bb0710907385154078bce50f425_1440w.jpg?source=172ae18b' width=100% >"
      ]
    },
    {
      "cell_type": "code",
      "metadata": {
        "id": "oU2RebyK6VYV"
      },
      "source": [
        "from gluoncv import model_zoo, data, utils\r\n",
        "from matplotlib import pyplot as plt"
      ],
      "execution_count": null,
      "outputs": []
    },
    {
      "cell_type": "code",
      "metadata": {
        "id": "gnULGoMl6YCn"
      },
      "source": [
        "net = model_zoo.get_model('center_net_resnet18_v1b_voc', pretrained=True)\r\n"
      ],
      "execution_count": null,
      "outputs": []
    },
    {
      "cell_type": "markdown",
      "metadata": {
        "id": "pYjDSrIN6ccb"
      },
      "source": [
        "### CenterNET Layers"
      ]
    },
    {
      "cell_type": "code",
      "metadata": {
        "id": "_7mragr76e7h"
      },
      "source": [
        "net.summary"
      ],
      "execution_count": null,
      "outputs": []
    },
    {
      "cell_type": "markdown",
      "metadata": {
        "id": "ejnbHufT6lYK"
      },
      "source": [
        "### 처리함수 정의"
      ]
    },
    {
      "cell_type": "code",
      "metadata": {
        "id": "RQvu_gA_6r29"
      },
      "source": [
        "def display_centernet(model_name, image_filename):\r\n",
        "  import time\r\n",
        "  from gluoncv import model_zoo, data, utils\r\n",
        "  from matplotlib import pyplot as plt\r\n",
        "\r\n",
        "  # model download from model_zoo\r\n",
        "  net = model_zoo.get_model(model_name, pretrained=True)\r\n",
        "\r\n",
        "  tic = time.time()\r\n",
        "  # image pre processing(위의 display_ssd와 이미지 전처리 부분이 다릅니다)\r\n",
        "  x, img = data.transforms.presets.center_net.load_test(im_fname, short=512)\r\n",
        "  print('Shape of pre-processed image:', x.shape)\r\n",
        "\r\n",
        "  # inference\r\n",
        "  class_IDs, scores, bounding_boxes = net(x)\r\n",
        "\r\n",
        "  # display\r\n",
        "  ax = utils.viz.plot_bbox(img, bounding_boxes[0], scores[0], class_IDs[0], class_names=net.classes)\r\n",
        "  plt.rcParams[\"figure.figsize\"] = (15,12)\r\n",
        "  plt.show()\r\n",
        "  \r\n",
        "  print('process time : {}'.format(time.time() - tic))"
      ],
      "execution_count": null,
      "outputs": []
    },
    {
      "cell_type": "markdown",
      "metadata": {
        "id": "lN_oadkO68P6"
      },
      "source": [
        "### 이미지 테스트"
      ]
    },
    {
      "cell_type": "code",
      "metadata": {
        "id": "2J58TsUx7BdA"
      },
      "source": [
        "im_fname = utils.download('https://github.com/karolmajek/Mask_RCNN/blob/master/images/2516944023_d00345997d_z.jpg?raw=true')\r\n",
        "display_centernet('center_net_resnet18_v1b_voc', im_fname)"
      ],
      "execution_count": null,
      "outputs": []
    },
    {
      "cell_type": "code",
      "metadata": {
        "id": "d2Fyo-w87LlT"
      },
      "source": [
        "im_fname = utils.download('https://github.com/dmlc/web-data/blob/master/gluoncv/detection/biking.jpg?raw=true')\r\n",
        "display_centernet('center_net_resnet18_v1b_voc', im_fname)"
      ],
      "execution_count": null,
      "outputs": []
    },
    {
      "cell_type": "code",
      "metadata": {
        "id": "6woDRCdn7SXG"
      },
      "source": [
        "im_fname = utils.download('https://github.com/karolmajek/Mask_RCNN/blob/master/images/8433365521_9252889f9a_z.jpg?raw=true')\r\n",
        "display_centernet('center_net_resnet18_v1b_voc', im_fname)"
      ],
      "execution_count": null,
      "outputs": []
    },
    {
      "cell_type": "markdown",
      "metadata": {
        "id": "he9ij0PPWmVo"
      },
      "source": [
        "## 제공되는 모델\r\n",
        "- [Pascal VOC](https://cv.gluon.ai/model_zoo/detection.html#pascal-voc)\r\n",
        "- [MS COCO](https://cv.gluon.ai/model_zoo/detection.html#ms-coco)"
      ]
    },
    {
      "cell_type": "markdown",
      "metadata": {
        "id": "l8ZveSnaZt4I"
      },
      "source": [
        "## 실습"
      ]
    },
    {
      "cell_type": "markdown",
      "metadata": {
        "id": "pNK2ceG8Zv9u"
      },
      "source": [
        "## 다음 이미지를 이용하여 \r\n",
        "- ssd, faster rcnn, yolo_v3, CenterNET 이미지 테스트를 수행한다.\r\n",
        "  - 어떤 모델이 축구 detection에 적합한가\r\n",
        "\r\n",
        "<img src='https://imgnews.pstatic.net/image/091/2020/12/14/PEP20201214104001055_P2_20201214065015789.jpg' />"
      ]
    },
    {
      "cell_type": "code",
      "metadata": {
        "id": "3RQsFygC9UPr"
      },
      "source": [
        "image_url = 'https://imgnews.pstatic.net/image/091/2020/12/14/PEP20201214104001055_P2_20201214065015789.jpg'"
      ],
      "execution_count": null,
      "outputs": []
    },
    {
      "cell_type": "markdown",
      "metadata": {
        "id": "Xjfg8glr9EgI"
      },
      "source": [
        "- 아래의 이미지는 어떤 모델이 가장 적합한가\r\n",
        "\r\n",
        "<img src='https://search.pstatic.net/common/?src=http%3A%2F%2Fblogfiles.naver.net%2FMjAyMTAxMDhfMTY1%2FMDAxNjEwMDg1MDQxMDYw.ATz_Iic1kMwSLbgwCVadkqOqkW-gronzrMdYSDQD4agg.R48LN1SGIrxhVqsZtl2D-S8Pr715qL8fjo0JIihAFE0g.JPEG.leonato%2F%25BB%25F5%25C7%25D8%25BF%25A1%25B5%25B5_%25B0%25C7%25B0%25AD%25C8%25F7_2021%25B3%25E2_1%25BF%25F9_%257B%25C0%25B1%25BD%25BA%25C5%25D7%25C0%25CC%257D%25BF%25A1%25BC%25AD_%25B8%25B8%25B3%25AA%25BF%25E4%25A2%25BE%25C0%25B1%25BD%25BA%25C5%25D7%25C0%25CC___EP.1_000014.955.jpg&type=sc960_832' />"
      ]
    },
    {
      "cell_type": "code",
      "metadata": {
        "id": "xoT69nlYU4vF"
      },
      "source": [
        "img_url= 'https://search.pstatic.net/common/?src=http%3A%2F%2Fblogfiles.naver.net%2FMjAyMTAxMDhfMTY1%2FMDAxNjEwMDg1MDQxMDYw.ATz_Iic1kMwSLbgwCVadkqOqkW-gronzrMdYSDQD4agg.R48LN1SGIrxhVqsZtl2D-S8Pr715qL8fjo0JIihAFE0g.JPEG.leonato%2F%25BB%25F5%25C7%25D8%25BF%25A1%25B5%25B5_%25B0%25C7%25B0%25AD%25C8%25F7_2021%25B3%25E2_1%25BF%25F9_%257B%25C0%25B1%25BD%25BA%25C5%25D7%25C0%25CC%257D%25BF%25A1%25BC%25AD_%25B8%25B8%25B3%25AA%25BF%25E4%25A2%25BE%25C0%25B1%25BD%25BA%25C5%25D7%25C0%25CC___EP.1_000014.955.jpg&type=sc960_832'"
      ],
      "execution_count": null,
      "outputs": []
    },
    {
      "cell_type": "code",
      "metadata": {
        "id": "KYuqI_cx9YmP"
      },
      "source": [
        ""
      ],
      "execution_count": null,
      "outputs": []
    }
  ]
}