{
  "nbformat": 4,
  "nbformat_minor": 0,
  "metadata": {
    "colab": {
      "name": "lab1.python_base.ipynb",
      "provenance": [],
      "collapsed_sections": [],
      "toc_visible": true
    },
    "kernelspec": {
      "name": "python3",
      "display_name": "Python 3"
    }
  },
  "cells": [
    {
      "cell_type": "markdown",
      "metadata": {
        "id": "A0Teq-3TzGhC"
      },
      "source": [
        "# Python 기초"
      ]
    },
    {
      "cell_type": "markdown",
      "metadata": {
        "id": "AFD_tgMlV8Da"
      },
      "source": [
        "### python version"
      ]
    },
    {
      "cell_type": "code",
      "metadata": {
        "id": "OEivi1pMV8eV"
      },
      "source": [
        "# python system 기능을 사용하기 위해 사용하는 라이브러리\r\n",
        "import sys\r\n",
        "\r\n",
        "# \"Python version\" 이라는 문자열을 출력\r\n",
        "print(\"Python version\")\r\n",
        "\r\n",
        "# sys.version에 저장되어있는 값을 출력\r\n",
        "print (sys.version)\r\n",
        " \r\n",
        "# \"Version info.\" 이라는 문자열을 출력\r\n",
        "print(\"Version info.\")\r\n",
        "\r\n",
        "# sys.version_info에 저장되어있는 값을 출력\r\n",
        "print (sys.version_info)"
      ],
      "execution_count": null,
      "outputs": []
    },
    {
      "cell_type": "markdown",
      "metadata": {
        "id": "IMmCdZ5KeNpa"
      },
      "source": [
        "## 변수"
      ]
    },
    {
      "cell_type": "markdown",
      "metadata": {
        "id": "TnK9pzoYX13H"
      },
      "source": [
        "### 문자열 출력"
      ]
    },
    {
      "cell_type": "code",
      "metadata": {
        "id": "Ax07RpekUmA5"
      },
      "source": [
        "print('딥러닝 활용')\r\n",
        "print('셀 실행은 shift + Enter')"
      ],
      "execution_count": null,
      "outputs": []
    },
    {
      "cell_type": "markdown",
      "metadata": {
        "id": "mmL7uAHfYyg4"
      },
      "source": [
        "### 문자열 변수 할당"
      ]
    },
    {
      "cell_type": "code",
      "metadata": {
        "id": "k5BPys7EXp9O"
      },
      "source": [
        "title ='딥러닝 활용'\r\n",
        "command_string='셀 실행은 shift + Enter'\r\n",
        "print(title)\r\n",
        "print(command_string)"
      ],
      "execution_count": null,
      "outputs": []
    },
    {
      "cell_type": "markdown",
      "metadata": {
        "id": "Y1tTYq_RZM8Z"
      },
      "source": [
        "### 변수이름 명명 법\r\n",
        "- class 이름 : pascal case(파스칼 표기법)\r\n",
        "\r\n",
        "  `Title, CommandString`\r\n",
        "- 상수 : 대문자\r\n",
        "\r\n",
        "  `TITLE, COMMAND_STRING`\r\n",
        "- 변수 or 함수 : snake case or pothole case\r\n",
        "\r\n",
        "  `title, title_string`"
      ]
    },
    {
      "cell_type": "markdown",
      "metadata": {
        "id": "HKLYgrG6eYVl"
      },
      "source": [
        "## 배열, numpy, pandas"
      ]
    },
    {
      "cell_type": "markdown",
      "metadata": {
        "id": "8FPwkfa5bbNb"
      },
      "source": [
        "### 배열(list)"
      ]
    },
    {
      "cell_type": "code",
      "metadata": {
        "id": "s1e-xumrbavi"
      },
      "source": [
        "sample_array = ['a', 'b', 'c', 'd', 'e', 'f']"
      ],
      "execution_count": null,
      "outputs": []
    },
    {
      "cell_type": "code",
      "metadata": {
        "id": "qhgeGAcwUh_l"
      },
      "source": [
        "print(sample_array)"
      ],
      "execution_count": null,
      "outputs": []
    },
    {
      "cell_type": "code",
      "metadata": {
        "id": "f6bYTzwnhq-q"
      },
      "source": [
        "sample_array2 = []\r\n",
        "sample_array2.append('a')\r\n",
        "sample_array2.append('b')\r\n",
        "sample_array2.append('c')\r\n",
        "sample_array2.append('d')\r\n",
        "sample_array2.append('e')\r\n",
        "sample_array2.append('f')"
      ],
      "execution_count": null,
      "outputs": []
    },
    {
      "cell_type": "code",
      "metadata": {
        "id": "F2HHu6bwi2FR"
      },
      "source": [
        "print(sample_array2)"
      ],
      "execution_count": null,
      "outputs": []
    },
    {
      "cell_type": "code",
      "metadata": {
        "id": "riG70CmNitKf"
      },
      "source": [
        "len(sample_array2)"
      ],
      "execution_count": null,
      "outputs": []
    },
    {
      "cell_type": "code",
      "metadata": {
        "id": "gpdJ4mg-jB4G"
      },
      "source": [
        "sample_array2.sort(reverse=True)"
      ],
      "execution_count": null,
      "outputs": []
    },
    {
      "cell_type": "code",
      "metadata": {
        "id": "Rkp5jk5ti5eH"
      },
      "source": [
        "print(sample_array2)"
      ],
      "execution_count": null,
      "outputs": []
    },
    {
      "cell_type": "markdown",
      "metadata": {
        "id": "5s7VhXYsbuOm"
      },
      "source": [
        "### 배열의 색인"
      ]
    },
    {
      "cell_type": "code",
      "metadata": {
        "id": "KMXhBVZhbotI"
      },
      "source": [
        "# [0:3] : 0 <= 색인 < 3\r\n",
        "print(sample_array[0:3])\r\n",
        "# [3:] : 3<= 색인 <= 끝\r\n",
        "print(sample_array[3:])\r\n",
        "# [:3] : 시작 <= 색인 < 3\r\n",
        "print(sample_array[:3])"
      ],
      "execution_count": null,
      "outputs": []
    },
    {
      "cell_type": "markdown",
      "metadata": {
        "id": "oHzgTOl3gJ1h"
      },
      "source": [
        "### 배열 정보"
      ]
    },
    {
      "cell_type": "code",
      "metadata": {
        "id": "eCgs1DzwcunS"
      },
      "source": [
        "# 형변환(type cast)\r\n",
        "# 문자열과 다른 유형의 변수의 연산은 다른 유형의 변수를 문자열로 변경한다.\r\n",
        "array_length = len(sample_array)\r\n",
        "array_type = type(sample_array)\r\n",
        "\r\n",
        "# 배열의 길이\r\n",
        "print('length : ' + str(array_length))\r\n",
        "# 변수의 타입\r\n",
        "print('type: ' + str(array_type))\r\n",
        "\r\n",
        "print('type: ' + str(type(command_string)))"
      ],
      "execution_count": null,
      "outputs": []
    },
    {
      "cell_type": "markdown",
      "metadata": {
        "id": "orvFfDvn7KaH"
      },
      "source": [
        "### range(start,end)\r\n",
        "start, end까지 값을 가지는 range\r\n",
        "\r\n",
        "list(range(start,end)) 값을 통해서 array값을 생성"
      ]
    },
    {
      "cell_type": "code",
      "metadata": {
        "id": "Waj0pDcHY-83"
      },
      "source": [
        "simple_array = list(range(0,20))"
      ],
      "execution_count": null,
      "outputs": []
    },
    {
      "cell_type": "code",
      "metadata": {
        "id": "i71TO1t4-7_h"
      },
      "source": [
        "print(simple_array)"
      ],
      "execution_count": null,
      "outputs": []
    },
    {
      "cell_type": "markdown",
      "metadata": {
        "id": "cSS2c2iL8H8A"
      },
      "source": [
        "### numpy\r\n",
        "대부분의 python 데이터는 numpy 데이터로 처리된다."
      ]
    },
    {
      "cell_type": "code",
      "metadata": {
        "id": "DXOAOmDly8uu"
      },
      "source": [
        "!pip3 install numpy"
      ],
      "execution_count": null,
      "outputs": []
    },
    {
      "cell_type": "code",
      "metadata": {
        "id": "evMYZsN56yQQ"
      },
      "source": [
        "# np 라는 이름으로 사용한다(관례)\r\n",
        "import numpy as np"
      ],
      "execution_count": null,
      "outputs": []
    },
    {
      "cell_type": "code",
      "metadata": {
        "id": "zATNZPYMBmcF"
      },
      "source": [
        "np_array = np.array(simple_array)"
      ],
      "execution_count": null,
      "outputs": []
    },
    {
      "cell_type": "code",
      "metadata": {
        "id": "IlyrJRiH-1hC"
      },
      "source": [
        "np_array"
      ],
      "execution_count": null,
      "outputs": []
    },
    {
      "cell_type": "code",
      "metadata": {
        "id": "W49gpvBK68b5"
      },
      "source": [
        "print(type(np_array))"
      ],
      "execution_count": null,
      "outputs": []
    },
    {
      "cell_type": "markdown",
      "metadata": {
        "id": "MrVl6z6uAks1"
      },
      "source": [
        "- 차원 변경\r\n",
        "  - reshape(n,m) : row n, column m의 차원으로 변경\r\n",
        "  - reshape(-1, m) : column m 차원으로 row를 자동으로 변경\r\n",
        "  - reshape(-1,) : 1차원 으로 변경"
      ]
    },
    {
      "cell_type": "code",
      "metadata": {
        "id": "MzDKCZ8Z8t5p"
      },
      "source": [
        "np_4_5 = np_array.reshape(4,5)"
      ],
      "execution_count": null,
      "outputs": []
    },
    {
      "cell_type": "code",
      "metadata": {
        "id": "lGxmJsDp_dJh"
      },
      "source": [
        "np_4_5"
      ],
      "execution_count": null,
      "outputs": []
    },
    {
      "cell_type": "code",
      "metadata": {
        "id": "ltdoMbUd_nJk"
      },
      "source": [
        "np_1_20 = np_4_5.reshape(1, 20)"
      ],
      "execution_count": null,
      "outputs": []
    },
    {
      "cell_type": "code",
      "metadata": {
        "id": "WD3o-W7U_sgJ"
      },
      "source": [
        "np_1_20"
      ],
      "execution_count": null,
      "outputs": []
    },
    {
      "cell_type": "code",
      "metadata": {
        "id": "_44u7MCJ_3ei"
      },
      "source": [
        "np_1 = np_1_20.reshape(-1,)"
      ],
      "execution_count": null,
      "outputs": []
    },
    {
      "cell_type": "code",
      "metadata": {
        "id": "z3T3sy28AbJh"
      },
      "source": [
        "np_1"
      ],
      "execution_count": null,
      "outputs": []
    },
    {
      "cell_type": "markdown",
      "metadata": {
        "id": "DxvIeWS1KGsU"
      },
      "source": [
        "- numpy 연산"
      ]
    },
    {
      "cell_type": "code",
      "metadata": {
        "id": "y7ugaPszKHQ8"
      },
      "source": [
        "x = np.array(range(1,4))"
      ],
      "execution_count": null,
      "outputs": []
    },
    {
      "cell_type": "code",
      "metadata": {
        "id": "J1-Whq_jbyut"
      },
      "source": [
        "x"
      ],
      "execution_count": null,
      "outputs": []
    },
    {
      "cell_type": "code",
      "metadata": {
        "id": "ufw01WF0KOph"
      },
      "source": [
        "y = np.array(range(5,8))"
      ],
      "execution_count": null,
      "outputs": []
    },
    {
      "cell_type": "code",
      "metadata": {
        "id": "ejulZ9jYb0Ks"
      },
      "source": [
        "y"
      ],
      "execution_count": null,
      "outputs": []
    },
    {
      "cell_type": "code",
      "metadata": {
        "id": "lKcksU1dKTPA"
      },
      "source": [
        "x+y"
      ],
      "execution_count": null,
      "outputs": []
    },
    {
      "cell_type": "code",
      "metadata": {
        "id": "3M7GYa_iKY81"
      },
      "source": [
        "x*y"
      ],
      "execution_count": null,
      "outputs": []
    },
    {
      "cell_type": "code",
      "metadata": {
        "id": "aRnGFw-DKceM"
      },
      "source": [
        "x*2*y"
      ],
      "execution_count": null,
      "outputs": []
    },
    {
      "cell_type": "markdown",
      "metadata": {
        "id": "UwdTcRhjBP9S"
      },
      "source": [
        "### pandas\r\n",
        "데이터 분석 및 조회를 쉽게 사용 하는 라이브러리, \r\n",
        "표 형태로 이용한다\r\n",
        "- Series : 1차원\r\n",
        "- DataFrame : 2차원\r\n",
        "- Panel : 3차원"
      ]
    },
    {
      "cell_type": "code",
      "metadata": {
        "id": "Wc_BNJ47VPY0"
      },
      "source": [
        "!pip3 install pandas"
      ],
      "execution_count": null,
      "outputs": []
    },
    {
      "cell_type": "code",
      "metadata": {
        "id": "-Z3luou3AceT"
      },
      "source": [
        "# pd라는 이름으로 사용한다(관례상)\r\n",
        "import pandas as pd"
      ],
      "execution_count": null,
      "outputs": []
    },
    {
      "cell_type": "markdown",
      "metadata": {
        "id": "oeoy_qNbHNua"
      },
      "source": [
        "- series"
      ]
    },
    {
      "cell_type": "code",
      "metadata": {
        "id": "h14zErzYBeEJ"
      },
      "source": [
        "sr = pd.Series(['A', 'B+', 'A+', 'B'],\r\n",
        "       index=[\"과목1\", \"과목2\", \"과목3\", \"과목4\"])"
      ],
      "execution_count": null,
      "outputs": []
    },
    {
      "cell_type": "code",
      "metadata": {
        "id": "I3K4IFrRVYIl"
      },
      "source": [
        "print(sr)"
      ],
      "execution_count": null,
      "outputs": []
    },
    {
      "cell_type": "code",
      "metadata": {
        "id": "AoM7YD8jG-eJ"
      },
      "source": [
        "sr_values = sr.values"
      ],
      "execution_count": null,
      "outputs": []
    },
    {
      "cell_type": "code",
      "metadata": {
        "id": "1yhWUEqHVaeD"
      },
      "source": [
        "print(sr_values)"
      ],
      "execution_count": null,
      "outputs": []
    },
    {
      "cell_type": "code",
      "metadata": {
        "id": "hVkzJE5JHE7b"
      },
      "source": [
        "type(sr_values)"
      ],
      "execution_count": null,
      "outputs": []
    },
    {
      "cell_type": "code",
      "metadata": {
        "id": "qBIJ5LT8HIED"
      },
      "source": [
        "sr_index = sr.index"
      ],
      "execution_count": null,
      "outputs": []
    },
    {
      "cell_type": "code",
      "metadata": {
        "id": "P6ykYeH2Vdav"
      },
      "source": [
        "print(sr_index)"
      ],
      "execution_count": null,
      "outputs": []
    },
    {
      "cell_type": "code",
      "metadata": {
        "id": "Zzry5-PiHJf0"
      },
      "source": [
        "sr1 = pd.Series(sr_values, index=sr_index)"
      ],
      "execution_count": null,
      "outputs": []
    },
    {
      "cell_type": "code",
      "metadata": {
        "id": "m4kAzk2WVfbh"
      },
      "source": [
        "print(sr1)"
      ],
      "execution_count": null,
      "outputs": []
    },
    {
      "cell_type": "markdown",
      "metadata": {
        "id": "vaGoSOKoH93Y"
      },
      "source": [
        "- dataframe"
      ]
    },
    {
      "cell_type": "code",
      "metadata": {
        "id": "gspsYHNDHxpy"
      },
      "source": [
        "import pandas as pd\r\n",
        "data = [\r\n",
        "    ['1', 'a', 90.72], \r\n",
        "    ['2', 'b', 78.09], \r\n",
        "    ['3', 'c', 98.43], \r\n",
        "    ['4', 'd', 64.19], \r\n",
        "    ['5', 'e', 81.30],\r\n",
        "    ['6', 'f', 99.14],\r\n",
        "]\r\n",
        "df = pd.DataFrame(data)\r\n",
        "df"
      ],
      "execution_count": null,
      "outputs": []
    },
    {
      "cell_type": "code",
      "metadata": {
        "id": "inZUM_RZI4bs"
      },
      "source": [
        "df = pd.DataFrame(data, columns=['학번', '이름', '점수'])"
      ],
      "execution_count": null,
      "outputs": []
    },
    {
      "cell_type": "code",
      "metadata": {
        "id": "h-tjoJdXVp4m"
      },
      "source": [
        "df"
      ],
      "execution_count": null,
      "outputs": []
    },
    {
      "cell_type": "code",
      "metadata": {
        "id": "t14N2ZjOI_Br"
      },
      "source": [
        "df.head(3)"
      ],
      "execution_count": null,
      "outputs": []
    },
    {
      "cell_type": "code",
      "metadata": {
        "id": "bHVQk8i1JHHN"
      },
      "source": [
        "df.tail(3)"
      ],
      "execution_count": null,
      "outputs": []
    },
    {
      "cell_type": "code",
      "metadata": {
        "id": "hJZIBBMXJNUC"
      },
      "source": [
        "df['이름']"
      ],
      "execution_count": null,
      "outputs": []
    },
    {
      "cell_type": "markdown",
      "metadata": {
        "id": "f89bagO1JZmx"
      },
      "source": [
        "- 외부 데이터 읽기"
      ]
    },
    {
      "cell_type": "code",
      "metadata": {
        "id": "rVqRf2A2JS0I"
      },
      "source": [
        "df=pd.read_json('sample_data/anscombe.json')"
      ],
      "execution_count": null,
      "outputs": []
    },
    {
      "cell_type": "code",
      "metadata": {
        "id": "HIQeR1J8VtvL"
      },
      "source": [
        "df"
      ],
      "execution_count": null,
      "outputs": []
    },
    {
      "cell_type": "code",
      "metadata": {
        "id": "XmjTWkUwJhJe"
      },
      "source": [
        "df1 = pd.read_csv('sample_data/california_housing_train.csv')"
      ],
      "execution_count": null,
      "outputs": []
    },
    {
      "cell_type": "code",
      "metadata": {
        "id": "aVEyQBnsVu-e"
      },
      "source": [
        "df1"
      ],
      "execution_count": null,
      "outputs": []
    },
    {
      "cell_type": "markdown",
      "metadata": {
        "id": "J9UuwJZWVyvG"
      },
      "source": [
        "- 조건 검색"
      ]
    },
    {
      "cell_type": "code",
      "metadata": {
        "id": "nSbVa9yqJj-q"
      },
      "source": [
        "df1.loc[df1['median_house_value'] > 100000 ]"
      ],
      "execution_count": null,
      "outputs": []
    },
    {
      "cell_type": "code",
      "metadata": {
        "id": "j3qnKEN-MASe"
      },
      "source": [
        "df1.loc[(df1['median_house_value'] > 100000) & (df1['housing_median_age'] < 20.0) ]"
      ],
      "execution_count": null,
      "outputs": []
    },
    {
      "cell_type": "markdown",
      "metadata": {
        "id": "KEPtqgp1gqy-"
      },
      "source": [
        "## Tuple\r\n",
        "- `(val1, val2)`\r\n",
        "- list와 다른점 : 값을 변경할 수 없다.\r\n"
      ]
    },
    {
      "cell_type": "code",
      "metadata": {
        "id": "UIn91EVfMLXD"
      },
      "source": [
        "|sample_tuple = ()\r\n",
        "sample_tuple = 1,2,3\r\n",
        "print(sample_tuple)"
      ],
      "execution_count": null,
      "outputs": []
    },
    {
      "cell_type": "markdown",
      "metadata": {
        "id": "tiDS2HKjx0kE"
      },
      "source": [
        "### packing, unpacking\r\n",
        "- packing\r\n",
        "  - `sample_tuple = 1,2,3`\r\n",
        "- unpacking\r\n",
        "  - `result_1, result_2, result_3 = sample_tuple`"
      ]
    },
    {
      "cell_type": "code",
      "metadata": {
        "id": "aRN7AnIcxuvE"
      },
      "source": [
        "result_1, result_2, result_3 = sample_tuple"
      ],
      "execution_count": null,
      "outputs": []
    },
    {
      "cell_type": "code",
      "metadata": {
        "id": "0FiOH4JbyI12"
      },
      "source": [
        "result_1, result_2, result_3 "
      ],
      "execution_count": null,
      "outputs": []
    },
    {
      "cell_type": "markdown",
      "metadata": {
        "id": "P9RYhd6myQ-d"
      },
      "source": [
        "## dictionary\r\n",
        "- `sample_dic = {key1:value1, key2:value2, ...}`\r\n",
        "- `value1 = sample_dic['key1']`\r\n",
        "- `sample_dic['key9']=value9`\r\n",
        "- `del sample_dic['key9']`"
      ]
    },
    {
      "cell_type": "code",
      "metadata": {
        "id": "Nv7QnGJbyOPq"
      },
      "source": [
        "sample_dic = {1:'a', 2:'b', 3:'c'}"
      ],
      "execution_count": null,
      "outputs": []
    },
    {
      "cell_type": "code",
      "metadata": {
        "id": "0-OMeuvSyiYJ"
      },
      "source": [
        "print(sample_dic)"
      ],
      "execution_count": null,
      "outputs": []
    },
    {
      "cell_type": "code",
      "metadata": {
        "id": "-2ASco9JyjxV"
      },
      "source": [
        "print(sample_dic[1])"
      ],
      "execution_count": null,
      "outputs": []
    },
    {
      "cell_type": "code",
      "metadata": {
        "id": "pAEz_bvazGXC"
      },
      "source": [
        "sample_dic[9] = 'z'"
      ],
      "execution_count": null,
      "outputs": []
    },
    {
      "cell_type": "code",
      "metadata": {
        "id": "66ozyBQAzNgg"
      },
      "source": [
        "print(sample_dic)"
      ],
      "execution_count": null,
      "outputs": []
    },
    {
      "cell_type": "code",
      "metadata": {
        "id": "NW-YZCD5zJT2"
      },
      "source": [
        "del sample_dic[9]"
      ],
      "execution_count": null,
      "outputs": []
    },
    {
      "cell_type": "code",
      "metadata": {
        "id": "sjdnHMM4zKuO"
      },
      "source": [
        "print(sample_dic)"
      ],
      "execution_count": null,
      "outputs": []
    },
    {
      "cell_type": "markdown",
      "metadata": {
        "id": "Nkmq4lH1zYqT"
      },
      "source": [
        "###  function\r\n",
        "  - `sample_dic.values()`\r\n",
        "  - `sample_dic.keys()`\r\n",
        "  - `sample_dic.items()`\r\n",
        "  - `sample_dic.get(1)`\r\n",
        "  - `3 in sample_dic`\r\n",
        "  - `9 in sample_dic`"
      ]
    },
    {
      "cell_type": "code",
      "metadata": {
        "id": "8AtrYQGpzLW4"
      },
      "source": [
        "sample_dic.values()"
      ],
      "execution_count": null,
      "outputs": []
    },
    {
      "cell_type": "code",
      "metadata": {
        "id": "sOq4AF0wz4WJ"
      },
      "source": [
        "sample_dic.keys()"
      ],
      "execution_count": null,
      "outputs": []
    },
    {
      "cell_type": "code",
      "metadata": {
        "id": "-nuUuqzEz55N"
      },
      "source": [
        "sample_dic.items()"
      ],
      "execution_count": null,
      "outputs": []
    },
    {
      "cell_type": "code",
      "metadata": {
        "id": "6G5z3UQ3z6-M"
      },
      "source": [
        "sample_dic.get(1)"
      ],
      "execution_count": null,
      "outputs": []
    },
    {
      "cell_type": "code",
      "metadata": {
        "id": "I2yWvROWz8Hc"
      },
      "source": [
        "3 in sample_dic"
      ],
      "execution_count": null,
      "outputs": []
    },
    {
      "cell_type": "code",
      "metadata": {
        "id": "-xEZk9f90JmU"
      },
      "source": [
        "9 in sample_dic"
      ],
      "execution_count": null,
      "outputs": []
    },
    {
      "cell_type": "markdown",
      "metadata": {
        "id": "PHsRzTIW1J6L"
      },
      "source": [
        "## 제어문"
      ]
    },
    {
      "cell_type": "markdown",
      "metadata": {
        "id": "iYObheqA0eT7"
      },
      "source": [
        "### if문\r\n",
        "``` \r\n",
        "if(condition) :\r\n",
        "    print(condition)\r\n",
        "else :\r\n",
        "    print(condition)\r\n",
        "```"
      ]
    },
    {
      "cell_type": "code",
      "metadata": {
        "id": "GO6vckcp0MJm"
      },
      "source": [
        "if 3 in sample_dic:\r\n",
        "    print('3 in the sample_dic')\r\n",
        "else:\r\n",
        "    print('3 not in the sample_dic')"
      ],
      "execution_count": null,
      "outputs": []
    },
    {
      "cell_type": "markdown",
      "metadata": {
        "id": "kB0wH2C84WNa"
      },
      "source": [
        "### while\r\n",
        "```\r\n",
        "condition = True\r\n",
        "index = 0\r\n",
        "while condition:\r\n",
        "    print(index)\r\n",
        "    index += 1\r\n",
        "    if index == 5:\r\n",
        "        condition = True\r\n",
        "```"
      ]
    },
    {
      "cell_type": "code",
      "metadata": {
        "id": "nPQ_RTXG08Om"
      },
      "source": [
        "condition = True\r\n",
        "index = 0\r\n",
        "while condition:\r\n",
        "    print(index)\r\n",
        "    index += 1\r\n",
        "    if index == 5:\r\n",
        "        condition = False\r\n"
      ],
      "execution_count": null,
      "outputs": []
    },
    {
      "cell_type": "markdown",
      "metadata": {
        "id": "MgTc6fkl46wn"
      },
      "source": [
        "### for\r\n",
        "```\r\n",
        "sample_list = [1,2,3,4,5,6,7,8,9]\r\n",
        "for i in sample_list:\r\n",
        "    print(i)  \r\n",
        "```"
      ]
    },
    {
      "cell_type": "code",
      "metadata": {
        "id": "y0UsmKeZ1Fth"
      },
      "source": [
        "sample_list = [1,2,3,4,5,6,7,8,9]\r\n",
        "for i in sample_list:\r\n",
        "    print(i)"
      ],
      "execution_count": null,
      "outputs": []
    },
    {
      "cell_type": "markdown",
      "metadata": {
        "id": "yPyGXbhO6T-2"
      },
      "source": [
        "```\r\n",
        "sample_tuple_list = [(1,2), (3,4), (5,6), (7,8), (9, 10)]\r\n",
        "for (i,j) in sample_tuple_list:\r\n",
        "    print(i, j)\r\n",
        "```"
      ]
    },
    {
      "cell_type": "code",
      "metadata": {
        "id": "GT8dY9fy5KGm"
      },
      "source": [
        "sample_tuple_list = [(1,2), (3,4), (5,6), (7,8), (9, 10)]\r\n",
        "for (i,j) in sample_tuple_list:\r\n",
        "    print(i, j)"
      ],
      "execution_count": null,
      "outputs": []
    },
    {
      "cell_type": "markdown",
      "metadata": {
        "id": "hc_aEWVy6Yl9"
      },
      "source": [
        "\r\n",
        "```\r\n",
        "for i in range(2,19):\r\n",
        "    for j in range(2, 19):\r\n",
        "          print(\"2d*2d=4d\" % (i, j, i*j) \r\n",
        "    \r\n",
        "```"
      ]
    },
    {
      "cell_type": "code",
      "metadata": {
        "id": "Gh_VuIil6Kcb"
      },
      "source": [
        "for i in range(2,19):\r\n",
        "    for j in range(2, 19):\r\n",
        "          print(\"%2d*%2d=%4d\" %  (i, j, i*j ) )"
      ],
      "execution_count": null,
      "outputs": []
    },
    {
      "cell_type": "markdown",
      "metadata": {
        "id": "ekeZYuzB18c6"
      },
      "source": [
        "# 실습"
      ]
    },
    {
      "cell_type": "markdown",
      "metadata": {
        "id": "_ezwTs6Z1-L8"
      },
      "source": [
        "- 명령구문아래에 동일한 코드 paragraph를 추가하여 실행해봅니다"
      ]
    },
    {
      "cell_type": "code",
      "metadata": {
        "id": "eFLVrlBM19YG"
      },
      "source": [
        ""
      ],
      "execution_count": null,
      "outputs": []
    }
  ]
}