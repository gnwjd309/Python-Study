{
  "nbformat": 4,
  "nbformat_minor": 0,
  "metadata": {
    "colab": {
      "name": "lab3-4.Pose_Estimation.ipynb",
      "provenance": [],
      "toc_visible": true
    },
    "kernelspec": {
      "name": "python3",
      "display_name": "Python 3"
    }
  },
  "cells": [
    {
      "cell_type": "markdown",
      "metadata": {
        "id": "4friXccs91UA"
      },
      "source": [
        "# 3-4. Pose Estimation"
      ]
    },
    {
      "cell_type": "code",
      "metadata": {
        "id": "VW0DBYY4zBrj"
      },
      "source": [
        "!pip3 install --upgrade mxnet-cu101 > /dev/null\r\n",
        "!pip3 install --upgrade gluoncv > /dev/null"
      ],
      "execution_count": null,
      "outputs": []
    },
    {
      "cell_type": "code",
      "metadata": {
        "id": "LTl82Mo8zKTt"
      },
      "source": [
        "!pip3 install --upgrade youtube-dl"
      ],
      "execution_count": null,
      "outputs": []
    },
    {
      "cell_type": "code",
      "metadata": {
        "id": "dX7mv13RzM0C"
      },
      "source": [
        "def get_youtube_video(youtube_url):\r\n",
        "  import youtube_dl\r\n",
        "\r\n",
        "  ydl_opts = {  \r\n",
        "    # 'format': 'mp4' \r\n",
        "    'format': 'best[height<=480][ext=mp4]' \r\n",
        "    } \r\n",
        "  with youtube_dl.YoutubeDL(ydl_opts) as ydl: \r\n",
        "      info_dict = ydl.extract_info(youtube_url, download=True)      \r\n",
        "      # filename = '{}.{}'.format(info_dict['title'], info_dict['ext']) #ydl.prepare_filename(info_dict)\r\n",
        "      filename = ydl.prepare_filename(info_dict)\r\n",
        "  return filename"
      ],
      "execution_count": null,
      "outputs": []
    },
    {
      "cell_type": "markdown",
      "metadata": {
        "id": "wVRO9XlrbjVz"
      },
      "source": [
        "## 댄스 영상에서 pose 추출"
      ]
    },
    {
      "cell_type": "code",
      "metadata": {
        "id": "oRinoTpSzRGY"
      },
      "source": [
        "kkang = get_youtube_video('https://www.youtube.com/watch?v=ZdrUWlG2ZQE')\r\n",
        "print(kkang)"
      ],
      "execution_count": null,
      "outputs": []
    },
    {
      "cell_type": "markdown",
      "metadata": {
        "id": "Ah10RRrxsNmq"
      },
      "source": [
        "### 영상 이미지로 저장"
      ]
    },
    {
      "cell_type": "code",
      "metadata": {
        "id": "2L96mW8jzTWa"
      },
      "source": [
        "def read_video(filename, output_path, start_ms = 0, end_ms = None, step=1):\r\n",
        "  from tqdm.notebook import tqdm\r\n",
        "  import os \r\n",
        "  from gluoncv.utils.filesystem import try_import_cv2\r\n",
        "  cv2 = try_import_cv2()\r\n",
        "  # video_frames = [] \r\n",
        "\r\n",
        "  if not os.path.exists(output_path):\r\n",
        "        os.makedirs(output_path)\r\n",
        "\r\n",
        "  cap = cv2.VideoCapture(filename)\r\n",
        "\r\n",
        "  cap.set(cv2.CAP_PROP_POS_MSEC, start_ms);\r\n",
        "\r\n",
        "  width = int(cap.get(cv2.CAP_PROP_FRAME_WIDTH))\r\n",
        "  height = int(cap.get(cv2.CAP_PROP_FRAME_HEIGHT))\r\n",
        "  frame_count = int(cap.get(cv2.CAP_PROP_FRAME_COUNT))\r\n",
        "  fps = cap.get(cv2.CAP_PROP_FPS)\r\n",
        "  total_ms = frame_count * fps * 1000\r\n",
        "  print('Frame width:', width)\r\n",
        "  print('Frame height:', height)\r\n",
        "  print('Frame count:', frame_count)\r\n",
        "  print('FPS:', fps)\r\n",
        "  print('total sec:', int(total_ms/1000))\r\n",
        "\r\n",
        "  capture_count = 0\r\n",
        "  \r\n",
        "  if end_ms != None:\r\n",
        "    time_gap_sec = (end_ms - start_ms)/1000\r\n",
        "    pbar_count = round(time_gap_sec*fps)\r\n",
        "  else:\r\n",
        "    pbar_count = round(frame_count)\r\n",
        "\r\n",
        "  with tqdm(total=pbar_count) as pbar:\r\n",
        "    while cap.isOpened():\r\n",
        "        ret, img = cap.read()\r\n",
        "        if not ret:\r\n",
        "            cap.release()\r\n",
        "            break \r\n",
        "        frame_no = int(cap.get(cv2.CAP_PROP_POS_FRAMES))\r\n",
        "        frame_msec = int(cap.get(cv2.CAP_PROP_POS_MSEC))\r\n",
        "\r\n",
        "        # print('{}. msec:{}, endmsec:{}'.format(frame_no, frame_msec, end_ms)) \r\n",
        "        if end_ms != None and frame_msec >= end_ms:\r\n",
        "            break\r\n",
        "\r\n",
        "        # print('{}. msec:{}'.format(frame_no, frame_msec)) \r\n",
        "\r\n",
        "        # video_frames.append(img)\r\n",
        "        cv2.imwrite(os.path.join(output_path, '%04d.jpg'%(frame_no)), img)\r\n",
        "        capture_count += 1\r\n",
        "        pbar.update(step)\r\n",
        "        if step > 1:\r\n",
        "            cap.set(cv2.CAP_PROP_POS_FRAMES, frame_no + (step-1));\r\n",
        "  \r\n",
        "  print('capture_count:', capture_count)\r\n",
        "\r\n",
        "  return width, height, fps, frame_count"
      ],
      "execution_count": null,
      "outputs": []
    },
    {
      "cell_type": "code",
      "metadata": {
        "id": "SLEmukdYs3fD"
      },
      "source": [
        "# !rm -rf kkang*"
      ],
      "execution_count": null,
      "outputs": []
    },
    {
      "cell_type": "code",
      "metadata": {
        "id": "3FhRT06azXws"
      },
      "source": [
        "width, height, fps, frame_count = read_video(kkang, './kkang')"
      ],
      "execution_count": null,
      "outputs": []
    },
    {
      "cell_type": "markdown",
      "metadata": {
        "id": "sCgZwNvWqHAY"
      },
      "source": [
        "### 압축(다운로드 및 확인용도)"
      ]
    },
    {
      "cell_type": "code",
      "metadata": {
        "id": "26OJXVdhrh6T"
      },
      "source": [
        "def compress_folder(input_path):\r\n",
        "  from zipfile import ZipFile\r\n",
        "  import os\r\n",
        "  from os.path import basename\r\n",
        "  from tqdm.notebook import tqdm\r\n",
        "\r\n",
        "  # create a ZipFile object\r\n",
        "  with ZipFile('{}.zip'.format(input_path), 'w') as zipObj:\r\n",
        "    # Iterate over all the files in directory\r\n",
        "    for folderName, subfolders, filenames in os.walk(input_path):\r\n",
        "        for filename in tqdm(filenames):\r\n",
        "            #create complete filepath of file in directory\r\n",
        "            filePath = os.path.join(folderName, filename)\r\n",
        "            # Add file to zip\r\n",
        "            zipObj.write(filePath, basename(filePath))"
      ],
      "execution_count": null,
      "outputs": []
    },
    {
      "cell_type": "code",
      "metadata": {
        "id": "u4CI6rAPr0Hk"
      },
      "source": [
        "compress_folder('./kkang')"
      ],
      "execution_count": null,
      "outputs": []
    },
    {
      "cell_type": "markdown",
      "metadata": {
        "id": "ay4xaiiGr_on"
      },
      "source": [
        "### 영상 구간 이미지로 저장\r\n",
        "\r\n"
      ]
    },
    {
      "cell_type": "code",
      "metadata": {
        "id": "EV0u71sGr-Q_"
      },
      "source": [
        "def read_video_by_frame(filename, output_path, start_frame = 1, end_frame = None, step=1):\r\n",
        "  from tqdm.notebook import tqdm\r\n",
        "  import os \r\n",
        "  from gluoncv.utils.filesystem import try_import_cv2\r\n",
        "  cv2 = try_import_cv2()\r\n",
        "  # video_frames = [] \r\n",
        "\r\n",
        "  if not os.path.exists(output_path):\r\n",
        "        os.makedirs(output_path)\r\n",
        "\r\n",
        "  cap = cv2.VideoCapture(filename)\r\n",
        " \r\n",
        "  cap.set(cv2.CAP_PROP_POS_FRAMES, start_frame);\r\n",
        "\r\n",
        "  width = int(cap.get(cv2.CAP_PROP_FRAME_WIDTH))\r\n",
        "  height = int(cap.get(cv2.CAP_PROP_FRAME_HEIGHT))\r\n",
        "  frame_count = int(cap.get(cv2.CAP_PROP_FRAME_COUNT))\r\n",
        "  fps = cap.get(cv2.CAP_PROP_FPS)\r\n",
        "  print('Frame width:', width)\r\n",
        "  print('Frame height:', height)\r\n",
        "  print('Frame count:', frame_count)\r\n",
        "  print('FPS:', fps)\r\n",
        "\r\n",
        "  capture_count = 0\r\n",
        "\r\n",
        "  if end_frame != None:\r\n",
        "    pbar_count = end_frame - start_frame\r\n",
        "  else:\r\n",
        "    pbar_count = frame_count\r\n",
        "  \r\n",
        "  with tqdm(total=pbar_count) as pbar:\r\n",
        "    while cap.isOpened():\r\n",
        "        ret, img = cap.read()\r\n",
        "        if not ret:\r\n",
        "            cap.release()\r\n",
        "            break \r\n",
        "        frame_no = int(cap.get(cv2.CAP_PROP_POS_FRAMES))\r\n",
        "        frame_msec = int(cap.get(cv2.CAP_PROP_POS_MSEC))\r\n",
        "\r\n",
        "        # print('{}. msec:{}, end_frame:{}'.format(frame_no, frame_msec, end_frame)) \r\n",
        "        if end_frame != None and frame_no > end_frame:\r\n",
        "            break\r\n",
        "\r\n",
        "        # print('{}. msec:{}'.format(frame_no, frame_msec)) \r\n",
        "\r\n",
        "        # video_frames.append(img)\r\n",
        "        cv2.imwrite(os.path.join(output_path, '%04d.jpg'%(frame_no)), img)\r\n",
        "        capture_count += 1\r\n",
        "        pbar.update(step)\r\n",
        "        if step > 1:\r\n",
        "            cap.set(cv2.CAP_PROP_POS_FRAMES, frame_no + (step-1));\r\n",
        "  \r\n",
        "  print('capture_count:', capture_count)\r\n",
        "\r\n",
        "  return width, height, fps, frame_count"
      ],
      "execution_count": null,
      "outputs": []
    },
    {
      "cell_type": "markdown",
      "metadata": {
        "id": "aQ4MVvmMs8pb"
      },
      "source": [
        "### 구간별 이미지 생성"
      ]
    },
    {
      "cell_type": "code",
      "metadata": {
        "id": "mywt66VCs7sr"
      },
      "source": [
        "width, height, fps, frame_count = read_video_by_frame(kkang, './kkang_1', 1, 1200, 1)"
      ],
      "execution_count": null,
      "outputs": []
    },
    {
      "cell_type": "code",
      "metadata": {
        "id": "u7j-ku18tncj"
      },
      "source": [
        "width, height, fps, frame_count = read_video_by_frame(kkang, './kkang_2', 1201, 2400, 1)"
      ],
      "execution_count": null,
      "outputs": []
    },
    {
      "cell_type": "code",
      "metadata": {
        "id": "8RwgRCQLt1nS"
      },
      "source": [
        "width, height, fps, frame_count = read_video_by_frame(kkang, './kkang_3', 2401, 3600, 1)"
      ],
      "execution_count": null,
      "outputs": []
    },
    {
      "cell_type": "code",
      "metadata": {
        "id": "tExSPc8BuCqd"
      },
      "source": [
        "width, height, fps, frame_count = read_video_by_frame(kkang, './kkang_4', 3601, 4601, 1)"
      ],
      "execution_count": null,
      "outputs": []
    },
    {
      "cell_type": "markdown",
      "metadata": {
        "id": "u7c9higsuRTy"
      },
      "source": [
        "### image -> video"
      ]
    },
    {
      "cell_type": "code",
      "metadata": {
        "id": "Xx2APc73uTkZ"
      },
      "source": [
        "def make_video_file(input_path, output_path, output_filename, width, height, fps, step=1): \r\n",
        "  import os   \r\n",
        "  from gluoncv.utils.filesystem import try_import_cv2\r\n",
        "  from tqdm.notebook import tqdm \r\n",
        "  cv2 = try_import_cv2()\r\n",
        "\r\n",
        "  #  output path check\r\n",
        "  if not os.path.exists(output_path):\r\n",
        "          os.makedirs(output_path) \r\n",
        "\r\n",
        "  # image list\r\n",
        "  file_list = os.listdir(input_path)\r\n",
        "  file_list.sort()\r\n",
        "\r\n",
        "  # output video codec\r\n",
        "  fourcc = cv2.VideoWriter_fourcc(*'FMP4')\r\n",
        "\r\n",
        "  out = cv2.VideoWriter('{}/{}'.format(output_path, output_filename), fourcc, fps/step, (width, height))\r\n",
        "  for filename in tqdm(file_list):\r\n",
        "  # for filename in tqdm(file_list, desc='{}'.format(output_filename)):\r\n",
        "    im_file = '{}/{}'.format(input_path,filename)\r\n",
        "    img = cv2.imread(im_file)\r\n",
        "    out.write(img) \r\n",
        "  out.release()"
      ],
      "execution_count": null,
      "outputs": []
    },
    {
      "cell_type": "code",
      "metadata": {
        "id": "44rIbsvvuVJt"
      },
      "source": [
        "make_video_file('kkang_1', 'kkang_split', 'kkang_1.mp4', 640, 360, 25.0, 1)\r\n",
        "make_video_file('kkang_2', 'kkang_split', 'kkang_2.mp4', 640, 360, 25.0, 1)\r\n",
        "make_video_file('kkang_3', 'kkang_split', 'kkang_3.mp4', 640, 360, 25.0, 1)\r\n",
        "make_video_file('kkang_4', 'kkang_split', 'kkang_4.mp4', 640, 360, 25.0, 1)"
      ],
      "execution_count": null,
      "outputs": []
    },
    {
      "cell_type": "code",
      "metadata": {
        "id": "KqE-5ytozh0M"
      },
      "source": [
        "import time\r\n",
        "from gluoncv import model_zoo, data, utils"
      ],
      "execution_count": null,
      "outputs": []
    },
    {
      "cell_type": "code",
      "metadata": {
        "id": "-5830EcbVxKM"
      },
      "source": [
        "from matplotlib import pyplot as plt\r\n",
        "from gluoncv import model_zoo, data, utils\r\n",
        "from gluoncv.data.transforms.pose import detector_to_simple_pose, heatmap_to_coord, detector_to_alpha_pose"
      ],
      "execution_count": null,
      "outputs": []
    },
    {
      "cell_type": "code",
      "metadata": {
        "id": "xFKjmPUtzjv7"
      },
      "source": [
        "detector = model_zoo.get_model('yolo3_mobilenet1.0_coco', pretrained=True) \r\n",
        "pose_net = model_zoo.get_model('simple_pose_resnet18_v1b', pretrained=True) \r\n",
        "# pose_net = model_zoo.get_model('alpha_pose_resnet101_v1b_coco', pretrained=True) \r\n",
        "\r\n",
        "# Note that we can reset the classes of the detector to only include\r\n",
        "# human, so that the NMS process is faster.\r\n",
        "\r\n",
        "detector.reset_class([\"person\"], reuse_weights=['person'])"
      ],
      "execution_count": null,
      "outputs": []
    },
    {
      "cell_type": "code",
      "metadata": {
        "id": "XOnpAfogzoFO"
      },
      "source": [
        "def display_detection(detector, pose_net, im_fname): \r\n",
        "  from gluoncv.data.transforms.pose import detector_to_alpha_pose, heatmap_to_coord\r\n",
        "  # image pre processing(위의 display_ssd와 이미지 전처리 부분이 다릅니다)\r\n",
        "  x, img = data.transforms.presets.yolo.load_test(im_fname)\r\n",
        "  # print('Shape of pre-processed image:', x.shape)\r\n",
        "\r\n",
        "  # inference\r\n",
        "  class_IDs, scores, bounding_boxs = detector(x)\r\n",
        "\r\n",
        "  # Process tensor from detector to keypoint network \r\n",
        "  pose_input, upscale_bbox = detector_to_simple_pose(img, class_IDs, scores, bounding_boxs)\r\n",
        "  # pose_input, upscale_bbox = detector_to_alpha_pose(img, class_IDs, scores, bounding_boxs)\r\n",
        "\r\n",
        "  # Predict with a Simple Pose network\r\n",
        "  predicted_heatmap = pose_net(pose_input)\r\n",
        "  pred_coords, confidence = heatmap_to_coord(predicted_heatmap, upscale_bbox)\r\n",
        "\r\n",
        "  # display\r\n",
        "  img = utils.viz.cv_plot_keypoints(img, pred_coords, confidence, class_IDs, bounding_boxs, scores, box_thresh=0.5, keypoint_thresh=0.2)\r\n",
        " \r\n",
        "  return img"
      ],
      "execution_count": null,
      "outputs": []
    },
    {
      "cell_type": "code",
      "metadata": {
        "id": "1DCdlcFUktW3"
      },
      "source": [
        "# !rm -rf kkang_pose"
      ],
      "execution_count": null,
      "outputs": []
    },
    {
      "cell_type": "code",
      "metadata": {
        "id": "2krsEdCRzqNE"
      },
      "source": [
        "output_path = './kkang_pose'\r\n",
        "import os \r\n",
        "if not os.path.exists(output_path):\r\n",
        "        os.makedirs(output_path)"
      ],
      "execution_count": null,
      "outputs": []
    },
    {
      "cell_type": "code",
      "metadata": {
        "id": "7Xp1DFJdzrsj"
      },
      "source": [
        "from gluoncv.utils.filesystem import try_import_cv2\r\n",
        "cv2 = try_import_cv2()\r\n",
        "fourcc = cv2.VideoWriter_fourcc(*'FMP4')"
      ],
      "execution_count": null,
      "outputs": []
    },
    {
      "cell_type": "code",
      "metadata": {
        "id": "IabW5hFUztXy"
      },
      "source": [
        "file_list = os.listdir('kkang_1')\r\n",
        "file_list.sort()"
      ],
      "execution_count": null,
      "outputs": []
    },
    {
      "cell_type": "code",
      "metadata": {
        "id": "xo52U-7wTSxJ"
      },
      "source": [
        "width=640\r\n",
        "height=360\r\n",
        "fps=25.0"
      ],
      "execution_count": null,
      "outputs": []
    },
    {
      "cell_type": "code",
      "metadata": {
        "id": "-qBEBgQmzu-g"
      },
      "source": [
        "from tqdm.notebook import tqdm\r\n",
        "\r\n",
        "out = cv2.VideoWriter('{}/kkang_1_pose.mp4'.format(output_path), fourcc, fps, (width, height))\r\n",
        "\r\n",
        "for filename in tqdm(file_list):\r\n",
        "  try:\r\n",
        "    filename = '{}/{}'.format('kkang_1',filename)\r\n",
        "    # print(filename)\r\n",
        "    img = display_detection(detector, pose_net, filename)\r\n",
        "    frame = cv2.resize(img, dsize=(width, height), interpolation=cv2.INTER_AREA)\r\n",
        "    frame = cv2.cvtColor(frame, cv2.COLOR_BGR2RGB)\r\n",
        "    out.write(frame) \r\n",
        "  except Exception as ex:\r\n",
        "    pass\r\n",
        "out.release()"
      ],
      "execution_count": null,
      "outputs": []
    },
    {
      "cell_type": "code",
      "metadata": {
        "id": "oT4RapEAKzuv"
      },
      "source": [
        "def get_pose_video(detector, pose_net, image_path, output_path, output_filename, width, height, fps, step=3): \r\n",
        "  from tqdm.notebook import tqdm\r\n",
        "  import os \r\n",
        "  if not os.path.exists(output_path):\r\n",
        "          os.makedirs(output_path)\r\n",
        "\r\n",
        "  from gluoncv.utils.filesystem import try_import_cv2\r\n",
        "  cv2 = try_import_cv2()\r\n",
        "  fourcc = cv2.VideoWriter_fourcc(*'FMP4')\r\n",
        "\r\n",
        "  file_list = os.listdir(image_path)\r\n",
        "  file_list.sort()\r\n",
        "\r\n",
        "  out = cv2.VideoWriter('{}/{}'.format(output_path, output_filename), fourcc, fps/step, (width, height))\r\n",
        "  index = 0 # image id(for skip)\r\n",
        "  for filename in tqdm(file_list):\r\n",
        "    # step 값으로 이미지 skip\r\n",
        "    if (index % step) != 0: \r\n",
        "      index += 1\r\n",
        "      continue\r\n",
        "    try:\r\n",
        "      filename = '{}/{}'.format(image_path,filename)\r\n",
        "      # print(filename)\r\n",
        "      img = display_detection(detector, pose_net, filename)\r\n",
        "      frame = cv2.resize(img, dsize=(width, height), interpolation=cv2.INTER_AREA)\r\n",
        "      frame = cv2.cvtColor(frame, cv2.COLOR_BGR2RGB)\r\n",
        "      out.write(frame) \r\n",
        "    except Exception as ex:\r\n",
        "      pass\r\n",
        "    index += 1 # image id(for skip)\r\n",
        "  out.release()"
      ],
      "execution_count": null,
      "outputs": []
    },
    {
      "cell_type": "markdown",
      "metadata": {
        "id": "41etFRpA1yXA"
      },
      "source": [
        "### 박스 걷어내기 \r\n"
      ]
    },
    {
      "cell_type": "markdown",
      "metadata": {
        "id": "YyCQeyqt10ly"
      },
      "source": [
        "gluoncv util 코드를 수정 후 런타임 다시시작한다\r\n",
        "\r\n",
        "keypoints.py 파일의\r\n",
        "cv_plot_keypoints 함수에서  \r\n",
        "cv_plot_bbox 함수를 수행하는 부분을 주석처리한다\r\n",
        "(130~131 line)"
      ]
    },
    {
      "cell_type": "code",
      "metadata": {
        "id": "CsC0Fxse13LC"
      },
      "source": [
        "# img = utils.viz.cv_plot_keypoints(img, pred_coords, confidence, class_IDs, bounding_boxs, scores, box_thresh=0.5, keypoint_thresh=0.2)"
      ],
      "execution_count": null,
      "outputs": []
    },
    {
      "cell_type": "code",
      "metadata": {
        "id": "HTRqku6OwECD"
      },
      "source": [
        "width=640\r\n",
        "height=360\r\n",
        "fps=25.0"
      ],
      "execution_count": null,
      "outputs": []
    },
    {
      "cell_type": "markdown",
      "metadata": {
        "id": "AglCN1sAkNRw"
      },
      "source": [
        "### pose estimation"
      ]
    },
    {
      "cell_type": "code",
      "metadata": {
        "id": "RegkOLzQ7st9"
      },
      "source": [
        "get_pose_video(detector, pose_net, 'kkang_1', 'kkang_pose', 'kkang_1_pose.mp4', width, height,fps, 3)"
      ],
      "execution_count": null,
      "outputs": []
    },
    {
      "cell_type": "code",
      "metadata": {
        "id": "6gpISbDDMb4J"
      },
      "source": [
        "get_pose_video(detector, pose_net, 'kkang_2', 'kkang_pose', 'kkang_2_pose.mp4', width, height,fps, 3)"
      ],
      "execution_count": null,
      "outputs": []
    },
    {
      "cell_type": "code",
      "metadata": {
        "id": "GEVIMZcmM3lQ"
      },
      "source": [
        "get_pose_video(detector, pose_net, 'kkang_3', 'kkang_pose', 'kkang_3_pose.mp4', width, height,fps, 3)"
      ],
      "execution_count": null,
      "outputs": []
    },
    {
      "cell_type": "code",
      "metadata": {
        "id": "xb4rhn2Qwq_8"
      },
      "source": [
        "get_pose_video(detector, pose_net, 'kkang_4', 'kkang_pose', 'kkang_4_pose.mp4', width, height,fps, 3)"
      ],
      "execution_count": null,
      "outputs": []
    },
    {
      "cell_type": "markdown",
      "metadata": {
        "id": "_jprdCnnbMoH"
      },
      "source": [
        "## golf swing 에서 pose 추출"
      ]
    },
    {
      "cell_type": "markdown",
      "metadata": {
        "id": "1SQQq7Mfb03k"
      },
      "source": [
        "#### 1. 영상 다운로드"
      ]
    },
    {
      "cell_type": "code",
      "metadata": {
        "id": "i508B69HbREH"
      },
      "source": [
        "swing = get_youtube_video('https://www.youtube.com/watch?v=ik85VFcig3o')\r\n",
        "print(swing)"
      ],
      "execution_count": null,
      "outputs": []
    },
    {
      "cell_type": "markdown",
      "metadata": {
        "id": "XocNwcrXb4Kr"
      },
      "source": [
        "#### 2. 이미지 저장"
      ]
    },
    {
      "cell_type": "code",
      "metadata": {
        "id": "0sgceVIYftnU"
      },
      "source": [
        "# !rm -rf swing*"
      ],
      "execution_count": null,
      "outputs": []
    },
    {
      "cell_type": "code",
      "metadata": {
        "id": "8whKtvKlbu9M"
      },
      "source": [
        "width, height, fps, frame_count = read_video(swing, './swing')"
      ],
      "execution_count": null,
      "outputs": []
    },
    {
      "cell_type": "markdown",
      "metadata": {
        "id": "jr8UQammb6vn"
      },
      "source": [
        "#### 3. 압축(다운로드 및 확인용도)"
      ]
    },
    {
      "cell_type": "code",
      "metadata": {
        "id": "2mLbqQNTb9_4"
      },
      "source": [
        "compress_folder('./swing')"
      ],
      "execution_count": null,
      "outputs": []
    },
    {
      "cell_type": "markdown",
      "metadata": {
        "id": "_29hxyBdjPSp"
      },
      "source": [
        "#### 4. 영상 구간 이미지로 저장"
      ]
    },
    {
      "cell_type": "code",
      "metadata": {
        "id": "99RGaL3GjSgf"
      },
      "source": [
        "width, height, fps, frame_count = read_video_by_frame(swing, './swing_1', 442, 872, 1)"
      ],
      "execution_count": null,
      "outputs": []
    },
    {
      "cell_type": "code",
      "metadata": {
        "id": "eziN-28Hjcd7"
      },
      "source": [
        "width, height, fps, frame_count = read_video_by_frame(swing, './swing_2', 889, 1111, 1)"
      ],
      "execution_count": null,
      "outputs": []
    },
    {
      "cell_type": "markdown",
      "metadata": {
        "id": "B-Xm-sm8jhK8"
      },
      "source": [
        "#### 5. 구간 별 영상 생성(optional)"
      ]
    },
    {
      "cell_type": "code",
      "metadata": {
        "id": "3nCCNI3Ojpz8"
      },
      "source": [
        "make_video_file('swing_1', 'swing_split', 'swing_1.mp4', 640, 360, 30.0, 1)"
      ],
      "execution_count": null,
      "outputs": []
    },
    {
      "cell_type": "code",
      "metadata": {
        "id": "2JzFSbM9jtCS"
      },
      "source": [
        "make_video_file('swing_2', 'swing_split', 'swing_2.mp4', 640, 360, 30.0, 1)"
      ],
      "execution_count": null,
      "outputs": []
    },
    {
      "cell_type": "markdown",
      "metadata": {
        "id": "aqhuvfwmkTke"
      },
      "source": [
        "#### 6. pose estimation"
      ]
    },
    {
      "cell_type": "code",
      "metadata": {
        "id": "2UUEcSOMkfk8"
      },
      "source": [
        "width=640\r\n",
        "height=360\r\n",
        "fps=30.0"
      ],
      "execution_count": null,
      "outputs": []
    },
    {
      "cell_type": "code",
      "metadata": {
        "id": "-llePddnkV6V"
      },
      "source": [
        "get_pose_video(detector, pose_net, 'swing_1', 'swing_pose', 'swing_1_pose.mp4', width, height,fps, 3)"
      ],
      "execution_count": null,
      "outputs": []
    },
    {
      "cell_type": "code",
      "metadata": {
        "id": "PE3eXmxCkWpA"
      },
      "source": [
        "get_pose_video(detector, pose_net, 'swing_2', 'swing_pose', 'swing_2_pose.mp4', width, height,fps, 3)"
      ],
      "execution_count": null,
      "outputs": []
    },
    {
      "cell_type": "markdown",
      "metadata": {
        "id": "R2iuilrW-AZO"
      },
      "source": [
        "# 실습"
      ]
    },
    {
      "cell_type": "markdown",
      "metadata": {
        "id": "aEhtb7Ey-Okc"
      },
      "source": [
        "## 1. 디스코 영상을 이용하여 구간별 영상을 만든다"
      ]
    },
    {
      "cell_type": "code",
      "metadata": {
        "id": "jgogipt3-BmF"
      },
      "source": [
        "disco = get_youtube_video('https://www.youtube.com/watch?v=Xpaw_SezTTo')\r\n",
        "print(disco)"
      ],
      "execution_count": null,
      "outputs": []
    },
    {
      "cell_type": "markdown",
      "metadata": {
        "id": "HqHEE9Hv-XoZ"
      },
      "source": [
        "## 2. 디스코 구간별 영상에서 pose를 추출한다."
      ]
    },
    {
      "cell_type": "code",
      "metadata": {
        "id": "QKqoorIQ-NXl"
      },
      "source": [
        ""
      ],
      "execution_count": null,
      "outputs": []
    }
  ]
}