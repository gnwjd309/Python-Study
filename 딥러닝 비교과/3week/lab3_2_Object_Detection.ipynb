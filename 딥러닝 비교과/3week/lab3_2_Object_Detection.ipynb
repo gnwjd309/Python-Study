{
  "nbformat": 4,
  "nbformat_minor": 0,
  "metadata": {
    "colab": {
      "name": "lab3-2.Object_Detection.ipynb",
      "provenance": [],
      "toc_visible": true
    },
    "kernelspec": {
      "name": "python3",
      "display_name": "Python 3"
    }
  },
  "cells": [
    {
      "cell_type": "markdown",
      "metadata": {
        "id": "9SKs6Pk9TUwc"
      },
      "source": [
        "# 3-2 Object Detection"
      ]
    },
    {
      "cell_type": "markdown",
      "metadata": {
        "id": "7FaGWByZ16Av"
      },
      "source": [
        "## DataSet"
      ]
    },
    {
      "cell_type": "markdown",
      "metadata": {
        "id": "CiKaDtfA18AS"
      },
      "source": [
        "### 1. [ADE20K Dataset](http://sceneparsing.csail.mit.edu/)\r\n",
        "- 실내/실외 랜드마크(사물) 이미지\r\n",
        "\r\n",
        "<img src='https://scontent-gmp1-1.xx.fbcdn.net/v/t31.0-8/19477579_338837089885626_5759019649209493861_o.jpg?_nc_cat=107&ccb=2&_nc_sid=8bfeb9&_nc_ohc=TUcVBgjq15cAX8fd-DD&_nc_ht=scontent-gmp1-1.xx&oh=30d7400648ee385253cfc906e0194db3&oe=60303FD1'>"
      ]
    },
    {
      "cell_type": "markdown",
      "metadata": {
        "id": "fD0ZPDM83uSL"
      },
      "source": [
        "### 2. [MS-COCO Dataset](https://cocodataset.org/#home)\r\n",
        "- 일상 생활\r\n",
        "\r\n",
        "<img src='https://cocodataset.org/images/coco-examples.jpg' width=100%>  "
      ]
    },
    {
      "cell_type": "markdown",
      "metadata": {
        "id": "sJseHOTK5Km7"
      },
      "source": [
        "### 3. [PASCAL VOC(Visual Object Classes) Dataset](http://host.robots.ox.ac.uk/pascal/VOC/)\r\n",
        "- 객체 인식을 위한 표준화된 이미지 데이터셋"
      ]
    },
    {
      "cell_type": "markdown",
      "metadata": {
        "id": "77gc4pcH5Xox"
      },
      "source": [
        "### 4. [Cityspaces Dataset](https://www.cityscapes-dataset.com/dataset-overview/)\r\n",
        "- 도시거리 장면 분석을 위한 데이터셋\r\n",
        "\r\n",
        "<img src='https://www.cityscapes-dataset.com/wordpress/wp-content/uploads/2015/07/muenster00.png'>"
      ]
    },
    {
      "cell_type": "markdown",
      "metadata": {
        "id": "bLgn6Iyf7hKB"
      },
      "source": [
        "### 5. [MHP(Multi Human Parsing) Dataset](https://lv-mhp.github.io/)\r\n",
        "- 사람들\r\n",
        "\r\n",
        "<img src='https://lv-mhp.github.io/static/images/2.png'>"
      ]
    },
    {
      "cell_type": "markdown",
      "metadata": {
        "id": "AOCtGHqoAkea"
      },
      "source": [
        "## Object Detect"
      ]
    },
    {
      "cell_type": "code",
      "metadata": {
        "id": "MdYhkbeUS7Uk"
      },
      "source": [
        "!pip3 install --upgrade mxnet > /dev/null\r\n",
        "!pip3 install --upgrade gluoncv > /dev/null"
      ],
      "execution_count": null,
      "outputs": []
    },
    {
      "cell_type": "code",
      "metadata": {
        "id": "UT8X7JW5T6Xo"
      },
      "source": [
        "!pip3 install --upgrade youtube-dl > /dev/null"
      ],
      "execution_count": null,
      "outputs": []
    },
    {
      "cell_type": "code",
      "metadata": {
        "id": "Ht_rBo4cT9tc"
      },
      "source": [
        "def get_youtube_video(youtube_url):\r\n",
        "  import youtube_dl\r\n",
        "\r\n",
        "  ydl_opts = {  \r\n",
        "    # 'format': 'mp4' \r\n",
        "    'format': 'best[height<=480][ext=mp4]' \r\n",
        "    } \r\n",
        "  with youtube_dl.YoutubeDL(ydl_opts) as ydl: \r\n",
        "      info_dict = ydl.extract_info(youtube_url, download=True)    \r\n",
        "      filename = ydl.prepare_filename(info_dict)\r\n",
        "  return filename"
      ],
      "execution_count": null,
      "outputs": []
    },
    {
      "cell_type": "code",
      "metadata": {
        "id": "YQ1qwXTVaVOv"
      },
      "source": [
        "son = get_youtube_video('https://www.youtube.com/watch?v=C-CefuZ6h1k&feature=emb_err_woyt')\r\n",
        "print(son)"
      ],
      "execution_count": null,
      "outputs": []
    },
    {
      "cell_type": "code",
      "metadata": {
        "id": "lnNikEFfU80x"
      },
      "source": [
        "def read_video(filename, output_path, start_ms = 0, end_ms = None, step=1):\r\n",
        "  from tqdm.notebook import tqdm\r\n",
        "  import os \r\n",
        "  from gluoncv.utils.filesystem import try_import_cv2\r\n",
        "  cv2 = try_import_cv2()\r\n",
        "  # video_frames = [] \r\n",
        "\r\n",
        "  if not os.path.exists(output_path):\r\n",
        "        os.makedirs(output_path)\r\n",
        "\r\n",
        "  cap = cv2.VideoCapture(filename)\r\n",
        "\r\n",
        "  cap.set(cv2.CAP_PROP_POS_MSEC, start_ms);\r\n",
        "\r\n",
        "  width = int(cap.get(cv2.CAP_PROP_FRAME_WIDTH))\r\n",
        "  height = int(cap.get(cv2.CAP_PROP_FRAME_HEIGHT))\r\n",
        "  frame_count = int(cap.get(cv2.CAP_PROP_FRAME_COUNT))\r\n",
        "  fps = cap.get(cv2.CAP_PROP_FPS)\r\n",
        "  total_ms = frame_count * fps * 1000\r\n",
        "  print('Frame width:', width)\r\n",
        "  print('Frame height:', height)\r\n",
        "  print('Frame count:', frame_count)\r\n",
        "  print('FPS:', fps)\r\n",
        "  print('total sec:', int(total_ms/1000))\r\n",
        "\r\n",
        "  capture_count = 0\r\n",
        "  \r\n",
        "  if end_ms != None:\r\n",
        "    time_gap_sec = (end_ms - start_ms)/1000\r\n",
        "    pbar_count = round(time_gap_sec*fps)\r\n",
        "  else:\r\n",
        "    pbar_count = round(frame_count)\r\n",
        "\r\n",
        "  with tqdm(total=pbar_count) as pbar:\r\n",
        "    while cap.isOpened():\r\n",
        "        ret, img = cap.read()\r\n",
        "        if not ret:\r\n",
        "            cap.release()\r\n",
        "            break \r\n",
        "        frame_no = int(cap.get(cv2.CAP_PROP_POS_FRAMES))\r\n",
        "        frame_msec = int(cap.get(cv2.CAP_PROP_POS_MSEC))\r\n",
        "\r\n",
        "        # print('{}. msec:{}, endmsec:{}'.format(frame_no, frame_msec, end_ms)) \r\n",
        "        if end_ms != None and frame_msec >= end_ms:\r\n",
        "            break\r\n",
        "\r\n",
        "        # print('{}. msec:{}'.format(frame_no, frame_msec)) \r\n",
        "\r\n",
        "        # video_frames.append(img)\r\n",
        "        cv2.imwrite(os.path.join(output_path, '%05d.jpg'%(frame_no)), img)\r\n",
        "        capture_count += 1\r\n",
        "        pbar.update(step)\r\n",
        "        if step > 1:\r\n",
        "            cap.set(cv2.CAP_PROP_POS_FRAMES, frame_no + (step-1));\r\n",
        "  \r\n",
        "  print('capture_count:', capture_count)\r\n",
        "\r\n",
        "  return width, height, fps, frame_count"
      ],
      "execution_count": null,
      "outputs": []
    },
    {
      "cell_type": "code",
      "metadata": {
        "id": "-9djOx7vY-q9"
      },
      "source": [
        "# !rm -rf europe_street_img"
      ],
      "execution_count": null,
      "outputs": []
    },
    {
      "cell_type": "code",
      "metadata": {
        "id": "PrNWWW77VDwN"
      },
      "source": [
        "step=1"
      ],
      "execution_count": null,
      "outputs": []
    },
    {
      "cell_type": "code",
      "metadata": {
        "id": "lnuZTzEUVIeX"
      },
      "source": [
        "width, height, fps, frame_count = read_video(son, './son_img')"
      ],
      "execution_count": null,
      "outputs": []
    },
    {
      "cell_type": "markdown",
      "metadata": {
        "id": "5JN7ShZKKHG-"
      },
      "source": [
        "### folder 압축"
      ]
    },
    {
      "cell_type": "code",
      "metadata": {
        "id": "W8fqezvGJXBx"
      },
      "source": [
        "from zipfile import ZipFile\r\n",
        "import os\r\n",
        "from os.path import basename"
      ],
      "execution_count": null,
      "outputs": []
    },
    {
      "cell_type": "code",
      "metadata": {
        "id": "V8WyqjCaJnpM"
      },
      "source": [
        "# create a ZipFile object\r\n",
        "with ZipFile('son.zip', 'w') as zipObj:\r\n",
        "   # Iterate over all the files in directory\r\n",
        "   for folderName, subfolders, filenames in os.walk('./son_img'):\r\n",
        "       for filename in filenames:\r\n",
        "           #create complete filepath of file in directory\r\n",
        "           filePath = os.path.join(folderName, filename)\r\n",
        "           # Add file to zip\r\n",
        "           zipObj.write(filePath, basename(filePath))"
      ],
      "execution_count": null,
      "outputs": []
    },
    {
      "cell_type": "markdown",
      "metadata": {
        "id": "rJBtE26BMkdw"
      },
      "source": [
        "### 영상 분석\r\n",
        "- 반복영상을 구간별로 분리"
      ]
    },
    {
      "cell_type": "code",
      "metadata": {
        "id": "MjKK6ne8O7zL"
      },
      "source": [
        "def read_video_by_frame(filename, output_path, start_frame = 1, end_frame = None, step=1):\r\n",
        "  from tqdm.notebook import tqdm\r\n",
        "  import os \r\n",
        "  from gluoncv.utils.filesystem import try_import_cv2\r\n",
        "  cv2 = try_import_cv2()\r\n",
        "  # video_frames = [] \r\n",
        "\r\n",
        "  if not os.path.exists(output_path):\r\n",
        "        os.makedirs(output_path)\r\n",
        "\r\n",
        "  cap = cv2.VideoCapture(filename)\r\n",
        " \r\n",
        "  cap.set(cv2.CAP_PROP_POS_FRAMES, start_frame);\r\n",
        "\r\n",
        "  width = int(cap.get(cv2.CAP_PROP_FRAME_WIDTH))\r\n",
        "  height = int(cap.get(cv2.CAP_PROP_FRAME_HEIGHT))\r\n",
        "  frame_count = int(cap.get(cv2.CAP_PROP_FRAME_COUNT))\r\n",
        "  fps = cap.get(cv2.CAP_PROP_FPS)\r\n",
        "  print('Frame width:', width)\r\n",
        "  print('Frame height:', height)\r\n",
        "  print('Frame count:', frame_count)\r\n",
        "  print('FPS:', fps)\r\n",
        "\r\n",
        "  capture_count = 0\r\n",
        "\r\n",
        "  if end_frame != None:\r\n",
        "    pbar_count = end_frame - start_frame\r\n",
        "  else:\r\n",
        "    pbar_count = frame_count\r\n",
        "  \r\n",
        "  with tqdm(total=pbar_count) as pbar:\r\n",
        "    while cap.isOpened():\r\n",
        "        ret, img = cap.read()\r\n",
        "        if not ret:\r\n",
        "            cap.release()\r\n",
        "            break \r\n",
        "        frame_no = int(cap.get(cv2.CAP_PROP_POS_FRAMES))\r\n",
        "        frame_msec = int(cap.get(cv2.CAP_PROP_POS_MSEC))\r\n",
        "\r\n",
        "        # print('{}. msec:{}, end_frame:{}'.format(frame_no, frame_msec, end_frame)) \r\n",
        "        if end_frame != None and frame_no > end_frame:\r\n",
        "            break\r\n",
        "\r\n",
        "        # print('{}. msec:{}'.format(frame_no, frame_msec)) \r\n",
        "\r\n",
        "        # video_frames.append(img)\r\n",
        "        cv2.imwrite(os.path.join(output_path, '%04d.jpg'%(frame_no)), img)\r\n",
        "        capture_count += 1\r\n",
        "        pbar.update(step)\r\n",
        "        if step > 1:\r\n",
        "            cap.set(cv2.CAP_PROP_POS_FRAMES, frame_no + (step-1));\r\n",
        "  \r\n",
        "  print('capture_count:', capture_count)\r\n",
        "\r\n",
        "  return width, height, fps, frame_count"
      ],
      "execution_count": null,
      "outputs": []
    },
    {
      "cell_type": "code",
      "metadata": {
        "id": "DYjHVA0bPaUm"
      },
      "source": [
        "width, height, fps, frame_count = read_video_by_frame(son, './son_img_1', 1, 505, 1)\r\n",
        "width, height, fps, frame_count = read_video_by_frame(son, './son_img_2', 506, 942, 1)\r\n",
        "width, height, fps, frame_count = read_video_by_frame(son, './son_img_3', 943, 1380, 1)\r\n",
        "width, height, fps, frame_count = read_video_by_frame(son, './son_img_4', 1381, 1814, 1)\r\n",
        "width, height, fps, frame_count = read_video_by_frame(son, './son_img_5', 1815, 2272, 1)\r\n",
        "width, height, fps, frame_count = read_video_by_frame(son, './son_img_6', 2273, 2701, 1)\r\n",
        "width, height, fps, frame_count = read_video_by_frame(son, './son_img_7', 2702, 3202, 1)\r\n",
        "width, height, fps, frame_count = read_video_by_frame(son, './son_img_8', 3203, 3640, 1)\r\n",
        "width, height, fps, frame_count = read_video_by_frame(son, './son_img_9', 3641, 4004, 1)\r\n",
        "width, height, fps, frame_count = read_video_by_frame(son, './son_img_10', 4005, 5009, 1)"
      ],
      "execution_count": null,
      "outputs": []
    },
    {
      "cell_type": "markdown",
      "metadata": {
        "id": "3xLxOXIpTPXO"
      },
      "source": [
        "### video 저장하기"
      ]
    },
    {
      "cell_type": "code",
      "metadata": {
        "id": "g4gcD0wNTRXG"
      },
      "source": [
        "output_path = './son_split'\r\n",
        "import os \r\n",
        "if not os.path.exists(output_path):\r\n",
        "        os.makedirs(output_path)"
      ],
      "execution_count": null,
      "outputs": []
    },
    {
      "cell_type": "code",
      "metadata": {
        "id": "XrZpxdPoTfY3"
      },
      "source": [
        "from gluoncv.utils.filesystem import try_import_cv2\r\n",
        "cv2 = try_import_cv2()\r\n",
        "fourcc = cv2.VideoWriter_fourcc(*'FMP4')"
      ],
      "execution_count": null,
      "outputs": []
    },
    {
      "cell_type": "code",
      "metadata": {
        "id": "7PcdUzj-Ti2t"
      },
      "source": [
        "width=1280\r\n",
        "height=720\r\n",
        "fps=25.0\r\n",
        "step=1"
      ],
      "execution_count": null,
      "outputs": []
    },
    {
      "cell_type": "code",
      "metadata": {
        "id": "13kT3vDUT4V7"
      },
      "source": [
        "input_path='son_img_1'\r\n",
        "file_list = os.listdir(input_path)\r\n",
        "file_list.sort()"
      ],
      "execution_count": null,
      "outputs": []
    },
    {
      "cell_type": "code",
      "metadata": {
        "id": "O0khB1rDZ4mE"
      },
      "source": [
        "from tqdm.notebook import tqdm "
      ],
      "execution_count": null,
      "outputs": []
    },
    {
      "cell_type": "code",
      "metadata": {
        "id": "3MJouMy3Tqi4"
      },
      "source": [
        "out = cv2.VideoWriter('{}/son_1.mp4'.format(output_path), fourcc, fps/step, (width, height))\r\n",
        "for filename in file_list:\r\n",
        "# for filename in tqdm(file_list):\r\n",
        "  im_file = '{}/{}'.format(input_path,filename)\r\n",
        "  print(im_file)\r\n",
        "  img = cv2.imread(im_file)\r\n",
        "  out.write(img) \r\n",
        "out.release()"
      ],
      "execution_count": null,
      "outputs": []
    },
    {
      "cell_type": "code",
      "metadata": {
        "id": "7RIrb0_JbvC8"
      },
      "source": [
        "def make_video_file(input_path, output_path, output_filename, width, height, fps, step=1): \r\n",
        "  import os   \r\n",
        "  from gluoncv.utils.filesystem import try_import_cv2\r\n",
        "  from tqdm.notebook import tqdm \r\n",
        "  cv2 = try_import_cv2()\r\n",
        "\r\n",
        "  #  output path check\r\n",
        "  if not os.path.exists(output_path):\r\n",
        "          os.makedirs(output_path) \r\n",
        "\r\n",
        "  # image list\r\n",
        "  file_list = os.listdir(input_path)\r\n",
        "  file_list.sort()\r\n",
        "\r\n",
        "  # output video codec\r\n",
        "  fourcc = cv2.VideoWriter_fourcc(*'FMP4')\r\n",
        "\r\n",
        "  out = cv2.VideoWriter('{}/{}'.format(output_path, output_filename), fourcc, fps/step, (width, height))\r\n",
        "  for filename in tqdm(file_list):\r\n",
        "  # for filename in tqdm(file_list, desc='{}'.format(output_filename)):\r\n",
        "    im_file = '{}/{}'.format(input_path,filename)\r\n",
        "    img = cv2.imread(im_file)\r\n",
        "    out.write(img) \r\n",
        "  out.release()"
      ],
      "execution_count": null,
      "outputs": []
    },
    {
      "cell_type": "code",
      "metadata": {
        "id": "ez51XoV1cfqi"
      },
      "source": [
        "make_video_file('son_img_2', 'son_split', 'son_2.mp4', 1280, 720, 25.0)"
      ],
      "execution_count": null,
      "outputs": []
    },
    {
      "cell_type": "code",
      "metadata": {
        "id": "BFONCARzctMA"
      },
      "source": [
        "make_video_file('son_img_3', 'son_split', 'son_3.mp4', 1280, 720, 25.0)\r\n",
        "make_video_file('son_img_4', 'son_split', 'son_4.mp4', 1280, 720, 25.0)\r\n",
        "make_video_file('son_img_5', 'son_split', 'son_5.mp4', 1280, 720, 25.0)\r\n",
        "make_video_file('son_img_6', 'son_split', 'son_6.mp4', 1280, 720, 25.0)\r\n",
        "make_video_file('son_img_7', 'son_split', 'son_7.mp4', 1280, 720, 25.0)\r\n",
        "make_video_file('son_img_8', 'son_split', 'son_8.mp4', 1280, 720, 25.0)\r\n",
        "make_video_file('son_img_9', 'son_split', 'son_9.mp4', 1280, 720, 25.0)\r\n",
        "make_video_file('son_img_10', 'son_split', 'son_10.mp4', 1280, 720, 25.0)"
      ],
      "execution_count": null,
      "outputs": []
    },
    {
      "cell_type": "code",
      "metadata": {
        "id": "rJhlS_yaF-78"
      },
      "source": [
        "import time\r\n",
        "from gluoncv import model_zoo, data, utils"
      ],
      "execution_count": null,
      "outputs": []
    },
    {
      "cell_type": "code",
      "metadata": {
        "id": "AO0h1lFYF4T8"
      },
      "source": [
        "  # model download from model_zoo\r\n",
        "  net = model_zoo.get_model('yolo3_darknet53_coco', pretrained=True)"
      ],
      "execution_count": null,
      "outputs": []
    },
    {
      "cell_type": "code",
      "metadata": {
        "id": "VR2rLyBsFth7"
      },
      "source": [
        "def display_detection(net, im_fname): \r\n",
        "  from gluoncv import data \r\n",
        "  x, img = data.transforms.presets.yolo.load_test(im_fname)\r\n",
        "  # print('Shape of pre-processed image:', x.shape)\r\n",
        "\r\n",
        "  # inference\r\n",
        "  class_IDs, scores, bounding_boxes = net(x)\r\n",
        "\r\n",
        "  # display\r\n",
        "  img = utils.viz.cv_plot_bbox(img, bounding_boxes[0], scores[0], class_IDs[0], class_names=net.classes)\r\n",
        " \r\n",
        "  # cv BGR -> RGB\r\n",
        "  img = cv2.cvtColor(img, cv2.COLOR_BGR2RGB)\r\n",
        "  return img"
      ],
      "execution_count": null,
      "outputs": []
    },
    {
      "cell_type": "code",
      "metadata": {
        "id": "cnNKILu3nR1C"
      },
      "source": [
        "!rm -rf son_detect"
      ],
      "execution_count": null,
      "outputs": []
    },
    {
      "cell_type": "code",
      "metadata": {
        "id": "lvAIMsJgJKpM"
      },
      "source": [
        "output_path = './son_detect'\r\n",
        "import os \r\n",
        "if not os.path.exists(output_path):\r\n",
        "        os.makedirs(output_path)"
      ],
      "execution_count": null,
      "outputs": []
    },
    {
      "cell_type": "code",
      "metadata": {
        "id": "JCpMbuqEJfw-"
      },
      "source": [
        "from gluoncv.utils.filesystem import try_import_cv2\r\n",
        "cv2 = try_import_cv2()\r\n",
        "fourcc = cv2.VideoWriter_fourcc(*'FMP4')"
      ],
      "execution_count": null,
      "outputs": []
    },
    {
      "cell_type": "code",
      "metadata": {
        "id": "DjJs7CZDLhTk"
      },
      "source": [
        "file_list = os.listdir('son_img_7')\r\n",
        "file_list.sort()"
      ],
      "execution_count": null,
      "outputs": []
    },
    {
      "cell_type": "code",
      "metadata": {
        "id": "lljLU3rKgI9v"
      },
      "source": [
        "width=1280\r\n",
        "height=720\r\n",
        "fps=25.0\r\n",
        "step=1"
      ],
      "execution_count": null,
      "outputs": []
    },
    {
      "cell_type": "code",
      "metadata": {
        "id": "h_TRUYqpgWSi"
      },
      "source": [
        "from tqdm.notebook import tqdm "
      ],
      "execution_count": null,
      "outputs": []
    },
    {
      "cell_type": "code",
      "metadata": {
        "id": "5Y79NLKxJEdo"
      },
      "source": [
        "out = cv2.VideoWriter('{}/son_7.mp4'.format(output_path), fourcc, fps/step, (width, height))\r\n",
        "# for filename in file_list:\r\n",
        "for filename in tqdm(file_list):\r\n",
        "  filename = '{}/{}'.format('son_img_7',filename)\r\n",
        "  # print(filename)\r\n",
        "  img = display_detection(net, filename)\r\n",
        "  frame = cv2.resize(img, dsize=(width, height), interpolation=cv2.INTER_AREA)\r\n",
        "  out.write(frame) \r\n",
        "out.release()"
      ],
      "execution_count": null,
      "outputs": []
    },
    {
      "cell_type": "markdown",
      "metadata": {
        "id": "LHXm8eQLqB2S"
      },
      "source": [
        "### object detect function"
      ]
    },
    {
      "cell_type": "code",
      "metadata": {
        "id": "8nx1N3vnUaj-"
      },
      "source": [
        "def get_detect_video(detector,image_path, output_path, output_filename, width, height, fps, step=1): \r\n",
        "  from tqdm.notebook import tqdm\r\n",
        "  import os \r\n",
        "  from gluoncv.utils.filesystem import try_import_cv2\r\n",
        "  cv2 = try_import_cv2()\r\n",
        "\r\n",
        "  if not os.path.exists(output_path):\r\n",
        "    os.makedirs(output_path) \r\n",
        "\r\n",
        "  file_list = os.listdir(image_path)\r\n",
        "  file_list.sort() \r\n",
        "  \r\n",
        "  fourcc = cv2.VideoWriter_fourcc(*'FMP4')\r\n",
        "\r\n",
        "  out = cv2.VideoWriter('{}/{}'.format(output_path, output_filename), fourcc, fps/step, (width, height))\r\n",
        " \r\n",
        "  index = 0 # image id(for skip)\r\n",
        "  for filename in tqdm(file_list):\r\n",
        "    # step 값으로 이미지 skip\r\n",
        "    if (index % step) != 0: \r\n",
        "      index += 1\r\n",
        "      continue\r\n",
        "    try:\r\n",
        "      im_file = '{}/{}'.format(image_path,filename)\r\n",
        "      img = display_detection(detector, im_file) \r\n",
        "      frame = cv2.resize(img, dsize=(width, height), interpolation=cv2.INTER_AREA)\r\n",
        "      out.write(frame) \r\n",
        "    except Exception as ex:\r\n",
        "      pass \r\n",
        "    index += 1 # image id(for skip)\r\n",
        "  out.release()"
      ],
      "execution_count": null,
      "outputs": []
    },
    {
      "cell_type": "code",
      "metadata": {
        "id": "i6JMXqN3WcKx"
      },
      "source": [
        "get_detect_video(net,'son_img_7', 'son_detect', 'son_7_skip5.mp4', 1280, 720, 25.0, step=5)"
      ],
      "execution_count": null,
      "outputs": []
    },
    {
      "cell_type": "markdown",
      "metadata": {
        "id": "O5c8jraYFSrO"
      },
      "source": [
        "## [Scene Detection](https://pyscenedetect.readthedocs.io/projects/Manual/en/latest/index.html)"
      ]
    },
    {
      "cell_type": "code",
      "metadata": {
        "id": "_F_s7GG7YFAQ"
      },
      "source": [
        "!pip3 install scenedetect"
      ],
      "execution_count": null,
      "outputs": []
    },
    {
      "cell_type": "code",
      "metadata": {
        "id": "mbfUoJT2B59Y"
      },
      "source": [
        "goldeneye = get_youtube_video('https://www.youtube.com/watch?v=OMgIPnCnlbQ')\r\n",
        "print(goldeneye)"
      ],
      "execution_count": null,
      "outputs": []
    },
    {
      "cell_type": "code",
      "metadata": {
        "id": "wjB0baPlAGGh"
      },
      "source": [
        "# Standard PySceneDetect imports:\r\n",
        "from scenedetect import VideoManager\r\n",
        "from scenedetect import SceneManager\r\n",
        "\r\n",
        "# For content-aware scene detection:\r\n",
        "from scenedetect.detectors import ContentDetector"
      ],
      "execution_count": null,
      "outputs": []
    },
    {
      "cell_type": "code",
      "metadata": {
        "id": "Vb9Bldm4VXzt"
      },
      "source": [
        "def find_scenes(video_path, threshold=30.0):\r\n",
        "  # Create our video & scene managers, then add the detector.\r\n",
        "  video_manager = VideoManager([video_path])\r\n",
        "  scene_manager = SceneManager()\r\n",
        "  scene_manager.add_detector(ContentDetector(threshold=threshold))\r\n",
        "\r\n",
        "  # Improve processing speed by downscaling before processing.\r\n",
        "  video_manager.set_downscale_factor()\r\n",
        "\r\n",
        "  # Start the video manager and perform the scene detection.\r\n",
        "  video_manager.start()\r\n",
        "  scene_manager.detect_scenes(frame_source=video_manager)\r\n",
        "\r\n",
        "  # Each returned scene is a tuple of the (start, end) timecode.\r\n",
        "  return scene_manager.get_scene_list()"
      ],
      "execution_count": null,
      "outputs": []
    },
    {
      "cell_type": "code",
      "metadata": {
        "id": "KmfLcSVxbmBP"
      },
      "source": [
        "scene_list = find_scenes(goldeneye)"
      ],
      "execution_count": null,
      "outputs": []
    },
    {
      "cell_type": "code",
      "metadata": {
        "id": "LqRdc0rc0XaO"
      },
      "source": [
        "# Frame width: 640\r\n",
        "# Frame height: 272\r\n",
        "# Frame count: 1980\r\n",
        "# FPS: 23.976023976023978"
      ],
      "execution_count": null,
      "outputs": []
    },
    {
      "cell_type": "code",
      "metadata": {
        "id": "Q6cucTQSoGBO"
      },
      "source": [
        "# !rm -rf goldeneye_img"
      ],
      "execution_count": null,
      "outputs": []
    },
    {
      "cell_type": "code",
      "metadata": {
        "id": "VdMDLLqUCcgJ"
      },
      "source": [
        "width, height, fps, frame_count = read_video(goldeneye, './goldeneye_img')"
      ],
      "execution_count": null,
      "outputs": []
    },
    {
      "cell_type": "code",
      "metadata": {
        "id": "Rr1QOxa_qBO4"
      },
      "source": [
        "# !rm -rf goldeneye_scene"
      ],
      "execution_count": null,
      "outputs": []
    },
    {
      "cell_type": "code",
      "metadata": {
        "id": "6iG2CQnR07oF"
      },
      "source": [
        "output_path = './goldeneye_scene'\r\n",
        "import os \r\n",
        "if not os.path.exists(output_path):\r\n",
        "        os.makedirs(output_path)"
      ],
      "execution_count": null,
      "outputs": []
    },
    {
      "cell_type": "code",
      "metadata": {
        "id": "K_8ugqdY1UFm"
      },
      "source": [
        "from gluoncv.utils.filesystem import try_import_cv2\r\n",
        "cv2 = try_import_cv2()\r\n",
        "fourcc = cv2.VideoWriter_fourcc(*'FMP4')"
      ],
      "execution_count": null,
      "outputs": []
    },
    {
      "cell_type": "code",
      "metadata": {
        "id": "_qruM4eNn7kp"
      },
      "source": [
        "def read_image(image_path, frame_no):\r\n",
        "  im_file = os.path.join(image_path, '%05d.jpg'%(frame_no+1))\r\n",
        "  img = cv2.imread(im_file)\r\n",
        "  return img"
      ],
      "execution_count": null,
      "outputs": []
    },
    {
      "cell_type": "code",
      "metadata": {
        "id": "anrpVK3_0RPv"
      },
      "source": [
        "for i, scene in  enumerate(scene_list ):  \r\n",
        "  output_filename =  output_path + '/%05d.mp4'%(scene[0].get_frames())\r\n",
        "  print(output_filename)\r\n",
        "  \r\n",
        "  out = cv2.VideoWriter(output_filename, fourcc, fps, (width, height))\r\n",
        "  for frame_idx in range( scene[0].get_frames(),  scene[1].get_frames()): \r\n",
        "    out.write(read_image('./goldeneye_img', frame_idx)) \r\n",
        "  out.release()"
      ],
      "execution_count": null,
      "outputs": []
    },
    {
      "cell_type": "code",
      "metadata": {
        "id": "z2Rlh2boqdOb"
      },
      "source": [
        "def compress_folder(input_path):\r\n",
        "  from zipfile import ZipFile\r\n",
        "  import os\r\n",
        "  from os.path import basename\r\n",
        "  from tqdm.notebook import tqdm\r\n",
        "\r\n",
        "  # create a ZipFile object\r\n",
        "  with ZipFile('{}.zip'.format(input_path), 'w') as zipObj:\r\n",
        "    # Iterate over all the files in directory\r\n",
        "    for folderName, subfolders, filenames in os.walk(input_path):\r\n",
        "        for filename in tqdm(filenames):\r\n",
        "            #create complete filepath of file in directory\r\n",
        "            filePath = os.path.join(folderName, filename)\r\n",
        "            # Add file to zip\r\n",
        "            zipObj.write(filePath, basename(filePath))"
      ],
      "execution_count": null,
      "outputs": []
    },
    {
      "cell_type": "code",
      "metadata": {
        "id": "yjMxNbwW8hZG"
      },
      "source": [
        "compress_folder('goldeneye_scene')"
      ],
      "execution_count": null,
      "outputs": []
    },
    {
      "cell_type": "markdown",
      "metadata": {
        "id": "eUYA_H0Namg9"
      },
      "source": [
        "# 실습"
      ]
    },
    {
      "cell_type": "markdown",
      "metadata": {
        "id": "2B0Wo9kbrKJp"
      },
      "source": [
        "## 1. 유럽거리 영상을 다운받아\r\n",
        "- 5초~ 15초 구간 step1 으로 이미지 생성\r\n",
        "\r\n",
        "```\r\n",
        "def read_video(filename, output_path, start_ms = 0, end_ms = None, step=1):\r\n",
        "-->\r\n",
        "width, height, fps, frame_count = read_video(europe_street, 'europe_img_1', 5000, 15000, 1) \r\n",
        "```\r\n",
        "- 30초 ~ 50초 구간 step4 로 이미지 생성\r\n",
        "\r\n",
        "```\r\n",
        "width, height, fps, frame_count = read_video(europe_street, 'europe_img_2', 30000, 50000, 4) \r\n",
        "```"
      ]
    },
    {
      "cell_type": "markdown",
      "metadata": {
        "id": "Z1zL5V2gsktY"
      },
      "source": [
        "## 2. 생성된 이미지를 Object Detect 를 수행하여 video 파일을 생성한다.\r\n",
        "- europe_img_1\r\n",
        "\r\n",
        "```\r\n",
        "def get_detect_video(detector,image_path, output_path, output_filename, width, height, fps, step=1): \r\n",
        "--> \r\n",
        "from gluoncv import model_zoo, data, utils\r\n",
        "# model download from model_zoo\r\n",
        "yolo = model_zoo.get_model('yolo3_darknet53_coco', pretrained=True)\r\n",
        "\r\n",
        "get_detect_video(yolo, 'europe_img_1', 'europe_detect', 'europe_1.mp4', 1280, 720, 1)\r\n",
        "```\r\n",
        "- europe_img_2\r\n",
        "  - 주의 : 이미지 생성 시 step4를 적용하였으므로 생성시 step은 1로 설정한다.\r\n",
        "  \r\n",
        "```\r\n",
        "get_detect_video(yolo, 'europe_img_2', 'europe_detect', 'europe_2.mp4', 1280, 720, 1)\r\n",
        "```"
      ]
    },
    {
      "cell_type": "code",
      "metadata": {
        "id": "_6u38zSZal3A"
      },
      "source": [
        "europe_street = get_youtube_video('https://www.youtube.com/watch?v=AMu7QjE4qg0')\r\n",
        "print(europe_street)"
      ],
      "execution_count": null,
      "outputs": []
    },
    {
      "cell_type": "markdown",
      "metadata": {
        "id": "K7pUsgKIzvpj"
      },
      "source": [
        "### 실행결과"
      ]
    },
    {
      "cell_type": "code",
      "metadata": {
        "id": "6KQcbYD1t-Np"
      },
      "source": [
        "width, height, fps, frame_count = read_video(europe_street, 'europe_img_1', 5000, 15000, 1) "
      ],
      "execution_count": null,
      "outputs": []
    },
    {
      "cell_type": "code",
      "metadata": {
        "id": "xVPJoyDAzjcf"
      },
      "source": [
        "from gluoncv import model_zoo, data, utils\r\n",
        "# model download from model_zoo\r\n",
        "yolo = model_zoo.get_model('yolo3_darknet53_coco', pretrained=True)\r\n",
        " \r\n",
        "get_detect_video(yolo, 'europe_img_1', 'europe_detect', 'europe_1.mp4', 1280, 720, 1)"
      ],
      "execution_count": null,
      "outputs": []
    },
    {
      "cell_type": "code",
      "metadata": {
        "id": "Ig7SnLI3xhXx"
      },
      "source": [
        "width, height, fps, frame_count = read_video(europe_street, 'europe_img_2', 30000, 50000, 4) "
      ],
      "execution_count": null,
      "outputs": []
    },
    {
      "cell_type": "code",
      "metadata": {
        "id": "SmbmAoSHzpD_"
      },
      "source": [
        "get_detect_video(yolo, 'europe_img_2', 'europe_detect', 'europe_2.mp4', 1280, 720, 1)"
      ],
      "execution_count": null,
      "outputs": []
    }
  ]
}