{
  "nbformat": 4,
  "nbformat_minor": 0,
  "metadata": {
    "colab": {
      "name": "lab3-3.segmentation.ipynb",
      "provenance": [],
      "collapsed_sections": [],
      "toc_visible": true
    },
    "kernelspec": {
      "name": "python3",
      "display_name": "Python 3"
    }
  },
  "cells": [
    {
      "cell_type": "markdown",
      "metadata": {
        "id": "1EM4QJZJ0txN"
      },
      "source": [
        "# 3-3. Segmentation"
      ]
    },
    {
      "cell_type": "code",
      "metadata": {
        "id": "xMjtp9myXSdT"
      },
      "source": [
        "!pip3 install --upgrade mxnet-cu101 > /dev/null\r\n",
        "!pip3 install --upgrade gluoncv > /dev/null"
      ],
      "execution_count": null,
      "outputs": []
    },
    {
      "cell_type": "code",
      "metadata": {
        "id": "AE3XSqghXZsW"
      },
      "source": [
        "!pip3 install --upgrade youtube-dl > /dev/null"
      ],
      "execution_count": null,
      "outputs": []
    },
    {
      "cell_type": "code",
      "metadata": {
        "id": "Pt3Kl0TFXblu"
      },
      "source": [
        "def get_youtube_video(youtube_url):\r\n",
        "  import youtube_dl\r\n",
        "\r\n",
        "  ydl_opts = {  \r\n",
        "    # 'format': 'mp4' \r\n",
        "    'format': 'best[height<=480][ext=mp4]' \r\n",
        "    } \r\n",
        "  with youtube_dl.YoutubeDL(ydl_opts) as ydl: \r\n",
        "      info_dict = ydl.extract_info(youtube_url, download=True)    \r\n",
        "      filename = ydl.prepare_filename(info_dict)\r\n",
        "  return filename"
      ],
      "execution_count": null,
      "outputs": []
    },
    {
      "cell_type": "markdown",
      "metadata": {
        "id": "TseGiVCi0a_2"
      },
      "source": [
        "## video download"
      ]
    },
    {
      "cell_type": "code",
      "metadata": {
        "id": "rQLzqX72Xngo"
      },
      "source": [
        "# country_road = get_youtube_video('https://www.youtube.com/watch?v=CObyXl__sEs')\r\n",
        "# print(country_road)"
      ],
      "execution_count": null,
      "outputs": []
    },
    {
      "cell_type": "code",
      "metadata": {
        "id": "U43O86KdXn8d"
      },
      "source": [
        "city_road = get_youtube_video('https://www.youtube.com/watch?v=xNGo9shCeh8')\r\n",
        "print(city_road)"
      ],
      "execution_count": null,
      "outputs": []
    },
    {
      "cell_type": "code",
      "metadata": {
        "id": "CDvrLqsbcM6R"
      },
      "source": [
        "# olympic = get_youtube_video('https://www.youtube.com/watch?v=agRTzCQXDQo')\r\n",
        "# print(olympic)"
      ],
      "execution_count": null,
      "outputs": []
    },
    {
      "cell_type": "code",
      "metadata": {
        "id": "ICyEEJH-cmyj"
      },
      "source": [
        "incheon = get_youtube_video('https://www.youtube.com/watch?v=rSOgnrBsStU')\r\n",
        "print(incheon)"
      ],
      "execution_count": null,
      "outputs": []
    },
    {
      "cell_type": "code",
      "metadata": {
        "id": "YO4FlVLCX9gR"
      },
      "source": [
        "hanam = get_youtube_video('https://www.youtube.com/watch?v=CDF5NjRhHOA')\r\n",
        "print(hanam)"
      ],
      "execution_count": null,
      "outputs": []
    },
    {
      "cell_type": "markdown",
      "metadata": {
        "id": "e-QfBy8R0XV1"
      },
      "source": [
        "## read"
      ]
    },
    {
      "cell_type": "code",
      "metadata": {
        "id": "UauKieMV0Y3p"
      },
      "source": [
        "def read_video(filename, output_path, start_ms = 0, end_ms = None, step=1):\r\n",
        "  from tqdm.notebook import tqdm\r\n",
        "  import os \r\n",
        "  from gluoncv.utils.filesystem import try_import_cv2\r\n",
        "  cv2 = try_import_cv2()\r\n",
        "  # video_frames = [] \r\n",
        "\r\n",
        "  if not os.path.exists(output_path):\r\n",
        "        os.makedirs(output_path)\r\n",
        "\r\n",
        "  cap = cv2.VideoCapture(filename)\r\n",
        "\r\n",
        "  cap.set(cv2.CAP_PROP_POS_MSEC, start_ms);\r\n",
        "\r\n",
        "  width = int(cap.get(cv2.CAP_PROP_FRAME_WIDTH))\r\n",
        "  height = int(cap.get(cv2.CAP_PROP_FRAME_HEIGHT))\r\n",
        "  frame_count = int(cap.get(cv2.CAP_PROP_FRAME_COUNT))\r\n",
        "  fps = cap.get(cv2.CAP_PROP_FPS)\r\n",
        "  total_ms = frame_count * fps * 1000\r\n",
        "  print('Frame width:', width)\r\n",
        "  print('Frame height:', height)\r\n",
        "  print('Frame count:', frame_count)\r\n",
        "  print('FPS:', fps)\r\n",
        "  print('total sec:', int(total_ms/1000))\r\n",
        "\r\n",
        "  capture_count = 0\r\n",
        "  \r\n",
        "  if end_ms != None:\r\n",
        "    time_gap_sec = (end_ms - start_ms)/1000\r\n",
        "    pbar_count = round(time_gap_sec*fps)\r\n",
        "  else:\r\n",
        "    pbar_count = round(frame_count)\r\n",
        "\r\n",
        "  with tqdm(total=pbar_count) as pbar:\r\n",
        "    while cap.isOpened():\r\n",
        "        ret, img = cap.read()\r\n",
        "        if not ret:\r\n",
        "            cap.release()\r\n",
        "            break \r\n",
        "        frame_no = int(cap.get(cv2.CAP_PROP_POS_FRAMES))\r\n",
        "        frame_msec = int(cap.get(cv2.CAP_PROP_POS_MSEC))\r\n",
        "\r\n",
        "        # print('{}. msec:{}, endmsec:{}'.format(frame_no, frame_msec, end_ms)) \r\n",
        "        if end_ms != None and frame_msec >= end_ms:\r\n",
        "            break\r\n",
        "\r\n",
        "        # print('{}. msec:{}'.format(frame_no, frame_msec)) \r\n",
        "\r\n",
        "        # video_frames.append(img)\r\n",
        "        cv2.imwrite(os.path.join(output_path, '%05d.jpg'%(frame_no)), img)\r\n",
        "        capture_count += 1\r\n",
        "        pbar.update(step)\r\n",
        "        if step > 1:\r\n",
        "            cap.set(cv2.CAP_PROP_POS_FRAMES, frame_no + (step-1));\r\n",
        "  \r\n",
        "  print('capture_count:', capture_count)\r\n",
        "\r\n",
        "  return width, height, fps, frame_count"
      ],
      "execution_count": null,
      "outputs": []
    },
    {
      "cell_type": "code",
      "metadata": {
        "id": "LhHuTc0nwwSU"
      },
      "source": [
        "# !rm -rf city*"
      ],
      "execution_count": null,
      "outputs": []
    },
    {
      "cell_type": "code",
      "metadata": {
        "id": "QS98lr-226c4"
      },
      "source": [
        "width, height, fps, frame_count = read_video(city_road, './city_road', 1000*60*28.5, 1000*60*29, 1)"
      ],
      "execution_count": null,
      "outputs": []
    },
    {
      "cell_type": "markdown",
      "metadata": {
        "id": "noJiJLru0o3Q"
      },
      "source": [
        "## 분석"
      ]
    },
    {
      "cell_type": "code",
      "metadata": {
        "id": "XnC6mBYX0pz8"
      },
      "source": [
        "import mxnet as mx\r\n",
        "from mxnet import image\r\n",
        "from mxnet.gluon.data.vision import transforms\r\n",
        "import gluoncv "
      ],
      "execution_count": null,
      "outputs": []
    },
    {
      "cell_type": "code",
      "metadata": {
        "id": "ZNutvBTD1h7Y"
      },
      "source": [
        "psp = gluoncv.model_zoo.get_model('psp_resnet101_ade', pretrained=True)\r\n",
        "# psp = gluoncv.model_zoo.get_model('psp_resnet101_citys', pretrained=True)"
      ],
      "execution_count": null,
      "outputs": []
    },
    {
      "cell_type": "code",
      "metadata": {
        "id": "L6c2CAdv2Fjf"
      },
      "source": [
        "def display_semantic_segmentation_mask(model, im_fname, height, color_pallete='ade20k'):\r\n",
        "  import mxnet as mx\r\n",
        "  from mxnet import image\r\n",
        "  from mxnet.gluon.data.vision import transforms\r\n",
        "  from matplotlib import pyplot as plt\r\n",
        "  import gluoncv\r\n",
        "  from gluoncv.utils.viz import get_color_pallete\r\n",
        "  import matplotlib.image as mpimg\r\n",
        "  from gluoncv.utils.filesystem import try_import_cv2\r\n",
        "  cv2 = try_import_cv2()\r\n",
        "\r\n",
        "  # using cpu\r\n",
        "  ctx = mx.cpu(0) \r\n",
        " \r\n",
        "  # image loading(원본이미지를 그대로 불러옴.)\r\n",
        "  from gluoncv import data \r\n",
        "  _, org_image = data.transforms.presets.yolo.load_test(im_fname, short=height)\r\n",
        "  img = mx.nd.array(org_image) \r\n",
        "\r\n",
        "  # image pre transforming\r\n",
        "  from gluoncv.data.transforms.presets.segmentation import test_transform\r\n",
        "  img = test_transform(img, ctx)\r\n",
        "\r\n",
        "  # inference\r\n",
        "  output = model.predict(img)\r\n",
        "  predict = mx.nd.squeeze(mx.nd.argmax(output, 1)).asnumpy()\r\n",
        "\r\n",
        "  # display\r\n",
        "  mask = get_color_pallete(predict, color_pallete)\r\n",
        "  mask.save('output.png')\r\n",
        "  mask_img = image.imread('output.png')\r\n",
        "  \r\n",
        "  #mask image와 원본이미지 합치기 투명도 0.8\r\n",
        "  mask_img = gluoncv.utils.viz.cv_merge_two_images(org_image, mask_img, alpha=0.5)\r\n",
        "\r\n",
        "  # cv BGR -> RGB\r\n",
        "  mask_img = cv2.cvtColor(mask_img, cv2.COLOR_BGR2RGB)\r\n",
        "\r\n",
        "  return mask_img"
      ],
      "execution_count": null,
      "outputs": []
    },
    {
      "cell_type": "code",
      "metadata": {
        "id": "uxFsF-D-5JRm"
      },
      "source": [
        "im_fname = gluoncv.utils.download('https://miro.medium.com/max/700/1*hO_md3xNtcncjAmGrTwxYA.jpeg')\r\n",
        "mask_img = display_semantic_segmentation_mask(psp, im_fname , 480)"
      ],
      "execution_count": null,
      "outputs": []
    },
    {
      "cell_type": "code",
      "metadata": {
        "id": "ELGx5XqH5K2S"
      },
      "source": [
        "from matplotlib import pyplot as plt\r\n",
        "plt.figure(figsize=(15,15)) \r\n",
        "ax = gluoncv.utils.viz.plot_image(mask_img ) \r\n",
        "plt.show()"
      ],
      "execution_count": null,
      "outputs": []
    },
    {
      "cell_type": "code",
      "metadata": {
        "id": "BjDeG5rb3oTF"
      },
      "source": [
        "def get_semantic_video(detector,image_path, output_path, output_filename, width, height, fps, step=1): \r\n",
        "  from tqdm.notebook import tqdm\r\n",
        "  import os \r\n",
        "  from gluoncv.utils.filesystem import try_import_cv2\r\n",
        "  cv2 = try_import_cv2()\r\n",
        "\r\n",
        "  if not os.path.exists(output_path):\r\n",
        "    os.makedirs(output_path) \r\n",
        "\r\n",
        "  file_list = os.listdir(image_path)\r\n",
        "  file_list.sort() \r\n",
        "  \r\n",
        "  fourcc = cv2.VideoWriter_fourcc(*'FMP4')\r\n",
        "\r\n",
        "  out = cv2.VideoWriter('{}/{}'.format(output_path, output_filename), fourcc, fps/step, (width, height))\r\n",
        " \r\n",
        "  index = 0 # image id(for skip)\r\n",
        "  for filename in tqdm(file_list):\r\n",
        "    # step 값으로 이미지 skip\r\n",
        "    if (index % step) != 0: \r\n",
        "      index += 1\r\n",
        "      continue\r\n",
        "    try:\r\n",
        "      im_file = '{}/{}'.format(image_path,filename) \r\n",
        "      img = display_semantic_segmentation_mask(detector, im_file,   height) \r\n",
        "      frame = cv2.resize(img, dsize=(width, height), interpolation=cv2.INTER_AREA)\r\n",
        "      out.write(frame) \r\n",
        "    except Exception as ex:\r\n",
        "      pass \r\n",
        "    index += 1 # image id(for skip)\r\n",
        "  out.release()"
      ],
      "execution_count": null,
      "outputs": []
    },
    {
      "cell_type": "code",
      "metadata": {
        "id": "QienEcRy82FZ"
      },
      "source": [
        "# !rm -rf city*"
      ],
      "execution_count": null,
      "outputs": []
    },
    {
      "cell_type": "code",
      "metadata": {
        "id": "B3zz2hJ433pA"
      },
      "source": [
        "get_semantic_video(psp, './city_road', 'city_detect', 'city.mp4', 320, 240, 30.0, 5)"
      ],
      "execution_count": null,
      "outputs": []
    },
    {
      "cell_type": "code",
      "metadata": {
        "id": "u4syMODz9Gqs"
      },
      "source": [
        "# !rm -rf hanam*"
      ],
      "execution_count": null,
      "outputs": []
    },
    {
      "cell_type": "code",
      "metadata": {
        "id": "G12DycV24I65"
      },
      "source": [
        "width, height, fps, frame_count = read_video(hanam, './hanam_road', 1000*60*9.5, 1000*60*10, 1)"
      ],
      "execution_count": null,
      "outputs": []
    },
    {
      "cell_type": "code",
      "metadata": {
        "id": "rchq-vN88lsO"
      },
      "source": [
        "get_semantic_video(psp, './hanam_road', 'hanam_detect', 'hanam.mp4', 320, 240, 29.970000648240262, 5)"
      ],
      "execution_count": null,
      "outputs": []
    },
    {
      "cell_type": "code",
      "metadata": {
        "id": "Aq1g8e-pxFQB"
      },
      "source": [
        "# !rm -rf incheon*\r\n",
        "# !rm -rf city*\r\n",
        "# !rm -rf hanam*"
      ],
      "execution_count": null,
      "outputs": []
    },
    {
      "cell_type": "code",
      "metadata": {
        "id": "VjW1FJg19B5d"
      },
      "source": [
        "width, height, fps, frame_count = read_video(incheon, './incheon_road', 1000*60*6.5, 1000*60*7, 4)"
      ],
      "execution_count": null,
      "outputs": []
    },
    {
      "cell_type": "code",
      "metadata": {
        "id": "wXf94YdD9CTr"
      },
      "source": [
        "get_semantic_video(psp, './incheon_road', 'incheon_detect', 'incheon.mp4', 320, 240, 30.0, 5)"
      ],
      "execution_count": null,
      "outputs": []
    },
    {
      "cell_type": "markdown",
      "metadata": {
        "id": "Wc21nGeU0Na7"
      },
      "source": [
        "# 실습"
      ]
    },
    {
      "cell_type": "markdown",
      "metadata": {
        "id": "2WeCi7jN0PaQ"
      },
      "source": [
        "### 1. 아산 시내주행 드라이브 영상의 일부구간을 segmentation 영상으로 전환\r\n",
        "- image 생성\r\n",
        "- 이미지 처리하면서 detect "
      ]
    },
    {
      "cell_type": "code",
      "metadata": {
        "id": "Ex40Tsu70O8x"
      },
      "source": [
        "asan = get_youtube_video('https://www.youtube.com/watch?v=t1YEq_2Un1Y')\r\n",
        "print(asan)"
      ],
      "execution_count": null,
      "outputs": []
    },
    {
      "cell_type": "markdown",
      "metadata": {
        "id": "5V4RHjxJ0bZx"
      },
      "source": [
        "### 2. 미스터션샤인 하이라이트 영상의 일부구간을 segmentation 영상으로 전환\r\n",
        "- image 생성\r\n",
        "- 이미지 처리하면서 detect \r\n"
      ]
    },
    {
      "cell_type": "code",
      "metadata": {
        "id": "8xVYCxTF0a3J"
      },
      "source": [
        "sunshine = get_youtube_video('https://www.youtube.com/watch?v=4YTXB5qkGzI')\r\n",
        "print(sunshine)"
      ],
      "execution_count": null,
      "outputs": []
    }
  ]
}