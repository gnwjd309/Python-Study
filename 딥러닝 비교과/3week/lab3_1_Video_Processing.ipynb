{
  "nbformat": 4,
  "nbformat_minor": 0,
  "metadata": {
    "colab": {
      "name": "lab3-1.Video_Processing.ipynb",
      "provenance": [],
      "collapsed_sections": [],
      "toc_visible": true
    },
    "kernelspec": {
      "name": "python3",
      "display_name": "Python 3"
    }
  },
  "cells": [
    {
      "cell_type": "markdown",
      "metadata": {
        "id": "znYnC17bJZTz"
      },
      "source": [
        "# 3-1. Video Processing Basic"
      ]
    },
    {
      "cell_type": "code",
      "metadata": {
        "id": "n_bdjQOFJwlk"
      },
      "source": [
        "!pip3 install --upgrade mxnet-cu101 > /dev/null\r\n",
        "!pip3 install --upgrade gluoncv > /dev/null"
      ],
      "execution_count": null,
      "outputs": []
    },
    {
      "cell_type": "markdown",
      "metadata": {
        "id": "q7MlYlbTJpJd"
      },
      "source": [
        "## video download"
      ]
    },
    {
      "cell_type": "markdown",
      "metadata": {
        "id": "2jllzbdzpA8F"
      },
      "source": [
        "### direct download"
      ]
    },
    {
      "cell_type": "code",
      "metadata": {
        "id": "qc_iHii4JYOn"
      },
      "source": [
        "from gluoncv import utils\r\n",
        "video_path = 'https://raw.githubusercontent.com/dmlc/web-data/master/gluoncv/tracking/Coke.mp4'\r\n",
        "coke = utils.download(video_path)"
      ],
      "execution_count": null,
      "outputs": []
    },
    {
      "cell_type": "markdown",
      "metadata": {
        "id": "k3Aa_LjGpDWm"
      },
      "source": [
        "youtube download"
      ]
    },
    {
      "cell_type": "code",
      "metadata": {
        "id": "PPUQ7jlv8gYd"
      },
      "source": [
        "!pip3 install --upgrade youtube-dl"
      ],
      "execution_count": null,
      "outputs": []
    },
    {
      "cell_type": "code",
      "metadata": {
        "id": "iBEM8xCS8o95"
      },
      "source": [
        "import youtube_dl\r\n",
        "\r\n",
        "ydl_opts = {  \r\n",
        "    # 'format': 'mp4' \r\n",
        "    'format': 'best[height<=480][ext=mp4]' \r\n",
        "  } \r\n",
        "with youtube_dl.YoutubeDL(ydl_opts) as ydl: \r\n",
        "    info_dict = ydl.extract_info('https://www.youtube.com/watch?v=C-CefuZ6h1k&feature=emb_err_woyt', download=True)    \r\n",
        "    filename = ydl.prepare_filename(info_dict)\r\n"
      ],
      "execution_count": null,
      "outputs": []
    },
    {
      "cell_type": "code",
      "metadata": {
        "id": "o1prhldJb0Vb"
      },
      "source": [
        "def get_youtube_video(youtube_url):\r\n",
        "  import youtube_dl\r\n",
        "\r\n",
        "  ydl_opts = {  \r\n",
        "    # 'format': 'mp4' \r\n",
        "    'format': 'best[height<=480][ext=mp4]' \r\n",
        "    } \r\n",
        "  with youtube_dl.YoutubeDL(ydl_opts) as ydl: \r\n",
        "      info_dict = ydl.extract_info(youtube_url, download=True)    \r\n",
        "      filename = ydl.prepare_filename(info_dict)\r\n",
        "  return filename"
      ],
      "execution_count": null,
      "outputs": []
    },
    {
      "cell_type": "code",
      "metadata": {
        "id": "VdemoWlUcEFf"
      },
      "source": [
        "son = get_youtube_video('https://www.youtube.com/watch?v=C-CefuZ6h1k&feature=emb_err_woyt')\r\n",
        "print(son)"
      ],
      "execution_count": null,
      "outputs": []
    },
    {
      "cell_type": "markdown",
      "metadata": {
        "id": "DnPpx2EoJ3i6"
      },
      "source": [
        "## video read/write"
      ]
    },
    {
      "cell_type": "code",
      "metadata": {
        "id": "-DzBYgAjKgaO"
      },
      "source": [
        "from gluoncv.utils.filesystem import try_import_cv2\r\n",
        "cv2 = try_import_cv2()"
      ],
      "execution_count": null,
      "outputs": []
    },
    {
      "cell_type": "markdown",
      "metadata": {
        "id": "s28OPGNbfIWk"
      },
      "source": [
        "### video read"
      ]
    },
    {
      "cell_type": "code",
      "metadata": {
        "id": "enOcT45fJra9"
      },
      "source": [
        "video_frames = [] \r\n",
        "cap = cv2.VideoCapture(coke)\r\n",
        "\r\n",
        "width = int(cap.get(cv2.CAP_PROP_FRAME_WIDTH))\r\n",
        "height = int(cap.get(cv2.CAP_PROP_FRAME_HEIGHT))\r\n",
        "frame_count = int(cap.get(cv2.CAP_PROP_FRAME_COUNT))\r\n",
        "fps = cap.get(cv2.CAP_PROP_FPS)\r\n",
        "print('Frame width:', width)\r\n",
        "print('Frame height:', height)\r\n",
        "print('Frame count:', frame_count)\r\n",
        "print('FPS:', fps)\r\n",
        " \r\n",
        "while(True):\r\n",
        "    ret, img = cap.read()\r\n",
        "    if not ret:\r\n",
        "        break\r\n",
        "    frame_no = int(cap.get(cv2.CAP_PROP_POS_FRAMES))\r\n",
        "    frame_msec = int(cap.get(cv2.CAP_PROP_POS_MSEC))\r\n",
        "\r\n",
        "    print('{}. msec:{}'.format(frame_no, frame_msec)) \r\n",
        "\r\n",
        "    video_frames.append(img)"
      ],
      "execution_count": null,
      "outputs": []
    },
    {
      "cell_type": "code",
      "metadata": {
        "id": "P5eZc5oodNa9"
      },
      "source": [
        "def read_video(filename):\r\n",
        "  import os \r\n",
        "  from gluoncv.utils.filesystem import try_import_cv2\r\n",
        "  cv2 = try_import_cv2()  \r\n",
        "\r\n",
        "  video_frames = [] \r\n",
        "  cap = cv2.VideoCapture(filename) \r\n",
        "\r\n",
        "  width = int(cap.get(cv2.CAP_PROP_FRAME_WIDTH))\r\n",
        "  height = int(cap.get(cv2.CAP_PROP_FRAME_HEIGHT))\r\n",
        "  frame_count = int(cap.get(cv2.CAP_PROP_FRAME_COUNT))\r\n",
        "  fps = cap.get(cv2.CAP_PROP_FPS)\r\n",
        "  print('Frame width:', width)\r\n",
        "  print('Frame height:', height)\r\n",
        "  print('Frame count:', frame_count)\r\n",
        "  print('FPS:', fps) \r\n",
        "   \r\n",
        "  while(True):\r\n",
        "    ret, img = cap.read()\r\n",
        "    if not ret:\r\n",
        "      break\r\n",
        "    frame_no = int(cap.get(cv2.CAP_PROP_POS_FRAMES))\r\n",
        "    frame_msec = int(cap.get(cv2.CAP_PROP_POS_MSEC)) \r\n",
        "\r\n",
        "    print('{}. msec:{}'.format(frame_no, frame_msec)) \r\n",
        "\r\n",
        "    video_frames.append(img)\r\n",
        "\r\n",
        "\r\n",
        "  return video_frames, width, height, fps, frame_count"
      ],
      "execution_count": null,
      "outputs": []
    },
    {
      "cell_type": "markdown",
      "metadata": {
        "id": "Ip3lEeIYfds4"
      },
      "source": [
        "### image write"
      ]
    },
    {
      "cell_type": "code",
      "metadata": {
        "id": "OMYGQDnofiBa"
      },
      "source": [
        "import os\r\n",
        "save_dir = './images'\r\n",
        "if not os.path.exists(save_dir):\r\n",
        "  os.makedirs(save_dir)\r\n",
        "\r\n",
        "for ind, frame in enumerate(video_frames):\r\n",
        "  cv2.imwrite(os.path.join(save_dir, '%04d.jpg'%(ind+1)), frame)"
      ],
      "execution_count": null,
      "outputs": []
    },
    {
      "cell_type": "markdown",
      "metadata": {
        "id": "E2FIxecue2e0"
      },
      "source": [
        "### video write\r\n",
        "- codec\r\n",
        "  - DIVX\r\n",
        "  - XVID\r\n",
        "  - FMP4\r\n",
        "  - X264\r\n",
        "  - MJPG "
      ]
    },
    {
      "cell_type": "code",
      "metadata": {
        "id": "D5MYUu01Mykp"
      },
      "source": [
        "fourcc = cv2.VideoWriter_fourcc(*'FMP4')"
      ],
      "execution_count": null,
      "outputs": []
    },
    {
      "cell_type": "code",
      "metadata": {
        "id": "zbrizSPnhVAg"
      },
      "source": [
        "out = cv2.VideoWriter('coke_write.mp4', fourcc, fps, (width, height))"
      ],
      "execution_count": null,
      "outputs": []
    },
    {
      "cell_type": "code",
      "metadata": {
        "id": "GFZ8PyI0htQi"
      },
      "source": [
        "for ind, frame in enumerate(video_frames):\r\n",
        "  out.write(frame) \r\n",
        "out.release()"
      ],
      "execution_count": null,
      "outputs": []
    },
    {
      "cell_type": "markdown",
      "metadata": {
        "id": "hJ73nZ0hjYMK"
      },
      "source": [
        "### fps 조정"
      ]
    },
    {
      "cell_type": "markdown",
      "metadata": {
        "id": "K5_lejWUkIbS"
      },
      "source": [
        "#### fps/2 = 1/2 배속"
      ]
    },
    {
      "cell_type": "code",
      "metadata": {
        "id": "iinTD8JZiJN6"
      },
      "source": [
        "out = cv2.VideoWriter('coke_write_slow.mp4', fourcc, fps/2, (width, height))\r\n",
        "for ind, frame in enumerate(video_frames):\r\n",
        "  out.write(frame) \r\n",
        "out.release()"
      ],
      "execution_count": null,
      "outputs": []
    },
    {
      "cell_type": "markdown",
      "metadata": {
        "id": "7kj-1loPkO5C"
      },
      "source": [
        "#### fps/4 = 1/4 배속"
      ]
    },
    {
      "cell_type": "code",
      "metadata": {
        "id": "Gbm9oGKzjhVK"
      },
      "source": [
        "out = cv2.VideoWriter('coke_write_slow_4.mp4', fourcc, fps/4, (width, height))\r\n",
        "for ind, frame in enumerate(video_frames):\r\n",
        "  out.write(frame) \r\n",
        "out.release()"
      ],
      "execution_count": null,
      "outputs": []
    },
    {
      "cell_type": "markdown",
      "metadata": {
        "id": "EStpxAgBkVfT"
      },
      "source": [
        "#### fps*2 = 2배속"
      ]
    },
    {
      "cell_type": "code",
      "metadata": {
        "id": "Wqu7lPGAjwbU"
      },
      "source": [
        "out = cv2.VideoWriter('coke_write_fast2.mp4', fourcc, fps*2, (width, height))\r\n",
        "for ind, frame in enumerate(video_frames):\r\n",
        "  out.write(frame) \r\n",
        "out.release()"
      ],
      "execution_count": null,
      "outputs": []
    },
    {
      "cell_type": "markdown",
      "metadata": {
        "id": "F7S_Elr3lphr"
      },
      "source": [
        "#### fps*4 = 4배속"
      ]
    },
    {
      "cell_type": "code",
      "metadata": {
        "id": "us2s87Gtkdm3"
      },
      "source": [
        "out = cv2.VideoWriter('coke_write_fast4.mp4', fourcc, fps*4, (width, height))\r\n",
        "for ind, frame in enumerate(video_frames):\r\n",
        "  out.write(frame) \r\n",
        "out.release()"
      ],
      "execution_count": null,
      "outputs": []
    },
    {
      "cell_type": "markdown",
      "metadata": {
        "id": "OauuaTDGWSaY"
      },
      "source": [
        ""
      ]
    },
    {
      "cell_type": "markdown",
      "metadata": {
        "id": "VQz2TkUJmFQI"
      },
      "source": [
        "### video size 조정\r\n",
        "[참고](https://076923.github.io/posts/Python-opencv-8/)\r\n",
        "- interpolation 속성\r\n",
        "  - 확대\r\n",
        "    - cv2.INTER_CUBIC\t(바이큐빅 보간법)\r\n",
        "      - 4*4 이웃 픽셀 참고, 퀄리티 좋음\r\n",
        "    - cv2.INTER_LINEAR\t(쌍 선형 보간법)\r\n",
        "      - 2*2 이웃 픽셀 참고, 효율성 좋음\r\n",
        "  - 축소\r\n",
        "    - cv2.INTER_AREA\t(영역 보간법)\r\n",
        "      - 영역 정보를 이용하여 사용"
      ]
    },
    {
      "cell_type": "markdown",
      "metadata": {
        "id": "lFC2hoJimIzn"
      },
      "source": [
        "#### 480p -> 720p"
      ]
    },
    {
      "cell_type": "code",
      "metadata": {
        "id": "YTVlQ-lWkhLm"
      },
      "source": [
        "ratio = 720/height\r\n",
        "resize = (round(width*ratio), round(height*ratio))\r\n",
        "out = cv2.VideoWriter('coke_write_720p.mp4', fourcc, fps, resize)\r\n",
        "for ind, frame in enumerate(video_frames):\r\n",
        "  frame = cv2.resize(frame, dsize=resize, interpolation=cv2.INTER_LINEAR)\r\n",
        "  out.write(frame) \r\n",
        "out.release()"
      ],
      "execution_count": null,
      "outputs": []
    },
    {
      "cell_type": "markdown",
      "metadata": {
        "id": "U9j6S_30ppYP"
      },
      "source": [
        "#### 480p -> 1080p"
      ]
    },
    {
      "cell_type": "code",
      "metadata": {
        "id": "uLBrqc6_mgE4"
      },
      "source": [
        "ratio = 1080/height\r\n",
        "resize = (round(width*ratio), round(height*ratio))\r\n",
        "out = cv2.VideoWriter('coke_write_1080p.mp4', fourcc, fps, resize)\r\n",
        "for ind, frame in enumerate(video_frames):\r\n",
        "  frame = cv2.resize(frame, dsize=resize, interpolation=cv2.INTER_LINEAR)\r\n",
        "  out.write(frame) \r\n",
        "out.release()"
      ],
      "execution_count": null,
      "outputs": []
    },
    {
      "cell_type": "markdown",
      "metadata": {
        "id": "r8-JUdN0qJR7"
      },
      "source": [
        "#### 480p -> 240p"
      ]
    },
    {
      "cell_type": "code",
      "metadata": {
        "id": "tmgxnFXVpvu7"
      },
      "source": [
        "ratio = 240/height\r\n",
        "resize = (round(width*ratio), round(height*ratio))\r\n",
        "out = cv2.VideoWriter('coke_write_240p.mp4', fourcc, fps, resize)\r\n",
        "for ind, frame in enumerate(video_frames):\r\n",
        "  frame = cv2.resize(frame, dsize=resize, interpolation=cv2.INTER_AREA)\r\n",
        "  out.write(frame) \r\n",
        "out.release()"
      ],
      "execution_count": null,
      "outputs": []
    },
    {
      "cell_type": "markdown",
      "metadata": {
        "id": "HBfjDxlfux6d"
      },
      "source": [
        "### 영상 필터\r\n",
        "- [참고](https://deep-learning-study.tistory.com/174?category=946336)"
      ]
    },
    {
      "cell_type": "markdown",
      "metadata": {
        "id": "guHbthLlvBi5"
      },
      "source": [
        "#### 스케치필터"
      ]
    },
    {
      "cell_type": "code",
      "metadata": {
        "id": "vqXYNz3JvBDt"
      },
      "source": [
        "def pencil_sketch(img):\r\n",
        "    gray = cv2.cvtColor(img, cv2.COLOR_BGR2GRAY)\r\n",
        "    blr = cv2.GaussianBlur(gray, (0, 0), 3) \r\n",
        "    dst = cv2.divide(gray, blr, scale=255) \r\n",
        "    dst = cv2.cvtColor(dst, cv2.COLOR_GRAY2BGR)\r\n",
        "    return dst"
      ],
      "execution_count": null,
      "outputs": []
    },
    {
      "cell_type": "code",
      "metadata": {
        "id": "uj1brZL6qV8d"
      },
      "source": [
        "out = cv2.VideoWriter('coke_write_sketch.mp4', fourcc, fps, (width, height))\r\n",
        "for ind, frame in enumerate(video_frames):\r\n",
        "  frame = pencil_sketch(frame)\r\n",
        "  out.write(frame) \r\n",
        "out.release()"
      ],
      "execution_count": null,
      "outputs": []
    },
    {
      "cell_type": "markdown",
      "metadata": {
        "id": "w3OPy_acwXb_"
      },
      "source": [
        "#### 카툰필터"
      ]
    },
    {
      "cell_type": "code",
      "metadata": {
        "id": "rvzkjwpowW-m"
      },
      "source": [
        "def cartoon_filter(img):\r\n",
        "    h, w = img.shape[:2]\r\n",
        "    img2 = cv2.resize(img, (w//2, h//2))\r\n",
        "\r\n",
        "    blr = cv2.bilateralFilter(img2, -1, 20, 7)\r\n",
        "    edge = 255 - cv2.Canny(img2, 80, 120)\r\n",
        "    edge = cv2.cvtColor(edge, cv2.COLOR_GRAY2BGR)\r\n",
        "    dst = cv2.bitwise_and(blr, edge) \r\n",
        "    dst = cv2.resize(dst, (w, h), interpolation=cv2.INTER_NEAREST)\r\n",
        "                                                                  \r\n",
        "    return dst"
      ],
      "execution_count": null,
      "outputs": []
    },
    {
      "cell_type": "code",
      "metadata": {
        "id": "23dLK6BuwcBQ"
      },
      "source": [
        "out = cv2.VideoWriter('coke_write_cartoon.mp4', fourcc, fps, (width, height))\r\n",
        "for ind, frame in enumerate(video_frames):\r\n",
        "  frame = cartoon_filter(frame)\r\n",
        "  out.write(frame) \r\n",
        "out.release()"
      ],
      "execution_count": null,
      "outputs": []
    },
    {
      "cell_type": "code",
      "metadata": {
        "id": "FlrkTg7X4SSS"
      },
      "source": [
        "def cartoon_filter2(img):\r\n",
        "    gray = cv2.cvtColor(img, cv2.COLOR_BGR2GRAY)\r\n",
        "    gray = cv2.medianBlur(gray, 5)\r\n",
        "    edges = cv2.adaptiveThreshold(gray, 255, cv2.ADAPTIVE_THRESH_MEAN_C, cv2.THRESH_BINARY, 9, 9)\r\n",
        "\r\n",
        "    color = cv2.bilateralFilter(img, 9, 250, 250)\r\n",
        "    cartoon = cv2.bitwise_and(color, color, mask=edges)\r\n",
        "\r\n",
        "    return cartoon\r\n"
      ],
      "execution_count": null,
      "outputs": []
    },
    {
      "cell_type": "code",
      "metadata": {
        "id": "7q-jsq-r4zpl"
      },
      "source": [
        "out = cv2.VideoWriter('coke_write_cartoon2.mp4', fourcc, fps, (width, height))\r\n",
        "for ind, frame in enumerate(video_frames):\r\n",
        "  frame = cartoon_filter2(frame)\r\n",
        "  out.write(frame) \r\n",
        "out.release()"
      ],
      "execution_count": null,
      "outputs": []
    },
    {
      "cell_type": "markdown",
      "metadata": {
        "id": "6A9KWoO2hUuK"
      },
      "source": [
        "# 실습"
      ]
    },
    {
      "cell_type": "markdown",
      "metadata": {
        "id": "A4y5i2VfhfIW"
      },
      "source": [
        "## 1. 손흥민 영상을 다운받아서 \r\n",
        " - 1/2 배속\r\n",
        " - 1/4 배속 영상을 작성한다.\r\n",
        " - 파일명 : \r\n",
        "   - son_slow2.mp4, \r\n",
        "   - son_slow4.mp4"
      ]
    },
    {
      "cell_type": "code",
      "metadata": {
        "id": "BXMGCCQGhV_1"
      },
      "source": [
        "son = get_youtube_video('https://www.youtube.com/watch?v=C-CefuZ6h1k&feature=emb_err_woyt')\r\n",
        "print(son)"
      ],
      "execution_count": null,
      "outputs": []
    },
    {
      "cell_type": "markdown",
      "metadata": {
        "id": "TOWOJCkMhsTo"
      },
      "source": [
        "## 2. 안개길 출근영상을 \r\n",
        "- 스케치 필터, \r\n",
        "- 카툰 필터를 적용해서 영상을 만든다.\r\n",
        "- 파일명:\r\n",
        "  - fog_sketch.mp4\r\n",
        "  - fog_cartoon.mp4"
      ]
    },
    {
      "cell_type": "code",
      "metadata": {
        "id": "P9myAZABhzpz"
      },
      "source": [
        "fog_drive = get_youtube_video('https://www.youtube.com/watch?v=8YUJSu-C4Vc')\r\n",
        "print(fog_drive)"
      ],
      "execution_count": null,
      "outputs": []
    }
  ]
}