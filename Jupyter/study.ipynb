{
 "cells": [
  {
   "cell_type": "markdown",
   "metadata": {},
   "source": [
    "## Tensorflow 기초\n",
    "\n",
    "#### 1. 난수 생성\n",
    "\n",
    "* 균일 분포\n",
    "    ##### * 균일 분포란? 최솟값과 최댓값 사이의 모든 수가 나올 확률이 동일한 분포"
   ]
  },
  {
   "cell_type": "code",
   "execution_count": 12,
   "metadata": {},
   "outputs": [
    {
     "name": "stdout",
     "output_type": "stream",
     "text": [
      "Tensor(\"random_uniform_7:0\", shape=(1,), dtype=float32)\n"
     ]
    }
   ],
   "source": [
    "import tensorflow as tf\n",
    "\n",
    "rand = tf.random.uniform([1],0,1)\n",
    "print(rand)"
   ]
  },
  {
   "cell_type": "markdown",
   "metadata": {},
   "source": [
    "tf.random.uniform 함수를 불러오면 균일 분포의 난수를 얻을 수 있다.  \n",
    "괄호 안의 [1]은 결과 값의 Shape를 의미한다.  \n",
    "  \n",
    "Shape란, 행렬을 구성하는 행과 열 등, 차원의 수를 나타내는 값이다.  \n",
    "  \n",
    "      [5]         -> shape = [1]\n",
    "  \n",
    "      [[2],\n",
    "       [3]]       -> shape = [2, 1]\n",
    "  \n",
    "      [[1, 2],\n",
    "       [3, 6]]    -> shape = [2, 2]  \n",
    "  \n",
    "Shape를 세기 위해서는, 가장 바깥쪽부터 안쪽으로 원소의 개수를 세면 된다.  \n",
    "두 번째 경우, 가장 바깥 원소가 [2], [3]으로 2개가 존재한다.  \n",
    "안쪽으로 들어가면 2와 3이 한 개씩 존재하기 때문에 shape = [2, 1]이 된다.  \n",
    "  \n",
    "괄호 안의 0과 1은 각각 최솟값과 최댓값을 의미한다.  \n",
    "따라서  \n",
    "  \n",
    "  \n",
    "앞에서 shape의 인자로 1을 주었기 때문에, 출력 값의 shape도 1인 것을 알 수 있다.  \n",
    "python에서는 변하지 않는 값에 대해 소괄호로 묶는 튜플(tuple) 자료형을 사용한다.  \n",
    "출력 값인 (1,)처럼, 원소 뒤에 ,를 사용하여 이 값이 튜플이라는 것을 나타낸다.  \n",
    "  \n",
    "마지막 출력 값인 dtype은 자료형을 의미한다.  \n",
    "특별한 설정 값이 없다면, tensorflow는 float32를 사용한다."
   ]
  },
  {
   "cell_type": "markdown",
   "metadata": {},
   "source": [
    "* 정규 분포\n",
    "    ##### * 정규 분포란, 가운데가 높고 양극단으로 갈수록 낮아져 산의 형태를 나타내는 분포"
   ]
  },
  {
   "cell_type": "code",
   "execution_count": 17,
   "metadata": {},
   "outputs": [
    {
     "name": "stdout",
     "output_type": "stream",
     "text": [
      "Tensor(\"random_normal:0\", shape=(4,), dtype=float32)\n"
     ]
    }
   ],
   "source": [
    "import tensorflow as tf\n",
    "\n",
    "rand = tf.random.normal([4],0,1)\n",
    "print(rand)"
   ]
  }
 ],
 "metadata": {
  "kernelspec": {
   "display_name": "Python 3",
   "language": "python",
   "name": "python3"
  },
  "language_info": {
   "codemirror_mode": {
    "name": "ipython",
    "version": 3
   },
   "file_extension": ".py",
   "mimetype": "text/x-python",
   "name": "python",
   "nbconvert_exporter": "python",
   "pygments_lexer": "ipython3",
   "version": "3.7.9"
  }
 },
 "nbformat": 4,
 "nbformat_minor": 4
}
