{
 "cells": [
  {
   "cell_type": "markdown",
   "metadata": {
    "id": "A0Teq-3TzGhC"
   },
   "source": [
    "# Python 기초"
   ]
  },
  {
   "cell_type": "markdown",
   "metadata": {
    "id": "AFD_tgMlV8Da"
   },
   "source": [
    "### python version"
   ]
  },
  {
   "cell_type": "code",
   "execution_count": 1,
   "metadata": {
    "id": "OEivi1pMV8eV"
   },
   "outputs": [
    {
     "name": "stdout",
     "output_type": "stream",
     "text": [
      "Python version\n",
      "3.7.9 (default, Aug 31 2020, 17:10:11) [MSC v.1916 64 bit (AMD64)]\n",
      "Version info.\n",
      "sys.version_info(major=3, minor=7, micro=9, releaselevel='final', serial=0)\n"
     ]
    }
   ],
   "source": [
    "# python system 기능을 사용하기 위해 사용하는 라이브러리\n",
    "import sys\n",
    "\n",
    "# \"Python version\" 이라는 문자열을 출력\n",
    "print(\"Python version\")\n",
    "\n",
    "# sys.version에 저장되어있는 값을 출력\n",
    "print (sys.version)\n",
    " \n",
    "# \"Version info.\" 이라는 문자열을 출력\n",
    "print(\"Version info.\")\n",
    "\n",
    "# sys.version_info에 저장되어있는 값을 출력\n",
    "print (sys.version_info)"
   ]
  },
  {
   "cell_type": "markdown",
   "metadata": {
    "id": "IMmCdZ5KeNpa"
   },
   "source": [
    "## 변수"
   ]
  },
  {
   "cell_type": "markdown",
   "metadata": {
    "id": "TnK9pzoYX13H"
   },
   "source": [
    "### 문자열 출력"
   ]
  },
  {
   "cell_type": "code",
   "execution_count": 2,
   "metadata": {
    "id": "Ax07RpekUmA5"
   },
   "outputs": [
    {
     "name": "stdout",
     "output_type": "stream",
     "text": [
      "딥러닝 활용\n",
      "셀 실행은 shift + Enter\n"
     ]
    }
   ],
   "source": [
    "print('딥러닝 활용')\n",
    "print('셀 실행은 shift + Enter')"
   ]
  },
  {
   "cell_type": "markdown",
   "metadata": {
    "id": "mmL7uAHfYyg4"
   },
   "source": [
    "### 문자열 변수 할당"
   ]
  },
  {
   "cell_type": "code",
   "execution_count": 3,
   "metadata": {
    "id": "k5BPys7EXp9O"
   },
   "outputs": [
    {
     "name": "stdout",
     "output_type": "stream",
     "text": [
      "딥러닝 활용\n",
      "셀 실행은 shift + Enter\n"
     ]
    }
   ],
   "source": [
    "title ='딥러닝 활용'\n",
    "command_string='셀 실행은 shift + Enter'\n",
    "print(title)\n",
    "print(command_string)"
   ]
  },
  {
   "cell_type": "markdown",
   "metadata": {
    "id": "Y1tTYq_RZM8Z"
   },
   "source": [
    "### 변수이름 명명 법\n",
    "- class 이름 : pascal case(파스칼 표기법)\n",
    "\n",
    "  `Title, CommandString`\n",
    "- 상수 : 대문자\n",
    "\n",
    "  `TITLE, COMMAND_STRING`\n",
    "- 변수 or 함수 : snake case or pothole case\n",
    "\n",
    "  `title, title_string`"
   ]
  },
  {
   "cell_type": "markdown",
   "metadata": {
    "id": "HKLYgrG6eYVl"
   },
   "source": [
    "## 배열, numpy, pandas"
   ]
  },
  {
   "cell_type": "markdown",
   "metadata": {
    "id": "8FPwkfa5bbNb"
   },
   "source": [
    "### 배열(list)"
   ]
  },
  {
   "cell_type": "code",
   "execution_count": 4,
   "metadata": {
    "id": "s1e-xumrbavi"
   },
   "outputs": [],
   "source": [
    "# 배열의 선언\n",
    "\n",
    "sample_array = ['a', 'b', 'c', 'd', 'e', 'f']"
   ]
  },
  {
   "cell_type": "code",
   "execution_count": 5,
   "metadata": {
    "id": "qhgeGAcwUh_l"
   },
   "outputs": [
    {
     "name": "stdout",
     "output_type": "stream",
     "text": [
      "['a', 'b', 'c', 'd', 'e', 'f']\n"
     ]
    }
   ],
   "source": [
    "print(sample_array)"
   ]
  },
  {
   "cell_type": "code",
   "execution_count": 6,
   "metadata": {
    "id": "f6bYTzwnhq-q"
   },
   "outputs": [],
   "source": [
    "#배열의 선언 & 원소 추가\n",
    "\n",
    "sample_array2 = []\n",
    "sample_array2.append('a')\n",
    "sample_array2.append('b')\n",
    "sample_array2.append('c')\n",
    "sample_array2.append('d')\n",
    "sample_array2.append('e')\n",
    "sample_array2.append('f')"
   ]
  },
  {
   "cell_type": "code",
   "execution_count": 7,
   "metadata": {
    "id": "F2HHu6bwi2FR"
   },
   "outputs": [
    {
     "name": "stdout",
     "output_type": "stream",
     "text": [
      "['a', 'b', 'c', 'd', 'e', 'f']\n"
     ]
    }
   ],
   "source": [
    "print(sample_array2)"
   ]
  },
  {
   "cell_type": "code",
   "execution_count": 8,
   "metadata": {
    "id": "riG70CmNitKf"
   },
   "outputs": [
    {
     "data": {
      "text/plain": [
       "6"
      ]
     },
     "execution_count": 8,
     "metadata": {},
     "output_type": "execute_result"
    }
   ],
   "source": [
    "# 배열의 길이\n",
    "\n",
    "len(sample_array2)"
   ]
  },
  {
   "cell_type": "code",
   "execution_count": 9,
   "metadata": {
    "id": "gpdJ4mg-jB4G"
   },
   "outputs": [],
   "source": [
    "# 배열의 정렬\n",
    "# 배열.sort() -> 오름차순 (Default)\n",
    "# 배열.sort(reverse=True) -> 내림차순 (False = 오름차순)\n",
    "\n",
    "sample_array2.sort(reverse=True)"
   ]
  },
  {
   "cell_type": "code",
   "execution_count": 10,
   "metadata": {
    "id": "Rkp5jk5ti5eH"
   },
   "outputs": [
    {
     "name": "stdout",
     "output_type": "stream",
     "text": [
      "['f', 'e', 'd', 'c', 'b', 'a']\n"
     ]
    }
   ],
   "source": [
    "print(sample_array2)"
   ]
  },
  {
   "cell_type": "markdown",
   "metadata": {
    "id": "5s7VhXYsbuOm"
   },
   "source": [
    "### 배열의 색인"
   ]
  },
  {
   "cell_type": "code",
   "execution_count": 11,
   "metadata": {
    "id": "KMXhBVZhbotI"
   },
   "outputs": [
    {
     "name": "stdout",
     "output_type": "stream",
     "text": [
      "['a', 'b', 'c']\n",
      "['d', 'e', 'f']\n",
      "['a', 'b', 'c']\n"
     ]
    }
   ],
   "source": [
    "# [0:3] : 0 <= 색인 < 3\n",
    "print(sample_array[0:3])\n",
    "\n",
    "# [3:] : 3<= 색인 <= 끝\n",
    "print(sample_array[3:])\n",
    "\n",
    "# [:3] : 시작 <= 색인 < 3\n",
    "print(sample_array[:3])"
   ]
  },
  {
   "cell_type": "markdown",
   "metadata": {
    "id": "oHzgTOl3gJ1h"
   },
   "source": [
    "### 배열 정보"
   ]
  },
  {
   "cell_type": "code",
   "execution_count": 12,
   "metadata": {
    "id": "eCgs1DzwcunS"
   },
   "outputs": [
    {
     "name": "stdout",
     "output_type": "stream",
     "text": [
      "length : 6\n",
      "type: <class 'list'>\n",
      "type: <class 'str'>\n"
     ]
    }
   ],
   "source": [
    "# 형변환(type cast)\n",
    "# 문자열과 다른 유형의 변수의 연산은 다른 유형의 변수를 문자열로 변경한다.\n",
    "\n",
    "array_length = len(sample_array)\n",
    "array_type = type(sample_array)\n",
    "\n",
    "# 배열의 길이\n",
    "print('length : ' + str(array_length))\n",
    "\n",
    "# 변수의 타입\n",
    "print('type: ' + str(array_type))\n",
    "\n",
    "print('type: ' + str(type(command_string)))"
   ]
  },
  {
   "cell_type": "markdown",
   "metadata": {
    "id": "orvFfDvn7KaH"
   },
   "source": [
    "### range(start,end)\n",
    "start, end까지 값을 가지는 range\n",
    "\n",
    "list(range(start,end)) 값을 통해서 array값을 생성"
   ]
  },
  {
   "cell_type": "code",
   "execution_count": 13,
   "metadata": {
    "id": "Waj0pDcHY-83"
   },
   "outputs": [],
   "source": [
    "# 0~20의 숫자릴 리스트에 삽입\n",
    "\n",
    "simple_array = list(range(0,20))"
   ]
  },
  {
   "cell_type": "code",
   "execution_count": 14,
   "metadata": {
    "id": "i71TO1t4-7_h"
   },
   "outputs": [
    {
     "name": "stdout",
     "output_type": "stream",
     "text": [
      "[0, 1, 2, 3, 4, 5, 6, 7, 8, 9, 10, 11, 12, 13, 14, 15, 16, 17, 18, 19]\n"
     ]
    }
   ],
   "source": [
    "print(simple_array)"
   ]
  },
  {
   "cell_type": "markdown",
   "metadata": {
    "id": "cSS2c2iL8H8A"
   },
   "source": [
    "### numpy\n",
    "대부분의 python 데이터는 numpy 데이터로 처리된다."
   ]
  },
  {
   "cell_type": "code",
   "execution_count": 15,
   "metadata": {
    "id": "evMYZsN56yQQ"
   },
   "outputs": [],
   "source": [
    "# np 라는 이름으로 사용한다(관례)\n",
    "\n",
    "import numpy as np"
   ]
  },
  {
   "cell_type": "code",
   "execution_count": 16,
   "metadata": {
    "id": "zATNZPYMBmcF"
   },
   "outputs": [],
   "source": [
    "# 위에서 생성한 list를 사용해 array 정의\n",
    "\n",
    "np_array = np.array(simple_array)"
   ]
  },
  {
   "cell_type": "code",
   "execution_count": 17,
   "metadata": {
    "id": "IlyrJRiH-1hC",
    "scrolled": false
   },
   "outputs": [
    {
     "data": {
      "text/plain": [
       "array([ 0,  1,  2,  3,  4,  5,  6,  7,  8,  9, 10, 11, 12, 13, 14, 15, 16,\n",
       "       17, 18, 19])"
      ]
     },
     "execution_count": 17,
     "metadata": {},
     "output_type": "execute_result"
    }
   ],
   "source": [
    "np_array"
   ]
  },
  {
   "cell_type": "code",
   "execution_count": 18,
   "metadata": {},
   "outputs": [
    {
     "data": {
      "text/plain": [
       "(20,)"
      ]
     },
     "execution_count": 18,
     "metadata": {},
     "output_type": "execute_result"
    }
   ],
   "source": [
    "# array의 크기를 확인\n",
    "\n",
    "np_array.shape"
   ]
  },
  {
   "cell_type": "code",
   "execution_count": 19,
   "metadata": {
    "id": "W49gpvBK68b5",
    "scrolled": true
   },
   "outputs": [
    {
     "name": "stdout",
     "output_type": "stream",
     "text": [
      "<class 'numpy.ndarray'>\n"
     ]
    },
    {
     "data": {
      "text/plain": [
       "dtype('int32')"
      ]
     },
     "execution_count": 19,
     "metadata": {},
     "output_type": "execute_result"
    }
   ],
   "source": [
    "# array의 타입 확인 (?)\n",
    "print(type(np_array))\n",
    "\n",
    "# array의 데이터 타입 확인\n",
    "np_array.dtype"
   ]
  },
  {
   "cell_type": "code",
   "execution_count": 20,
   "metadata": {},
   "outputs": [
    {
     "name": "stdout",
     "output_type": "stream",
     "text": [
      "1차원\n",
      " [1 2 3] \n",
      "\n",
      "\n",
      "2차원\n",
      " [[1 2 3]\n",
      " [1 2 3]] \n",
      "\n",
      "\n",
      "3차원 \n",
      " [[[1 2 3]\n",
      "  [1 2 3]]\n",
      "\n",
      " [[1 2 3]\n",
      "  [1 2 3]]\n",
      "\n",
      " [[1 2 3]\n",
      "  [1 2 3]]]\n"
     ]
    }
   ],
   "source": [
    "# 1차원 array\n",
    "arr1 = np.array([1,2,3])\n",
    "print('1차원\\n',arr1, '\\n\\n')\n",
    "\n",
    "# 2차원 array\n",
    "arr2 = np.array([[1,2,3],[1,2,3]])\n",
    "print('2차원\\n',arr2,'\\n\\n')\n",
    "\n",
    "# 3차원 array\n",
    "arr3 = np.array([[[1,2,3],[1,2,3]],[[1,2,3],[1,2,3]],[[1,2,3],[1,2,3]]])\n",
    "print('3차원 \\n',arr3)"
   ]
  },
  {
   "cell_type": "markdown",
   "metadata": {},
   "source": [
    "numpy 정의 함수  \n",
    "  * np.zeros(), np.ones(), np.arange()"
   ]
  },
  {
   "cell_type": "code",
   "execution_count": 21,
   "metadata": {},
   "outputs": [
    {
     "data": {
      "text/plain": [
       "array([0., 0., 0., 0., 0.])"
      ]
     },
     "execution_count": 21,
     "metadata": {},
     "output_type": "execute_result"
    }
   ],
   "source": [
    "# np.zeors() : 인자로 받은 크기만큼, 모든 요소가 0인 array 생성\n",
    "\n",
    "np.zeros(5)"
   ]
  },
  {
   "cell_type": "code",
   "execution_count": 22,
   "metadata": {},
   "outputs": [
    {
     "data": {
      "text/plain": [
       "array([[0., 0., 0., 0., 0.],\n",
       "       [0., 0., 0., 0., 0.],\n",
       "       [0., 0., 0., 0., 0.]])"
      ]
     },
     "execution_count": 22,
     "metadata": {},
     "output_type": "execute_result"
    }
   ],
   "source": [
    "np.zeros((3,5))"
   ]
  },
  {
   "cell_type": "code",
   "execution_count": 23,
   "metadata": {},
   "outputs": [
    {
     "data": {
      "text/plain": [
       "array([1., 1., 1., 1., 1., 1., 1., 1., 1., 1.])"
      ]
     },
     "execution_count": 23,
     "metadata": {},
     "output_type": "execute_result"
    }
   ],
   "source": [
    "# np.ones() : 인자로 받은 크기만큼, 모든 요소가 1인 array 생성\n",
    "\n",
    "np.ones(10)"
   ]
  },
  {
   "cell_type": "code",
   "execution_count": 24,
   "metadata": {
    "scrolled": true
   },
   "outputs": [
    {
     "data": {
      "text/plain": [
       "array([[1., 1., 1., 1., 1.],\n",
       "       [1., 1., 1., 1., 1.],\n",
       "       [1., 1., 1., 1., 1.]])"
      ]
     },
     "execution_count": 24,
     "metadata": {},
     "output_type": "execute_result"
    }
   ],
   "source": [
    "np.ones((3,5))"
   ]
  },
  {
   "cell_type": "code",
   "execution_count": 25,
   "metadata": {},
   "outputs": [
    {
     "data": {
      "text/plain": [
       "array([0, 1, 2, 3, 4, 5, 6, 7, 8, 9])"
      ]
     },
     "execution_count": 25,
     "metadata": {},
     "output_type": "execute_result"
    }
   ],
   "source": [
    "# np.arange() : 인자로 받은 크기만큼 1씩 증가하는 array 생성\n",
    "# 하나의 인자 -> 0 ~ (인자 - 1) / 두 개의 인자 -> 인자1 ~ (인자2 - 1)\n",
    "\n",
    "np.arange(10)"
   ]
  },
  {
   "cell_type": "code",
   "execution_count": 26,
   "metadata": {},
   "outputs": [
    {
     "data": {
      "text/plain": [
       "array([3, 4])"
      ]
     },
     "execution_count": 26,
     "metadata": {},
     "output_type": "execute_result"
    }
   ],
   "source": [
    "np.arange(3,5)"
   ]
  },
  {
   "cell_type": "markdown",
   "metadata": {},
   "source": [
    "Array 연산  \n",
    "  * 기본적으로 array끼리 크기가 동일해야 함"
   ]
  },
  {
   "cell_type": "code",
   "execution_count": 27,
   "metadata": {
    "id": "y7ugaPszKHQ8"
   },
   "outputs": [],
   "source": [
    "x = np.array(range(1,4))"
   ]
  },
  {
   "cell_type": "code",
   "execution_count": 28,
   "metadata": {
    "id": "J1-Whq_jbyut"
   },
   "outputs": [
    {
     "data": {
      "text/plain": [
       "array([1, 2, 3])"
      ]
     },
     "execution_count": 28,
     "metadata": {},
     "output_type": "execute_result"
    }
   ],
   "source": [
    "x"
   ]
  },
  {
   "cell_type": "code",
   "execution_count": 29,
   "metadata": {
    "id": "ufw01WF0KOph"
   },
   "outputs": [],
   "source": [
    "y = np.array(range(5,8))"
   ]
  },
  {
   "cell_type": "code",
   "execution_count": 30,
   "metadata": {
    "id": "ejulZ9jYb0Ks"
   },
   "outputs": [
    {
     "data": {
      "text/plain": [
       "array([5, 6, 7])"
      ]
     },
     "execution_count": 30,
     "metadata": {},
     "output_type": "execute_result"
    }
   ],
   "source": [
    "y"
   ]
  },
  {
   "cell_type": "code",
   "execution_count": 31,
   "metadata": {
    "id": "lKcksU1dKTPA"
   },
   "outputs": [
    {
     "data": {
      "text/plain": [
       "array([ 6,  8, 10])"
      ]
     },
     "execution_count": 31,
     "metadata": {},
     "output_type": "execute_result"
    }
   ],
   "source": [
    "x+y"
   ]
  },
  {
   "cell_type": "code",
   "execution_count": 32,
   "metadata": {
    "id": "3M7GYa_iKY81"
   },
   "outputs": [
    {
     "data": {
      "text/plain": [
       "array([ 5, 12, 21])"
      ]
     },
     "execution_count": 32,
     "metadata": {},
     "output_type": "execute_result"
    }
   ],
   "source": [
    "x*y"
   ]
  },
  {
   "cell_type": "code",
   "execution_count": 33,
   "metadata": {
    "id": "aRnGFw-DKceM"
   },
   "outputs": [
    {
     "data": {
      "text/plain": [
       "array([10, 24, 42])"
      ]
     },
     "execution_count": 33,
     "metadata": {},
     "output_type": "execute_result"
    }
   ],
   "source": [
    "x*2*y"
   ]
  },
  {
   "cell_type": "markdown",
   "metadata": {},
   "source": [
    "Array 브로드캐스팅(Broadcasting)  \n",
    "  * 크기가 다른 array의 연산을 제공\n",
    "  * array + 스칼라 값(상수)인 경우\n",
    "  * 차원이 다르지만 행/열의 개수가 같은 경우\n",
    "    * 이때 열/행의 개수는 1이어야 확장이 가능 "
   ]
  },
  {
   "cell_type": "code",
   "execution_count": 34,
   "metadata": {
    "scrolled": true
   },
   "outputs": [
    {
     "name": "stdout",
     "output_type": "stream",
     "text": [
      "[[ 1  2  3  4]\n",
      " [ 5  6  7  8]\n",
      " [ 9 10 11 12]] \n",
      "\n",
      "[[4]\n",
      " [6]\n",
      " [8]] \n",
      "\n",
      "[[ 5  6  7  8]\n",
      " [11 12 13 14]\n",
      " [17 18 19 20]]\n"
     ]
    }
   ],
   "source": [
    "ary1 = np.array([[1,2,3,4],[5,6,7,8],[9,10,11,12]])\n",
    "print(ary1,'\\n')\n",
    "\n",
    "ary2 = np.array([[4],[6],[8]])\n",
    "print(ary2,'\\n')\n",
    "\n",
    "print(ary1+ary2)"
   ]
  },
  {
   "cell_type": "markdown",
   "metadata": {},
   "source": [
    "Array 인덱싱  \n",
    "  * 1차원"
   ]
  },
  {
   "cell_type": "code",
   "execution_count": 37,
   "metadata": {},
   "outputs": [
    {
     "name": "stdout",
     "output_type": "stream",
     "text": [
      "1\n",
      "[1 2 3 4]\n",
      "[0 1 2 3 4 5 6 7 8 9]\n"
     ]
    }
   ],
   "source": [
    "# 1차원 배열 생성\n",
    "arr1 = np.arange(10)\n",
    "\n",
    "# array의 1번째 원소\n",
    "print(arr1[1])\n",
    "\n",
    "# 1번째부터 5번째 원소\n",
    "print(arr1[1:5])\n",
    "\n",
    "# 모든 원소\n",
    "print(arr1[:])"
   ]
  },
  {
   "cell_type": "markdown",
   "metadata": {},
   "source": [
    "  * 1차원이 아닌 경우"
   ]
  },
  {
   "cell_type": "code",
   "execution_count": 38,
   "metadata": {},
   "outputs": [
    {
     "name": "stdout",
     "output_type": "stream",
     "text": [
      "1\n",
      "12\n",
      "[ 9 10 11 12]\n",
      "[ 4  8 12]\n"
     ]
    }
   ],
   "source": [
    "# 2차원 배열 생성\n",
    "arr2 = np.array([[1,2,3,4],[5,6,7,8],[9,10,11,12]])\n",
    "\n",
    "# 1차원이 아닌 경우, 차원의 개수만큼 인자를 입력해야 함\n",
    "print(arr2[0,0])\n",
    "\n",
    "# 2행의 3번째 원소\n",
    "print(arr2[2,3])\n",
    "\n",
    "# 2행의 모든 원소\n",
    "print(arr2[2,:])\n",
    "\n",
    "# 모든 행의 3번째 원소\n",
    "print(arr2[:,3])"
   ]
  },
  {
   "cell_type": "markdown",
   "metadata": {},
   "source": [
    "Array Boolean 인덱싱(마스크)  \n",
    "  * boolean 인덱싱을 통해, 원하는 원소만을 보여줄 수 있음"
   ]
  },
  {
   "cell_type": "code",
   "execution_count": 51,
   "metadata": {},
   "outputs": [
    {
     "name": "stdout",
     "output_type": "stream",
     "text": [
      "['Kim' 'Kim' 'Hoo' 'Jeong' 'woman' 'Kim' '22' 'Kim'] \n",
      "\n",
      "[[0.23204785 0.48635923 0.14540422 0.52771883]\n",
      " [0.95696845 0.44237501 0.33845035 0.67542161]\n",
      " [0.61841704 0.51650207 0.25551443 0.73798182]\n",
      " [0.3089856  0.60285507 0.119194   0.89987358]\n",
      " [0.58633086 0.39169655 0.50004546 0.06791584]\n",
      " [0.79704225 0.67710734 0.80137437 0.54302352]\n",
      " [0.37962655 0.97163528 0.56727274 0.48777421]\n",
      " [0.50040451 0.9119555  0.2454091  0.84931755]]\n"
     ]
    }
   ],
   "source": [
    "names = np.array(['Kim', 'Kim', 'Hoo','Jeong','woman','Kim','22','Kim'])\n",
    "print(names,'\\n')\n",
    "\n",
    "# np.random 함수를 사용해, 난수 생성\n",
    "data = np.random.rand(8,4)\n",
    "print(data)"
   ]
  },
  {
   "cell_type": "markdown",
   "metadata": {},
   "source": [
    "    - names의 각 원소가 data의 각 행과 연결된다고 가정\n",
    "    - names의 원소가 'Kim'인 행의 data만 보고싶을 경우, 다음과 같이 마스크 사용"
   ]
  },
  {
   "cell_type": "code",
   "execution_count": 42,
   "metadata": {},
   "outputs": [
    {
     "name": "stdout",
     "output_type": "stream",
     "text": [
      "[ True  True False False False  True False  True] \n",
      "\n",
      "[[0.52466741 0.74964961 0.16789818 0.68839266]\n",
      " [0.79003516 0.62019099 0.30122745 0.69790218]\n",
      " [0.8442796  0.09664203 0.44457309 0.42982139]\n",
      " [0.50599438 0.25057873 0.5929243  0.82511746]]\n"
     ]
    }
   ],
   "source": [
    "# 원소가 'Kim'일 때, 이에 대한 mask 생성\n",
    "names_mask = (names == 'Kim')\n",
    "print(names_mask,'\\n')\n",
    "\n",
    "# 마스크가 해당하는 행의 모든 원소\n",
    "print(data[names_mask, :])"
   ]
  },
  {
   "cell_type": "code",
   "execution_count": 44,
   "metadata": {},
   "outputs": [
    {
     "name": "stdout",
     "output_type": "stream",
     "text": [
      "[[0.52466741 0.74964961 0.16789818 0.68839266]\n",
      " [0.79003516 0.62019099 0.30122745 0.69790218]\n",
      " [0.8442796  0.09664203 0.44457309 0.42982139]\n",
      " [0.50599438 0.25057873 0.5929243  0.82511746]] \n",
      "\n",
      "[[0.52466741 0.74964961 0.16789818 0.68839266]\n",
      " [0.79003516 0.62019099 0.30122745 0.69790218]\n",
      " [0.93658271 0.38568087 0.37783639 0.85629766]\n",
      " [0.8442796  0.09664203 0.44457309 0.42982139]\n",
      " [0.50599438 0.25057873 0.5929243  0.82511746]]\n"
     ]
    }
   ],
   "source": [
    "# 원소가 'Kim'인 행의 데이터만 출력\n",
    "print(data[names == 'Kim'],'\\n')\n",
    "\n",
    "# 논리 연산을 사용해, 원소가 'Kim' 또는 'Hoo'인 행의 데이터 출력\n",
    "print(data[(names == 'Kim') | (names == 'Hoo'), :])"
   ]
  },
  {
   "cell_type": "markdown",
   "metadata": {},
   "source": [
    "    - mask 활용"
   ]
  },
  {
   "cell_type": "code",
   "execution_count": 52,
   "metadata": {},
   "outputs": [
    {
     "data": {
      "text/plain": [
       "array([ True, False, False,  True, False, False,  True, False])"
      ]
     },
     "execution_count": 52,
     "metadata": {},
     "output_type": "execute_result"
    }
   ],
   "source": [
    "# 마스크 생성\n",
    "# data array에서 모든 행의 0번째 열중, 0.5보다 작은 원소의 boolean 값\n",
    "\n",
    "mask = data[:,0]<0.5\n",
    "mask"
   ]
  },
  {
   "cell_type": "code",
   "execution_count": 53,
   "metadata": {},
   "outputs": [
    {
     "data": {
      "text/plain": [
       "array([[0.23204785, 0.48635923, 0.14540422, 0.52771883],\n",
       "       [0.3089856 , 0.60285507, 0.119194  , 0.89987358],\n",
       "       [0.37962655, 0.97163528, 0.56727274, 0.48777421]])"
      ]
     },
     "execution_count": 53,
     "metadata": {},
     "output_type": "execute_result"
    }
   ],
   "source": [
    "# 위에서 생성한 마스크를 사용해, 0번째 열 중에서 값이 0.5보다 작은 행 출력\n",
    "data[mask, :]"
   ]
  },
  {
   "cell_type": "code",
   "execution_count": 54,
   "metadata": {
    "scrolled": true
   },
   "outputs": [
    {
     "data": {
      "text/plain": [
       "array([[ 0.23204785,  0.48635923, -1.        , -1.        ],\n",
       "       [ 0.95696845,  0.44237501,  0.33845035,  0.67542161],\n",
       "       [ 0.61841704,  0.51650207,  0.25551443,  0.73798182],\n",
       "       [ 0.3089856 ,  0.60285507, -1.        , -1.        ],\n",
       "       [ 0.58633086,  0.39169655,  0.50004546,  0.06791584],\n",
       "       [ 0.79704225,  0.67710734,  0.80137437,  0.54302352],\n",
       "       [ 0.37962655,  0.97163528, -1.        , -1.        ],\n",
       "       [ 0.50040451,  0.9119555 ,  0.2454091 ,  0.84931755]])"
      ]
     },
     "execution_count": 54,
     "metadata": {},
     "output_type": "execute_result"
    }
   ],
   "source": [
    "# 0번째 열 중에서 0.5보다 작은 행의 2, 3번째 열의 값을 -1로 변경\n",
    "data[mask, 2:4] = -1\n",
    "data"
   ]
  },
  {
   "cell_type": "markdown",
   "metadata": {},
   "source": [
    "Array 적용 함수\n",
    "  * 구글링 하면서 ㄱ"
   ]
  },
  {
   "cell_type": "code",
   "execution_count": 60,
   "metadata": {},
   "outputs": [
    {
     "name": "stdout",
     "output_type": "stream",
     "text": [
      "[[0.28339278 0.99571716 0.35539185]\n",
      " [0.49360169 0.47683892 0.09821486]\n",
      " [0.66536573 0.59790527 0.66740164]\n",
      " [0.77343076 0.93310372 0.90445983]\n",
      " [0.07741601 0.14283435 0.77586198]] \n",
      "\n",
      "[[0.53234649 0.99785628 0.59614751]\n",
      " [0.70256792 0.69053524 0.31339249]\n",
      " [0.81569953 0.77324334 0.81694654]\n",
      " [0.87944912 0.96597294 0.95103093]\n",
      " [0.27823733 0.37793432 0.88083028]] \n",
      "\n",
      "[[1. 1. 1.]\n",
      " [1. 1. 1.]\n",
      " [1. 1. 1.]\n",
      " [1. 1. 1.]\n",
      " [1. 1. 1.]]\n"
     ]
    }
   ],
   "source": [
    "# 난수\n",
    "f_arr = np.random.rand(5,3)\n",
    "\n",
    "# 각 성분의 절대값\n",
    "print(np.abs(f_arr), '\\n')\n",
    "\n",
    "# 각 성분의 제곱근 (제곱은 square)\n",
    "print(np.sqrt(f_arr), '\\n')\n",
    "\n",
    "# 각 성분을 소수 첫 번째 자리에서 올림 (반대는 floor)\n",
    "print(np.ceil(f_arr))"
   ]
  },
  {
   "cell_type": "markdown",
   "metadata": {
    "id": "MrVl6z6uAks1"
   },
   "source": [
    "- 차원 변경\n",
    "  - reshape(n,m) : row(행) n, column(열) m의 차원으로 변경\n",
    "  - reshape(-1, m) : column m 차원으로 row를 자동으로 변경\n",
    "  - reshape(-1,) : 1차원 으로 변경"
   ]
  },
  {
   "cell_type": "code",
   "execution_count": 61,
   "metadata": {
    "id": "MzDKCZ8Z8t5p"
   },
   "outputs": [],
   "source": [
    "np_4_5 = np_array.reshape(4,5)"
   ]
  },
  {
   "cell_type": "code",
   "execution_count": 62,
   "metadata": {
    "id": "lGxmJsDp_dJh"
   },
   "outputs": [
    {
     "data": {
      "text/plain": [
       "array([[ 0,  1,  2,  3,  4],\n",
       "       [ 5,  6,  7,  8,  9],\n",
       "       [10, 11, 12, 13, 14],\n",
       "       [15, 16, 17, 18, 19]])"
      ]
     },
     "execution_count": 62,
     "metadata": {},
     "output_type": "execute_result"
    }
   ],
   "source": [
    "np_4_5"
   ]
  },
  {
   "cell_type": "code",
   "execution_count": 63,
   "metadata": {
    "id": "ltdoMbUd_nJk"
   },
   "outputs": [],
   "source": [
    "np_1_20 = np_4_5.reshape(1, 20)"
   ]
  },
  {
   "cell_type": "code",
   "execution_count": 64,
   "metadata": {
    "id": "WD3o-W7U_sgJ"
   },
   "outputs": [
    {
     "data": {
      "text/plain": [
       "array([[ 0,  1,  2,  3,  4,  5,  6,  7,  8,  9, 10, 11, 12, 13, 14, 15,\n",
       "        16, 17, 18, 19]])"
      ]
     },
     "execution_count": 64,
     "metadata": {},
     "output_type": "execute_result"
    }
   ],
   "source": [
    "np_1_20"
   ]
  },
  {
   "cell_type": "code",
   "execution_count": 65,
   "metadata": {
    "id": "_44u7MCJ_3ei"
   },
   "outputs": [],
   "source": [
    "np_1 = np_1_20.reshape(-1,)"
   ]
  },
  {
   "cell_type": "code",
   "execution_count": 66,
   "metadata": {
    "id": "z3T3sy28AbJh"
   },
   "outputs": [
    {
     "data": {
      "text/plain": [
       "array([ 0,  1,  2,  3,  4,  5,  6,  7,  8,  9, 10, 11, 12, 13, 14, 15, 16,\n",
       "       17, 18, 19])"
      ]
     },
     "execution_count": 66,
     "metadata": {},
     "output_type": "execute_result"
    }
   ],
   "source": [
    "np_1"
   ]
  },
  {
   "cell_type": "markdown",
   "metadata": {
    "id": "UwdTcRhjBP9S"
   },
   "source": [
    "### pandas\n",
    "데이터 분석 및 조회를 쉽게 사용 하는 라이브러리, \n",
    "표 형태로 이용한다\n",
    "- Series : 1차원\n",
    "- DataFrame : 2차원\n",
    "- Panel : 3차원"
   ]
  },
  {
   "cell_type": "code",
   "execution_count": 1,
   "metadata": {
    "id": "-Z3luou3AceT"
   },
   "outputs": [],
   "source": [
    "# pd라는 이름으로 사용한다(관례상)\n",
    "import pandas as pd"
   ]
  },
  {
   "cell_type": "markdown",
   "metadata": {
    "id": "oeoy_qNbHNua"
   },
   "source": [
    "- series"
   ]
  },
  {
   "cell_type": "code",
   "execution_count": 26,
   "metadata": {
    "id": "h14zErzYBeEJ"
   },
   "outputs": [
    {
     "name": "stdout",
     "output_type": "stream",
     "text": [
      "0     A\n",
      "1    B+\n",
      "2    A+\n",
      "3     B\n",
      "dtype: object\n"
     ]
    }
   ],
   "source": [
    "# Series 생성\n",
    "sr = pd.Series(['A', 'B+', 'A+', 'B'])\n",
    "print(sr)"
   ]
  },
  {
   "cell_type": "code",
   "execution_count": 27,
   "metadata": {
    "id": "AoM7YD8jG-eJ"
   },
   "outputs": [
    {
     "name": "stdout",
     "output_type": "stream",
     "text": [
      "['A' 'B+' 'A+' 'B']\n"
     ]
    }
   ],
   "source": [
    "# Series의 값만 확인\n",
    "print(sr.values)"
   ]
  },
  {
   "cell_type": "code",
   "execution_count": 28,
   "metadata": {
    "id": "hVkzJE5JHE7b"
   },
   "outputs": [
    {
     "data": {
      "text/plain": [
       "numpy.ndarray"
      ]
     },
     "execution_count": 28,
     "metadata": {},
     "output_type": "execute_result"
    }
   ],
   "source": [
    "# Series의 자료형 확인\n",
    "type(sr.values)"
   ]
  },
  {
   "cell_type": "code",
   "execution_count": 31,
   "metadata": {
    "id": "Zzry5-PiHJf0"
   },
   "outputs": [
    {
     "name": "stdout",
     "output_type": "stream",
     "text": [
      "국어    90\n",
      "수학    80\n",
      "영어    70\n",
      "과학    60\n",
      "dtype: object\n"
     ]
    }
   ],
   "source": [
    "# Series의 index 설정 가능\n",
    "sr1 = pd.Series(['90','80','70','60'], index = ['국어','수학','영어','과학'])\n",
    "print(sr1)"
   ]
  },
  {
   "cell_type": "code",
   "execution_count": 32,
   "metadata": {
    "id": "qBIJ5LT8HIED"
   },
   "outputs": [
    {
     "name": "stdout",
     "output_type": "stream",
     "text": [
      "Index(['국어', '수학', '영어', '과학'], dtype='object')\n"
     ]
    }
   ],
   "source": [
    "# index만 확인\n",
    "print(sr1.index)"
   ]
  },
  {
   "cell_type": "markdown",
   "metadata": {},
   "source": [
    "  * dictionary 자료형을 Series의 data로 만들 수 있음\n",
    "  * dictionary의 key가 Series의 index가 됨"
   ]
  },
  {
   "cell_type": "code",
   "execution_count": 33,
   "metadata": {},
   "outputs": [
    {
     "data": {
      "text/plain": [
       "Kim      10\n",
       "Hoo      20\n",
       "Jeong    30\n",
       "22       40\n",
       "dtype: int64"
      ]
     },
     "execution_count": 33,
     "metadata": {},
     "output_type": "execute_result"
    }
   ],
   "source": [
    "sdata = {'Kim' : 10, 'Hoo' : 20, 'Jeong' : 30, '22' : 40}\n",
    "sr3 = pd.Series(sdata)\n",
    "sr3"
   ]
  },
  {
   "cell_type": "code",
   "execution_count": 34,
   "metadata": {},
   "outputs": [
    {
     "data": {
      "text/plain": [
       "Profile\n",
       "Kim      10\n",
       "Hoo      20\n",
       "Jeong    30\n",
       "22       40\n",
       "Name: Name, dtype: int64"
      ]
     },
     "execution_count": 34,
     "metadata": {},
     "output_type": "execute_result"
    }
   ],
   "source": [
    "sr3.name = 'Name'\n",
    "sr3.index.name = \"Profile\"\n",
    "sr3"
   ]
  },
  {
   "cell_type": "code",
   "execution_count": 35,
   "metadata": {},
   "outputs": [
    {
     "data": {
      "text/plain": [
       "A    10\n",
       "B    20\n",
       "C    30\n",
       "D    40\n",
       "Name: Name, dtype: int64"
      ]
     },
     "execution_count": 35,
     "metadata": {},
     "output_type": "execute_result"
    }
   ],
   "source": [
    "# index만 변경하기\n",
    "sr3.index = ['A', 'B', 'C', 'D']\n",
    "sr3"
   ]
  },
  {
   "cell_type": "markdown",
   "metadata": {
    "id": "vaGoSOKoH93Y"
   },
   "source": [
    "- dataframe"
   ]
  },
  {
   "cell_type": "code",
   "execution_count": 39,
   "metadata": {
    "id": "gspsYHNDHxpy"
   },
   "outputs": [
    {
     "data": {
      "text/html": [
       "<div>\n",
       "<style scoped>\n",
       "    .dataframe tbody tr th:only-of-type {\n",
       "        vertical-align: middle;\n",
       "    }\n",
       "\n",
       "    .dataframe tbody tr th {\n",
       "        vertical-align: top;\n",
       "    }\n",
       "\n",
       "    .dataframe thead th {\n",
       "        text-align: right;\n",
       "    }\n",
       "</style>\n",
       "<table border=\"1\" class=\"dataframe\">\n",
       "  <thead>\n",
       "    <tr style=\"text-align: right;\">\n",
       "      <th></th>\n",
       "      <th>0</th>\n",
       "      <th>1</th>\n",
       "      <th>2</th>\n",
       "    </tr>\n",
       "  </thead>\n",
       "  <tbody>\n",
       "    <tr>\n",
       "      <th>0</th>\n",
       "      <td>1</td>\n",
       "      <td>a</td>\n",
       "      <td>90.72</td>\n",
       "    </tr>\n",
       "    <tr>\n",
       "      <th>1</th>\n",
       "      <td>2</td>\n",
       "      <td>b</td>\n",
       "      <td>78.09</td>\n",
       "    </tr>\n",
       "    <tr>\n",
       "      <th>2</th>\n",
       "      <td>3</td>\n",
       "      <td>c</td>\n",
       "      <td>98.43</td>\n",
       "    </tr>\n",
       "    <tr>\n",
       "      <th>3</th>\n",
       "      <td>4</td>\n",
       "      <td>d</td>\n",
       "      <td>64.19</td>\n",
       "    </tr>\n",
       "    <tr>\n",
       "      <th>4</th>\n",
       "      <td>5</td>\n",
       "      <td>e</td>\n",
       "      <td>81.30</td>\n",
       "    </tr>\n",
       "    <tr>\n",
       "      <th>5</th>\n",
       "      <td>6</td>\n",
       "      <td>f</td>\n",
       "      <td>99.14</td>\n",
       "    </tr>\n",
       "  </tbody>\n",
       "</table>\n",
       "</div>"
      ],
      "text/plain": [
       "   0  1      2\n",
       "0  1  a  90.72\n",
       "1  2  b  78.09\n",
       "2  3  c  98.43\n",
       "3  4  d  64.19\n",
       "4  5  e  81.30\n",
       "5  6  f  99.14"
      ]
     },
     "execution_count": 39,
     "metadata": {},
     "output_type": "execute_result"
    }
   ],
   "source": [
    "# Data Frame 생성\n",
    "# Data Frame에 들어갈 data를 정의할 때, dictionary나 array로 정의할 수 있음\n",
    "\n",
    "data = [\n",
    "    ['1', 'a', 90.72], \n",
    "    ['2', 'b', 78.09], \n",
    "    ['3', 'c', 98.43], \n",
    "    ['4', 'd', 64.19], \n",
    "    ['5', 'e', 81.30],\n",
    "    ['6', 'f', 99.14],\n",
    "]\n",
    "df = pd.DataFrame(data)\n",
    "df"
   ]
  },
  {
   "cell_type": "code",
   "execution_count": 40,
   "metadata": {},
   "outputs": [
    {
     "name": "stdout",
     "output_type": "stream",
     "text": [
      "RangeIndex(start=0, stop=6, step=1) \n",
      "\n",
      "RangeIndex(start=0, stop=3, step=1) \n",
      "\n",
      "[['1' 'a' 90.72]\n",
      " ['2' 'b' 78.09]\n",
      " ['3' 'c' 98.43]\n",
      " ['4' 'd' 64.19]\n",
      " ['5' 'e' 81.3]\n",
      " ['6' 'f' 99.14]]\n"
     ]
    }
   ],
   "source": [
    "# 행과 열의 구조를 가진 data가 생성 됨\n",
    "\n",
    "# 행 방향의 index\n",
    "print(df.index,'\\n')\n",
    "\n",
    "# 열 방향의 index\n",
    "print(df.columns,'\\n')\n",
    "\n",
    "# data 얻기\n",
    "print(df.values)"
   ]
  },
  {
   "cell_type": "code",
   "execution_count": 43,
   "metadata": {
    "id": "inZUM_RZI4bs"
   },
   "outputs": [
    {
     "data": {
      "text/html": [
       "<div>\n",
       "<style scoped>\n",
       "    .dataframe tbody tr th:only-of-type {\n",
       "        vertical-align: middle;\n",
       "    }\n",
       "\n",
       "    .dataframe tbody tr th {\n",
       "        vertical-align: top;\n",
       "    }\n",
       "\n",
       "    .dataframe thead th {\n",
       "        text-align: right;\n",
       "    }\n",
       "</style>\n",
       "<table border=\"1\" class=\"dataframe\">\n",
       "  <thead>\n",
       "    <tr style=\"text-align: right;\">\n",
       "      <th></th>\n",
       "      <th>학번</th>\n",
       "      <th>이름</th>\n",
       "      <th>점수</th>\n",
       "    </tr>\n",
       "  </thead>\n",
       "  <tbody>\n",
       "    <tr>\n",
       "      <th>One</th>\n",
       "      <td>1</td>\n",
       "      <td>a</td>\n",
       "      <td>90.72</td>\n",
       "    </tr>\n",
       "    <tr>\n",
       "      <th>Two</th>\n",
       "      <td>2</td>\n",
       "      <td>b</td>\n",
       "      <td>78.09</td>\n",
       "    </tr>\n",
       "    <tr>\n",
       "      <th>Three</th>\n",
       "      <td>3</td>\n",
       "      <td>c</td>\n",
       "      <td>98.43</td>\n",
       "    </tr>\n",
       "    <tr>\n",
       "      <th>Four</th>\n",
       "      <td>4</td>\n",
       "      <td>d</td>\n",
       "      <td>64.19</td>\n",
       "    </tr>\n",
       "    <tr>\n",
       "      <th>Five</th>\n",
       "      <td>5</td>\n",
       "      <td>e</td>\n",
       "      <td>81.30</td>\n",
       "    </tr>\n",
       "    <tr>\n",
       "      <th>Six</th>\n",
       "      <td>6</td>\n",
       "      <td>f</td>\n",
       "      <td>99.14</td>\n",
       "    </tr>\n",
       "  </tbody>\n",
       "</table>\n",
       "</div>"
      ],
      "text/plain": [
       "      학번 이름     점수\n",
       "One    1  a  90.72\n",
       "Two    2  b  78.09\n",
       "Three  3  c  98.43\n",
       "Four   4  d  64.19\n",
       "Five   5  e  81.30\n",
       "Six    6  f  99.14"
      ]
     },
     "execution_count": 43,
     "metadata": {},
     "output_type": "execute_result"
    }
   ],
   "source": [
    "# Data Frame을 만들며, index와 columns를 설정할 수 있음\n",
    "\n",
    "df = pd.DataFrame(data, columns=['학번', '이름', '점수'], index=['One', 'Two', 'Three', 'Four', 'Five', 'Six'])\n",
    "df"
   ]
  },
  {
   "cell_type": "code",
   "execution_count": 44,
   "metadata": {
    "id": "t14N2ZjOI_Br"
   },
   "outputs": [
    {
     "data": {
      "text/html": [
       "<div>\n",
       "<style scoped>\n",
       "    .dataframe tbody tr th:only-of-type {\n",
       "        vertical-align: middle;\n",
       "    }\n",
       "\n",
       "    .dataframe tbody tr th {\n",
       "        vertical-align: top;\n",
       "    }\n",
       "\n",
       "    .dataframe thead th {\n",
       "        text-align: right;\n",
       "    }\n",
       "</style>\n",
       "<table border=\"1\" class=\"dataframe\">\n",
       "  <thead>\n",
       "    <tr style=\"text-align: right;\">\n",
       "      <th></th>\n",
       "      <th>학번</th>\n",
       "      <th>이름</th>\n",
       "      <th>점수</th>\n",
       "    </tr>\n",
       "  </thead>\n",
       "  <tbody>\n",
       "    <tr>\n",
       "      <th>One</th>\n",
       "      <td>1</td>\n",
       "      <td>a</td>\n",
       "      <td>90.72</td>\n",
       "    </tr>\n",
       "    <tr>\n",
       "      <th>Two</th>\n",
       "      <td>2</td>\n",
       "      <td>b</td>\n",
       "      <td>78.09</td>\n",
       "    </tr>\n",
       "    <tr>\n",
       "      <th>Three</th>\n",
       "      <td>3</td>\n",
       "      <td>c</td>\n",
       "      <td>98.43</td>\n",
       "    </tr>\n",
       "  </tbody>\n",
       "</table>\n",
       "</div>"
      ],
      "text/plain": [
       "      학번 이름     점수\n",
       "One    1  a  90.72\n",
       "Two    2  b  78.09\n",
       "Three  3  c  98.43"
      ]
     },
     "execution_count": 44,
     "metadata": {},
     "output_type": "execute_result"
    }
   ],
   "source": [
    "df.head(3)"
   ]
  },
  {
   "cell_type": "code",
   "execution_count": 45,
   "metadata": {
    "id": "bHVQk8i1JHHN"
   },
   "outputs": [
    {
     "data": {
      "text/html": [
       "<div>\n",
       "<style scoped>\n",
       "    .dataframe tbody tr th:only-of-type {\n",
       "        vertical-align: middle;\n",
       "    }\n",
       "\n",
       "    .dataframe tbody tr th {\n",
       "        vertical-align: top;\n",
       "    }\n",
       "\n",
       "    .dataframe thead th {\n",
       "        text-align: right;\n",
       "    }\n",
       "</style>\n",
       "<table border=\"1\" class=\"dataframe\">\n",
       "  <thead>\n",
       "    <tr style=\"text-align: right;\">\n",
       "      <th></th>\n",
       "      <th>학번</th>\n",
       "      <th>이름</th>\n",
       "      <th>점수</th>\n",
       "    </tr>\n",
       "  </thead>\n",
       "  <tbody>\n",
       "    <tr>\n",
       "      <th>Four</th>\n",
       "      <td>4</td>\n",
       "      <td>d</td>\n",
       "      <td>64.19</td>\n",
       "    </tr>\n",
       "    <tr>\n",
       "      <th>Five</th>\n",
       "      <td>5</td>\n",
       "      <td>e</td>\n",
       "      <td>81.30</td>\n",
       "    </tr>\n",
       "    <tr>\n",
       "      <th>Six</th>\n",
       "      <td>6</td>\n",
       "      <td>f</td>\n",
       "      <td>99.14</td>\n",
       "    </tr>\n",
       "  </tbody>\n",
       "</table>\n",
       "</div>"
      ],
      "text/plain": [
       "     학번 이름     점수\n",
       "Four  4  d  64.19\n",
       "Five  5  e  81.30\n",
       "Six   6  f  99.14"
      ]
     },
     "execution_count": 45,
     "metadata": {},
     "output_type": "execute_result"
    }
   ],
   "source": [
    "df.tail(3)"
   ]
  },
  {
   "cell_type": "code",
   "execution_count": 46,
   "metadata": {
    "id": "hJZIBBMXJNUC"
   },
   "outputs": [
    {
     "data": {
      "text/plain": [
       "One      a\n",
       "Two      b\n",
       "Three    c\n",
       "Four     d\n",
       "Five     e\n",
       "Six      f\n",
       "Name: 이름, dtype: object"
      ]
     },
     "execution_count": 46,
     "metadata": {},
     "output_type": "execute_result"
    }
   ],
   "source": [
    "df['이름']"
   ]
  },
  {
   "cell_type": "markdown",
   "metadata": {
    "id": "f89bagO1JZmx"
   },
   "source": [
    "- 외부 데이터 읽기"
   ]
  },
  {
   "cell_type": "code",
   "execution_count": 47,
   "metadata": {
    "id": "rVqRf2A2JS0I"
   },
   "outputs": [
    {
     "ename": "ValueError",
     "evalue": "Expected object or value",
     "output_type": "error",
     "traceback": [
      "\u001b[1;31m---------------------------------------------------------------------------\u001b[0m",
      "\u001b[1;31mValueError\u001b[0m                                Traceback (most recent call last)",
      "\u001b[1;32m<ipython-input-47-0aa1f9995183>\u001b[0m in \u001b[0;36m<module>\u001b[1;34m\u001b[0m\n\u001b[1;32m----> 1\u001b[1;33m \u001b[0mdf\u001b[0m\u001b[1;33m=\u001b[0m\u001b[0mpd\u001b[0m\u001b[1;33m.\u001b[0m\u001b[0mread_json\u001b[0m\u001b[1;33m(\u001b[0m\u001b[1;34m'sample_data/anscombe.json'\u001b[0m\u001b[1;33m)\u001b[0m\u001b[1;33m\u001b[0m\u001b[1;33m\u001b[0m\u001b[0m\n\u001b[0m",
      "\u001b[1;32m~\\.conda\\envs\\d_study\\lib\\site-packages\\pandas\\util\\_decorators.py\u001b[0m in \u001b[0;36mwrapper\u001b[1;34m(*args, **kwargs)\u001b[0m\n\u001b[0;32m    197\u001b[0m                 \u001b[1;32melse\u001b[0m\u001b[1;33m:\u001b[0m\u001b[1;33m\u001b[0m\u001b[1;33m\u001b[0m\u001b[0m\n\u001b[0;32m    198\u001b[0m                     \u001b[0mkwargs\u001b[0m\u001b[1;33m[\u001b[0m\u001b[0mnew_arg_name\u001b[0m\u001b[1;33m]\u001b[0m \u001b[1;33m=\u001b[0m \u001b[0mnew_arg_value\u001b[0m\u001b[1;33m\u001b[0m\u001b[1;33m\u001b[0m\u001b[0m\n\u001b[1;32m--> 199\u001b[1;33m             \u001b[1;32mreturn\u001b[0m \u001b[0mfunc\u001b[0m\u001b[1;33m(\u001b[0m\u001b[1;33m*\u001b[0m\u001b[0margs\u001b[0m\u001b[1;33m,\u001b[0m \u001b[1;33m**\u001b[0m\u001b[0mkwargs\u001b[0m\u001b[1;33m)\u001b[0m\u001b[1;33m\u001b[0m\u001b[1;33m\u001b[0m\u001b[0m\n\u001b[0m\u001b[0;32m    200\u001b[0m \u001b[1;33m\u001b[0m\u001b[0m\n\u001b[0;32m    201\u001b[0m         \u001b[1;32mreturn\u001b[0m \u001b[0mcast\u001b[0m\u001b[1;33m(\u001b[0m\u001b[0mF\u001b[0m\u001b[1;33m,\u001b[0m \u001b[0mwrapper\u001b[0m\u001b[1;33m)\u001b[0m\u001b[1;33m\u001b[0m\u001b[1;33m\u001b[0m\u001b[0m\n",
      "\u001b[1;32m~\\.conda\\envs\\d_study\\lib\\site-packages\\pandas\\util\\_decorators.py\u001b[0m in \u001b[0;36mwrapper\u001b[1;34m(*args, **kwargs)\u001b[0m\n\u001b[0;32m    297\u001b[0m                 )\n\u001b[0;32m    298\u001b[0m                 \u001b[0mwarnings\u001b[0m\u001b[1;33m.\u001b[0m\u001b[0mwarn\u001b[0m\u001b[1;33m(\u001b[0m\u001b[0mmsg\u001b[0m\u001b[1;33m,\u001b[0m \u001b[0mFutureWarning\u001b[0m\u001b[1;33m,\u001b[0m \u001b[0mstacklevel\u001b[0m\u001b[1;33m=\u001b[0m\u001b[0mstacklevel\u001b[0m\u001b[1;33m)\u001b[0m\u001b[1;33m\u001b[0m\u001b[1;33m\u001b[0m\u001b[0m\n\u001b[1;32m--> 299\u001b[1;33m             \u001b[1;32mreturn\u001b[0m \u001b[0mfunc\u001b[0m\u001b[1;33m(\u001b[0m\u001b[1;33m*\u001b[0m\u001b[0margs\u001b[0m\u001b[1;33m,\u001b[0m \u001b[1;33m**\u001b[0m\u001b[0mkwargs\u001b[0m\u001b[1;33m)\u001b[0m\u001b[1;33m\u001b[0m\u001b[1;33m\u001b[0m\u001b[0m\n\u001b[0m\u001b[0;32m    300\u001b[0m \u001b[1;33m\u001b[0m\u001b[0m\n\u001b[0;32m    301\u001b[0m         \u001b[1;32mreturn\u001b[0m \u001b[0mwrapper\u001b[0m\u001b[1;33m\u001b[0m\u001b[1;33m\u001b[0m\u001b[0m\n",
      "\u001b[1;32m~\\.conda\\envs\\d_study\\lib\\site-packages\\pandas\\io\\json\\_json.py\u001b[0m in \u001b[0;36mread_json\u001b[1;34m(path_or_buf, orient, typ, dtype, convert_axes, convert_dates, keep_default_dates, numpy, precise_float, date_unit, encoding, lines, chunksize, compression, nrows, storage_options)\u001b[0m\n\u001b[0;32m    561\u001b[0m \u001b[1;33m\u001b[0m\u001b[0m\n\u001b[0;32m    562\u001b[0m     \u001b[1;32mwith\u001b[0m \u001b[0mjson_reader\u001b[0m\u001b[1;33m:\u001b[0m\u001b[1;33m\u001b[0m\u001b[1;33m\u001b[0m\u001b[0m\n\u001b[1;32m--> 563\u001b[1;33m         \u001b[1;32mreturn\u001b[0m \u001b[0mjson_reader\u001b[0m\u001b[1;33m.\u001b[0m\u001b[0mread\u001b[0m\u001b[1;33m(\u001b[0m\u001b[1;33m)\u001b[0m\u001b[1;33m\u001b[0m\u001b[1;33m\u001b[0m\u001b[0m\n\u001b[0m\u001b[0;32m    564\u001b[0m \u001b[1;33m\u001b[0m\u001b[0m\n\u001b[0;32m    565\u001b[0m \u001b[1;33m\u001b[0m\u001b[0m\n",
      "\u001b[1;32m~\\.conda\\envs\\d_study\\lib\\site-packages\\pandas\\io\\json\\_json.py\u001b[0m in \u001b[0;36mread\u001b[1;34m(self)\u001b[0m\n\u001b[0;32m    692\u001b[0m                 \u001b[0mobj\u001b[0m \u001b[1;33m=\u001b[0m \u001b[0mself\u001b[0m\u001b[1;33m.\u001b[0m\u001b[0m_get_object_parser\u001b[0m\u001b[1;33m(\u001b[0m\u001b[0mself\u001b[0m\u001b[1;33m.\u001b[0m\u001b[0m_combine_lines\u001b[0m\u001b[1;33m(\u001b[0m\u001b[0mdata_lines\u001b[0m\u001b[1;33m)\u001b[0m\u001b[1;33m)\u001b[0m\u001b[1;33m\u001b[0m\u001b[1;33m\u001b[0m\u001b[0m\n\u001b[0;32m    693\u001b[0m         \u001b[1;32melse\u001b[0m\u001b[1;33m:\u001b[0m\u001b[1;33m\u001b[0m\u001b[1;33m\u001b[0m\u001b[0m\n\u001b[1;32m--> 694\u001b[1;33m             \u001b[0mobj\u001b[0m \u001b[1;33m=\u001b[0m \u001b[0mself\u001b[0m\u001b[1;33m.\u001b[0m\u001b[0m_get_object_parser\u001b[0m\u001b[1;33m(\u001b[0m\u001b[0mself\u001b[0m\u001b[1;33m.\u001b[0m\u001b[0mdata\u001b[0m\u001b[1;33m)\u001b[0m\u001b[1;33m\u001b[0m\u001b[1;33m\u001b[0m\u001b[0m\n\u001b[0m\u001b[0;32m    695\u001b[0m         \u001b[0mself\u001b[0m\u001b[1;33m.\u001b[0m\u001b[0mclose\u001b[0m\u001b[1;33m(\u001b[0m\u001b[1;33m)\u001b[0m\u001b[1;33m\u001b[0m\u001b[1;33m\u001b[0m\u001b[0m\n\u001b[0;32m    696\u001b[0m         \u001b[1;32mreturn\u001b[0m \u001b[0mobj\u001b[0m\u001b[1;33m\u001b[0m\u001b[1;33m\u001b[0m\u001b[0m\n",
      "\u001b[1;32m~\\.conda\\envs\\d_study\\lib\\site-packages\\pandas\\io\\json\\_json.py\u001b[0m in \u001b[0;36m_get_object_parser\u001b[1;34m(self, json)\u001b[0m\n\u001b[0;32m    714\u001b[0m         \u001b[0mobj\u001b[0m \u001b[1;33m=\u001b[0m \u001b[1;32mNone\u001b[0m\u001b[1;33m\u001b[0m\u001b[1;33m\u001b[0m\u001b[0m\n\u001b[0;32m    715\u001b[0m         \u001b[1;32mif\u001b[0m \u001b[0mtyp\u001b[0m \u001b[1;33m==\u001b[0m \u001b[1;34m\"frame\"\u001b[0m\u001b[1;33m:\u001b[0m\u001b[1;33m\u001b[0m\u001b[1;33m\u001b[0m\u001b[0m\n\u001b[1;32m--> 716\u001b[1;33m             \u001b[0mobj\u001b[0m \u001b[1;33m=\u001b[0m \u001b[0mFrameParser\u001b[0m\u001b[1;33m(\u001b[0m\u001b[0mjson\u001b[0m\u001b[1;33m,\u001b[0m \u001b[1;33m**\u001b[0m\u001b[0mkwargs\u001b[0m\u001b[1;33m)\u001b[0m\u001b[1;33m.\u001b[0m\u001b[0mparse\u001b[0m\u001b[1;33m(\u001b[0m\u001b[1;33m)\u001b[0m\u001b[1;33m\u001b[0m\u001b[1;33m\u001b[0m\u001b[0m\n\u001b[0m\u001b[0;32m    717\u001b[0m \u001b[1;33m\u001b[0m\u001b[0m\n\u001b[0;32m    718\u001b[0m         \u001b[1;32mif\u001b[0m \u001b[0mtyp\u001b[0m \u001b[1;33m==\u001b[0m \u001b[1;34m\"series\"\u001b[0m \u001b[1;32mor\u001b[0m \u001b[0mobj\u001b[0m \u001b[1;32mis\u001b[0m \u001b[1;32mNone\u001b[0m\u001b[1;33m:\u001b[0m\u001b[1;33m\u001b[0m\u001b[1;33m\u001b[0m\u001b[0m\n",
      "\u001b[1;32m~\\.conda\\envs\\d_study\\lib\\site-packages\\pandas\\io\\json\\_json.py\u001b[0m in \u001b[0;36mparse\u001b[1;34m(self)\u001b[0m\n\u001b[0;32m    829\u001b[0m \u001b[1;33m\u001b[0m\u001b[0m\n\u001b[0;32m    830\u001b[0m         \u001b[1;32melse\u001b[0m\u001b[1;33m:\u001b[0m\u001b[1;33m\u001b[0m\u001b[1;33m\u001b[0m\u001b[0m\n\u001b[1;32m--> 831\u001b[1;33m             \u001b[0mself\u001b[0m\u001b[1;33m.\u001b[0m\u001b[0m_parse_no_numpy\u001b[0m\u001b[1;33m(\u001b[0m\u001b[1;33m)\u001b[0m\u001b[1;33m\u001b[0m\u001b[1;33m\u001b[0m\u001b[0m\n\u001b[0m\u001b[0;32m    832\u001b[0m \u001b[1;33m\u001b[0m\u001b[0m\n\u001b[0;32m    833\u001b[0m         \u001b[1;32mif\u001b[0m \u001b[0mself\u001b[0m\u001b[1;33m.\u001b[0m\u001b[0mobj\u001b[0m \u001b[1;32mis\u001b[0m \u001b[1;32mNone\u001b[0m\u001b[1;33m:\u001b[0m\u001b[1;33m\u001b[0m\u001b[1;33m\u001b[0m\u001b[0m\n",
      "\u001b[1;32m~\\.conda\\envs\\d_study\\lib\\site-packages\\pandas\\io\\json\\_json.py\u001b[0m in \u001b[0;36m_parse_no_numpy\u001b[1;34m(self)\u001b[0m\n\u001b[0;32m   1077\u001b[0m         \u001b[1;32mif\u001b[0m \u001b[0morient\u001b[0m \u001b[1;33m==\u001b[0m \u001b[1;34m\"columns\"\u001b[0m\u001b[1;33m:\u001b[0m\u001b[1;33m\u001b[0m\u001b[1;33m\u001b[0m\u001b[0m\n\u001b[0;32m   1078\u001b[0m             self.obj = DataFrame(\n\u001b[1;32m-> 1079\u001b[1;33m                 \u001b[0mloads\u001b[0m\u001b[1;33m(\u001b[0m\u001b[0mjson\u001b[0m\u001b[1;33m,\u001b[0m \u001b[0mprecise_float\u001b[0m\u001b[1;33m=\u001b[0m\u001b[0mself\u001b[0m\u001b[1;33m.\u001b[0m\u001b[0mprecise_float\u001b[0m\u001b[1;33m)\u001b[0m\u001b[1;33m,\u001b[0m \u001b[0mdtype\u001b[0m\u001b[1;33m=\u001b[0m\u001b[1;32mNone\u001b[0m\u001b[1;33m\u001b[0m\u001b[1;33m\u001b[0m\u001b[0m\n\u001b[0m\u001b[0;32m   1080\u001b[0m             )\n\u001b[0;32m   1081\u001b[0m         \u001b[1;32melif\u001b[0m \u001b[0morient\u001b[0m \u001b[1;33m==\u001b[0m \u001b[1;34m\"split\"\u001b[0m\u001b[1;33m:\u001b[0m\u001b[1;33m\u001b[0m\u001b[1;33m\u001b[0m\u001b[0m\n",
      "\u001b[1;31mValueError\u001b[0m: Expected object or value"
     ]
    }
   ],
   "source": [
    "df=pd.read_json('sample_data/anscombe.json')"
   ]
  },
  {
   "cell_type": "code",
   "execution_count": null,
   "metadata": {
    "id": "HIQeR1J8VtvL"
   },
   "outputs": [],
   "source": [
    "df"
   ]
  },
  {
   "cell_type": "code",
   "execution_count": null,
   "metadata": {
    "id": "XmjTWkUwJhJe"
   },
   "outputs": [],
   "source": [
    "df1 = pd.read_csv('sample_data/california_housing_train.csv')"
   ]
  },
  {
   "cell_type": "code",
   "execution_count": null,
   "metadata": {
    "id": "aVEyQBnsVu-e"
   },
   "outputs": [],
   "source": [
    "df1"
   ]
  },
  {
   "cell_type": "markdown",
   "metadata": {
    "id": "J9UuwJZWVyvG"
   },
   "source": [
    "- 조건 검색"
   ]
  },
  {
   "cell_type": "code",
   "execution_count": null,
   "metadata": {
    "id": "nSbVa9yqJj-q"
   },
   "outputs": [],
   "source": [
    "df1.loc[df1['median_house_value'] > 100000 ]"
   ]
  },
  {
   "cell_type": "code",
   "execution_count": null,
   "metadata": {
    "id": "j3qnKEN-MASe"
   },
   "outputs": [],
   "source": [
    "df1.loc[(df1['median_house_value'] > 100000) & (df1['housing_median_age'] < 20.0) ]"
   ]
  },
  {
   "cell_type": "markdown",
   "metadata": {
    "id": "KEPtqgp1gqy-"
   },
   "source": [
    "## Tuple\n",
    "- `(val1, val2)`\n",
    "- list와 다른점 : 값을 변경할 수 없다.\n"
   ]
  },
  {
   "cell_type": "code",
   "execution_count": null,
   "metadata": {
    "id": "UIn91EVfMLXD"
   },
   "outputs": [],
   "source": [
    "|sample_tuple = ()\n",
    "sample_tuple = 1,2,3\n",
    "print(sample_tuple)"
   ]
  },
  {
   "cell_type": "markdown",
   "metadata": {
    "id": "tiDS2HKjx0kE"
   },
   "source": [
    "### packing, unpacking\n",
    "- packing\n",
    "  - `sample_tuple = 1,2,3`\n",
    "- unpacking\n",
    "  - `result_1, result_2, result_3 = sample_tuple`"
   ]
  },
  {
   "cell_type": "code",
   "execution_count": null,
   "metadata": {
    "id": "aRN7AnIcxuvE"
   },
   "outputs": [],
   "source": [
    "result_1, result_2, result_3 = sample_tuple"
   ]
  },
  {
   "cell_type": "code",
   "execution_count": null,
   "metadata": {
    "id": "0FiOH4JbyI12"
   },
   "outputs": [],
   "source": [
    "result_1, result_2, result_3 "
   ]
  },
  {
   "cell_type": "markdown",
   "metadata": {
    "id": "P9RYhd6myQ-d"
   },
   "source": [
    "## dictionary\n",
    "- `sample_dic = {key1:value1, key2:value2, ...}`\n",
    "- `value1 = sample_dic['key1']`\n",
    "- `sample_dic['key9']=value9`\n",
    "- `del sample_dic['key9']`"
   ]
  },
  {
   "cell_type": "code",
   "execution_count": null,
   "metadata": {
    "id": "Nv7QnGJbyOPq"
   },
   "outputs": [],
   "source": [
    "sample_dic = {1:'a', 2:'b', 3:'c'}"
   ]
  },
  {
   "cell_type": "code",
   "execution_count": null,
   "metadata": {
    "id": "0-OMeuvSyiYJ"
   },
   "outputs": [],
   "source": [
    "print(sample_dic)"
   ]
  },
  {
   "cell_type": "code",
   "execution_count": null,
   "metadata": {
    "id": "-2ASco9JyjxV"
   },
   "outputs": [],
   "source": [
    "print(sample_dic[1])"
   ]
  },
  {
   "cell_type": "code",
   "execution_count": null,
   "metadata": {
    "id": "pAEz_bvazGXC"
   },
   "outputs": [],
   "source": [
    "sample_dic[9] = 'z'"
   ]
  },
  {
   "cell_type": "code",
   "execution_count": null,
   "metadata": {
    "id": "66ozyBQAzNgg"
   },
   "outputs": [],
   "source": [
    "print(sample_dic)"
   ]
  },
  {
   "cell_type": "code",
   "execution_count": null,
   "metadata": {
    "id": "NW-YZCD5zJT2"
   },
   "outputs": [],
   "source": [
    "del sample_dic[9]"
   ]
  },
  {
   "cell_type": "code",
   "execution_count": null,
   "metadata": {
    "id": "sjdnHMM4zKuO"
   },
   "outputs": [],
   "source": [
    "print(sample_dic)"
   ]
  },
  {
   "cell_type": "markdown",
   "metadata": {
    "id": "Nkmq4lH1zYqT"
   },
   "source": [
    "###  function\n",
    "  - `sample_dic.values()`\n",
    "  - `sample_dic.keys()`\n",
    "  - `sample_dic.items()`\n",
    "  - `sample_dic.get(1)`\n",
    "  - `3 in sample_dic`\n",
    "  - `9 in sample_dic`"
   ]
  },
  {
   "cell_type": "code",
   "execution_count": null,
   "metadata": {
    "id": "8AtrYQGpzLW4"
   },
   "outputs": [],
   "source": [
    "sample_dic.values()"
   ]
  },
  {
   "cell_type": "code",
   "execution_count": null,
   "metadata": {
    "id": "sOq4AF0wz4WJ"
   },
   "outputs": [],
   "source": [
    "sample_dic.keys()"
   ]
  },
  {
   "cell_type": "code",
   "execution_count": null,
   "metadata": {
    "id": "-nuUuqzEz55N"
   },
   "outputs": [],
   "source": [
    "sample_dic.items()"
   ]
  },
  {
   "cell_type": "code",
   "execution_count": null,
   "metadata": {
    "id": "6G5z3UQ3z6-M"
   },
   "outputs": [],
   "source": [
    "sample_dic.get(1)"
   ]
  },
  {
   "cell_type": "code",
   "execution_count": null,
   "metadata": {
    "id": "I2yWvROWz8Hc"
   },
   "outputs": [],
   "source": [
    "3 in sample_dic"
   ]
  },
  {
   "cell_type": "code",
   "execution_count": null,
   "metadata": {
    "id": "-xEZk9f90JmU"
   },
   "outputs": [],
   "source": [
    "9 in sample_dic"
   ]
  },
  {
   "cell_type": "markdown",
   "metadata": {
    "id": "PHsRzTIW1J6L"
   },
   "source": [
    "## 제어문"
   ]
  },
  {
   "cell_type": "markdown",
   "metadata": {
    "id": "iYObheqA0eT7"
   },
   "source": [
    "### if문\n",
    "``` \n",
    "if(condition) :\n",
    "    print(condition)\n",
    "else :\n",
    "    print(condition)\n",
    "```"
   ]
  },
  {
   "cell_type": "code",
   "execution_count": null,
   "metadata": {
    "id": "GO6vckcp0MJm"
   },
   "outputs": [],
   "source": [
    "if 3 in sample_dic:\n",
    "    print('3 in the sample_dic')\n",
    "else:\n",
    "    print('3 not in the sample_dic')"
   ]
  },
  {
   "cell_type": "markdown",
   "metadata": {
    "id": "kB0wH2C84WNa"
   },
   "source": [
    "### while\n",
    "```\n",
    "condition = True\n",
    "index = 0\n",
    "while condition:\n",
    "    print(index)\n",
    "    index += 1\n",
    "    if index == 5:\n",
    "        condition = True\n",
    "```"
   ]
  },
  {
   "cell_type": "code",
   "execution_count": null,
   "metadata": {
    "id": "nPQ_RTXG08Om"
   },
   "outputs": [],
   "source": [
    "condition = True\n",
    "index = 0\n",
    "while condition:\n",
    "    print(index)\n",
    "    index += 1\n",
    "    if index == 5:\n",
    "        condition = False\n"
   ]
  },
  {
   "cell_type": "markdown",
   "metadata": {
    "id": "MgTc6fkl46wn"
   },
   "source": [
    "### for\n",
    "```\n",
    "sample_list = [1,2,3,4,5,6,7,8,9]\n",
    "for i in sample_list:\n",
    "    print(i)  \n",
    "```"
   ]
  },
  {
   "cell_type": "code",
   "execution_count": null,
   "metadata": {
    "id": "y0UsmKeZ1Fth"
   },
   "outputs": [],
   "source": [
    "sample_list = [1,2,3,4,5,6,7,8,9]\n",
    "for i in sample_list:\n",
    "    print(i)"
   ]
  },
  {
   "cell_type": "markdown",
   "metadata": {
    "id": "yPyGXbhO6T-2"
   },
   "source": [
    "```\n",
    "sample_tuple_list = [(1,2), (3,4), (5,6), (7,8), (9, 10)]\n",
    "for (i,j) in sample_tuple_list:\n",
    "    print(i, j)\n",
    "```"
   ]
  },
  {
   "cell_type": "code",
   "execution_count": null,
   "metadata": {
    "id": "GT8dY9fy5KGm"
   },
   "outputs": [],
   "source": [
    "sample_tuple_list = [(1,2), (3,4), (5,6), (7,8), (9, 10)]\n",
    "for (i,j) in sample_tuple_list:\n",
    "    print(i, j)"
   ]
  },
  {
   "cell_type": "markdown",
   "metadata": {
    "id": "hc_aEWVy6Yl9"
   },
   "source": [
    "\n",
    "```\n",
    "for i in range(2,19):\n",
    "    for j in range(2, 19):\n",
    "          print(\"2d*2d=4d\" % (i, j, i*j) \n",
    "    \n",
    "```"
   ]
  },
  {
   "cell_type": "code",
   "execution_count": null,
   "metadata": {
    "id": "Gh_VuIil6Kcb"
   },
   "outputs": [],
   "source": [
    "for i in range(2,19):\n",
    "    for j in range(2, 19):\n",
    "          print(\"%2d*%2d=%4d\" %  (i, j, i*j ) )"
   ]
  },
  {
   "cell_type": "markdown",
   "metadata": {
    "id": "ekeZYuzB18c6"
   },
   "source": [
    "# 실습"
   ]
  },
  {
   "cell_type": "markdown",
   "metadata": {
    "id": "_ezwTs6Z1-L8"
   },
   "source": [
    "- 명령구문아래에 동일한 코드 paragraph를 추가하여 실행해봅니다"
   ]
  },
  {
   "cell_type": "code",
   "execution_count": null,
   "metadata": {
    "id": "eFLVrlBM19YG"
   },
   "outputs": [],
   "source": []
  }
 ],
 "metadata": {
  "colab": {
   "collapsed_sections": [],
   "name": "lab1.python_base.ipynb",
   "provenance": [],
   "toc_visible": true
  },
  "kernelspec": {
   "display_name": "Python 3",
   "language": "python",
   "name": "python3"
  },
  "language_info": {
   "codemirror_mode": {
    "name": "ipython",
    "version": 3
   },
   "file_extension": ".py",
   "mimetype": "text/x-python",
   "name": "python",
   "nbconvert_exporter": "python",
   "pygments_lexer": "ipython3",
   "version": "3.7.9"
  }
 },
 "nbformat": 4,
 "nbformat_minor": 1
}
