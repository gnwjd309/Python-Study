{
 "cells": [
  {
   "cell_type": "markdown",
   "metadata": {
    "id": "A0Teq-3TzGhC"
   },
   "source": [
    "# Python 기초"
   ]
  },
  {
   "cell_type": "markdown",
   "metadata": {
    "id": "AFD_tgMlV8Da"
   },
   "source": [
    "### python version"
   ]
  },
  {
   "cell_type": "code",
   "execution_count": 8,
   "metadata": {
    "id": "OEivi1pMV8eV"
   },
   "outputs": [
    {
     "name": "stdout",
     "output_type": "stream",
     "text": [
      "Python version\n",
      "3.8.5 (default, Sep  3 2020, 21:29:08) [MSC v.1916 64 bit (AMD64)]\n",
      "Version info.\n",
      "sys.version_info(major=3, minor=8, micro=5, releaselevel='final', serial=0)\n"
     ]
    }
   ],
   "source": [
    "# python system 기능을 사용하기 위해 사용하는 라이브러리\n",
    "import sys\n",
    "\n",
    "# \"Python version\" 이라는 문자열을 출력\n",
    "print(\"Python version\")\n",
    "\n",
    "# sys.version에 저장되어있는 값을 출력\n",
    "print (sys.version)\n",
    " \n",
    "# \"Version info.\" 이라는 문자열을 출력\n",
    "print(\"Version info.\")\n",
    "\n",
    "# sys.version_info에 저장되어있는 값을 출력\n",
    "print (sys.version_info)"
   ]
  },
  {
   "cell_type": "markdown",
   "metadata": {
    "id": "IMmCdZ5KeNpa"
   },
   "source": [
    "## 변수"
   ]
  },
  {
   "cell_type": "markdown",
   "metadata": {
    "id": "TnK9pzoYX13H"
   },
   "source": [
    "### 문자열 출력"
   ]
  },
  {
   "cell_type": "code",
   "execution_count": 9,
   "metadata": {
    "id": "Ax07RpekUmA5"
   },
   "outputs": [
    {
     "name": "stdout",
     "output_type": "stream",
     "text": [
      "딥러닝 활용\n",
      "셀 실행은 shift + Enter\n"
     ]
    }
   ],
   "source": [
    "print('딥러닝 활용')\n",
    "print('셀 실행은 shift + Enter')"
   ]
  },
  {
   "cell_type": "markdown",
   "metadata": {
    "id": "mmL7uAHfYyg4"
   },
   "source": [
    "### 문자열 변수 할당"
   ]
  },
  {
   "cell_type": "code",
   "execution_count": 10,
   "metadata": {
    "id": "k5BPys7EXp9O"
   },
   "outputs": [
    {
     "name": "stdout",
     "output_type": "stream",
     "text": [
      "딥러닝 활용\n",
      "셀 실행은 shift + Enter\n"
     ]
    }
   ],
   "source": [
    "title ='딥러닝 활용'\n",
    "command_string='셀 실행은 shift + Enter'\n",
    "print(title)\n",
    "print(command_string)"
   ]
  },
  {
   "cell_type": "markdown",
   "metadata": {
    "id": "Y1tTYq_RZM8Z"
   },
   "source": [
    "### 변수이름 명명 법\n",
    "- class 이름 : pascal case(파스칼 표기법)\n",
    "\n",
    "  `Title, CommandString`\n",
    "- 상수 : 대문자\n",
    "\n",
    "  `TITLE, COMMAND_STRING`\n",
    "- 변수 or 함수 : snake case or pothole case\n",
    "\n",
    "  `title, title_string`"
   ]
  },
  {
   "cell_type": "markdown",
   "metadata": {
    "id": "HKLYgrG6eYVl"
   },
   "source": [
    "## 배열, numpy, pandas"
   ]
  },
  {
   "cell_type": "markdown",
   "metadata": {
    "id": "8FPwkfa5bbNb"
   },
   "source": [
    "### 배열(list)"
   ]
  },
  {
   "cell_type": "code",
   "execution_count": 11,
   "metadata": {
    "id": "s1e-xumrbavi"
   },
   "outputs": [],
   "source": [
    "# 배열의 선언\n",
    "\n",
    "sample_array = ['a', 'b', 'c', 'd', 'e', 'f']"
   ]
  },
  {
   "cell_type": "code",
   "execution_count": 12,
   "metadata": {
    "id": "qhgeGAcwUh_l"
   },
   "outputs": [
    {
     "name": "stdout",
     "output_type": "stream",
     "text": [
      "['a', 'b', 'c', 'd', 'e', 'f']\n"
     ]
    }
   ],
   "source": [
    "print(sample_array)"
   ]
  },
  {
   "cell_type": "code",
   "execution_count": 13,
   "metadata": {
    "id": "f6bYTzwnhq-q"
   },
   "outputs": [],
   "source": [
    "#배열의 선언 & 원소 추가\n",
    "\n",
    "sample_array2 = []\n",
    "sample_array2.append('a')\n",
    "sample_array2.append('b')\n",
    "sample_array2.append('c')\n",
    "sample_array2.append('d')\n",
    "sample_array2.append('e')\n",
    "sample_array2.append('f')"
   ]
  },
  {
   "cell_type": "code",
   "execution_count": 14,
   "metadata": {
    "id": "F2HHu6bwi2FR"
   },
   "outputs": [
    {
     "name": "stdout",
     "output_type": "stream",
     "text": [
      "['a', 'b', 'c', 'd', 'e', 'f']\n"
     ]
    }
   ],
   "source": [
    "print(sample_array2)"
   ]
  },
  {
   "cell_type": "code",
   "execution_count": 15,
   "metadata": {
    "id": "riG70CmNitKf"
   },
   "outputs": [
    {
     "data": {
      "text/plain": [
       "6"
      ]
     },
     "execution_count": 15,
     "metadata": {},
     "output_type": "execute_result"
    }
   ],
   "source": [
    "# 배열의 길이\n",
    "\n",
    "len(sample_array2)"
   ]
  },
  {
   "cell_type": "code",
   "execution_count": 16,
   "metadata": {
    "id": "gpdJ4mg-jB4G"
   },
   "outputs": [],
   "source": [
    "# 배열의 정렬\n",
    "# 배열.sort() -> 오름차순 (Default)\n",
    "# 배열.sort(reverse=True) -> 내림차순 (False = 오름차순)\n",
    "\n",
    "sample_array2.sort(reverse=True)"
   ]
  },
  {
   "cell_type": "code",
   "execution_count": 17,
   "metadata": {
    "id": "Rkp5jk5ti5eH"
   },
   "outputs": [
    {
     "name": "stdout",
     "output_type": "stream",
     "text": [
      "['f', 'e', 'd', 'c', 'b', 'a']\n"
     ]
    }
   ],
   "source": [
    "print(sample_array2)"
   ]
  },
  {
   "cell_type": "markdown",
   "metadata": {
    "id": "5s7VhXYsbuOm"
   },
   "source": [
    "### 배열의 색인"
   ]
  },
  {
   "cell_type": "code",
   "execution_count": 18,
   "metadata": {
    "id": "KMXhBVZhbotI"
   },
   "outputs": [
    {
     "name": "stdout",
     "output_type": "stream",
     "text": [
      "['a', 'b', 'c']\n",
      "['d', 'e', 'f']\n",
      "['a', 'b', 'c']\n"
     ]
    }
   ],
   "source": [
    "# [0:3] : 0 <= 색인 < 3\n",
    "print(sample_array[0:3])\n",
    "\n",
    "# [3:] : 3<= 색인 <= 끝\n",
    "print(sample_array[3:])\n",
    "\n",
    "# [:3] : 시작 <= 색인 < 3\n",
    "print(sample_array[:3])"
   ]
  },
  {
   "cell_type": "markdown",
   "metadata": {
    "id": "oHzgTOl3gJ1h"
   },
   "source": [
    "### 배열 정보"
   ]
  },
  {
   "cell_type": "code",
   "execution_count": 19,
   "metadata": {
    "id": "eCgs1DzwcunS"
   },
   "outputs": [
    {
     "name": "stdout",
     "output_type": "stream",
     "text": [
      "length : 6\n",
      "type: <class 'list'>\n",
      "type: <class 'str'>\n"
     ]
    }
   ],
   "source": [
    "# 형변환(type cast)\n",
    "# 문자열과 다른 유형의 변수의 연산은 다른 유형의 변수를 문자열로 변경한다.\n",
    "\n",
    "array_length = len(sample_array)\n",
    "array_type = type(sample_array)\n",
    "\n",
    "# 배열의 길이\n",
    "print('length : ' + str(array_length))\n",
    "\n",
    "# 변수의 타입\n",
    "print('type: ' + str(array_type))\n",
    "\n",
    "print('type: ' + str(type(command_string)))"
   ]
  },
  {
   "cell_type": "markdown",
   "metadata": {
    "id": "orvFfDvn7KaH"
   },
   "source": [
    "### range(start,end)\n",
    "start, end까지 값을 가지는 range\n",
    "\n",
    "list(range(start,end)) 값을 통해서 array값을 생성"
   ]
  },
  {
   "cell_type": "code",
   "execution_count": 20,
   "metadata": {
    "id": "Waj0pDcHY-83"
   },
   "outputs": [],
   "source": [
    "# 0~20의 숫자릴 리스트에 삽입\n",
    "\n",
    "simple_array = list(range(0,20))"
   ]
  },
  {
   "cell_type": "code",
   "execution_count": 21,
   "metadata": {
    "id": "i71TO1t4-7_h"
   },
   "outputs": [
    {
     "name": "stdout",
     "output_type": "stream",
     "text": [
      "[0, 1, 2, 3, 4, 5, 6, 7, 8, 9, 10, 11, 12, 13, 14, 15, 16, 17, 18, 19]\n"
     ]
    }
   ],
   "source": [
    "print(simple_array)"
   ]
  },
  {
   "cell_type": "markdown",
   "metadata": {
    "id": "cSS2c2iL8H8A"
   },
   "source": [
    "### numpy\n",
    "대부분의 python 데이터는 numpy 데이터로 처리된다."
   ]
  },
  {
   "cell_type": "code",
   "execution_count": 22,
   "metadata": {
    "id": "evMYZsN56yQQ"
   },
   "outputs": [],
   "source": [
    "# np 라는 이름으로 사용한다(관례)\n",
    "\n",
    "import numpy as np"
   ]
  },
  {
   "cell_type": "code",
   "execution_count": 43,
   "metadata": {
    "id": "zATNZPYMBmcF"
   },
   "outputs": [],
   "source": [
    "# 위에서 생성한 list를 사용해 array 정의\n",
    "\n",
    "np_array = np.array(simple_array)"
   ]
  },
  {
   "cell_type": "code",
   "execution_count": 52,
   "metadata": {
    "id": "IlyrJRiH-1hC",
    "scrolled": false
   },
   "outputs": [
    {
     "data": {
      "text/plain": [
       "array([ 0,  1,  2,  3,  4,  5,  6,  7,  8,  9, 10, 11, 12, 13, 14, 15, 16,\n",
       "       17, 18, 19])"
      ]
     },
     "execution_count": 52,
     "metadata": {},
     "output_type": "execute_result"
    }
   ],
   "source": [
    "np_array"
   ]
  },
  {
   "cell_type": "code",
   "execution_count": 54,
   "metadata": {},
   "outputs": [
    {
     "data": {
      "text/plain": [
       "(20,)"
      ]
     },
     "execution_count": 54,
     "metadata": {},
     "output_type": "execute_result"
    }
   ],
   "source": [
    "# array의 크기를 확인\n",
    "\n",
    "np_array.shape"
   ]
  },
  {
   "cell_type": "code",
   "execution_count": 58,
   "metadata": {
    "id": "W49gpvBK68b5",
    "scrolled": true
   },
   "outputs": [
    {
     "name": "stdout",
     "output_type": "stream",
     "text": [
      "<class 'numpy.ndarray'>\n"
     ]
    },
    {
     "data": {
      "text/plain": [
       "dtype('int32')"
      ]
     },
     "execution_count": 58,
     "metadata": {},
     "output_type": "execute_result"
    }
   ],
   "source": [
    "# array의 타입 확인 (?)\n",
    "print(type(np_array))\n",
    "\n",
    "# array의 데이터 타입 확인\n",
    "np_array.dtype"
   ]
  },
  {
   "cell_type": "code",
   "execution_count": 63,
   "metadata": {},
   "outputs": [
    {
     "name": "stdout",
     "output_type": "stream",
     "text": [
      "1차원\n",
      " [1 2 3] \n",
      "\n",
      "\n",
      "2차원\n",
      " [[1 2 3]\n",
      " [1 2 3]] \n",
      "\n",
      "\n",
      "3차원 \n",
      " [[[1 2 3]\n",
      "  [1 2 3]]\n",
      "\n",
      " [[1 2 3]\n",
      "  [1 2 3]]\n",
      "\n",
      " [[1 2 3]\n",
      "  [1 2 3]]]\n"
     ]
    }
   ],
   "source": [
    "# 1차원 array\n",
    "arr1 = np.array([1,2,3])\n",
    "print('1차원\\n',arr1, '\\n\\n')\n",
    "\n",
    "# 2차원 array\n",
    "arr2 = np.array([[1,2,3],[1,2,3]])\n",
    "print('2차원\\n',arr2,'\\n\\n')\n",
    "\n",
    "# 3차원 array\n",
    "arr3 = np.array([[[1,2,3],[1,2,3]],[[1,2,3],[1,2,3]],[[1,2,3],[1,2,3]]])\n",
    "print('3차원 \\n',arr3)"
   ]
  },
  {
   "cell_type": "markdown",
   "metadata": {},
   "source": [
    "numpy 정의 함수  \n",
    "  * np.zeros(), np.ones(), np.arange()"
   ]
  },
  {
   "cell_type": "code",
   "execution_count": 64,
   "metadata": {},
   "outputs": [
    {
     "data": {
      "text/plain": [
       "array([0., 0., 0., 0., 0.])"
      ]
     },
     "execution_count": 64,
     "metadata": {},
     "output_type": "execute_result"
    }
   ],
   "source": [
    "# np.zeors() : 인자로 받은 크기만큼, 모든 요소가 0인 array 생성\n",
    "\n",
    "np.zeros(5)"
   ]
  },
  {
   "cell_type": "code",
   "execution_count": 70,
   "metadata": {},
   "outputs": [
    {
     "data": {
      "text/plain": [
       "array([[0., 0., 0., 0., 0.],\n",
       "       [0., 0., 0., 0., 0.],\n",
       "       [0., 0., 0., 0., 0.]])"
      ]
     },
     "execution_count": 70,
     "metadata": {},
     "output_type": "execute_result"
    }
   ],
   "source": [
    "np.zeros((3,5))"
   ]
  },
  {
   "cell_type": "code",
   "execution_count": 67,
   "metadata": {},
   "outputs": [
    {
     "data": {
      "text/plain": [
       "array([1., 1., 1., 1., 1., 1., 1., 1., 1., 1.])"
      ]
     },
     "execution_count": 67,
     "metadata": {},
     "output_type": "execute_result"
    }
   ],
   "source": [
    "# np.ones() : 인자로 받은 크기만큼, 모든 요소가 1인 array 생성\n",
    "\n",
    "np.ones(10)"
   ]
  },
  {
   "cell_type": "code",
   "execution_count": 68,
   "metadata": {
    "scrolled": true
   },
   "outputs": [
    {
     "data": {
      "text/plain": [
       "array([[1., 1., 1., 1., 1.],\n",
       "       [1., 1., 1., 1., 1.],\n",
       "       [1., 1., 1., 1., 1.]])"
      ]
     },
     "execution_count": 68,
     "metadata": {},
     "output_type": "execute_result"
    }
   ],
   "source": [
    "np.ones((3,5))"
   ]
  },
  {
   "cell_type": "code",
   "execution_count": 74,
   "metadata": {},
   "outputs": [
    {
     "data": {
      "text/plain": [
       "array([0, 1, 2, 3, 4, 5, 6, 7, 8, 9])"
      ]
     },
     "execution_count": 74,
     "metadata": {},
     "output_type": "execute_result"
    }
   ],
   "source": [
    "# np.arange() : 인자로 받은 크기만큼 1씩 증가하는 array 생성\n",
    "# 하나의 인자 -> 0 ~ (인자 - 1) / 두 개의 인자 -> 인자1 ~ (인자2 - 1)\n",
    "\n",
    "np.arange(10)"
   ]
  },
  {
   "cell_type": "code",
   "execution_count": 73,
   "metadata": {},
   "outputs": [
    {
     "data": {
      "text/plain": [
       "array([3, 4])"
      ]
     },
     "execution_count": 73,
     "metadata": {},
     "output_type": "execute_result"
    }
   ],
   "source": [
    "np.arange(3,5)"
   ]
  },
  {
   "cell_type": "markdown",
   "metadata": {},
   "source": [
    "Array 연산  \n",
    "  * 기본적으로 array끼리 크기가 동일해야 함"
   ]
  },
  {
   "cell_type": "code",
   "execution_count": 51,
   "metadata": {
    "scrolled": true
   },
   "outputs": [
    {
     "name": "stdout",
     "output_type": "stream",
     "text": [
      "[[ 1  2  3  4]\n",
      " [ 5  6  7  8]\n",
      " [ 9 10 11 12]] \n",
      "\n",
      "[[4]\n",
      " [6]\n",
      " [8]] \n",
      "\n",
      "[[ 5  6  7  8]\n",
      " [11 12 13 14]\n",
      " [17 18 19 20]]\n"
     ]
    }
   ],
   "source": [
    "ary1 = np.array([[1,2,3,4],[5,6,7,8],[9,10,11,12]])\n",
    "print(ary1,'\\n')\n",
    "\n",
    "ary2 = np.array([[4],[6],[8]])\n",
    "print(ary2,'\\n')\n",
    "\n",
    "print(ary1+ary2)"
   ]
  },
  {
   "cell_type": "markdown",
   "metadata": {
    "id": "MrVl6z6uAks1"
   },
   "source": [
    "- 차원 변경\n",
    "  - reshape(n,m) : row n, column m의 차원으로 변경\n",
    "  - reshape(-1, m) : column m 차원으로 row를 자동으로 변경\n",
    "  - reshape(-1,) : 1차원 으로 변경"
   ]
  },
  {
   "cell_type": "code",
   "execution_count": 26,
   "metadata": {
    "id": "MzDKCZ8Z8t5p"
   },
   "outputs": [],
   "source": [
    "np_4_5 = np_array.reshape(4,5)"
   ]
  },
  {
   "cell_type": "code",
   "execution_count": 27,
   "metadata": {
    "id": "lGxmJsDp_dJh"
   },
   "outputs": [
    {
     "data": {
      "text/plain": [
       "array([[ 0,  1,  2,  3,  4],\n",
       "       [ 5,  6,  7,  8,  9],\n",
       "       [10, 11, 12, 13, 14],\n",
       "       [15, 16, 17, 18, 19]])"
      ]
     },
     "execution_count": 27,
     "metadata": {},
     "output_type": "execute_result"
    }
   ],
   "source": [
    "np_4_5"
   ]
  },
  {
   "cell_type": "code",
   "execution_count": 28,
   "metadata": {
    "id": "ltdoMbUd_nJk"
   },
   "outputs": [],
   "source": [
    "np_1_20 = np_4_5.reshape(1, 20)"
   ]
  },
  {
   "cell_type": "code",
   "execution_count": 29,
   "metadata": {
    "id": "WD3o-W7U_sgJ"
   },
   "outputs": [
    {
     "data": {
      "text/plain": [
       "array([[ 0,  1,  2,  3,  4,  5,  6,  7,  8,  9, 10, 11, 12, 13, 14, 15,\n",
       "        16, 17, 18, 19]])"
      ]
     },
     "execution_count": 29,
     "metadata": {},
     "output_type": "execute_result"
    }
   ],
   "source": [
    "np_1_20"
   ]
  },
  {
   "cell_type": "code",
   "execution_count": 30,
   "metadata": {
    "id": "_44u7MCJ_3ei"
   },
   "outputs": [],
   "source": [
    "np_1 = np_1_20.reshape(-1,)"
   ]
  },
  {
   "cell_type": "code",
   "execution_count": 31,
   "metadata": {
    "id": "z3T3sy28AbJh"
   },
   "outputs": [
    {
     "data": {
      "text/plain": [
       "array([ 0,  1,  2,  3,  4,  5,  6,  7,  8,  9, 10, 11, 12, 13, 14, 15, 16,\n",
       "       17, 18, 19])"
      ]
     },
     "execution_count": 31,
     "metadata": {},
     "output_type": "execute_result"
    }
   ],
   "source": [
    "np_1"
   ]
  },
  {
   "cell_type": "markdown",
   "metadata": {
    "id": "DxvIeWS1KGsU"
   },
   "source": [
    "- numpy 연산"
   ]
  },
  {
   "cell_type": "code",
   "execution_count": 32,
   "metadata": {
    "id": "y7ugaPszKHQ8"
   },
   "outputs": [],
   "source": [
    "x = np.array(range(1,4))"
   ]
  },
  {
   "cell_type": "code",
   "execution_count": 33,
   "metadata": {
    "id": "J1-Whq_jbyut"
   },
   "outputs": [
    {
     "data": {
      "text/plain": [
       "array([1, 2, 3])"
      ]
     },
     "execution_count": 33,
     "metadata": {},
     "output_type": "execute_result"
    }
   ],
   "source": [
    "x"
   ]
  },
  {
   "cell_type": "code",
   "execution_count": 34,
   "metadata": {
    "id": "ufw01WF0KOph"
   },
   "outputs": [],
   "source": [
    "y = np.array(range(5,8))"
   ]
  },
  {
   "cell_type": "code",
   "execution_count": 35,
   "metadata": {
    "id": "ejulZ9jYb0Ks"
   },
   "outputs": [
    {
     "data": {
      "text/plain": [
       "array([5, 6, 7])"
      ]
     },
     "execution_count": 35,
     "metadata": {},
     "output_type": "execute_result"
    }
   ],
   "source": [
    "y"
   ]
  },
  {
   "cell_type": "code",
   "execution_count": 36,
   "metadata": {
    "id": "lKcksU1dKTPA"
   },
   "outputs": [
    {
     "data": {
      "text/plain": [
       "array([ 6,  8, 10])"
      ]
     },
     "execution_count": 36,
     "metadata": {},
     "output_type": "execute_result"
    }
   ],
   "source": [
    "x+y"
   ]
  },
  {
   "cell_type": "code",
   "execution_count": 37,
   "metadata": {
    "id": "3M7GYa_iKY81"
   },
   "outputs": [
    {
     "data": {
      "text/plain": [
       "array([ 5, 12, 21])"
      ]
     },
     "execution_count": 37,
     "metadata": {},
     "output_type": "execute_result"
    }
   ],
   "source": [
    "x*y"
   ]
  },
  {
   "cell_type": "code",
   "execution_count": 38,
   "metadata": {
    "id": "aRnGFw-DKceM"
   },
   "outputs": [
    {
     "data": {
      "text/plain": [
       "array([10, 24, 42])"
      ]
     },
     "execution_count": 38,
     "metadata": {},
     "output_type": "execute_result"
    }
   ],
   "source": [
    "x*2*y"
   ]
  },
  {
   "cell_type": "markdown",
   "metadata": {
    "id": "UwdTcRhjBP9S"
   },
   "source": [
    "### pandas\n",
    "데이터 분석 및 조회를 쉽게 사용 하는 라이브러리, \n",
    "표 형태로 이용한다\n",
    "- Series : 1차원\n",
    "- DataFrame : 2차원\n",
    "- Panel : 3차원"
   ]
  },
  {
   "cell_type": "code",
   "execution_count": null,
   "metadata": {
    "id": "Wc_BNJ47VPY0"
   },
   "outputs": [],
   "source": [
    "!pip3 install pandas"
   ]
  },
  {
   "cell_type": "code",
   "execution_count": null,
   "metadata": {
    "id": "-Z3luou3AceT"
   },
   "outputs": [],
   "source": [
    "# pd라는 이름으로 사용한다(관례상)\n",
    "import pandas as pd"
   ]
  },
  {
   "cell_type": "markdown",
   "metadata": {
    "id": "oeoy_qNbHNua"
   },
   "source": [
    "- series"
   ]
  },
  {
   "cell_type": "code",
   "execution_count": null,
   "metadata": {
    "id": "h14zErzYBeEJ"
   },
   "outputs": [],
   "source": [
    "sr = pd.Series(['A', 'B+', 'A+', 'B'],\n",
    "       index=[\"과목1\", \"과목2\", \"과목3\", \"과목4\"])"
   ]
  },
  {
   "cell_type": "code",
   "execution_count": null,
   "metadata": {
    "id": "I3K4IFrRVYIl"
   },
   "outputs": [],
   "source": [
    "print(sr)"
   ]
  },
  {
   "cell_type": "code",
   "execution_count": null,
   "metadata": {
    "id": "AoM7YD8jG-eJ"
   },
   "outputs": [],
   "source": [
    "sr_values = sr.values"
   ]
  },
  {
   "cell_type": "code",
   "execution_count": null,
   "metadata": {
    "id": "1yhWUEqHVaeD"
   },
   "outputs": [],
   "source": [
    "print(sr_values)"
   ]
  },
  {
   "cell_type": "code",
   "execution_count": null,
   "metadata": {
    "id": "hVkzJE5JHE7b"
   },
   "outputs": [],
   "source": [
    "type(sr_values)"
   ]
  },
  {
   "cell_type": "code",
   "execution_count": null,
   "metadata": {
    "id": "qBIJ5LT8HIED"
   },
   "outputs": [],
   "source": [
    "sr_index = sr.index"
   ]
  },
  {
   "cell_type": "code",
   "execution_count": null,
   "metadata": {
    "id": "P6ykYeH2Vdav"
   },
   "outputs": [],
   "source": [
    "print(sr_index)"
   ]
  },
  {
   "cell_type": "code",
   "execution_count": null,
   "metadata": {
    "id": "Zzry5-PiHJf0"
   },
   "outputs": [],
   "source": [
    "sr1 = pd.Series(sr_values, index=sr_index)"
   ]
  },
  {
   "cell_type": "code",
   "execution_count": null,
   "metadata": {
    "id": "m4kAzk2WVfbh"
   },
   "outputs": [],
   "source": [
    "print(sr1)"
   ]
  },
  {
   "cell_type": "markdown",
   "metadata": {
    "id": "vaGoSOKoH93Y"
   },
   "source": [
    "- dataframe"
   ]
  },
  {
   "cell_type": "code",
   "execution_count": null,
   "metadata": {
    "id": "gspsYHNDHxpy"
   },
   "outputs": [],
   "source": [
    "import pandas as pd\n",
    "data = [\n",
    "    ['1', 'a', 90.72], \n",
    "    ['2', 'b', 78.09], \n",
    "    ['3', 'c', 98.43], \n",
    "    ['4', 'd', 64.19], \n",
    "    ['5', 'e', 81.30],\n",
    "    ['6', 'f', 99.14],\n",
    "]\n",
    "df = pd.DataFrame(data)\n",
    "df"
   ]
  },
  {
   "cell_type": "code",
   "execution_count": null,
   "metadata": {
    "id": "inZUM_RZI4bs"
   },
   "outputs": [],
   "source": [
    "df = pd.DataFrame(data, columns=['학번', '이름', '점수'])"
   ]
  },
  {
   "cell_type": "code",
   "execution_count": null,
   "metadata": {
    "id": "h-tjoJdXVp4m"
   },
   "outputs": [],
   "source": [
    "df"
   ]
  },
  {
   "cell_type": "code",
   "execution_count": null,
   "metadata": {
    "id": "t14N2ZjOI_Br"
   },
   "outputs": [],
   "source": [
    "df.head(3)"
   ]
  },
  {
   "cell_type": "code",
   "execution_count": null,
   "metadata": {
    "id": "bHVQk8i1JHHN"
   },
   "outputs": [],
   "source": [
    "df.tail(3)"
   ]
  },
  {
   "cell_type": "code",
   "execution_count": null,
   "metadata": {
    "id": "hJZIBBMXJNUC"
   },
   "outputs": [],
   "source": [
    "df['이름']"
   ]
  },
  {
   "cell_type": "markdown",
   "metadata": {
    "id": "f89bagO1JZmx"
   },
   "source": [
    "- 외부 데이터 읽기"
   ]
  },
  {
   "cell_type": "code",
   "execution_count": null,
   "metadata": {
    "id": "rVqRf2A2JS0I"
   },
   "outputs": [],
   "source": [
    "df=pd.read_json('sample_data/anscombe.json')"
   ]
  },
  {
   "cell_type": "code",
   "execution_count": null,
   "metadata": {
    "id": "HIQeR1J8VtvL"
   },
   "outputs": [],
   "source": [
    "df"
   ]
  },
  {
   "cell_type": "code",
   "execution_count": null,
   "metadata": {
    "id": "XmjTWkUwJhJe"
   },
   "outputs": [],
   "source": [
    "df1 = pd.read_csv('sample_data/california_housing_train.csv')"
   ]
  },
  {
   "cell_type": "code",
   "execution_count": null,
   "metadata": {
    "id": "aVEyQBnsVu-e"
   },
   "outputs": [],
   "source": [
    "df1"
   ]
  },
  {
   "cell_type": "markdown",
   "metadata": {
    "id": "J9UuwJZWVyvG"
   },
   "source": [
    "- 조건 검색"
   ]
  },
  {
   "cell_type": "code",
   "execution_count": null,
   "metadata": {
    "id": "nSbVa9yqJj-q"
   },
   "outputs": [],
   "source": [
    "df1.loc[df1['median_house_value'] > 100000 ]"
   ]
  },
  {
   "cell_type": "code",
   "execution_count": null,
   "metadata": {
    "id": "j3qnKEN-MASe"
   },
   "outputs": [],
   "source": [
    "df1.loc[(df1['median_house_value'] > 100000) & (df1['housing_median_age'] < 20.0) ]"
   ]
  },
  {
   "cell_type": "markdown",
   "metadata": {
    "id": "KEPtqgp1gqy-"
   },
   "source": [
    "## Tuple\n",
    "- `(val1, val2)`\n",
    "- list와 다른점 : 값을 변경할 수 없다.\n"
   ]
  },
  {
   "cell_type": "code",
   "execution_count": null,
   "metadata": {
    "id": "UIn91EVfMLXD"
   },
   "outputs": [],
   "source": [
    "|sample_tuple = ()\n",
    "sample_tuple = 1,2,3\n",
    "print(sample_tuple)"
   ]
  },
  {
   "cell_type": "markdown",
   "metadata": {
    "id": "tiDS2HKjx0kE"
   },
   "source": [
    "### packing, unpacking\n",
    "- packing\n",
    "  - `sample_tuple = 1,2,3`\n",
    "- unpacking\n",
    "  - `result_1, result_2, result_3 = sample_tuple`"
   ]
  },
  {
   "cell_type": "code",
   "execution_count": null,
   "metadata": {
    "id": "aRN7AnIcxuvE"
   },
   "outputs": [],
   "source": [
    "result_1, result_2, result_3 = sample_tuple"
   ]
  },
  {
   "cell_type": "code",
   "execution_count": null,
   "metadata": {
    "id": "0FiOH4JbyI12"
   },
   "outputs": [],
   "source": [
    "result_1, result_2, result_3 "
   ]
  },
  {
   "cell_type": "markdown",
   "metadata": {
    "id": "P9RYhd6myQ-d"
   },
   "source": [
    "## dictionary\n",
    "- `sample_dic = {key1:value1, key2:value2, ...}`\n",
    "- `value1 = sample_dic['key1']`\n",
    "- `sample_dic['key9']=value9`\n",
    "- `del sample_dic['key9']`"
   ]
  },
  {
   "cell_type": "code",
   "execution_count": null,
   "metadata": {
    "id": "Nv7QnGJbyOPq"
   },
   "outputs": [],
   "source": [
    "sample_dic = {1:'a', 2:'b', 3:'c'}"
   ]
  },
  {
   "cell_type": "code",
   "execution_count": null,
   "metadata": {
    "id": "0-OMeuvSyiYJ"
   },
   "outputs": [],
   "source": [
    "print(sample_dic)"
   ]
  },
  {
   "cell_type": "code",
   "execution_count": null,
   "metadata": {
    "id": "-2ASco9JyjxV"
   },
   "outputs": [],
   "source": [
    "print(sample_dic[1])"
   ]
  },
  {
   "cell_type": "code",
   "execution_count": null,
   "metadata": {
    "id": "pAEz_bvazGXC"
   },
   "outputs": [],
   "source": [
    "sample_dic[9] = 'z'"
   ]
  },
  {
   "cell_type": "code",
   "execution_count": null,
   "metadata": {
    "id": "66ozyBQAzNgg"
   },
   "outputs": [],
   "source": [
    "print(sample_dic)"
   ]
  },
  {
   "cell_type": "code",
   "execution_count": null,
   "metadata": {
    "id": "NW-YZCD5zJT2"
   },
   "outputs": [],
   "source": [
    "del sample_dic[9]"
   ]
  },
  {
   "cell_type": "code",
   "execution_count": null,
   "metadata": {
    "id": "sjdnHMM4zKuO"
   },
   "outputs": [],
   "source": [
    "print(sample_dic)"
   ]
  },
  {
   "cell_type": "markdown",
   "metadata": {
    "id": "Nkmq4lH1zYqT"
   },
   "source": [
    "###  function\n",
    "  - `sample_dic.values()`\n",
    "  - `sample_dic.keys()`\n",
    "  - `sample_dic.items()`\n",
    "  - `sample_dic.get(1)`\n",
    "  - `3 in sample_dic`\n",
    "  - `9 in sample_dic`"
   ]
  },
  {
   "cell_type": "code",
   "execution_count": null,
   "metadata": {
    "id": "8AtrYQGpzLW4"
   },
   "outputs": [],
   "source": [
    "sample_dic.values()"
   ]
  },
  {
   "cell_type": "code",
   "execution_count": null,
   "metadata": {
    "id": "sOq4AF0wz4WJ"
   },
   "outputs": [],
   "source": [
    "sample_dic.keys()"
   ]
  },
  {
   "cell_type": "code",
   "execution_count": null,
   "metadata": {
    "id": "-nuUuqzEz55N"
   },
   "outputs": [],
   "source": [
    "sample_dic.items()"
   ]
  },
  {
   "cell_type": "code",
   "execution_count": null,
   "metadata": {
    "id": "6G5z3UQ3z6-M"
   },
   "outputs": [],
   "source": [
    "sample_dic.get(1)"
   ]
  },
  {
   "cell_type": "code",
   "execution_count": null,
   "metadata": {
    "id": "I2yWvROWz8Hc"
   },
   "outputs": [],
   "source": [
    "3 in sample_dic"
   ]
  },
  {
   "cell_type": "code",
   "execution_count": null,
   "metadata": {
    "id": "-xEZk9f90JmU"
   },
   "outputs": [],
   "source": [
    "9 in sample_dic"
   ]
  },
  {
   "cell_type": "markdown",
   "metadata": {
    "id": "PHsRzTIW1J6L"
   },
   "source": [
    "## 제어문"
   ]
  },
  {
   "cell_type": "markdown",
   "metadata": {
    "id": "iYObheqA0eT7"
   },
   "source": [
    "### if문\n",
    "``` \n",
    "if(condition) :\n",
    "    print(condition)\n",
    "else :\n",
    "    print(condition)\n",
    "```"
   ]
  },
  {
   "cell_type": "code",
   "execution_count": null,
   "metadata": {
    "id": "GO6vckcp0MJm"
   },
   "outputs": [],
   "source": [
    "if 3 in sample_dic:\n",
    "    print('3 in the sample_dic')\n",
    "else:\n",
    "    print('3 not in the sample_dic')"
   ]
  },
  {
   "cell_type": "markdown",
   "metadata": {
    "id": "kB0wH2C84WNa"
   },
   "source": [
    "### while\n",
    "```\n",
    "condition = True\n",
    "index = 0\n",
    "while condition:\n",
    "    print(index)\n",
    "    index += 1\n",
    "    if index == 5:\n",
    "        condition = True\n",
    "```"
   ]
  },
  {
   "cell_type": "code",
   "execution_count": null,
   "metadata": {
    "id": "nPQ_RTXG08Om"
   },
   "outputs": [],
   "source": [
    "condition = True\n",
    "index = 0\n",
    "while condition:\n",
    "    print(index)\n",
    "    index += 1\n",
    "    if index == 5:\n",
    "        condition = False\n"
   ]
  },
  {
   "cell_type": "markdown",
   "metadata": {
    "id": "MgTc6fkl46wn"
   },
   "source": [
    "### for\n",
    "```\n",
    "sample_list = [1,2,3,4,5,6,7,8,9]\n",
    "for i in sample_list:\n",
    "    print(i)  \n",
    "```"
   ]
  },
  {
   "cell_type": "code",
   "execution_count": null,
   "metadata": {
    "id": "y0UsmKeZ1Fth"
   },
   "outputs": [],
   "source": [
    "sample_list = [1,2,3,4,5,6,7,8,9]\n",
    "for i in sample_list:\n",
    "    print(i)"
   ]
  },
  {
   "cell_type": "markdown",
   "metadata": {
    "id": "yPyGXbhO6T-2"
   },
   "source": [
    "```\n",
    "sample_tuple_list = [(1,2), (3,4), (5,6), (7,8), (9, 10)]\n",
    "for (i,j) in sample_tuple_list:\n",
    "    print(i, j)\n",
    "```"
   ]
  },
  {
   "cell_type": "code",
   "execution_count": null,
   "metadata": {
    "id": "GT8dY9fy5KGm"
   },
   "outputs": [],
   "source": [
    "sample_tuple_list = [(1,2), (3,4), (5,6), (7,8), (9, 10)]\n",
    "for (i,j) in sample_tuple_list:\n",
    "    print(i, j)"
   ]
  },
  {
   "cell_type": "markdown",
   "metadata": {
    "id": "hc_aEWVy6Yl9"
   },
   "source": [
    "\n",
    "```\n",
    "for i in range(2,19):\n",
    "    for j in range(2, 19):\n",
    "          print(\"2d*2d=4d\" % (i, j, i*j) \n",
    "    \n",
    "```"
   ]
  },
  {
   "cell_type": "code",
   "execution_count": null,
   "metadata": {
    "id": "Gh_VuIil6Kcb"
   },
   "outputs": [],
   "source": [
    "for i in range(2,19):\n",
    "    for j in range(2, 19):\n",
    "          print(\"%2d*%2d=%4d\" %  (i, j, i*j ) )"
   ]
  },
  {
   "cell_type": "markdown",
   "metadata": {
    "id": "ekeZYuzB18c6"
   },
   "source": [
    "# 실습"
   ]
  },
  {
   "cell_type": "markdown",
   "metadata": {
    "id": "_ezwTs6Z1-L8"
   },
   "source": [
    "- 명령구문아래에 동일한 코드 paragraph를 추가하여 실행해봅니다"
   ]
  },
  {
   "cell_type": "code",
   "execution_count": null,
   "metadata": {
    "id": "eFLVrlBM19YG"
   },
   "outputs": [],
   "source": []
  }
 ],
 "metadata": {
  "colab": {
   "collapsed_sections": [],
   "name": "lab1.python_base.ipynb",
   "provenance": [],
   "toc_visible": true
  },
  "kernelspec": {
   "display_name": "Python 3",
   "language": "python",
   "name": "python3"
  },
  "language_info": {
   "codemirror_mode": {
    "name": "ipython",
    "version": 3
   },
   "file_extension": ".py",
   "mimetype": "text/x-python",
   "name": "python",
   "nbconvert_exporter": "python",
   "pygments_lexer": "ipython3",
   "version": "3.8.5"
  }
 },
 "nbformat": 4,
 "nbformat_minor": 1
}
