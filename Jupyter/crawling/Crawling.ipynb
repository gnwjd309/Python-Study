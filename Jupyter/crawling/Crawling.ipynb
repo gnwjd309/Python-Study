{
  "nbformat": 4,
  "nbformat_minor": 0,
  "metadata": {
    "colab": {
      "name": "Crawling.ipynb",
      "provenance": [],
      "collapsed_sections": []
    },
    "kernelspec": {
      "name": "python3",
      "display_name": "Python 3"
    },
    "language_info": {
      "name": "python"
    }
  },
  "cells": [
    {
      "cell_type": "code",
      "metadata": {
        "colab": {
          "base_uri": "https://localhost:8080/"
        },
        "id": "heJlZHyOx4yn",
        "outputId": "9294eca1-a27f-4d55-f8d2-83cf9da3857d"
      },
      "source": [
        "pip install newspaper3k"
      ],
      "execution_count": 1,
      "outputs": [
        {
          "output_type": "stream",
          "text": [
            "Collecting newspaper3k\n",
            "\u001b[?25l  Downloading https://files.pythonhosted.org/packages/d7/b9/51afecb35bb61b188a4b44868001de348a0e8134b4dfa00ffc191567c4b9/newspaper3k-0.2.8-py3-none-any.whl (211kB)\n",
            "\r\u001b[K     |█▌                              | 10kB 16.8MB/s eta 0:00:01\r\u001b[K     |███                             | 20kB 21.6MB/s eta 0:00:01\r\u001b[K     |████▋                           | 30kB 11.7MB/s eta 0:00:01\r\u001b[K     |██████▏                         | 40kB 8.9MB/s eta 0:00:01\r\u001b[K     |███████▊                        | 51kB 7.2MB/s eta 0:00:01\r\u001b[K     |█████████▎                      | 61kB 7.1MB/s eta 0:00:01\r\u001b[K     |██████████▉                     | 71kB 7.4MB/s eta 0:00:01\r\u001b[K     |████████████▍                   | 81kB 7.8MB/s eta 0:00:01\r\u001b[K     |██████████████                  | 92kB 8.1MB/s eta 0:00:01\r\u001b[K     |███████████████▌                | 102kB 8.1MB/s eta 0:00:01\r\u001b[K     |█████████████████               | 112kB 8.1MB/s eta 0:00:01\r\u001b[K     |██████████████████▋             | 122kB 8.1MB/s eta 0:00:01\r\u001b[K     |████████████████████▏           | 133kB 8.1MB/s eta 0:00:01\r\u001b[K     |█████████████████████▊          | 143kB 8.1MB/s eta 0:00:01\r\u001b[K     |███████████████████████▎        | 153kB 8.1MB/s eta 0:00:01\r\u001b[K     |████████████████████████▉       | 163kB 8.1MB/s eta 0:00:01\r\u001b[K     |██████████████████████████▍     | 174kB 8.1MB/s eta 0:00:01\r\u001b[K     |████████████████████████████    | 184kB 8.1MB/s eta 0:00:01\r\u001b[K     |█████████████████████████████▌  | 194kB 8.1MB/s eta 0:00:01\r\u001b[K     |███████████████████████████████ | 204kB 8.1MB/s eta 0:00:01\r\u001b[K     |████████████████████████████████| 215kB 8.1MB/s \n",
            "\u001b[?25hRequirement already satisfied: nltk>=3.2.1 in /usr/local/lib/python3.7/dist-packages (from newspaper3k) (3.2.5)\n",
            "Requirement already satisfied: lxml>=3.6.0 in /usr/local/lib/python3.7/dist-packages (from newspaper3k) (4.2.6)\n",
            "Requirement already satisfied: Pillow>=3.3.0 in /usr/local/lib/python3.7/dist-packages (from newspaper3k) (7.1.2)\n",
            "Collecting tinysegmenter==0.3\n",
            "  Downloading https://files.pythonhosted.org/packages/17/82/86982e4b6d16e4febc79c2a1d68ee3b707e8a020c5d2bc4af8052d0f136a/tinysegmenter-0.3.tar.gz\n",
            "Requirement already satisfied: python-dateutil>=2.5.3 in /usr/local/lib/python3.7/dist-packages (from newspaper3k) (2.8.1)\n",
            "Requirement already satisfied: beautifulsoup4>=4.4.1 in /usr/local/lib/python3.7/dist-packages (from newspaper3k) (4.6.3)\n",
            "Requirement already satisfied: requests>=2.10.0 in /usr/local/lib/python3.7/dist-packages (from newspaper3k) (2.23.0)\n",
            "Collecting feedparser>=5.2.1\n",
            "\u001b[?25l  Downloading https://files.pythonhosted.org/packages/1c/21/faf1bac028662cc8adb2b5ef7a6f3999a765baa2835331df365289b0ca56/feedparser-6.0.2-py3-none-any.whl (80kB)\n",
            "\u001b[K     |████████████████████████████████| 81kB 5.6MB/s \n",
            "\u001b[?25hCollecting feedfinder2>=0.0.4\n",
            "  Downloading https://files.pythonhosted.org/packages/35/82/1251fefec3bb4b03fd966c7e7f7a41c9fc2bb00d823a34c13f847fd61406/feedfinder2-0.0.4.tar.gz\n",
            "Collecting jieba3k>=0.35.1\n",
            "\u001b[?25l  Downloading https://files.pythonhosted.org/packages/a9/cb/2c8332bcdc14d33b0bedd18ae0a4981a069c3513e445120da3c3f23a8aaa/jieba3k-0.35.1.zip (7.4MB)\n",
            "\u001b[K     |████████████████████████████████| 7.4MB 6.2MB/s \n",
            "\u001b[?25hCollecting tldextract>=2.0.1\n",
            "\u001b[?25l  Downloading https://files.pythonhosted.org/packages/7e/62/b6acd3129c5615b9860e670df07fd55b76175b63e6b7f68282c7cad38e9e/tldextract-3.1.0-py2.py3-none-any.whl (87kB)\n",
            "\u001b[K     |████████████████████████████████| 92kB 7.7MB/s \n",
            "\u001b[?25hCollecting cssselect>=0.9.2\n",
            "  Downloading https://files.pythonhosted.org/packages/3b/d4/3b5c17f00cce85b9a1e6f91096e1cc8e8ede2e1be8e96b87ce1ed09e92c5/cssselect-1.1.0-py2.py3-none-any.whl\n",
            "Requirement already satisfied: PyYAML>=3.11 in /usr/local/lib/python3.7/dist-packages (from newspaper3k) (3.13)\n",
            "Requirement already satisfied: six in /usr/local/lib/python3.7/dist-packages (from nltk>=3.2.1->newspaper3k) (1.15.0)\n",
            "Requirement already satisfied: urllib3!=1.25.0,!=1.25.1,<1.26,>=1.21.1 in /usr/local/lib/python3.7/dist-packages (from requests>=2.10.0->newspaper3k) (1.24.3)\n",
            "Requirement already satisfied: certifi>=2017.4.17 in /usr/local/lib/python3.7/dist-packages (from requests>=2.10.0->newspaper3k) (2020.12.5)\n",
            "Requirement already satisfied: idna<3,>=2.5 in /usr/local/lib/python3.7/dist-packages (from requests>=2.10.0->newspaper3k) (2.10)\n",
            "Requirement already satisfied: chardet<4,>=3.0.2 in /usr/local/lib/python3.7/dist-packages (from requests>=2.10.0->newspaper3k) (3.0.4)\n",
            "Collecting sgmllib3k\n",
            "  Downloading https://files.pythonhosted.org/packages/9e/bd/3704a8c3e0942d711c1299ebf7b9091930adae6675d7c8f476a7ce48653c/sgmllib3k-1.0.0.tar.gz\n",
            "Requirement already satisfied: filelock>=3.0.8 in /usr/local/lib/python3.7/dist-packages (from tldextract>=2.0.1->newspaper3k) (3.0.12)\n",
            "Collecting requests-file>=1.4\n",
            "  Downloading https://files.pythonhosted.org/packages/77/86/cdb5e8eaed90796aa83a6d9f75cfbd37af553c47a291cd47bc410ef9bdb2/requests_file-1.5.1-py2.py3-none-any.whl\n",
            "Building wheels for collected packages: tinysegmenter, feedfinder2, jieba3k, sgmllib3k\n",
            "  Building wheel for tinysegmenter (setup.py) ... \u001b[?25l\u001b[?25hdone\n",
            "  Created wheel for tinysegmenter: filename=tinysegmenter-0.3-cp37-none-any.whl size=13538 sha256=421f3b68f2d47f9aa3caf0e18b19cd9f76550b7b14d9060aa8223290cbf6dec8\n",
            "  Stored in directory: /root/.cache/pip/wheels/81/2b/43/a02ede72324dd40cdd7ca53aad718c7710628e91b8b0dc0f02\n",
            "  Building wheel for feedfinder2 (setup.py) ... \u001b[?25l\u001b[?25hdone\n",
            "  Created wheel for feedfinder2: filename=feedfinder2-0.0.4-cp37-none-any.whl size=3358 sha256=47a98de51b9270dc66a1acd142efa4ef0bf7773e00d4fb586d001203c4cb81fd\n",
            "  Stored in directory: /root/.cache/pip/wheels/de/03/ca/778e3a7a627e3d98836cc890e7cb40c7575424cfd3340f40ed\n",
            "  Building wheel for jieba3k (setup.py) ... \u001b[?25l\u001b[?25hdone\n",
            "  Created wheel for jieba3k: filename=jieba3k-0.35.1-cp37-none-any.whl size=7398406 sha256=9b870e497f94cbd501e7d9184be53a9424a17bc8a3014a8fdb0ae3d8c5dd1c2f\n",
            "  Stored in directory: /root/.cache/pip/wheels/83/15/9c/a3f1f67e7f7181170ad37d32e503c35da20627c013f438ed34\n",
            "  Building wheel for sgmllib3k (setup.py) ... \u001b[?25l\u001b[?25hdone\n",
            "  Created wheel for sgmllib3k: filename=sgmllib3k-1.0.0-cp37-none-any.whl size=6067 sha256=59f83158aec8ed6ea19371d8ffa0d88fb86b4d53a0a2cc8ffd3a74ba77c1eccc\n",
            "  Stored in directory: /root/.cache/pip/wheels/f1/80/5a/444ba08a550cdd241bd9baf8bae44be750efe370adb944506a\n",
            "Successfully built tinysegmenter feedfinder2 jieba3k sgmllib3k\n",
            "Installing collected packages: tinysegmenter, sgmllib3k, feedparser, feedfinder2, jieba3k, requests-file, tldextract, cssselect, newspaper3k\n",
            "Successfully installed cssselect-1.1.0 feedfinder2-0.0.4 feedparser-6.0.2 jieba3k-0.35.1 newspaper3k-0.2.8 requests-file-1.5.1 sgmllib3k-1.0.0 tinysegmenter-0.3 tldextract-3.1.0\n"
          ],
          "name": "stdout"
        }
      ]
    },
    {
      "cell_type": "code",
      "metadata": {
        "colab": {
          "base_uri": "https://localhost:8080/"
        },
        "id": "b2PE7D1LzNj7",
        "outputId": "61bd925e-18cb-4a29-a416-31747686a8b1"
      },
      "source": [
        "pip install jpype1"
      ],
      "execution_count": 6,
      "outputs": [
        {
          "output_type": "stream",
          "text": [
            "Collecting jpype1\n",
            "\u001b[?25l  Downloading https://files.pythonhosted.org/packages/cd/a5/9781e2ef4ca92d09912c4794642c1653aea7607f473e156cf4d423a881a1/JPype1-1.2.1-cp37-cp37m-manylinux2010_x86_64.whl (457kB)\n",
            "\r\u001b[K     |▊                               | 10kB 14.6MB/s eta 0:00:01\r\u001b[K     |█▍                              | 20kB 19.8MB/s eta 0:00:01\r\u001b[K     |██▏                             | 30kB 12.4MB/s eta 0:00:01\r\u001b[K     |██▉                             | 40kB 9.1MB/s eta 0:00:01\r\u001b[K     |███▋                            | 51kB 7.1MB/s eta 0:00:01\r\u001b[K     |████▎                           | 61kB 7.0MB/s eta 0:00:01\r\u001b[K     |█████                           | 71kB 7.6MB/s eta 0:00:01\r\u001b[K     |█████▊                          | 81kB 7.8MB/s eta 0:00:01\r\u001b[K     |██████▌                         | 92kB 7.3MB/s eta 0:00:01\r\u001b[K     |███████▏                        | 102kB 7.9MB/s eta 0:00:01\r\u001b[K     |███████▉                        | 112kB 7.9MB/s eta 0:00:01\r\u001b[K     |████████▋                       | 122kB 7.9MB/s eta 0:00:01\r\u001b[K     |█████████▎                      | 133kB 7.9MB/s eta 0:00:01\r\u001b[K     |██████████                      | 143kB 7.9MB/s eta 0:00:01\r\u001b[K     |██████████▊                     | 153kB 7.9MB/s eta 0:00:01\r\u001b[K     |███████████▌                    | 163kB 7.9MB/s eta 0:00:01\r\u001b[K     |████████████▏                   | 174kB 7.9MB/s eta 0:00:01\r\u001b[K     |█████████████                   | 184kB 7.9MB/s eta 0:00:01\r\u001b[K     |█████████████▋                  | 194kB 7.9MB/s eta 0:00:01\r\u001b[K     |██████████████▎                 | 204kB 7.9MB/s eta 0:00:01\r\u001b[K     |███████████████                 | 215kB 7.9MB/s eta 0:00:01\r\u001b[K     |███████████████▊                | 225kB 7.9MB/s eta 0:00:01\r\u001b[K     |████████████████▌               | 235kB 7.9MB/s eta 0:00:01\r\u001b[K     |█████████████████▏              | 245kB 7.9MB/s eta 0:00:01\r\u001b[K     |██████████████████              | 256kB 7.9MB/s eta 0:00:01\r\u001b[K     |██████████████████▋             | 266kB 7.9MB/s eta 0:00:01\r\u001b[K     |███████████████████▍            | 276kB 7.9MB/s eta 0:00:01\r\u001b[K     |████████████████████            | 286kB 7.9MB/s eta 0:00:01\r\u001b[K     |████████████████████▊           | 296kB 7.9MB/s eta 0:00:01\r\u001b[K     |█████████████████████▌          | 307kB 7.9MB/s eta 0:00:01\r\u001b[K     |██████████████████████▏         | 317kB 7.9MB/s eta 0:00:01\r\u001b[K     |███████████████████████         | 327kB 7.9MB/s eta 0:00:01\r\u001b[K     |███████████████████████▋        | 337kB 7.9MB/s eta 0:00:01\r\u001b[K     |████████████████████████▍       | 348kB 7.9MB/s eta 0:00:01\r\u001b[K     |█████████████████████████       | 358kB 7.9MB/s eta 0:00:01\r\u001b[K     |█████████████████████████▉      | 368kB 7.9MB/s eta 0:00:01\r\u001b[K     |██████████████████████████▌     | 378kB 7.9MB/s eta 0:00:01\r\u001b[K     |███████████████████████████▏    | 389kB 7.9MB/s eta 0:00:01\r\u001b[K     |████████████████████████████    | 399kB 7.9MB/s eta 0:00:01\r\u001b[K     |████████████████████████████▋   | 409kB 7.9MB/s eta 0:00:01\r\u001b[K     |█████████████████████████████▍  | 419kB 7.9MB/s eta 0:00:01\r\u001b[K     |██████████████████████████████  | 430kB 7.9MB/s eta 0:00:01\r\u001b[K     |██████████████████████████████▉ | 440kB 7.9MB/s eta 0:00:01\r\u001b[K     |███████████████████████████████▌| 450kB 7.9MB/s eta 0:00:01\r\u001b[K     |████████████████████████████████| 460kB 7.9MB/s \n",
            "\u001b[?25hRequirement already satisfied: typing-extensions; python_version < \"3.8\" in /usr/local/lib/python3.7/dist-packages (from jpype1) (3.7.4.3)\n",
            "Installing collected packages: jpype1\n",
            "Successfully installed jpype1-1.2.1\n"
          ],
          "name": "stdout"
        }
      ]
    },
    {
      "cell_type": "code",
      "metadata": {
        "colab": {
          "base_uri": "https://localhost:8080/",
          "height": 614
        },
        "id": "ihxr873YzP7h",
        "outputId": "42e123db-bc73-48c9-9d08-1e98b0ce2ed6"
      },
      "source": [
        "pip install konlpy"
      ],
      "execution_count": 7,
      "outputs": [
        {
          "output_type": "stream",
          "text": [
            "Collecting konlpy\n",
            "\u001b[?25l  Downloading https://files.pythonhosted.org/packages/85/0e/f385566fec837c0b83f216b2da65db9997b35dd675e107752005b7d392b1/konlpy-0.5.2-py2.py3-none-any.whl (19.4MB)\n",
            "\u001b[K     |████████████████████████████████| 19.4MB 1.4MB/s \n",
            "\u001b[?25hRequirement already satisfied: tweepy>=3.7.0 in /usr/local/lib/python3.7/dist-packages (from konlpy) (3.10.0)\n",
            "Requirement already satisfied: lxml>=4.1.0 in /usr/local/lib/python3.7/dist-packages (from konlpy) (4.2.6)\n",
            "Requirement already satisfied: JPype1>=0.7.0 in /usr/local/lib/python3.7/dist-packages (from konlpy) (1.2.1)\n",
            "Collecting beautifulsoup4==4.6.0\n",
            "\u001b[?25l  Downloading https://files.pythonhosted.org/packages/9e/d4/10f46e5cfac773e22707237bfcd51bbffeaf0a576b0a847ec7ab15bd7ace/beautifulsoup4-4.6.0-py3-none-any.whl (86kB)\n",
            "\u001b[K     |████████████████████████████████| 92kB 9.4MB/s \n",
            "\u001b[?25hCollecting colorama\n",
            "  Downloading https://files.pythonhosted.org/packages/44/98/5b86278fbbf250d239ae0ecb724f8572af1c91f4a11edf4d36a206189440/colorama-0.4.4-py2.py3-none-any.whl\n",
            "Requirement already satisfied: numpy>=1.6 in /usr/local/lib/python3.7/dist-packages (from konlpy) (1.19.5)\n",
            "Requirement already satisfied: requests[socks]>=2.11.1 in /usr/local/lib/python3.7/dist-packages (from tweepy>=3.7.0->konlpy) (2.23.0)\n",
            "Requirement already satisfied: six>=1.10.0 in /usr/local/lib/python3.7/dist-packages (from tweepy>=3.7.0->konlpy) (1.15.0)\n",
            "Requirement already satisfied: requests-oauthlib>=0.7.0 in /usr/local/lib/python3.7/dist-packages (from tweepy>=3.7.0->konlpy) (1.3.0)\n",
            "Requirement already satisfied: typing-extensions; python_version < \"3.8\" in /usr/local/lib/python3.7/dist-packages (from JPype1>=0.7.0->konlpy) (3.7.4.3)\n",
            "Requirement already satisfied: certifi>=2017.4.17 in /usr/local/lib/python3.7/dist-packages (from requests[socks]>=2.11.1->tweepy>=3.7.0->konlpy) (2020.12.5)\n",
            "Requirement already satisfied: chardet<4,>=3.0.2 in /usr/local/lib/python3.7/dist-packages (from requests[socks]>=2.11.1->tweepy>=3.7.0->konlpy) (3.0.4)\n",
            "Requirement already satisfied: urllib3!=1.25.0,!=1.25.1,<1.26,>=1.21.1 in /usr/local/lib/python3.7/dist-packages (from requests[socks]>=2.11.1->tweepy>=3.7.0->konlpy) (1.24.3)\n",
            "Requirement already satisfied: idna<3,>=2.5 in /usr/local/lib/python3.7/dist-packages (from requests[socks]>=2.11.1->tweepy>=3.7.0->konlpy) (2.10)\n",
            "Requirement already satisfied: PySocks!=1.5.7,>=1.5.6; extra == \"socks\" in /usr/local/lib/python3.7/dist-packages (from requests[socks]>=2.11.1->tweepy>=3.7.0->konlpy) (1.7.1)\n",
            "Requirement already satisfied: oauthlib>=3.0.0 in /usr/local/lib/python3.7/dist-packages (from requests-oauthlib>=0.7.0->tweepy>=3.7.0->konlpy) (3.1.0)\n",
            "Installing collected packages: beautifulsoup4, colorama, konlpy\n",
            "  Found existing installation: beautifulsoup4 4.6.3\n",
            "    Uninstalling beautifulsoup4-4.6.3:\n",
            "      Successfully uninstalled beautifulsoup4-4.6.3\n",
            "Successfully installed beautifulsoup4-4.6.0 colorama-0.4.4 konlpy-0.5.2\n"
          ],
          "name": "stdout"
        },
        {
          "output_type": "display_data",
          "data": {
            "application/vnd.colab-display-data+json": {
              "pip_warning": {
                "packages": [
                  "bs4"
                ]
              }
            }
          },
          "metadata": {
            "tags": []
          }
        }
      ]
    },
    {
      "cell_type": "code",
      "metadata": {
        "id": "PcLtVBDHyovD"
      },
      "source": [
        "import requests\n",
        "from lxml.html import fromstring\n",
        "from newspaper import Article\n",
        "from konlpy.tag import Kkma"
      ],
      "execution_count": 11,
      "outputs": []
    },
    {
      "cell_type": "code",
      "metadata": {
        "colab": {
          "base_uri": "https://localhost:8080/"
        },
        "id": "HQu6NyqRyO3e",
        "outputId": "7f70a632-1945-4723-8f50-8b6902456088"
      },
      "source": [
        "kkma = Kkma()\n",
        "\n",
        "url = 'https://news.joins.com/politics?cloc=joongang-section-gnb2i'\n",
        "res = requests.get(url)\n",
        "parser = fromstring(res.text)\n",
        "article_list = parser.xpath('//div[@class=\"list_basic list_sectionhome\"]')\n",
        "parsed_articles = article_list[0].xpath('.//li')\n",
        "print(parsed_articles)\n",
        "links = []\n",
        "for article in parsed_articles:\n",
        "    parsed_link = article.xpath('.//a[@href]')\n",
        "    print(parsed_link)\n",
        "    link = parsed_link[0].get('href')\n",
        "    links.append(link)\n",
        "print(links)"
      ],
      "execution_count": 13,
      "outputs": [
        {
          "output_type": "stream",
          "text": [
            "[<Element li at 0x7f95b987be90>, <Element li at 0x7f95b987bf50>, <Element li at 0x7f95b987bfb0>, <Element li at 0x7f95b9880050>, <Element li at 0x7f95b98800b0>, <Element li at 0x7f95b9880110>, <Element li at 0x7f95b9880170>, <Element li at 0x7f95b98801d0>, <Element li at 0x7f95b9880230>, <Element li at 0x7f95b9880290>, <Element li at 0x7f95b98802f0>, <Element li at 0x7f95b9880350>, <Element li at 0x7f95b98803b0>, <Element li at 0x7f95b9880410>, <Element li at 0x7f95b9880470>]\n",
            "[<Element a at 0x7f95d92caa70>, <Element a at 0x7f95d92caad0>, <Element a at 0x7f95d92caa10>]\n",
            "[<Element a at 0x7f95d92ca950>, <Element a at 0x7f95d92ca110>, <Element a at 0x7f95d92ca050>]\n",
            "[<Element a at 0x7f95d92caa10>, <Element a at 0x7f95d92ca9b0>, <Element a at 0x7f95d9335ad0>]\n",
            "[<Element a at 0x7f95d92caa70>, <Element a at 0x7f95d92caad0>]\n",
            "[<Element a at 0x7f95d92ca050>, <Element a at 0x7f95d9335ad0>]\n",
            "[<Element a at 0x7f95d92ca110>, <Element a at 0x7f95d9335b30>, <Element a at 0x7f95d9335c50>]\n",
            "[<Element a at 0x7f95d9335ad0>, <Element a at 0x7f95d9335e90>, <Element a at 0x7f95d9335cb0>]\n",
            "[<Element a at 0x7f95d9335b30>, <Element a at 0x7f95d9335c50>, <Element a at 0x7f95d9335fb0>]\n",
            "[<Element a at 0x7f95d9335e90>, <Element a at 0x7f95d9335cb0>, <Element a at 0x7f95d9335dd0>]\n",
            "[<Element a at 0x7f95d9335fb0>, <Element a at 0x7f95d9335ad0>, <Element a at 0x7f95d9335f50>]\n",
            "[<Element a at 0x7f95d9335b30>, <Element a at 0x7f95d9335c50>, <Element a at 0x7f95d9335e30>]\n",
            "[<Element a at 0x7f95d9335cb0>, <Element a at 0x7f95d9335dd0>, <Element a at 0x7f95d9bb4c50>]\n",
            "[<Element a at 0x7f95d9335ad0>, <Element a at 0x7f95d9335f50>, <Element a at 0x7f95d9bb4d70>]\n",
            "[<Element a at 0x7f95d9335e30>, <Element a at 0x7f95d9bb4c50>, <Element a at 0x7f95d9bb4e90>]\n",
            "[<Element a at 0x7f95d9bb4d70>, <Element a at 0x7f95d9bb47d0>, <Element a at 0x7f95d9bb46b0>]\n",
            "['https://news.joins.com/article/24028499', 'https://news.joins.com/article/24028463', 'https://news.joins.com/article/24028462', 'https://news.joins.com/article/24028461', 'https://news.joins.com/article/24028448', 'https://news.joins.com/article/24028446', 'https://news.joins.com/article/24028439', 'https://news.joins.com/article/24028438', 'https://news.joins.com/article/24028428', 'https://news.joins.com/article/24028426', 'https://news.joins.com/article/24028423', 'https://news.joins.com/article/24028419', 'https://news.joins.com/article/24028402', 'https://news.joins.com/article/24028401', 'https://news.joins.com/article/24028394']\n"
          ],
          "name": "stdout"
        }
      ]
    },
    {
      "cell_type": "code",
      "metadata": {
        "colab": {
          "base_uri": "https://localhost:8080/"
        },
        "id": "zlZdZ1VEyx8d",
        "outputId": "57cb7914-9df9-4650-e14c-5ef3b4b2cf93"
      },
      "source": [
        "for link in links:\n",
        "\n",
        "  article = Article(link, language='ko')\n",
        "  article.download()\n",
        "  article.parse()\n",
        "  titles = article.title\n",
        "  sentences = kkma.sentences(article.text)\n",
        "  print(titles)\n",
        "  print(sentences)"
      ],
      "execution_count": 21,
      "outputs": [
        {
          "output_type": "stream",
          "text": [
            "[사설] 천안함 사건 재조사 과정, 투명하게 밝혀라\n",
            "['진정→ 재조사→ 기각, 의혹투성이 청와대· 국방부 은폐 말고 사과해야 천안함 피격 사건 재조사 진정과 관련한 정부의 처리 과정이 의혹투성이다.', '대통령 직속 군사 망사고 진상규명위원회( 규명 위) 는 천안함 사건을 재조사해 달라는 신상 철 씨의 진정을 지난 2일 최종 각하했다.', '그런데 규명 위는 신 씨가 지난해 9월에 낸 진정을 12월에야 재조사한다고 국방부에 통보했다가 이번에 다시 번복해 기각한 것이다.', '문제는 천안함 피격 사건처럼 중요한 사안의 처리 과정이 중앙일보 보도로 공개되기 전까지 국방부와 청와대가 3개월 넘게 은폐했다는 점이다.', '심지어 천안함 전 사자 유가족과 생존 장병에게도 알리지 않았다.', '규명 위의 재조사 결정이 뒤늦게 알려 지자 유족과 생존 장병은 크게 반발했다.', '최원일 천안함 전 함장도 규명 위와 국방부를 항의 방문했다.', '‘ 천 안함 피격’ 은 2010년 3월 26일 밤 백령도 인근 해역에 침투한 북한 잠수정이 쏜 어뢰에 천안함이 침몰한 북한 도발 사건이다.', '천안함은 북한 어뢰가 물속에서 폭발하면서 생긴 ‘ 버블 젯’ 현상에 의해 두 동강이 났다.', '함정에 탔던 장병 가운데 46명이 전사했다.', '그때 피해를 당한 천안함은 평 택 2 함대 사령부에 전시돼 있다.', '천 안 함의 파괴 단면을 보면 바다 아래에서 발생한 강력한 폭발력에 함정의 골조가 하늘을 향해 수직으로 꺾여 있다.', '신 씨 주장처럼 천안함이 암초에 좌초했다거나 미군 잠수함과 충돌했다는 어떠한 증거도 찾을 수 없다.', '암초에 부딪쳐 함정 아래에 깊게 파인 흔적은 없다.', '또 7000~8000t이나 되는 미 해군 잠수함은 천안함 피격 사건이 발생한 얕은 바다에 갈 수도 없다.', '천안함 (1220t )에는 잠수함에 부딪혀 움푹 들어간 부위도 없다.', '천안함 좌초 설을 주장해 기소된 신 씨에 대한 1·2 심 재판부도 “ 좌초 설은 근거 없다” 고 이미 결론을 냈다.', '신 씨의 좌초 설 주장은 천안함이 북한 어뢰에 피격되지 않았다는 게 핵심이다.', '북한 도발에 면죄부를 주는 것과 다름없다.', '천안함이 북한 어뢰에 피격됐다는 군의 발표가 모두 거짓이라고 부인하는 것이다.', '그런 데도 규명 위가 신 씨의 진상조사 요구를 처음부터 기각하지 않고 수용한 배경은 이해할 수 없다.', '규명 위가 이를 몇 달 동안이나 숨기며 몰래 조사하려 다 언론 보도로 여론이 나빠지자 다시 기각한 것으로 밖에 볼 수 없다.', '신 씨의 진정 사건을 보고 받지 않았다는 국방부의 태도는 정직하지 못하다.', '신 씨의 터무니없는 주장을 시류에 따라 수용 또는 부정하는 청와대와 국방부를 어찌 국민이 믿을 수 있겠는가.', '천안함 피격과 같은 북한의 도발을 엄중히 따질 능력도 없는 정부가 정상적인 남북관계 개선은 할 수 있을까.', '청와대와 국방부는 이번 진정 사건의 처리 과정을 국민에게 낱낱이 공개하고 다시는 이런 일이 재발하지 않도록 해야 한다.', '아직도 정신적 후유증을 앓고 있는 천안함 전 사자 유족과 생존자에게 먼저 엄중히 사과하기 바란다.']\n",
            "“정권 심판이 아닌 오세훈 심판, 거짓말 후보가 시장되면 안돼”\n",
            "['박 영선, 여당 텃밭 서남권 집중 유세 “ 투표하면 승리” 지지층 결집 나서 내곡동 의혹엔 “ 끝까지 파헤쳐야” “ 정권 심판이 아니라 오 세 훈을 심판해야 한다는 시민들의 분노가 점점 점점 높아 지고 있다.', '”( 박 영선 더불어 민주당 서울시장 후보 )5 일 박 영선 후보의 입은 시종일관 오 세 훈 국민의 힘 서울시장 후보를 겨눴다.', '박 후보는 이날 오후 첫 집중 유세 현장인 서울 강서구 발산 역에서 연단에 올라 “ 서울시장 선거에서 거짓말하는 후보에 대한 시민 분노가 높아 지고 있다.', '거짓말하는 후보가 시장 되는 세상은 막아야 하지 않겠냐', '는 게 일반적인 시민들의 생각” 이라고 주장했다.', '연단에 선 박 후보는 오 후보를 “ 소 상공인의 피눈물을 모르는 후보 ”라고 몰아 세웠다.', '이어 “ 생태 탕 집 아들이 내곡동 땅 대질신문을 하자고', '했는데 답을 못한다.', '선거 끝나고 하자고 한다 ”며 “ 이명 박 (MB) 전 대통령의 BBK가 바로 그랬다.', '이권 세력이 모여들어 대한민국이 ‘ 잃어버린 10년’ 이 됐다” 고 공격했다.', '박 후보는 이날 서울 목동에서 열린 방송기자클럽 초청 토론회에서도 “ 오 후보는 이 전 대통령과 한 세트 ”라고 주장했다.', '또 오 후보의 과거 ‘ 태극기 집회’ 참석 사진을 꺼 내들며 “ 지난해 8·15 집회로 코로나 19 팬데믹이 재발해 소 상공인 매출에 찬물을 끼얹었는데, 태극기 집회와 함께 하느냐', '” 고 물었다.', '오 후보는 “ 한 번 나가서 연설했다.', '문재인 대통령은 독재자라고 말했다” 고 했다.', '이어 “ 독재자의 의미는 뭔 가” 라는 박 후보 물음에 “ 야당과 국민 의사를 무시하는 것” 이라고 답했다.', '박 후보의 이날 동선은 강 서구를 시작으로 금 천· 관악· 동작· 영등포구 등 서울 서남권의 민주당 텃밭에 집중됐다.', '모두 2018년 지방선거 대비 사전 투표율이 서울 평균 상승률 (2.9% 포인트 )에 미치지 못한 곳들이다.', '금 천 (0.6% 포인트)· 관악 (1.2% 포인트)· 동작 (1.5% 포인트) 구는 사전 투표율 상승률이 서울에서 가장 낮은 축에 들었고, 강서 (2.2% 포인트)· 영등포 (2.7% 포인트) 구 역시 평균 상승률에 못 미쳤다.', '선거 막판 아직 투표하지 않은 ‘ 샤이 진보’ 결집을 노린 동선이다.', '박 후보는 강 서구에 이어 진행된 금천구 유세 현장에서 “ 금천구 사전 투표율이 평균에 조금 못 미쳤다.', '4월 7일에 두 배로 높여 주실 거죠.', '투표하면 반드시 승리한다” 고 지지층의 투표를 적극 독려했다.', '박 후보는 전날 (4 일) 기자 간담회에서도 “ 샤이 진보는 분명히 있다” 고 강조했다.', '박 후보는 금천구 유세에서도 오 후보 비판에 주력했다.', '그는 “ 서울시 의회와 싸우고 정부와 싸우고 이래서 무슨 일이 되겠느냐.', '오 후보는 자신이 필요한 것은 기억하고 자신에게 불리한 것은 무조건 ‘ 모른다, 생각이 나지 않는다’ 고 하는 선택적 기억력의 소유자 ”라고 공격했다.', '유세를 마친 뒤 기자들과 만난 박 후보는 민주당이 내곡동 땅 의혹과 관련해 허위사실 공표로 오 후보를 검찰에 고발한 것과 관련해 “ 끝까지 파헤쳐야 한다” 고 강조했다.', '“ 다섯 명의 증인 이외에 ( 더 이상) 결정적인 물증이 뭐가 있겠느냐.', '경작인, 측량팀장, 생태 탕 집 부모 등 모든 과정에 증인이 있는데 더 이상의 증거가 어디 있겠느냐', '” 고 했다.', '이어 언론을 향해서도 “ 세세하게 보도하지 않은 것도 문제가 있다” 고 주장했다.', '한편 민주당의 서울 이외 지역구 국회의원들도 박 후보 지원을 위해 서울로 집결했다.', '당권 주자인 송영 길( 인천 계양을)· 홍 영표( 인천 부평을) 의원은 관악· 강동· 영등포구 일대 유세에 출동했고, 서영석( 부천 정) 의원은 은 평· 영등포· 관악구 일대를 돌았다.', '한 영익· 성지원 기자, 김보 담 인턴기자 hanyi@joongang .co .kr']\n",
            "“박영선은 존재 자체가 거짓말…여당, 후보 안 낸다는 약속 어겨”\n",
            "['오 세 훈, 20 대 지지자와 투표 독려 “ 여론조사 앞서지만 숫자에 불과” 오, 막판 변수 차단 ‘ 입 조심’ 당부 4·7 서울시장 보궐선거를 이틀 앞둔 5일 유세에서 오 세 훈 국민의 힘 서울시장 후보는 “ 우 리 지지율이 조금 높아 졌다고', '해서 긴장을 풀지 말자” 는 말을 자주 했다.', '이른바 ‘ 방 심 금물, 대세 굳히기’ 전략이다.', '국민의 힘은 지난 2~3 일 사전투표에서 서울 지역 투표율이 21.95% 로 역대 재· 보선 최고 치를 기록하자 “ 정권 심판론의 바람이 불기 시작했다.', '승기를 잡았다 ”며 고무된 분위기다.', '김종인 당 비상대책위원장은 5일 오전 선거대책 위 회의 뒤 기자들과 만 나 “ 내가 보기에 남은 이틀간 특별한 변수가 있을 수 없다 ”며 “ 민주당은 네거티브 전략만 쓰는데 대한민국 유권자가 그런 것에 속을 정도로 바보가 아니다” 고 말했다.', '다만 오 후보는 선거 막판 악재를 차단하기 위해 당내 인사들의 ‘ 입 조심’ ‘ 몸조심’ 을 당부했다.', '오 후보는 이날 오후 서울 강서구 등 촌 역 유세에서 “ 요즘 청년들이 많이 우리 당 지지로 돌아섰다.', '1년 전에 비하면 격세지감” 이라며 “ 이런 큰 변화는 또 다른 경고의 메시지다.', '젊은이들에게 희망을 줄 수 있는 국민의 힘이 되어야 한다” 고 말했다.', '오 후보는 이날 서울 동작구 장승 배기 역 유세에서 투표 참여도 재차 독려했다.', '그는 “ 아무리 여론조사에서 조금 앞서도 그건 지지율일 뿐이다.', '우리가 받을 수 있는 표는 전혀 별개” 라며 “ 한 장 한 장의 종이는 힘이 없는 종이에 불과 하지만, 여러분 한 표 한 표는 뭉치면 엄청난 위력을 발휘하는 종이 돌멩이 ”라고 강조했다.', '그러면서 오 후보는 “ 기울어진 운동장이 돼 버린 서울시와 대한민국을 다시 평평한 운동장으로 만들어 달라” 고 호소했다.', '그는 “ 민주주의의 기본 원리인 견제와 균형이 위력을 발휘할 수 있도록, 그래서 대통령과 180석 거대 여당이 야당을 더는 무시할 수 없도록 기준을 잡아 달라” 고 말했다.', '장승 배기 역 유세에 선 지지 연설을 자원한 20대 대학생들이 연단에 올랐다.', '대학교 2 학년에 재학 중이라고 자신을 소개한 스무 살 배 재 욱 씨는 “ 서울시는 대통령 다음으로 제일 중요한 자리” 라며 “ 민주당에 서울· 부산시장을 맡겼던 지난날을 떠올려 보자. 공공의료, 미세 먼지, 민주주의가 모두 퇴보하지 않았느냐', '” 고 말했다.', '자신을 26세 대학원생이라고 소개한 조수 현 씨는 “ 제 친구들이 5평도 되지 않는 원룸에서 50만원, 60만원을 내고 살고 있다 ”며 “ 작년까지만 해도 전세로 쉽게 들어갈 수 있었는데 전 셋 값이 올라서 지금은 들어가지 못한다.', '월세 내다보면 남는 돈이 없어 저축할 수도 없다” 고 했다.', '오 후보는 이날 오후 방송기자클럽 초청 토론회에선 더 불어 민주당이 당헌· 당규를 바꿔 전임 시장 성 추문으로 치르게 된 보궐선거에 후보를 공천한 점을 들어 “ 박 영선 민주당 후보의 존재 자체가 거짓말 아닌가.', '후보를 안 내기로 하지 않았느냐', '” 고 공격했다.', '박 후보는 “ 상대 후보에 대해 존재 자체가 거짓말이라는 것은 아주 몹쓸 이야기 ”라고 맞받았다.', '안 철수 국민의 당 대표는 오 후보와 별개로 이날 오후 서울 은 평 갑 지원 유세에 나서 ‘ 정부 심판’ 을 강조했다.', '안 대표는 유세에서 “ 이번은 지난 4년 간의 문 재인 정권에 대해 마지막으로 평가를 하는 중요한 선거” 라며 “ 지난 4년 살림살이 어떠셨나.', '좋아지셨나', '”라고 물었다.', '이어 “ 이 정부가 일자리 정부 되겠다고', '했다 ”며 “ 일자리 전광판 어디 있나.', '아마 당근 마켓( 온라인 중고 거래 사이트 )에 판매한 게 아닌가 ”라고 목청을 높였다.', '김기정· 성지원 기자 kim.kijeong @joongang .co .kr']\n",
            "박영선·오세훈은 사라지고 ‘생태탕’만 남았다\n",
            "['여야, 오 세 훈 내곡동 땅 의혹 공방 네거티브 싸움에 민생 현안 뒷전 정치권 “2002 년 대선 김 대업 데 자 뷔” 생태 탕 집 아들 “ 그때는 얼굴 몰라” 서울시장 보궐선거 판에서 때아닌 ‘ 생태 탕 싸움’ 이 한창이다.', '오 세 훈 국민의 힘 서울시장 후보가 2005년 서울 내곡동 처가 땅 측량 현장에 동행하고 인근 생태 탕 집에 갔느냐를 놓고 벌어진 싸움이다.', '민주당은 “ 거짓말 후보는 사퇴하라” 고 몰아붙이고, 국민의 힘은 “ 저급한 네거티브 ”라고 맞서고 있다.', '급기야 5일에는 오 후보를 목격했다는 생태 탕 집 주인 아들 A 씨 (48) 와 측량 현장 목격자가 기자회견을 예고했다가 취소하는 해프닝이 벌어졌다.', '기자회견을 주관한 안진 걸 민생경제 연구소장은 “ 오 후보 지지자 등으로부터 테러당할까 봐 잠정 취소했다” 고 말했다.', '앞서 A 씨와 그의 모친 B 씨는 지난 2일 TBS 라디오 ‘ 김어 준의 뉴스공장 ’에 나와 16년 전 오 후보를 목격했고 구두 브랜드가 페라가모였다고 주장했다.', '그런 데 A 씨는 5일 중앙일보와의 통화에서 “2005 년 식당을 방문한 오 후보 얼굴은 기억나지 않는다.', '옷차림이 기억나는 것” 이라고 했다.', '또 “ 당시 봤던 사람이 오 후보인지는 몰랐다.', '최근 어머니와 통화하면서 당시 백 바지, 선글라스 차림의 사람이 오 후보였다는 걸 알게 됐다” 고도 했다.', 'B 씨는 지난달 29일 다른 언론매체에서 “ 기억이 안 난다” 고 한 게 3일 공개돼 진위 논란이 불거졌다.', '다만 B 씨는 5일 다시 ‘ 김어 준의 뉴스공장’ 인터뷰에서 “ 기자들 전화가 너무 와서 ‘ 모른다’ 고 막 그랬다 ”며 오 후보를 2005년 식당에서 봤다고', '했다.', '정치권에선 2002년 대선 때 이회 창 한나라 당 후보 아들 병역비리 의혹을 터뜨린 김 대업 씨가 ‘ 소환’ 되기도 했다.', '주호 영 국민의 힘 원내 대표는 “16 년 전 무슨 옷을 입고 신발을 신었는지 기억하는 사람이 어디 있느냐', '”며 “ 생태 탕 이야기를 들으면 김 대업이 생각난다” 고 말했다.', '최인호 민주당 수석 대변인은 “ 양심선언자에 대한 겁박” 이라고 비판했다.', '일각에선 “ 부동산, 코로나 19 사태 등 시급한 민생 현안을 생태 탕이 묻어 버렸다” 는 우려가 나온다.', '생태 탕 논쟁이 후보 존재 감을 덮어 버린다는 데이터도 나왔다.', '구 글 트렌드 검색 빈도 분석에 따르면 검색어 ‘ 생태 탕’ 은 5일 한때( 오전 8~12 시) ‘ 박 영선’ 을 처음으로 추월했다.', '정치권 한 관계자는 “ 정치가 생태 탕에 묻힌 블랙 코미디 ”라고 꼬집었다.', '손 국희· 김기정· 송 승 환 기자 9key @joongang .co .kr']\n",
            "\n",
            "['본지 2021년 3월 24 일자 28 면 및 홈페이지 (https: //news .joins .com /article /24018979 #none)「[ 진중 권의 퍼 스펙티브] 징그러운 가해자 중심주의, 민주당의 성 추행 잔혹 사」 제하의 기사에서 \" 성 추행 2 차 가해를 했던 오 성규 전 비서실장은 경기도 테크노 파크 원장으로 영전했다.', '박 영선 서울시장 후보가 중소기업 벤처 부장관 시절에 승인하고… \"라고 보도한 바 있습니다.', '그러나 사실 확인 결과, 오 성규 전 비서실장은 현재까지 경기 테크노 파크 원장으로 임명된 사실이 없고, 박 영선 서울시장 후보는 2021.01.20 자로 중소 벤처기업 부 장관직을 사임하여, 해당 승인 자체가 불가능하며, 실제로 승인한 사실이 없음이 확인되어 위 보도를 바로잡습니다.', '이 보도는 선거기사 심의 위원회의 결정에 따른 것입니다.']\n",
            "박영선 \"文 헤어질 때 본 간절한 눈빛 생각하면 가슴아린다\"\n",
            "['\" 저와 헤어질 때 문 대통령께서 보여 주신 그 간절한 눈빛을 생각하면 지금도 가슴이 아립니다.', '\" 박 영선 더불어 민주당 서울시장 후보는 5일 자신이 출마를 결심했을 당시를 회상하며 \" 이번 선거가 문 대통령 임기 중 마지막 선거 \"라고 강조했다.', '박 후보는 이날 방송인 김 어 준 이 진행하는 유 튜브 \\' 다스 뵈이다 \\'에 출연해 \" 지역구 선거는 개인의 당락 문제인데 서울시장 선거는 진영 전체의 흥망성쇠가 달려 있어서 마음이 굉장히 애절하다 \"며 \" 이 선거에서 승리했을 경우와 그렇지 못할 경우의 여러 가지 일을 생각하면 집에 가는 길에 혼자 눈물이 난다\" 고 말했다.', '그러면서 \" 집에 들어가는 길에 문 재인 대통령, 또 내년에 치러 야 할 대선 이런 것을 생각하면 막 눈물이 난다 \"며 \" 더군다나 상대가 맨날 거짓말만 하는 상황\" 이라고 했다.', '또 \" 정권 재창출을 하지 못하면 우리의 모든 가치가 다시 10년 전으로 후퇴할 수밖에 없다 \"며 \" 그러한 대한민국을 우리 아이들에게 물려주기를 바라느냐', '\" 고 물었다.', '이 영상은 사전투표가 마무리 된 지난 3일 녹화됐는데, 박 후보는 이 자리에서도 자신의 사전투표 승리를 주장했다.', '그는 \" 사전 투표율이 사상 최고로 높았다 \"며 \" 이것이 무엇을 의미하느냐,', '우리가 지금 이기고 있다.', '투표해 주시면 우리가 승리한다\" 고 말했다.', '고석 현 기자 ko.sukhyun @joongang .co .kr']\n",
            "신지혜 \"심상정이 기본소득당 지지\"…정의 \"특정 후보 지지 아냐\"\n",
            "['4·7 서울시장 보궐선거에 나선 신 지혜 기본 소득 당 후보가 5일 심 상정 정의 당 의원으로부터 지지 메시지를 받았다고', '주장했다.', '이에 심 의원 측은 “ 특정 후보에 대한 지지가 아니었다” 고 선을 그었다.', \"기본 소득 당은 이날 보도자료를 통해 “ 신 후보와 심 의원이 회동했다 ”며 “ 심 의원이 ' 국민 여러분, 기본 소득당 기호 6번 신 지혜 꼭 주목해 주시고 표도 주시기를 부탁드린다' 고 말했다” 고 밝혔다.\", '이에 신 후보가 “ 심 의원을 비롯해 진보 진영에서의 지지가 막판에 결집할 것이므로 5% 이상 득표를 자신한다” 고 화답했다고', '기본 소득 당은 전했다.', '신 후보 측의 이 같은 주장에 정의 당은 오해라고 선을 그었다.', '이동영 정의 당 수석 대변인은 “ 신 후보를 특정해서 지지하는 것처럼 오해가 있어 바로 잡는다 ”며 “ 특정 후보와 정당에 대한 지지가 아니었다” 고 밝혔다.', '신 후보는 이날 서울 여의도 국회 의원회관 내 심 의원 실을 예방해 심 의원과 인사를 나누고 기념촬영을 했다.', '정혜 정 기자 jeong.hyejeong @joongang .co .kr']\n",
            "\"사전투표 승리\" 문자 돌린 박영선캠프, 선관위 조사 나선다\n",
            "['野 \" 공표금지 위반이나 허위사실 공표\" 4·7 재 보궐선거 사전투표 기간( 지난 2~3 일) 이후 박 영선 더불어 민주당 서울시장 후보 캠프가 \" 사전투표에서 승리했다\" 는 내용의 문자 메시지를 보낸 것으로 확인돼 선거관리 위원회가 조사에 나섰다.5', \"일 선거관리 위원회는 박 후보 캠프의 문자에 대해 ' 여론조사 공표 금지' 위반 여부에 대해 구체적인 확인을 할 계획이라고 밝혔다.\", '공직 선거법상 지난 1일부터 선거 투표가 끝나는 7일 오후 8시까지 는 정당 지지도 나 당선 가능성을 예상하게 하는 여론조사 결과를 공개하거나 보도할 수 없다.', '앞서 박 후보 선거대책위원회 조직 총괄본부는 캠프 특보· 위원장· 본부장 등에게 \" 여러분의 진심 어린 호소와 지원활동으로 서울시민의 마음이 하나로 움직여 사전투표에서 이겼다\" 는 내용의 문자 메시지를 보냈다.', '또 \" 여러분의 진심이 하나로 모여 승리의 발판이 됐다\" 면 서도 \" 아직 숨 돌리고 쉴 때가 아니다\" 라며 오는 7일 본 투표 참여 독려를 호소했다.', '선관 위 관계자는 연합 뉴스에 \" 해당 문자가 선거법 위반 소지가 있다는 신고가 접수됐다 \"며 \" 구체적 사실관계를 확인하고 있다\" 고 밝혔다.', '한편 민주당은 \" 사전투표 승리 \"를 지속적으로 주장하고 있다.', '최인호 더불어 민주당 중앙선 대위 수석 대변인도 5일 YTN 라디오 \\' 황 보선의 출발 새 아침 \\'에 출연해 \" 사전 투표율이 높으면, 저희 당 후보에게 늘 유리했다.', '크게 이겼다고', '볼 수 있다 \"며 \" 서울과 부산 모두 크게 이긴 것으로 분석된다\" 고 했다.', '보궐선거 첫날인 지난 2일엔 박 후보가 진보유튜버들과 함께 한 토론회에서 여론조사업체인 박 시영 윈 지 코리아 컨설팅 대표가 \" 선거 참관인이 투표용 지의 기표내용을 살펴보고 결과를 민주당 의원에게 알려 줬는데, 민주당이 이긴 것 같다\" 는 취지의 주장을 해 선거법 위반 논란이 일기도 했다.', '야당은 선관위를 향해 박 후보 캠프의 문자 메시지에 대해 조속한 수사를 촉구했다.', '배준 영 국민의 힘 대변인은 구두 논평에서 \"( 해당 문자가) 여론조사 결과를 토대로 한 것이면 여론조사 공표 금지 위반이고, 여론조사 결과에 근거하지 않은 것이라면 허위사실 공표\" 라며 \" 어느 경우든 공직 선거법 위반을 피하긴 어렵다\" 고 지적했다.', '그러면서 \" 선관위는 촌각을 다퉈 조사 결과와 이에 대한 처분 결과를 밝혀야 한다 \"며 \" 앞뒤 안 가리고 부정한 선거운동도 불사하는 민주당은 이성을 되찾기 바란다\" 고 촉구했다.', '고석 현 기자 ko.sukhyun @joongang .co .kr']\n",
            "[오병상의 코멘터리] 김어준의 뉴스공장과 어용언론\n",
            "['KBS MBC YTN 연합 뉴스 등 정부 영향권 내 언론 너무 많아 정파적 불신 부추기는 어용 미디어들.. 권력에서 해방되어야 1. 김어 준의 뉴스공장이 선거 코앞에 두고 쎄게 나왔습니다.', '5일 국민의 힘 오 세 훈 서울시장 후보를 내곡동 땅 측량 당시 봤다는 생태 탕 식당 사장( 어머니) 과 아들을 출연시켰습니다.', '아들은 ‘( 오 세 훈이) 페 라가 모 로 퍼( 굽 낮은 구두) 신었다’ 고 증언했습니다.', '자신도 같은 신발을 신고 있었기에 기억한답니다.', '어머니가 며칠 전‘( 오 세 훈 방문) 기억 안 난다’ 고 얘기했던 것은 ‘ 자녀들에게 피해 갈까 그랬다’ 고 합니다.2.', '생태 탕 집 모자는 예고했던 서울 시청 앞 기자회견은 ‘ 해코지 당할까 겁난다 ’며 취소했습니다.', '김어 준의 뉴스공장이면 충분하니까요. 이날 뉴스공장 인터뷰는 노골적으로 편파적 입니', '다. 생태 탕 집 주인을 지난 2일에 이어 사흘 만에 다시 출연시켰습니다.', '동시에 부산시장선거 박형 준 국민의 힘 후보에 대한 의혹을 주장하는 두 사람을 같이 출연시켰습니다.', '국민의 힘 쪽 반론 없이 90분 동안 국민의 힘 후보를 공격했습니다.3.', '민주당은 뉴스공장 인터뷰를 십분 활용했습니다.', '이날 오후 박 영선 후보가 마지막 토론회에서 오 세 훈을 공격했습니다.', '박 영선 캠프 전략본부장 진성 준 의원은 생태 탕 집 모자를‘ 의 인’ 이라고 부르면서 경찰에 신변보호를 촉구했습니다.', '동시에 민주당은 다른 언론에 대한 불신을 감추지 않았습니다.', '4일 박 영선 후보는 ‘ 보수언론 왜곡기사가 난무하고 있다’ 고 했습니다.', '정 청래 의원은 ‘ 언론을 믿지 말고 우리 자신을 믿읍시다', '’ 고 합니다.', '모두 선거전략으로 보입니다.4.', '사실 우리나라 언론 구조를 보면 집권세력에 매우 유리합니다.', '한마디로 1980년 전두환 군부정권 출범 당시 언론 통폐합했던 골격이 아직 남아 있습니다.', '구조적으로 친정부적일 수밖에 없는 매체가 압도적으로 많은 언론 후진국입니다.KBS', '와 같은 공기업은 일본 NHK처럼 필요합니다.', '그런 데 MBC 라는 거대방송이 ‘ 준공 영 ’이란 이름으로 사실상 정부 영향 아래 있습니다.1980', '년 신군부가 전국 민간 기업 MBC 주식을 강제로 빼앗아 공영화했습니다.', '그 구조 그대로.. 현재 MBC 대주주가 방송문화 진흥회인데, 그 이사진은 방송통신위원회가 임명하고, 방송통신위원은 대통령이 임명합니다.', '진흥회는 MBC 사장을 뽑습니다.5.', '디지털시대가 되면서 KBS MBC보다 더 주목해야 할, 친정부적 구조를 지닌 매체는 연합 뉴스입니다.', '‘ 연합 ’이란 말은 1980년 신군부가 민간 5개 통신사를 통폐합해서 만든 이름입니다.', '연합 뉴스는 원래 언론사에 뉴스를 제공하는 도매상입니다.', '일반인은 그 존재도 몰랐습니다.', '디지털이 연합 뉴스를 뒤집었습니다.', '인터넷을 통해 직접 소비자에게 뉴스를 판매하는 소매상이 되었습니다.', '속보와 다량의 뉴스를 제공하던 기능 덕분에 디지털 강자가 되었습니다.', '취재인력이 부족한 인터넷언론들은 대부분 연합 뉴스를 인용보도 합니다.6.', '연합의 영향력이 막강 해지자 정부가 MBC처럼 공영화했습니다.', '2005년 노무현 정권이 법을 만들어 매년 350억을 지원하는 대신 ‘ 뉴스통신 진흥회’ 라는 대주주 법인을 만들었습니다.', 'MBC 방송문화 진흥회처럼 이사진은 대통령이 임명합니다.', '진흥회는 연합 뉴스 사장과 임원을 추천합니다.7.', '연합 뉴스가 만든 보도전문 TV가 두 곳이나 있습니다.', 'YTN과 연합 뉴스 TV. 하루종일 뉴스를 내보내는 두 곳이 모두 연합의 자식들입니다.', '다시 말해 정부 영향권 안에 있다고', '할 수 있습니다.', '물론 형태는 다 다릅니다.', 'YTN은 연합 뉴스가 1995년 만들었다가 적자가 심하자 97년 공기업 한전 자회사에 팔았습니다.', '알짜기업 서울 타워도 YTN에 넘겨 적자를 메울 수 있었습니다.', 'YTN을 겨우 팔아 치운 연합이 2011년 다시 보도전문 채널 허가권을 받아 만든 방송이 연합 뉴스 TV 입니다.8.', '가장 작지만 정치적인 조직이 바로 교통방송 (TBS) 입니다.', '1992년 개국 당시엔 서울시 교통정보를 알려주는 라디오였습니다.', '박원 순 시장이 되면서 당파성을 띄기 시작했습니다.', '2016년 김 어 준 이 뉴스공장을 시작했습니다.', '교통방송은 문 재인 정부 들어서 질적 변신을 시도해 왔습니다.', '서울 시청 조직 내 한 과에 불과 하던 교통방송이 2019년 ‘ 미디어재단 tbs’ 로 도약했습니다.', '교통방송이 아니라 ‘ 대한민국 대표 공영 미디어 ’를 선언했습니다.', '서울시로부터 매년 400억원( 전체 예산의 77%) 을 지원 받는 ..9. 공영이라고 하지만 사실상 정부의 지원과 영향권 아래 있는 언론이 이렇게 많은 나라입니다.', '그럼에도 불구하고 집권 여당은 성에 안 차나 봅니다.', '서울시장선거에 사활을 걸 수밖에 없는 운명인 교통방송, 그 중에서도 가장 노골적 정파성을 드러내는 뉴스공장에 매달리고 있는 모양새입니다.10.', '언론 구조가 이렇게 후진적이니 언론에 대한 불신도 가라앉지 않습니다.', '정치의 양극화로 불신은 더 높아 집니다.', '결국 유권자들은 객관적 사실이 뭔지 모르는 상황에서, 누구 말을 믿어야 할지도 애매한 상황에서 투표장으로 향하게 됩니다.', '깜깜 이가 아닐 수 없습니다.', '이런 후진적 정치문화를 바꾸려면 후진적 언론 구조를 바꿔야 합니다.', '대통령이든 시장이든 정치 권력자는.. 관 영이든 공영이든 준 공영이든.. 쥐고 있는 언론부터 해방시켜야 합니다.', '〈 칼럼니스트 〉2021.04 .05.']\n",
            "\"일찍일찍·투표의힘, 특정 정당 연상된다\" 막은 선관위\n",
            "['4·7 재 보궐선거를 앞두고 선거관리위원회의 투표 독려 문구 규제가 연일 논란이다.', '공직 선거법은 말이나 전화를 이용한 선거운동이나 현수막 부착 등 투표 독려 행위를 허용하지만, 현수막 등 인쇄물· 시설물에는 특정 정당이나 후보를 유추할 수 있는 문구를 사용하지 못하게 하고 있다.5', \"일 선관위의 투표 독려 문구 판단 사례 모음에 따르면 선관위는 이번 재보선과 관련해 ' 사전투표 합니다!\", \"' ' 투표가 무능을 이깁니다\", \"' ' 투표의 힘' ' 일찍 일찍 사전투표' 등 문구에 대해 사용을 금지했다.\", \"' 사전투표 합니다!\", \"' 의 경우 ' 합니다\", \"' 가 박 후보의 선거 문구와 같다는 이유였고, ' 투표로 부산시를 지켜 주세요' 의 경우 ' 지킨다' 는 표현이 정권 수호로 해석될 수 있다는 이유였다.\", \"또 ' 투표가 무능을 이깁니다\", \"' ' 투표가 내로 남 불을 이깁니다\", \"' ' 투표가 위선을 이깁니다\", \"' 는 특정 정당을 쉽게 유출할 수 있거나 반대하는 것으로 보이는 표현이라는 이유로 사용을 금지했다.\", \"이 밖에 ' 투표의 힘' 은 국민의 힘의 당명과 유사해서, ' 미래 서울로' 는 ' 미래 당' 을 연상하게 한다는 이유로 금지됐다.\", \"' 일' 자만 색이 다르게 표현된 ' 일찍 일찍 사전투표' 라는 문구와 ' 사전투표하고 일 해요' 도 ' 기호 1번' 을 연상하게 해 허용하지 않았다.\", \"' 땅 투기 정치인 투표로 심판하자' '4 월 7일은 투표하는 날, 무책임정치 청산하는 날' ' 재산신고는 확실히, 4월 7일 투표 합 시다' 등의 문구도 제한됐다.\", \"다만 ' 투표해서 이 나라를 살립시다\", \"' ' 투표 합 시다! 맑은 서울에!' ' 내 한 표가 내 자녀의 희망이다' 등의 문구는 허용됐다.\", '중앙 선관위는 \" 현행 공직 선거법 제 90 조, 제 93 조 등이 선거운동 및 유권자의 표현 자유를 제한해 국민의 법 감정과 눈높이에 부합하지 못하고 지나치게 규제 위주라는 지적에 깊이 공감한다\" 고 밝혔다.', '그러면서 \" 선거운동과 표현의 자유를 최대한 확대하고 보장하는 내용으로 선거법에 대한 개정의 견을 여러 차례에 걸쳐 제출한 바 있고, 재보선 이후에도 개정의 견을 제출할 예정\" 이라고 덧붙였다.', '고석 현 기자 ko.sukhyun @joongang .co .kr']\n",
            "신지예 벽보 또 훼손 \"만만하고 시건방진 젊은 여성?…심한 스트레스\"\n",
            "['4·7 서울시장 보궐선거에서 페미니즘· 성 소수자 지지 공약을 내세운 후보들의 선거 홍보물이 훼손되는 사건이 잇따르고 있다.', '앞서 오 태양 미래 당 서울시장 후보의 성 소수자 공약이 쓰인 현수막과 신 지혜 기본 소득 당 서울시장 후보의 페미니즘 공약 현수막이 훼손된 채 발견된 데 이어 5일 신지 예 서울시장 무소속 후보의 벽보가 찢기는 일이 발생했다.', '신 후보는 이날 오후 서울 마포구 상수동 서 강 교회 인근에 부착된 선거 벽보가 훼손돼 경찰에 신고했다고', '밝혔다.', '신 후보는 페이스 북에 “ 선거 벽보 훼손 사건이 또 일어났다 ”며 “ 벽보는 후보가 자신의 얼굴을 내걸고 유권자와 만나는 장소 이자 공공에게 보내는 메시지인데, 계속해서 만만하고 ‘ 시건방진’ 젊은 여성 후보자들을 향한 선거 벽보 훼손이 계속해 일어난다” 고 적었다.', '그러면서 “ 시건방지다 고, 신지 예가 시장이 되면 남성 취업이 어려워진다며 벽보가 훼손됐던', '2018년 서울시장 선거, 기분 나빠서 벽보가 훼손됐던', '2020년 총선이 떠오른다” 고 덧붙였다.', '신 후보는 “ 벽 보 훼손 사건이 일어날 때마다 심한 스트레스를 받고는 했다 ”며 “ 여성 시민 분들은 자신이 사는 지역에 벽보 테러를 하는 사람이 있다는 것에 대한 두려움을 호소했다” 고 말했다.', '이어 “ 벽 보 훼손 사건은 후보에 대한 공격인 동시에 여성 유권자를 향한 위협” 이라며 “ 해당 사건에 대해 경찰에 신속한 수사와 엄정한 대응을 요청했다” 고 덧붙였다.', '같은 날 기본 소득 당 신 후보도 강동구에서 벽보가 훼손된 것을 발견하고 “ 페미니즘 공약 현수막과 관련해 사회관계 망서비스 (SNS) 상의 여성 혐오적인 반응을 여러 차례 확인했다 ”며 “ 계획적인 혐오범죄인지 확인하고 앞으로도 여성에 대한 차별과 폭력에 맞서 싸우겠다” 고 밝혔다.', '지난달 25일에도 마포구 홍 대입구역 인근에 걸린 신 후보의 현수막이 훼손된 채 발견돼 경찰이 수사에 나선 바 있다.', '이날 경찰은 지난달 29일 마포구 홍 대 문화공원에 걸려 있던 오 후보의 성 소수자 공약이 쓰인 현수막을 훼손한 피의자들을 입건했다고', '밝혔다.', '경찰은 이들을 공직 선거법 위반 혐의로 입건해 공범 여부 등 자세한 경위를 조사하고 있다.', '정혜 정 기자 jeong.hyejeong @joongang .co .kr']\n",
            "민주당 \"서울·부산 모두 사전투표 크게 이겼다, 1% 싸움갈것\"\n",
            "['최인호 더불어 민주당 중앙선 대위 수석 대변인이 지난 2~3 일 치러 진 4·7 재 보궐선거 사전투표 결과와 관련해 \" 서울과 부산 모두 크게 이긴 것으로 분석된다\" 고 밝혔다.', '최 수석 대변인은 5일 YTN 라디오 \\' 황 보선의 출발 새 아침 \\'에 출연해 \" 지금 역대 재보선 투표율 중에서 최고를 기록했다 \"며 \" 사전 투표율이 높으면, 저희 당 후보에게 늘 유리했다, 크게 이겼다고', '볼 수 있다\" 고 밝혔다.', '그러면서 \" 중도 성향이면서 총선이나 지방 선거 당시 민주당 후보를 지지했던 유권자들이 선거 직전이나 초반에 한국 토지주택공사 (LH) 투기 사태로 정부와 여당에 상당히 비판적이었다 \"며 \" 그런데 선거가 본격화되면서 국민의 힘 오 세 훈 서울시장 후보와 박형 준 부산시장 후보에 대한 실망감이 상당히 커져 민주당 후보로 회귀하고 있다\" 고 덧붙였다.', '그는 유세현장 분위기에 대해 \" 당보다는 후보를 보고 찍어야겠다는 유권자들이 많이 늘고 있었다\" 고 설명하며, 선거 결과에 대해 \" 그래서 우리 후보들이 날이 갈수록 선전을 하고 있다는 게 확연히 현장에서 느껴졌다.', '이렇게 가면 결국 피 말리는 1% 싸움으로 갈 것 같다\" 고 예측했다.', '고석 현 기자 ko.sukhyun @joongang .co .kr']\n",
            "與 \"생태탕집 아들 신변 보호하라\" 진중권 \"코미디를 해라\"\n",
            "['진성 준 더불어 민주당 의원이 ‘ 내곡동 생태 탕 식당’ 주인 아들 A 씨를 ‘ 의 인’ 이라 칭하며 “ 경찰이 안전 보호 대책을 강구해야 한다” 고 주문하자 진 중권 전 동양 대 교수는 “ 후보가 박 영선이 아니라 생태 탕 집 아들이냐', '”라고 지적했다.', '지난 2005년 6월 오 세 훈 국민의 힘 서울시장 후보가 자신의 어머니가 운영하는 식당에 와 생태 탕을 먹었다고', '주장한 A 씨는 5일 기자회견을 예고했지만 돌연 취소했다.', '진 의원은 페이스 북을 통해 “ 오 세 훈 국민의 힘 서울시장 후보의 내곡동 땅 측량의 진실을 밝힐 기자회견이 취소됐다.', '(A 씨가) 신 변 안전에 커다란 위협을 느꼈기 때문” 이라고 주장했다.', '그는 “ 진실을 말하고 있는 내곡동 경작 인과 음식점 사장에게 오 세 훈 지지자들의 해코지 협박이 쏟아지고 있다는 것” 이라며 “ 민주주의 사회에서 이런 무도한 짓이 벌어지고 있다니', '참으로 개탄스럽다” 고 했다.', '진 의원은 그러면서 A 씨를 ‘ 의 인’ 이라고 치켜세웠다.', '그는 “ 협박으로 진실을 틀어막으려는 야만 적인 위협행위를 즉각 중단할 것을 강력히 촉구한다” 라며 “ 경찰은 의인들의 생명과 안전을 보호하기 위한 만반의 경호 대책을 즉시 강구할 것을 요청한다” 고 강조했다.', '황 방열 박 후보 캠프 부대변인도 논평에서 “ 생태 탕 집 가족 같은 분들이 한국 민주주의를 지켜 왔다” 고 평하며 “ 국민의 힘은 군사정권의 후예정당이고, 블랙리스트를 만들어 사찰한 정권을 만든 당 아니냐.', '가족들은 그렇게 숨죽이고 있다가, 오 후보의 거짓말을 도저히 참을 수 없어서 그 두려움을 이기고 목소리를 낸 것” 이라고 주장했다.', '이에 진 중권 전 동양 대 교수는 이에 대해 “ 어 휴, 코미디를 해 라 ”라고 비판했다.', '그는 이날 자신의 페이스 북을 통해 “ 박 후보의 중대 결심이 고작 기자회견 취소? 박 영선이 후보인 줄 알았는데, 출마하신 게 생태 탕 집 아드님?” 이라고 비꼬았다.', '이어 “ 그러니 경찰에 박 영선 캠프가 아니라 생태 탕 집 아드님을 보호해 달라고 요청하는 것도 당연하다 ”라고 했다.', '생태 탕 집 주인 아들 A 씨는 당초 이날 오전 11시 시청 정문 앞에서 기자회견을 열겠다고', '예고 했으나 돌연 취소했다.A', '씨의 기자회견을 주관한 안진 걸 민생경제 연구소장은 언론을 통해 “A 씨와 ( 오 후보 처가 땅) 경작인 김 선생님이 오 후보가 하도 거짓말을 하니 기자들 앞에서 밝힌다고 하셨는데, 하도 악성 댓 글에 시달리고 국민의 힘 쪽에서 공격해서 신분 노출 시 해코지가 두려워졌다며 기자회견 취소를 아침에 알려 왔다” 고 전했다.A', '씨는 이날 기자회견 대신 TBS 라디오 ‘ 김어 준의 뉴스공장’( 뉴스공장 )에 출연해 불쾌한 심기를 드러냈다.', \"A 씨는 “ 국민의 힘 측에서 ' 생떼 탕이다' 등의 말을 하는 걸 보고 상당히 기분 나빴다” 라며 “ 저희는 있는 얘기를 드린 거다.\", '근데 어머니( 생태 탕 집 주인) 가 공격을 받는 상황이 되니까 저도 너무 화가 나서 인터뷰를 요청하게 된 것” 이라고 했다.', '배 재성 기자 hongdoya@joongang .co .kr']\n",
            "野 \"내로남불·위선, 이게 민주당 인정한건가\"…선관위 \"네\"\n",
            "['전주 혜: 내로 남 불, 위선, 무능 이것이 특정 정당을 떠오르게 한다는 이유로 사용 불가 판단을 한 것 맞느냐.', '김 세환: 네.', '전주 혜: 내로 남 불, 위선, 무능. 결국은 민주당을 떠올리게 하기 때문에 이런 결정을 내리신 건가.', '김 세환: 네', '그렇습니다.', '전주 혜: 결국 중앙 선관위도 내로 남 불, 위선, 무능 이것이 민주당이 이렇다 라는 것을 인정한 것인가.', '김 세환: 그것은 저희뿐만이 아니고, 국민이면 누구나 대다수가 그것을, 특정 정당을 쉽게 유추할 수 있는(…) 전주 혜: 네, 결국 민주당이 내로 남 불, 위선, 무능하기 때문에 ( 사용) 불가( 결정을) 한 것이다.', '이렇게 이해하겠다.', \"4·7 재 보궐선거에서 중앙선거관리 위원회가 ' 내로 남 불', ' 무 능' 등과 같은 문구를 사용할 수 없다고 판단하자 야당이 5일 선관위를 항의 방문했다.\", '이 자리에서 선관위는 이 같은 결정은 해당 문구가 국민 누구나 더 불어 민주당을 떠올릴 수 있기 때문이라는 취지로 답변했다.', '이날 주호 영 국민의 힘 원내 대표와 전주 혜 의원 등은 경기 과천시 선관위 청사를 항의 방문했다.', '선관 위의 공정성에 문제를 제기하기 위해서 다. 김 세환 선관위 사무총장을 포함해 선관위 관계자들과 국민의 힘 의원들이 마주 앉아 최근 선관위 판단에 대한 질의 응답 형식의 간담회가 진행됐다.', '주 원내 대표가 \" 오늘 선관위의 해명이 납득이 되지 않으면 모든 선관위원을 다 찾아가서 항의할 것\" 이라며 \" 오늘 항의 방문이 끝이 아니다 \"라고 강하게 불만을 제기했다.', '이어 전 의원은 미리 준비한 자료를 들고 선관위 측에 질문을 했다.', \"' 정권 눈치 보기 중앙선거관리 위원회 편파적· 편향적 선거관리' 라는 제목의 자료 판에는 투표 독려 현수막에 ' 내로 남 불', ' 무 능', ' 위선' 뿐만 아니라 최근 여성단체가 내건 ' 보궐선거 왜 하죠\", \"' 등 문구에 대한 선관위의 허용 불가 방침이 적혀 있었다.\", '전 의원은 \" 시간관계 상 첫 번째 만 질문하겠다.', '사무총장이 성의 있게 답변해 달라 \"라고 말했다.', '이후 전 의원과 김 사무총장 사이에 짧은 질의 응답이 이어졌다.', '최형두 국민의 힘 대변인은 항의 방문 직후 논평을 통해 \" 헌법상 선관위는 어느 특정 위원도 전체의사를 좌우할 수 없는 합의제 기구\" 라며 \" 그런데도 사무처가 불공정 시비를 일으킨 결정을 모두 했다고', '답변했다.', '명백히 위헌적인 행위 \"라고 지적했다.', '오 원석 기자 oh.wonseok @joongang .co .kr']\n",
            "吳 봤다던 생태탕집, 吳시장 때 도박 방조로 과징금 600만원\n",
            "[\"더불어 민주당이 오 세 훈 국민의 힘 서울시장 후보의 방문을 주장하고 있는 내곡동 인근 ' 생태 탕 집' 이 오 후보가 서울시장에 재직할 당시 지자체로부터 과징금 600만원 처분을 받은 것으로 확인됐다.\", '업소 내 도박을 방조했다는 이유였다.5', \"일 국민의 힘 비전전략 실이 김형 동 의원 실을 통해 서초 구청으로부터 제출 받은 ' 식품 접객업소 행정 처분' 자료 등에 따르면, 지난 2011년 5월 16일 서초 경찰서 형 사과는 서초 구청에 생태 탕 집 A 식당에 대해 ' 행정처분 업소 통보 '를 한다.\", 'A 식당 업주가 식당에서 벌어진 도박판을 말리지 않고 방조 한 사실을 경찰이 파악한 뒤 구청 보건 위 생과에 알린 것이다.', '서초 구청은 경찰의 통보를 받은 뒤 관련 절차를 밟아 그해 5월 30일 영업정지 2개월에 갈음하는 과징금 1200만원을 부과했다.', '하지만 서초 경찰서로부터 사건을 넘겨받은 서울 중앙 지검은 해당 사건에 대해 기소유예 처분을 내린다.', '범죄혐의가 충분하지만 A 식당 업주의 기존 전과 여부, 반성 정도 등을 검사가 판단해 실제 재판에는 넘기지 않은 것이다.', \"서초 구청은 행정처분에 대해 ' 기소유예' 나 ' 선고유예 '를 받으면 과징금 등의 처분을 2분의 1 범위에서 경감할 수 있다는 규정에 따라, 1200만원의 과징금을 절반인 600만원으로 낮춰 줬다.\", '하지만 A 식당은 이 과징금마저 납부하지 않아 그해 7월 서초 구청은 과징금 납부 독촉 고지서를 보내기에 이른다.', '한편 언론을 통해 오 시장의 A 식당 방문을 주장해 왔던 식당 업주 아들은 당초 이날 오전 서울 시청 앞에서 기자회견을 열고 오 후보의 방문 사실을 밝히겠다고', '했지만, 한 차례 연기 끝에 회견을 취소했다.', '아들 측은 \" 주위에서 협박하고 겁을 줘서 해를 입을 까 두려워서 기자회견을 못 하겠다\" 고 이유를 밝혔다.', '그러면서도 TBS 라디오 \\' 김어 준의 뉴스공장 \\'에 다시 출연해 별다른 증거를 제시하지 않고 \" 오 후보를 봤다\" 는 주장을 이어 나갔다.', '이 들은 오 후보가 검정 선글라스와 흰색 바지 차림에 흰색 페 라가 모 구두를 신고 식당에 왔다고', '주장해 왔다.', '민주당은 이들에게 \" 의 인\" \" 민주주의 지킴이\" 등 찬사를 보내며 적극적으로 옹호하고 있다.', '박 영선 캠프 전략기획본부장 진성 준 의원은 \" 경찰은 의인들의 생명과 안전을 보호하기 위한 만반의 경호 대책을 즉시 강구할 것을 요청한다\" 고 했다.', '황 방열 캠프 부대변인도 \" 생태 탕 집 가족 같은 분들이 한국 민주주의를 지켜 왔다\" 고 했다.', '이에 주호 영 국민의 힘 원내 대표는 \" 내곡동 생태 탕 이런 이야기를 들으면 김 대업이 생각난다 \"며 2002년 대선 당시 이회 창 한나라 당 후보 아들에게 허위로 병역 비리 의혹을 제기했던 이른바 \\' 병풍 사건\\' 당사자 김 대업씨 사례를 거론했다.', '그러면서 \"16 년 전 일을 어떻게 그렇게 상세히 기억하며, ( 다른 사람이) 무슨 옷을 입었고 신발을 신었는지 기억하는 사람이 세상에 어디 있느냐', '\" 고 덧붙였다.', '고석 현 기자 ko.sukhyun @joongang .co .kr']\n"
          ],
          "name": "stdout"
        }
      ]
    },
    {
      "cell_type": "code",
      "metadata": {
        "id": "6h64qJKLzs1r"
      },
      "source": [
        ""
      ],
      "execution_count": null,
      "outputs": []
    }
  ]
}