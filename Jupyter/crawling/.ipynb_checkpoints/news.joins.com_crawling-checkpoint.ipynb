{
 "cells": [
  {
   "cell_type": "code",
   "execution_count": 2,
   "id": "continued-exemption",
   "metadata": {},
   "outputs": [],
   "source": [
    "import requests\n",
    "from lxml.html import fromstring"
   ]
  },
  {
   "cell_type": "code",
   "execution_count": 19,
   "id": "greatest-marker",
   "metadata": {},
   "outputs": [],
   "source": [
    "url = 'https://news.joins.com/politics?cloc=joongang-section-gnb2i'\n",
    "res = requests.get(url, headers = {'User-Agent':'Mozilla/5.0'})\n",
    "parser = fromstring(res.text)\n",
    "article_list = parser.xpath('//div[@class=\"list_basic list_sectionhome\"]')\n",
    "parsed_articles = article_list[0].xpath('.//li')\n",
    "\n",
    "links = []\n",
    "for article in parsed_articles:\n",
    "    parsed_link = article.xpath('.//a[@href]')\n",
    "    link = parsed_link[0].get('href')\n",
    "    links.append(link)"
   ]
  },
  {
   "cell_type": "code",
   "execution_count": 20,
   "id": "global-bhutan",
   "metadata": {
    "scrolled": false
   },
   "outputs": [
    {
     "name": "stdout",
     "output_type": "stream",
     "text": [
      "https://news.joins.com/article/24026039\n",
      "https://news.joins.com/article/24026038\n",
      "https://news.joins.com/article/24026018\n",
      "https://news.joins.com/article/24026002\n",
      "https://news.joins.com/article/24025996\n"
     ]
    },
    {
     "ename": "IndexError",
     "evalue": "list index out of range",
     "output_type": "error",
     "traceback": [
      "\u001b[1;31m---------------------------------------------------------------------------\u001b[0m",
      "\u001b[1;31mIndexError\u001b[0m                                Traceback (most recent call last)",
      "\u001b[1;32m<ipython-input-20-00e70c8f1c59>\u001b[0m in \u001b[0;36m<module>\u001b[1;34m\u001b[0m\n\u001b[0;32m     14\u001b[0m \u001b[1;33m\u001b[0m\u001b[0m\n\u001b[0;32m     15\u001b[0m     \u001b[0mtitle_form\u001b[0m \u001b[1;33m=\u001b[0m \u001b[0marticle_form\u001b[0m\u001b[1;33m.\u001b[0m\u001b[0mxpath\u001b[0m\u001b[1;33m(\u001b[0m\u001b[1;34m'.//div[@class=\"article_head\"]'\u001b[0m\u001b[1;33m)\u001b[0m\u001b[1;33m[\u001b[0m\u001b[1;36m0\u001b[0m\u001b[1;33m]\u001b[0m\u001b[1;33m\u001b[0m\u001b[1;33m\u001b[0m\u001b[0m\n\u001b[1;32m---> 16\u001b[1;33m     \u001b[0msubject\u001b[0m \u001b[1;33m=\u001b[0m \u001b[0mtitle_form\u001b[0m\u001b[1;33m.\u001b[0m\u001b[0mxpath\u001b[0m\u001b[1;33m(\u001b[0m\u001b[1;34m'.//div[@class=\"subject\"]/h1/text()'\u001b[0m\u001b[1;33m)\u001b[0m\u001b[1;33m[\u001b[0m\u001b[1;36m0\u001b[0m\u001b[1;33m]\u001b[0m\u001b[1;33m\u001b[0m\u001b[1;33m\u001b[0m\u001b[0m\n\u001b[0m\u001b[0;32m     17\u001b[0m \u001b[1;33m\u001b[0m\u001b[0m\n\u001b[0;32m     18\u001b[0m     \u001b[0marticle_body\u001b[0m \u001b[1;33m=\u001b[0m \u001b[0marticle_form\u001b[0m\u001b[1;33m.\u001b[0m\u001b[0mxpath\u001b[0m\u001b[1;33m(\u001b[0m\u001b[1;34m'.//div[@id=\"article_body\"]'\u001b[0m\u001b[1;33m)\u001b[0m\u001b[1;33m[\u001b[0m\u001b[1;36m0\u001b[0m\u001b[1;33m]\u001b[0m\u001b[1;33m.\u001b[0m\u001b[0mtext_content\u001b[0m\u001b[1;33m(\u001b[0m\u001b[1;33m)\u001b[0m\u001b[1;33m\u001b[0m\u001b[1;33m\u001b[0m\u001b[0m\n",
      "\u001b[1;31mIndexError\u001b[0m: list index out of range"
     ]
    }
   ],
   "source": [
    "url = 'https://news.joins.com' \n",
    "articles = [];\n",
    "\n",
    "url2 = 'https://news.joins.com/'\n",
    "\n",
    "for link in links:\n",
    "    cut_links = str(link[23:])\n",
    "\n",
    "    new_url = url2 + cut_links;\n",
    "    print(new_url)\n",
    "    res = requests.get(new_url) \n",
    "    parser = fromstring(res.text) \n",
    "    article_form = parser.xpath('//div[@id=\"body\"]')[0] \n",
    "    \n",
    "    title_form = article_form.xpath('.//div[@class=\"article_head\"]')[0]\n",
    "    subject = title_form.xpath('.//div[@class=\"subject\"]/h1/text()')[0] \n",
    "    \n",
    "    article_body = article_form.xpath('.//div[@id=\"article_body\"]')[0].text_content() \n",
    "    article_content = article_body.replace('\\xa0','\\n') \n",
    "    article = {'title' : subject,'link' : new_url, 'content' : article_content} \n",
    "    articles.append(article) \n",
    "\n",
    "for list in articles:\n",
    "    print(list)\n",
    "    print(\"\\m\")"
   ]
  },
  {
   "cell_type": "markdown",
   "id": "desperate-quarter",
   "metadata": {},
   "source": [
    "articles = [] \n",
    "page = 1\n",
    "while (True): \n",
    "    url = 'https://news.joins.com/sports/baseball/list/' + str(page) + '?filter=All' \n",
    "    print(url) \n",
    "    res = requests.get(url) \n",
    "    print(page) \n",
    "    parser = fromstring(res.text) \n",
    "    article_list = parser.xpath('//div[@class=\"list_basic\"]') \n",
    "    parsed_articles = article_list[0].xpath('.//li') \n",
    "    if (len(parsed_articles) == 0): \n",
    "        break \n",
    "    links = [] \n",
    "    for article in parsed_articles: \n",
    "        parsed_link = article.xpath('.//a[@href]') \n",
    "        link = parsed_link[0].get('href') \n",
    "        links.append(link) \n",
    "         \n",
    "    url = 'https://news.joins.com' \n",
    "    articles = []; \n",
    "    for link in links: \n",
    "        new_url = url + link; \n",
    "        res = requests.get(new_url) \n",
    "        parser = fromstring(res.text) \n",
    "        article_form = parser.xpath('//div[@id=\"body\"]')[0] \n",
    "         \n",
    "        subject = article_form.xpath('.//div[@class=\"subject\"]/h1/text()')[0] \n",
    "        article_body = article_form.xpath('.//div[@id=\"article_body\"]')[0].text_content() \n",
    "         \n",
    "        article_content = article_body.replace('\\xa0','\\n') \n",
    "        article = {'title' : subject,'link' : new_url, 'content' : article_content} \n",
    "        articles.append(article) \n",
    "    page += 1\n",
    "    if(page == 10):\n",
    "        break\n",
    "print(articles)\n"
   ]
  },
  {
   "cell_type": "code",
   "execution_count": null,
   "id": "unique-distinction",
   "metadata": {},
   "outputs": [],
   "source": []
  }
 ],
 "metadata": {
  "kernelspec": {
   "display_name": "Python 3",
   "language": "python",
   "name": "python3"
  },
  "language_info": {
   "codemirror_mode": {
    "name": "ipython",
    "version": 3
   },
   "file_extension": ".py",
   "mimetype": "text/x-python",
   "name": "python",
   "nbconvert_exporter": "python",
   "pygments_lexer": "ipython3",
   "version": "3.7.9"
  }
 },
 "nbformat": 4,
 "nbformat_minor": 5
}
