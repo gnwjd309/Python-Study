{
 "cells": [
  {
   "cell_type": "code",
   "execution_count": 1,
   "id": "reverse-harmony",
   "metadata": {},
   "outputs": [],
   "source": [
    "import cv2\n",
    "import numpy as np"
   ]
  },
  {
   "cell_type": "code",
   "execution_count": null,
   "id": "utility-nickname",
   "metadata": {},
   "outputs": [],
   "source": [
    "def houghCircle():\n",
    "    img1 = cv2.imread('circle2.jpg')\n",
    "    img2 = img1.copy()\n",
    "    \n",
    "    img2 = cv2.GaussianBlur(img2, (9,9),0)\n",
    "    \n",
    "    imgray = cv2.cvtColor(img2, cv2.COLOR_BGR2GRAY)\n",
    "    \n",
    "    circles = cv2.HoughCircles(imgray, cv2.HOUGH_GRADIENT, 1, 10, param1=60, param2=50, minRadius=0, maxRadius=0)\n",
    "    \n",
    "    if circles is not None:\n",
    "        circles = np.uint16(np.around(circles))\n",
    "        \n",
    "        print(circles)\n",
    "        \n",
    "        for i in circles[0,:]:\n",
    "            cv2.circle(img1, (i[0], i[1]), i[2], (255, 255, 0), 2)\n",
    "            \n",
    "        cv2.imshow('ori', img2)\n",
    "        cv2.imshow('HoughCircle', img1)\n",
    "        \n",
    "        cv2.waitKey(0)\n",
    "        cv2.destoryAllWindows()\n",
    "    else:\n",
    "        print('No Circle')\n",
    "        \n",
    "houghCircle()"
   ]
  },
  {
   "cell_type": "code",
   "execution_count": null,
   "id": "inappropriate-georgia",
   "metadata": {},
   "outputs": [],
   "source": []
  }
 ],
 "metadata": {
  "kernelspec": {
   "display_name": "Python 3",
   "language": "python",
   "name": "python3"
  },
  "language_info": {
   "codemirror_mode": {
    "name": "ipython",
    "version": 3
   },
   "file_extension": ".py",
   "mimetype": "text/x-python",
   "name": "python",
   "nbconvert_exporter": "python",
   "pygments_lexer": "ipython3",
   "version": "3.7.9"
  }
 },
 "nbformat": 4,
 "nbformat_minor": 5
}
