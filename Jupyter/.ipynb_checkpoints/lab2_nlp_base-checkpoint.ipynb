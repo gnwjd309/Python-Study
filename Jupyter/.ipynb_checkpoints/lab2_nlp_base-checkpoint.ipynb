{
 "cells": [
  {
   "cell_type": "markdown",
   "metadata": {
    "id": "yTEo1FwHU7-N"
   },
   "source": [
    "# NLP(Natural Language Processing) 기초"
   ]
  },
  {
   "cell_type": "markdown",
   "metadata": {
    "id": "JVDbiN8hVC9H"
   },
   "source": [
    "## word embedding"
   ]
  },
  {
   "cell_type": "markdown",
   "metadata": {
    "id": "HNzDw6qzV05z"
   },
   "source": [
    "### sparse representation"
   ]
  },
  {
   "cell_type": "markdown",
   "metadata": {
    "id": "3tXsATOaYl8R"
   },
   "source": [
    "- ['빨강', '빨강', '파랑']\r\n",
    "  - binary\r\n",
    "    ```\r\n",
    "    [0, 0, 1]\r\n",
    "    ```\r\n",
    "  - one-hot encoding \r\n",
    "    ```\r\n",
    "    [\r\n",
    "      [1, 0]\r\n",
    "      [1, 0]\r\n",
    "      [0. 1]\r\n",
    "    ]\r\n",
    "    ```\r\n",
    " \r\n",
    "\r\n"
   ]
  },
  {
   "cell_type": "code",
   "execution_count": 10,
   "metadata": {
    "colab": {
     "base_uri": "https://localhost:8080/"
    },
    "id": "aakkMBI9Z6fF",
    "outputId": "ff089771-dcad-498d-910b-13778eb7caa8"
   },
   "outputs": [
    {
     "name": "stdout",
     "output_type": "stream",
     "text": [
      "['빨강', '파랑', '노랑', '초록', '노랑', '파랑', '초록', '빨강', '초록', '빨강']\n"
     ]
    }
   ],
   "source": [
    "from numpy import array\r\n",
    "from numpy import argmax\r\n",
    "from sklearn.preprocessing import LabelEncoder\r\n",
    "import numpy as np\r\n",
    "from keras.utils import to_categorical\r\n",
    "# define example\r\n",
    "data = ['빨강', '파랑', '노랑', '초록', '노랑', '파랑', '초록', '빨강', '초록', '빨강']\r\n",
    "print(data)\r\n",
    "data = np.array(data)\r\n",
    "\r\n",
    "\r\n",
    "\r\n"
   ]
  },
  {
   "cell_type": "code",
   "execution_count": 11,
   "metadata": {
    "colab": {
     "base_uri": "https://localhost:8080/"
    },
    "id": "YmB8O7BkeXn6",
    "outputId": "0a7577a9-f22f-4493-b097-ff2ea778fd86"
   },
   "outputs": [
    {
     "name": "stdout",
     "output_type": "stream",
     "text": [
      "[1 3 0 2 0 3 2 1 2 1]\n"
     ]
    }
   ],
   "source": [
    "# string to index label\r\n",
    "label_encoder = LabelEncoder()\r\n",
    "vec = label_encoder.fit_transform(data)\r\n",
    "print(vec)"
   ]
  },
  {
   "cell_type": "code",
   "execution_count": 12,
   "metadata": {
    "colab": {
     "base_uri": "https://localhost:8080/"
    },
    "id": "R6FWKLChfBq7",
    "outputId": "e3352846-d0a8-4681-f428-4dbbb9177f32"
   },
   "outputs": [
    {
     "name": "stdout",
     "output_type": "stream",
     "text": [
      "['노랑' '빨강' '초록' '파랑']\n"
     ]
    }
   ],
   "source": [
    "# print label classes\r\n",
    "print(label_encoder.classes_)"
   ]
  },
  {
   "cell_type": "code",
   "execution_count": 13,
   "metadata": {
    "colab": {
     "base_uri": "https://localhost:8080/"
    },
    "id": "vOOU1oJCeSfn",
    "outputId": "5aa45280-a170-4ad7-83d7-eef6667d64d7"
   },
   "outputs": [
    {
     "name": "stdout",
     "output_type": "stream",
     "text": [
      "[[0. 1. 0. 0.]\n",
      " [0. 0. 0. 1.]\n",
      " [1. 0. 0. 0.]\n",
      " [0. 0. 1. 0.]\n",
      " [1. 0. 0. 0.]\n",
      " [0. 0. 0. 1.]\n",
      " [0. 0. 1. 0.]\n",
      " [0. 1. 0. 0.]\n",
      " [0. 0. 1. 0.]\n",
      " [0. 1. 0. 0.]]\n"
     ]
    }
   ],
   "source": [
    "# one hot encode\r\n",
    "encoded = to_categorical(vec)\r\n",
    "print(encoded)"
   ]
  },
  {
   "cell_type": "code",
   "execution_count": 14,
   "metadata": {
    "colab": {
     "base_uri": "https://localhost:8080/"
    },
    "id": "74HS8dMheL90",
    "outputId": "8e03ff62-2259-444b-f38f-c29dc8e61193"
   },
   "outputs": [
    {
     "name": "stdout",
     "output_type": "stream",
     "text": [
      "3\n",
      "['파랑']\n"
     ]
    }
   ],
   "source": [
    "# invert encoding\r\n",
    "inverted = argmax(encoded[1])\r\n",
    "print(inverted)\r\n",
    "inverted_string = label_encoder.inverse_transform([inverted])\r\n",
    "print(inverted_string)"
   ]
  },
  {
   "cell_type": "markdown",
   "metadata": {
    "id": "ocIMvCnWfq3N"
   },
   "source": [
    "#### 단점\r\n",
    "- class가 많아지면 표현하기위해서 0이 많아져 데이터 양이 많아지고\r\n",
    "- 실제 의미있는 데이터는 적어진다.(대량의 0, 그중에 하나만 1)\r\n",
    "- 단어의 종류가 10,000 개라면 10,000 column 의 array\r\n",
    "- 단어의 종류가 100,000 개라면 100,000 column의 array \r\n",
    "- -->sparse representation"
   ]
  },
  {
   "cell_type": "markdown",
   "metadata": {
    "id": "uQkjf-91V3Tj"
   },
   "source": [
    "### dense *representation*"
   ]
  },
  {
   "cell_type": "code",
   "execution_count": 15,
   "metadata": {
    "id": "8eS5YEWCU3tk"
   },
   "outputs": [],
   "source": [
    "# define training data\r\n",
    "sentences = [['this', 'is', 'the', 'first', 'sentence', 'for', 'word2vec'],\r\n",
    "\t\t\t['this', 'is', 'the', 'second', 'sentence'],\r\n",
    "\t\t\t['yet', 'another', 'sentence'],\r\n",
    "\t\t\t['one', 'more', 'sentence'],\r\n",
    "\t\t\t['and', 'the', 'final', 'sentence']]"
   ]
  },
  {
   "cell_type": "code",
   "execution_count": 16,
   "metadata": {
    "id": "d3pYwiNglzMo"
   },
   "outputs": [],
   "source": [
    "from gensim.models import Word2Vec"
   ]
  },
  {
   "cell_type": "code",
   "execution_count": 17,
   "metadata": {
    "id": "hiVW9BuwgpFJ"
   },
   "outputs": [],
   "source": [
    "model = Word2Vec(sentences, min_count=1, size=100)"
   ]
  },
  {
   "cell_type": "code",
   "execution_count": 18,
   "metadata": {
    "colab": {
     "base_uri": "https://localhost:8080/"
    },
    "id": "7ceSd8YqhwBz",
    "outputId": "ed221fe2-bb41-4071-d805-e68176174e6a"
   },
   "outputs": [
    {
     "name": "stdout",
     "output_type": "stream",
     "text": [
      "Word2Vec(vocab=14, size=100, alpha=0.025)\n"
     ]
    }
   ],
   "source": [
    "# summarize the loaded model\r\n",
    "print(model)"
   ]
  },
  {
   "cell_type": "code",
   "execution_count": 19,
   "metadata": {
    "colab": {
     "base_uri": "https://localhost:8080/"
    },
    "id": "8xOqRgdSg-UN",
    "outputId": "4a3b2258-f5df-4830-94f8-986c78e03d6c"
   },
   "outputs": [
    {
     "name": "stdout",
     "output_type": "stream",
     "text": [
      "['this', 'is', 'the', 'first', 'sentence', 'for', 'word2vec', 'second', 'yet', 'another', 'one', 'more', 'and', 'final']\n"
     ]
    }
   ],
   "source": [
    "# summarize vocabulary\r\n",
    "words = list(model.wv.vocab)\r\n",
    "print(words)"
   ]
  },
  {
   "cell_type": "code",
   "execution_count": 20,
   "metadata": {
    "colab": {
     "base_uri": "https://localhost:8080/"
    },
    "id": "1MNXCYCChErd",
    "outputId": "2c3b16ae-1a53-490a-eca7-de0ebb461c02"
   },
   "outputs": [
    {
     "name": "stdout",
     "output_type": "stream",
     "text": [
      "[-0.00494675  0.00328381  0.00365308 -0.00289039  0.0008561  -0.00315916\n",
      " -0.00270578  0.00473517 -0.00060999  0.00407682  0.00305613  0.0044665\n",
      "  0.00314194  0.00123282 -0.00207114  0.00290688 -0.00085754  0.00225441\n",
      " -0.00411892 -0.00410254  0.00297994  0.0024121  -0.00323996 -0.00374801\n",
      "  0.00158185  0.00327866  0.00483773  0.00450875 -0.00297068 -0.00242171\n",
      " -0.00291201 -0.00051191 -0.00318564 -0.00494565  0.00308919 -0.00357536\n",
      "  0.00370023  0.00285352  0.0026731  -0.00142952 -0.00292817  0.00010444\n",
      "  0.00408752  0.00122675 -0.00438128 -0.00292523  0.00260309  0.00416039\n",
      "  0.0029562   0.00060978  0.00080302 -0.00138502  0.00225624 -0.00142919\n",
      " -0.00234739  0.00133619  0.00447107  0.00306987  0.00111643 -0.00066654\n",
      " -0.00090937 -0.00186428 -0.00283543  0.00147335 -0.00442588 -0.00315004\n",
      "  0.00481565  0.00373103  0.00442771  0.00257755 -0.00298265 -0.00134242\n",
      "  0.0040999  -0.00055209  0.00111658 -0.00340168 -0.00430512  0.00287476\n",
      " -0.00315043  0.0020715  -0.0005955   0.00286386 -0.00117427 -0.00200122\n",
      " -0.00398101 -0.00119118 -0.00214865  0.00442834  0.00195187 -0.00289737\n",
      "  0.00482984  0.004565    0.00362394 -0.00218246 -0.00263708  0.00248301\n",
      "  0.00111611  0.00207608  0.00200388 -0.0041584 ]\n"
     ]
    },
    {
     "name": "stderr",
     "output_type": "stream",
     "text": [
      "/usr/local/lib/python3.6/dist-packages/ipykernel_launcher.py:2: DeprecationWarning: Call to deprecated `__getitem__` (Method will be removed in 4.0.0, use self.wv.__getitem__() instead).\n",
      "  \n"
     ]
    }
   ],
   "source": [
    "# access vector for one word\r\n",
    "print(model['sentence'])"
   ]
  },
  {
   "cell_type": "code",
   "execution_count": 21,
   "metadata": {
    "colab": {
     "base_uri": "https://localhost:8080/"
    },
    "id": "3aFTPkplh0vs",
    "outputId": "406fbdf0-2991-451d-df55-80163d211c9f"
   },
   "outputs": [
    {
     "name": "stdout",
     "output_type": "stream",
     "text": [
      "Word2Vec(vocab=14, size=100, alpha=0.025)\n"
     ]
    }
   ],
   "source": [
    "# save model\r\n",
    "model.save('model.w2v')\r\n",
    "# load model\r\n",
    "new_model = Word2Vec.load('model.w2v')\r\n",
    "print(new_model)"
   ]
  },
  {
   "cell_type": "code",
   "execution_count": 23,
   "metadata": {
    "colab": {
     "base_uri": "https://localhost:8080/"
    },
    "id": "tZC8kjLjh8QM",
    "outputId": "9f944dce-0f19-4fee-ca10-b7faffb91300"
   },
   "outputs": [
    {
     "name": "stderr",
     "output_type": "stream",
     "text": [
      "/usr/local/lib/python3.6/dist-packages/ipykernel_launcher.py:1: DeprecationWarning: Call to deprecated `__getitem__` (Method will be removed in 4.0.0, use self.wv.__getitem__() instead).\n",
      "  \"\"\"Entry point for launching an IPython kernel.\n"
     ]
    }
   ],
   "source": [
    "X = model[model.wv.vocab]"
   ]
  },
  {
   "cell_type": "code",
   "execution_count": 24,
   "metadata": {
    "id": "9mnf2s26ibCy"
   },
   "outputs": [],
   "source": [
    "from sklearn.decomposition import PCA\r\n",
    "pca = PCA(n_components=2)\r\n",
    "result = pca.fit_transform(X)"
   ]
  },
  {
   "cell_type": "markdown",
   "metadata": {
    "id": "GucJ9mU1wv1w"
   },
   "source": [
    "- 아래 코드를 수행하기 전에 하단의 한글폰트 설치"
   ]
  },
  {
   "cell_type": "code",
   "execution_count": 25,
   "metadata": {
    "id": "z6Fb8QDaieoO"
   },
   "outputs": [],
   "source": [
    "# from matplotlib import pyplot\r\n",
    "# pyplot.scatter(result[:, 0], result[:, 1])\r\n",
    "# words = list(model.wv.vocab)\r\n",
    "# for i, word in enumerate(words):\r\n",
    "# \tpyplot.annotate(word, xy=(result[i, 0], result[i, 1]))\r\n",
    "# pyplot.show()"
   ]
  },
  {
   "cell_type": "code",
   "execution_count": 26,
   "metadata": {
    "colab": {
     "base_uri": "https://localhost:8080/"
    },
    "id": "JCgB8YAwkbR8",
    "outputId": "beeddab5-688a-459b-fcd0-c5593cabc6cf"
   },
   "outputs": [
    {
     "data": {
      "text/plain": [
       "['sentence',\n",
       " 'the',\n",
       " 'this',\n",
       " 'is',\n",
       " 'first',\n",
       " 'for',\n",
       " 'word2vec',\n",
       " 'second',\n",
       " 'yet',\n",
       " 'another',\n",
       " 'one',\n",
       " 'more',\n",
       " 'and',\n",
       " 'final']"
      ]
     },
     "execution_count": 26,
     "metadata": {
      "tags": []
     },
     "output_type": "execute_result"
    }
   ],
   "source": [
    "model.wv.index2word"
   ]
  },
  {
   "cell_type": "code",
   "execution_count": 27,
   "metadata": {
    "colab": {
     "base_uri": "https://localhost:8080/"
    },
    "id": "DT6jr_cyisDd",
    "outputId": "532e9621-5695-43c1-a331-df67d3fca207"
   },
   "outputs": [
    {
     "name": "stdout",
     "output_type": "stream",
     "text": [
      "[('for', 0.13605913519859314), ('second', 0.12183237820863724), ('final', 0.07917282730340958), ('and', 0.05106452852487564), ('the', 0.04708951711654663), ('more', 0.03781113773584366), ('word2vec', -0.013784077018499374), ('this', -0.06755366176366806), ('another', -0.09605851769447327), ('sentence', -0.13347259163856506)]\n"
     ]
    }
   ],
   "source": [
    "result = model.wv.most_similar('one')\r\n",
    "print(result)"
   ]
  },
  {
   "cell_type": "code",
   "execution_count": 28,
   "metadata": {
    "colab": {
     "base_uri": "https://localhost:8080/"
    },
    "id": "rSSAPIspjmWS",
    "outputId": "98e314a0-15f6-411f-dc3c-7618a952baeb"
   },
   "outputs": [
    {
     "data": {
      "text/plain": [
       "[('for', 0.13605913519859314),\n",
       " ('second', 0.12183237820863724),\n",
       " ('final', 0.07917282730340958),\n",
       " ('and', 0.05106452852487564),\n",
       " ('the', 0.04708951711654663),\n",
       " ('more', 0.03781113773584366),\n",
       " ('word2vec', -0.013784077018499374),\n",
       " ('this', -0.06755366176366806),\n",
       " ('another', -0.09605851769447327),\n",
       " ('sentence', -0.13347259163856506)]"
      ]
     },
     "execution_count": 28,
     "metadata": {
      "tags": []
     },
     "output_type": "execute_result"
    }
   ],
   "source": [
    "result"
   ]
  },
  {
   "cell_type": "markdown",
   "metadata": {
    "id": "QOvOQUp3sx1I"
   },
   "source": [
    "## String Tokenizer\r\n",
    "Tokenizes a string based on delimiters (separators) and supporting quoting and ignored character concepts."
   ]
  },
  {
   "cell_type": "code",
   "execution_count": 29,
   "metadata": {
    "id": "5Vn6ywu-jnYN"
   },
   "outputs": [],
   "source": [
    "sample_string = \"\"\"Can a nostalgia-packed superhero flick convince people to leave their couches and head to the cinemas? “Wonder Woman 1984” seeks to answer that question.\r\n",
    "\r\n",
    "Movie theater owners are hopeful that the “Wonder Woman” sequel, which arrives Christmas Day, will lure a key demographic back to cinemas despite continued surges in coronavirus cases.\"\"\""
   ]
  },
  {
   "cell_type": "markdown",
   "metadata": {
    "id": "qlQPg7OFhmYg"
   },
   "source": [
    "### Space Tokenizer\r\n",
    "[사용법](https://www.nltk.org/api/nltk.tokenize.html#nltk.tokenize.simple.SpaceTokenizer)"
   ]
  },
  {
   "cell_type": "code",
   "execution_count": 30,
   "metadata": {
    "colab": {
     "base_uri": "https://localhost:8080/"
    },
    "id": "-CLoJIPMu5wE",
    "outputId": "b2410152-dba1-4e36-9041-e0111eef16c7"
   },
   "outputs": [
    {
     "data": {
      "text/plain": [
       "['Can',\n",
       " 'a',\n",
       " 'nostalgia-packed',\n",
       " 'superhero',\n",
       " 'flick',\n",
       " 'convince',\n",
       " 'people',\n",
       " 'to',\n",
       " 'leave',\n",
       " 'their',\n",
       " 'couches',\n",
       " 'and',\n",
       " 'head',\n",
       " 'to',\n",
       " 'the',\n",
       " 'cinemas?',\n",
       " '“Wonder',\n",
       " 'Woman',\n",
       " '1984”',\n",
       " 'seeks',\n",
       " 'to',\n",
       " 'answer',\n",
       " 'that',\n",
       " 'question.\\n\\nMovie',\n",
       " 'theater',\n",
       " 'owners',\n",
       " 'are',\n",
       " 'hopeful',\n",
       " 'that',\n",
       " 'the',\n",
       " '“Wonder',\n",
       " 'Woman”',\n",
       " 'sequel,',\n",
       " 'which',\n",
       " 'arrives',\n",
       " 'Christmas',\n",
       " 'Day,',\n",
       " 'will',\n",
       " 'lure',\n",
       " 'a',\n",
       " 'key',\n",
       " 'demographic',\n",
       " 'back',\n",
       " 'to',\n",
       " 'cinemas',\n",
       " 'despite',\n",
       " 'continued',\n",
       " 'surges',\n",
       " 'in',\n",
       " 'coronavirus',\n",
       " 'cases.']"
      ]
     },
     "execution_count": 30,
     "metadata": {
      "tags": []
     },
     "output_type": "execute_result"
    }
   ],
   "source": [
    "from nltk.tokenize import SpaceTokenizer\r\n",
    "SpaceTokenizer().tokenize(sample_string)\r\n"
   ]
  },
  {
   "cell_type": "markdown",
   "metadata": {
    "id": "IPTzkQwFhCmU"
   },
   "source": [
    "### word tokenizer\r\n",
    "[사용법](https://www.nltk.org/api/nltk.tokenize.html#module-nltk.tokenize)"
   ]
  },
  {
   "cell_type": "code",
   "execution_count": 34,
   "metadata": {
    "colab": {
     "base_uri": "https://localhost:8080/"
    },
    "id": "7R6fvz_wvLwu",
    "outputId": "5e74f5b8-097a-406c-d2c5-4894f9a75fd8"
   },
   "outputs": [
    {
     "data": {
      "text/plain": [
       "['Can',\n",
       " 'a',\n",
       " 'nostalgia-packed',\n",
       " 'superhero',\n",
       " 'flick',\n",
       " 'convince',\n",
       " 'people',\n",
       " 'to',\n",
       " 'leave',\n",
       " 'their',\n",
       " 'couches',\n",
       " 'and',\n",
       " 'head',\n",
       " 'to',\n",
       " 'the',\n",
       " 'cinemas',\n",
       " '?',\n",
       " '“',\n",
       " 'Wonder',\n",
       " 'Woman',\n",
       " '1984',\n",
       " '”',\n",
       " 'seeks',\n",
       " 'to',\n",
       " 'answer',\n",
       " 'that',\n",
       " 'question',\n",
       " '.',\n",
       " 'Movie',\n",
       " 'theater',\n",
       " 'owners',\n",
       " 'are',\n",
       " 'hopeful',\n",
       " 'that',\n",
       " 'the',\n",
       " '“',\n",
       " 'Wonder',\n",
       " 'Woman',\n",
       " '”',\n",
       " 'sequel',\n",
       " ',',\n",
       " 'which',\n",
       " 'arrives',\n",
       " 'Christmas',\n",
       " 'Day',\n",
       " ',',\n",
       " 'will',\n",
       " 'lure',\n",
       " 'a',\n",
       " 'key',\n",
       " 'demographic',\n",
       " 'back',\n",
       " 'to',\n",
       " 'cinemas',\n",
       " 'despite',\n",
       " 'continued',\n",
       " 'surges',\n",
       " 'in',\n",
       " 'coronavirus',\n",
       " 'cases',\n",
       " '.']"
      ]
     },
     "execution_count": 34,
     "metadata": {
      "tags": []
     },
     "output_type": "execute_result"
    }
   ],
   "source": [
    "from nltk.tokenize import word_tokenize\r\n",
    "word_tokenize(sample_string)"
   ]
  },
  {
   "cell_type": "code",
   "execution_count": 32,
   "metadata": {
    "colab": {
     "base_uri": "https://localhost:8080/"
    },
    "id": "6vG9sO0ky5_P",
    "outputId": "3932ccb1-f89c-444c-f2f5-a8a5ccb8bc6e"
   },
   "outputs": [
    {
     "name": "stdout",
     "output_type": "stream",
     "text": [
      "[nltk_data] Downloading package punkt to /root/nltk_data...\n",
      "[nltk_data]   Unzipping tokenizers/punkt.zip.\n"
     ]
    },
    {
     "data": {
      "text/plain": [
       "True"
      ]
     },
     "execution_count": 32,
     "metadata": {
      "tags": []
     },
     "output_type": "execute_result"
    }
   ],
   "source": [
    "import nltk\r\n",
    "nltk.download('punkt')"
   ]
  },
  {
   "cell_type": "code",
   "execution_count": 35,
   "metadata": {
    "colab": {
     "base_uri": "https://localhost:8080/"
    },
    "id": "uz8PwwMzzMQh",
    "outputId": "1ca6c03e-a841-4661-ee8d-763ba06f6906"
   },
   "outputs": [
    {
     "data": {
      "text/plain": [
       "['Can',\n",
       " 'a',\n",
       " 'nostalgia-packed',\n",
       " 'superhero',\n",
       " 'flick',\n",
       " 'convince',\n",
       " 'people',\n",
       " 'to',\n",
       " 'leave',\n",
       " 'their',\n",
       " 'couches',\n",
       " 'and',\n",
       " 'head',\n",
       " 'to',\n",
       " 'the',\n",
       " 'cinemas',\n",
       " '?',\n",
       " '“',\n",
       " 'Wonder',\n",
       " 'Woman',\n",
       " '1984',\n",
       " '”',\n",
       " 'seeks',\n",
       " 'to',\n",
       " 'answer',\n",
       " 'that',\n",
       " 'question',\n",
       " '.',\n",
       " 'Movie',\n",
       " 'theater',\n",
       " 'owners',\n",
       " 'are',\n",
       " 'hopeful',\n",
       " 'that',\n",
       " 'the',\n",
       " '“',\n",
       " 'Wonder',\n",
       " 'Woman',\n",
       " '”',\n",
       " 'sequel',\n",
       " ',',\n",
       " 'which',\n",
       " 'arrives',\n",
       " 'Christmas',\n",
       " 'Day',\n",
       " ',',\n",
       " 'will',\n",
       " 'lure',\n",
       " 'a',\n",
       " 'key',\n",
       " 'demographic',\n",
       " 'back',\n",
       " 'to',\n",
       " 'cinemas',\n",
       " 'despite',\n",
       " 'continued',\n",
       " 'surges',\n",
       " 'in',\n",
       " 'coronavirus',\n",
       " 'cases',\n",
       " '.']"
      ]
     },
     "execution_count": 35,
     "metadata": {
      "tags": []
     },
     "output_type": "execute_result"
    }
   ],
   "source": [
    "from nltk.tokenize import word_tokenize\r\n",
    "word_tokenize(sample_string)"
   ]
  },
  {
   "cell_type": "markdown",
   "metadata": {
    "id": "QbJgfURYzjX-"
   },
   "source": [
    "### 한글"
   ]
  },
  {
   "cell_type": "code",
   "execution_count": 36,
   "metadata": {
    "id": "XU244bCYz76D"
   },
   "outputs": [],
   "source": [
    "korean_string = \"일본의 소행성 탐사선 하야부사 2호가 소행성 ‘류구’에서 채취한 표본(흙)의 새로운 사진이 공개됐다. 최근 일본 우주항공연구개발기구(JAXA)는 최대 1cm에 달하는 검은 표본을 포함 지금까지 1mm이상의 검은 입자가 다수 발견됐다고 밝혔다. 하야부사 2호가 류구에서 가져온 표본은 총 5.4g 정도로 이는 목표치의 50배가 넘는다.\""
   ]
  },
  {
   "cell_type": "code",
   "execution_count": 37,
   "metadata": {
    "colab": {
     "base_uri": "https://localhost:8080/"
    },
    "id": "0WJujwk-z98H",
    "outputId": "cb69b804-5c59-4961-8f1f-0bf268163617"
   },
   "outputs": [
    {
     "data": {
      "text/plain": [
       "['일본의',\n",
       " '소행성',\n",
       " '탐사선',\n",
       " '하야부사',\n",
       " '2호가',\n",
       " '소행성',\n",
       " '‘류구’에서',\n",
       " '채취한',\n",
       " '표본(흙)의',\n",
       " '새로운',\n",
       " '사진이',\n",
       " '공개됐다.',\n",
       " '최근',\n",
       " '일본',\n",
       " '우주항공연구개발기구(JAXA)는',\n",
       " '최대',\n",
       " '1cm에',\n",
       " '달하는',\n",
       " '검은',\n",
       " '표본을',\n",
       " '포함',\n",
       " '지금까지',\n",
       " '1mm이상의',\n",
       " '검은',\n",
       " '입자가',\n",
       " '다수',\n",
       " '발견됐다고',\n",
       " '밝혔다.',\n",
       " '하야부사',\n",
       " '2호가',\n",
       " '류구에서',\n",
       " '가져온',\n",
       " '표본은',\n",
       " '총',\n",
       " '5.4g',\n",
       " '정도로',\n",
       " '이는',\n",
       " '목표치의',\n",
       " '50배가',\n",
       " '넘는다.']"
      ]
     },
     "execution_count": 37,
     "metadata": {
      "tags": []
     },
     "output_type": "execute_result"
    }
   ],
   "source": [
    "from nltk.tokenize import SpaceTokenizer\r\n",
    "SpaceTokenizer().tokenize(korean_string)"
   ]
  },
  {
   "cell_type": "code",
   "execution_count": 38,
   "metadata": {
    "colab": {
     "base_uri": "https://localhost:8080/"
    },
    "id": "z6FvLMfW0CSa",
    "outputId": "990e0672-41cf-421b-ec6b-e3b6a86f86e9"
   },
   "outputs": [
    {
     "data": {
      "text/plain": [
       "['일본의',\n",
       " '소행성',\n",
       " '탐사선',\n",
       " '하야부사',\n",
       " '2호가',\n",
       " '소행성',\n",
       " '‘',\n",
       " '류구',\n",
       " '’',\n",
       " '에서',\n",
       " '채취한',\n",
       " '표본',\n",
       " '(',\n",
       " '흙',\n",
       " ')',\n",
       " '의',\n",
       " '새로운',\n",
       " '사진이',\n",
       " '공개됐다',\n",
       " '.',\n",
       " '최근',\n",
       " '일본',\n",
       " '우주항공연구개발기구',\n",
       " '(',\n",
       " 'JAXA',\n",
       " ')',\n",
       " '는',\n",
       " '최대',\n",
       " '1cm에',\n",
       " '달하는',\n",
       " '검은',\n",
       " '표본을',\n",
       " '포함',\n",
       " '지금까지',\n",
       " '1mm이상의',\n",
       " '검은',\n",
       " '입자가',\n",
       " '다수',\n",
       " '발견됐다고',\n",
       " '밝혔다',\n",
       " '.',\n",
       " '하야부사',\n",
       " '2호가',\n",
       " '류구에서',\n",
       " '가져온',\n",
       " '표본은',\n",
       " '총',\n",
       " '5.4g',\n",
       " '정도로',\n",
       " '이는',\n",
       " '목표치의',\n",
       " '50배가',\n",
       " '넘는다',\n",
       " '.']"
      ]
     },
     "execution_count": 38,
     "metadata": {
      "tags": []
     },
     "output_type": "execute_result"
    }
   ],
   "source": [
    "from nltk.tokenize import word_tokenize\r\n",
    "word_tokenize(korean_string)"
   ]
  },
  {
   "cell_type": "markdown",
   "metadata": {
    "id": "IN9grqls0Vpw"
   },
   "source": [
    "<p><img alt=\"Colaboratory logo\" height=\"45px\" src=\"https://konlpy.org/en/latest/_static/konlpy.png\" align=\"left\" hspace=\"10px\" vspace=\"0px\"></p>\r\n",
    "\r\n",
    "## KoNLPy 한국어 형태소 분석기\r\n",
    "- Hannanum\r\n",
    "- Kkma\r\n",
    "- Komoran\r\n",
    "- Mecab\r\n",
    "- Okt(Twitter)\r\n",
    "\r\n",
    "[성능비교](https://passerby14.tistory.com/3)"
   ]
  },
  {
   "cell_type": "code",
   "execution_count": 39,
   "metadata": {
    "id": "5Oq2UKjg0Gm8"
   },
   "outputs": [],
   "source": [
    "korean_string = \"일본의 소행성 탐사선 하야부사 2호가 소행성 ‘류구’에서 채취한 표본(흙)의 새로운 사진이 공개됐다. 최근 일본 우주항공연구개발기구(JAXA)는 최대 1cm에 달하는 검은 표본을 포함 지금까지 1mm이상의 검은 입자가 다수 발견됐다고 밝혔다. 하야부사 2호가 류구에서 가져온 표본은 총 5.4g 정도로 이는 목표치의 50배가 넘는다.\""
   ]
  },
  {
   "cell_type": "markdown",
   "metadata": {
    "id": "76cBCqfXgY--"
   },
   "source": [
    "### KoNLPy install\r\n",
    "[KoNLPy 설치](https://konlpy-ko.readthedocs.io/ko/v0.4.4/install/)"
   ]
  },
  {
   "cell_type": "code",
   "execution_count": 40,
   "metadata": {
    "colab": {
     "base_uri": "https://localhost:8080/"
    },
    "id": "X942F-7R1v1o",
    "outputId": "e416995d-a09d-4497-e6d0-5e8edb6b132f"
   },
   "outputs": [
    {
     "name": "stdout",
     "output_type": "stream",
     "text": [
      "Collecting JPype1-py3\n",
      "\u001b[?25l  Downloading https://files.pythonhosted.org/packages/9b/81/63f5e4202c598f362ee4684b41890f993d6e58309c5d90703f570ab85f62/JPype1-py3-0.5.5.4.tar.gz (88kB)\n",
      "\r\u001b[K     |███▊                            | 10kB 17.6MB/s eta 0:00:01\r\u001b[K     |███████▍                        | 20kB 22.4MB/s eta 0:00:01\r\u001b[K     |███████████▏                    | 30kB 17.1MB/s eta 0:00:01\r\u001b[K     |██████████████▉                 | 40kB 11.6MB/s eta 0:00:01\r\u001b[K     |██████████████████▌             | 51kB 8.7MB/s eta 0:00:01\r\u001b[K     |██████████████████████▎         | 61kB 10.1MB/s eta 0:00:01\r\u001b[K     |██████████████████████████      | 71kB 10.0MB/s eta 0:00:01\r\u001b[K     |█████████████████████████████▋  | 81kB 9.9MB/s eta 0:00:01\r\u001b[K     |████████████████████████████████| 92kB 4.1MB/s \n",
      "\u001b[?25hBuilding wheels for collected packages: JPype1-py3\n",
      "  Building wheel for JPype1-py3 (setup.py) ... \u001b[?25l\u001b[?25hdone\n",
      "  Created wheel for JPype1-py3: filename=JPype1_py3-0.5.5.4-cp36-cp36m-linux_x86_64.whl size=2678229 sha256=7b235afdc2f925f0c987557618aaabd16b7d1397311dfc175bd4eba3d2489304\n",
      "  Stored in directory: /root/.cache/pip/wheels/52/37/1f/1015d908d12a0e9b239543d031fda0cded9823aa1306939541\n",
      "Successfully built JPype1-py3\n",
      "Installing collected packages: JPype1-py3\n",
      "Successfully installed JPype1-py3-0.5.5.4\n"
     ]
    }
   ],
   "source": [
    "!pip3 install JPype1-py3"
   ]
  },
  {
   "cell_type": "code",
   "execution_count": 41,
   "metadata": {
    "colab": {
     "base_uri": "https://localhost:8080/"
    },
    "id": "jftd2C8F1yzA",
    "outputId": "3501f0d2-b707-49ad-d31d-a5ce001c3748"
   },
   "outputs": [
    {
     "name": "stdout",
     "output_type": "stream",
     "text": [
      "Collecting konlpy\n",
      "\u001b[?25l  Downloading https://files.pythonhosted.org/packages/85/0e/f385566fec837c0b83f216b2da65db9997b35dd675e107752005b7d392b1/konlpy-0.5.2-py2.py3-none-any.whl (19.4MB)\n",
      "\u001b[K     |████████████████████████████████| 19.4MB 233kB/s \n",
      "\u001b[?25hCollecting beautifulsoup4==4.6.0\n",
      "\u001b[?25l  Downloading https://files.pythonhosted.org/packages/9e/d4/10f46e5cfac773e22707237bfcd51bbffeaf0a576b0a847ec7ab15bd7ace/beautifulsoup4-4.6.0-py3-none-any.whl (86kB)\n",
      "\u001b[K     |████████████████████████████████| 92kB 8.9MB/s \n",
      "\u001b[?25hCollecting colorama\n",
      "  Downloading https://files.pythonhosted.org/packages/44/98/5b86278fbbf250d239ae0ecb724f8572af1c91f4a11edf4d36a206189440/colorama-0.4.4-py2.py3-none-any.whl\n",
      "Collecting tweepy>=3.7.0\n",
      "  Downloading https://files.pythonhosted.org/packages/67/c3/6bed87f3b1e5ed2f34bd58bf7978e308c86e255193916be76e5a5ce5dfca/tweepy-3.10.0-py2.py3-none-any.whl\n",
      "Requirement already satisfied: numpy>=1.6 in /usr/local/lib/python3.6/dist-packages (from konlpy) (1.19.4)\n",
      "Requirement already satisfied: lxml>=4.1.0 in /usr/local/lib/python3.6/dist-packages (from konlpy) (4.2.6)\n",
      "Collecting JPype1>=0.7.0\n",
      "\u001b[?25l  Downloading https://files.pythonhosted.org/packages/de/af/93f92b38ec1ff3091cd38982ed19cea2800fefb609b5801c41fc43c0781e/JPype1-1.2.1-cp36-cp36m-manylinux2010_x86_64.whl (457kB)\n",
      "\u001b[K     |████████████████████████████████| 460kB 37.2MB/s \n",
      "\u001b[?25hRequirement already satisfied: requests[socks]>=2.11.1 in /usr/local/lib/python3.6/dist-packages (from tweepy>=3.7.0->konlpy) (2.23.0)\n",
      "Requirement already satisfied: requests-oauthlib>=0.7.0 in /usr/local/lib/python3.6/dist-packages (from tweepy>=3.7.0->konlpy) (1.3.0)\n",
      "Requirement already satisfied: six>=1.10.0 in /usr/local/lib/python3.6/dist-packages (from tweepy>=3.7.0->konlpy) (1.15.0)\n",
      "Requirement already satisfied: typing-extensions; python_version < \"3.8\" in /usr/local/lib/python3.6/dist-packages (from JPype1>=0.7.0->konlpy) (3.7.4.3)\n",
      "Requirement already satisfied: idna<3,>=2.5 in /usr/local/lib/python3.6/dist-packages (from requests[socks]>=2.11.1->tweepy>=3.7.0->konlpy) (2.10)\n",
      "Requirement already satisfied: certifi>=2017.4.17 in /usr/local/lib/python3.6/dist-packages (from requests[socks]>=2.11.1->tweepy>=3.7.0->konlpy) (2020.12.5)\n",
      "Requirement already satisfied: chardet<4,>=3.0.2 in /usr/local/lib/python3.6/dist-packages (from requests[socks]>=2.11.1->tweepy>=3.7.0->konlpy) (3.0.4)\n",
      "Requirement already satisfied: urllib3!=1.25.0,!=1.25.1,<1.26,>=1.21.1 in /usr/local/lib/python3.6/dist-packages (from requests[socks]>=2.11.1->tweepy>=3.7.0->konlpy) (1.24.3)\n",
      "Requirement already satisfied: PySocks!=1.5.7,>=1.5.6; extra == \"socks\" in /usr/local/lib/python3.6/dist-packages (from requests[socks]>=2.11.1->tweepy>=3.7.0->konlpy) (1.7.1)\n",
      "Requirement already satisfied: oauthlib>=3.0.0 in /usr/local/lib/python3.6/dist-packages (from requests-oauthlib>=0.7.0->tweepy>=3.7.0->konlpy) (3.1.0)\n",
      "Installing collected packages: beautifulsoup4, colorama, tweepy, JPype1, konlpy\n",
      "  Found existing installation: beautifulsoup4 4.6.3\n",
      "    Uninstalling beautifulsoup4-4.6.3:\n",
      "      Successfully uninstalled beautifulsoup4-4.6.3\n",
      "  Found existing installation: tweepy 3.6.0\n",
      "    Uninstalling tweepy-3.6.0:\n",
      "      Successfully uninstalled tweepy-3.6.0\n",
      "Successfully installed JPype1-1.2.1 beautifulsoup4-4.6.0 colorama-0.4.4 konlpy-0.5.2 tweepy-3.10.0\n"
     ]
    }
   ],
   "source": [
    "!pip3 install konlpy"
   ]
  },
  {
   "cell_type": "markdown",
   "metadata": {
    "id": "LFP21yr7ghmt"
   },
   "source": [
    "### Okt(Twitter)\r\n",
    "[사용법](https://konlpy-ko.readthedocs.io/ko/v0.4.4/api/konlpy.tag/#module-konlpy.tag._twitter)"
   ]
  },
  {
   "cell_type": "code",
   "execution_count": 42,
   "metadata": {
    "id": "HBi6vU662CW4"
   },
   "outputs": [],
   "source": [
    "from konlpy.tag import Okt\r\n",
    "okt = Okt()"
   ]
  },
  {
   "cell_type": "code",
   "execution_count": 43,
   "metadata": {
    "colab": {
     "base_uri": "https://localhost:8080/"
    },
    "id": "scRwN0Zy28FE",
    "outputId": "edc50634-83a5-4803-f0dc-c6937b64d801"
   },
   "outputs": [
    {
     "data": {
      "text/plain": [
       "['일본',\n",
       " '일본의 소행성',\n",
       " '일본의 소행성 탐사선',\n",
       " '일본의 소행성 탐사선 하야부사',\n",
       " '일본의 소행성 탐사선 하야부사 2호가',\n",
       " '일본의 소행성 탐사선 하야부사 2호가 소행성',\n",
       " '류구',\n",
       " '채취',\n",
       " '표본',\n",
       " '의 새로운 사진',\n",
       " '공개',\n",
       " '최근',\n",
       " '최근 일본',\n",
       " '최근 일본 우주항공연구개발기구',\n",
       " 'JAXA',\n",
       " '최대',\n",
       " '최대 1cm',\n",
       " '달하는 검은 표본',\n",
       " '포함',\n",
       " '포함 지금',\n",
       " '1mm이상',\n",
       " '1mm이상의 검은 입자',\n",
       " '다수',\n",
       " '다수 발견',\n",
       " '하야부사',\n",
       " '하야부사 2호가',\n",
       " '하야부사 2호가 류구',\n",
       " '총 5.4g',\n",
       " '총 5.4g 정도',\n",
       " '목표치의',\n",
       " '목표치의 50배',\n",
       " '소행성',\n",
       " '탐사선',\n",
       " '호가',\n",
       " '사진',\n",
       " '우주',\n",
       " '항공',\n",
       " '연구개발',\n",
       " '기구',\n",
       " '1cm',\n",
       " '지금',\n",
       " '1mm',\n",
       " '이상',\n",
       " '입자',\n",
       " '발견',\n",
       " '5.4g',\n",
       " '정도',\n",
       " '목표',\n",
       " '치의',\n",
       " '50']"
      ]
     },
     "execution_count": 43,
     "metadata": {
      "tags": []
     },
     "output_type": "execute_result"
    }
   ],
   "source": [
    "# 어절\r\n",
    "okt.phrases(korean_string)"
   ]
  },
  {
   "cell_type": "code",
   "execution_count": 44,
   "metadata": {
    "colab": {
     "base_uri": "https://localhost:8080/"
    },
    "id": "3o7-Fo4v3D-1",
    "outputId": "96205f1b-40c9-4f9b-f6fe-2f85002eee02"
   },
   "outputs": [
    {
     "data": {
      "text/plain": [
       "['일본',\n",
       " '의',\n",
       " '소행성',\n",
       " '탐사선',\n",
       " '하야부사',\n",
       " '2',\n",
       " '호가',\n",
       " '소행성',\n",
       " '‘',\n",
       " '류구',\n",
       " '’',\n",
       " '에서',\n",
       " '채취',\n",
       " '한',\n",
       " '표본',\n",
       " '(',\n",
       " '흙',\n",
       " ')',\n",
       " '의',\n",
       " '새로운',\n",
       " '사진',\n",
       " '이',\n",
       " '공개',\n",
       " '됐다',\n",
       " '.',\n",
       " '최근',\n",
       " '일본',\n",
       " '우주',\n",
       " '항공',\n",
       " '연구개발',\n",
       " '기구',\n",
       " '(',\n",
       " 'JAXA',\n",
       " ')',\n",
       " '는',\n",
       " '최대',\n",
       " '1',\n",
       " 'cm',\n",
       " '에',\n",
       " '달',\n",
       " '하는',\n",
       " '검은',\n",
       " '표본',\n",
       " '을',\n",
       " '포함',\n",
       " '지금',\n",
       " '까지',\n",
       " '1',\n",
       " 'mm',\n",
       " '이상',\n",
       " '의',\n",
       " '검은',\n",
       " '입자',\n",
       " '가',\n",
       " '다수',\n",
       " '발견',\n",
       " '됐다고',\n",
       " '밝혔다',\n",
       " '.',\n",
       " '하야부사',\n",
       " '2',\n",
       " '호가',\n",
       " '류구',\n",
       " '에서',\n",
       " '가져온',\n",
       " '표본',\n",
       " '은',\n",
       " '총',\n",
       " '5.4',\n",
       " 'g',\n",
       " '정도',\n",
       " '로',\n",
       " '이는',\n",
       " '목표',\n",
       " '치의',\n",
       " '50',\n",
       " '배',\n",
       " '가',\n",
       " '넘는다',\n",
       " '.']"
      ]
     },
     "execution_count": 44,
     "metadata": {
      "tags": []
     },
     "output_type": "execute_result"
    }
   ],
   "source": [
    "# 형태소\r\n",
    "okt.morphs(korean_string)"
   ]
  },
  {
   "cell_type": "code",
   "execution_count": 45,
   "metadata": {
    "colab": {
     "base_uri": "https://localhost:8080/"
    },
    "id": "nel7P92y3gtO",
    "outputId": "70eb748b-41e9-427f-b46e-d316c10acb27"
   },
   "outputs": [
    {
     "data": {
      "text/plain": [
       "['일본',\n",
       " '소행성',\n",
       " '탐사선',\n",
       " '하야부사',\n",
       " '호가',\n",
       " '소행성',\n",
       " '류구',\n",
       " '채취',\n",
       " '표본',\n",
       " '흙',\n",
       " '의',\n",
       " '사진',\n",
       " '공개',\n",
       " '최근',\n",
       " '일본',\n",
       " '우주',\n",
       " '항공',\n",
       " '연구개발',\n",
       " '기구',\n",
       " '최대',\n",
       " '달',\n",
       " '표본',\n",
       " '포함',\n",
       " '지금',\n",
       " '이상',\n",
       " '입자',\n",
       " '다수',\n",
       " '발견',\n",
       " '하야부사',\n",
       " '호가',\n",
       " '류구',\n",
       " '표본',\n",
       " '총',\n",
       " '정도',\n",
       " '목표',\n",
       " '치의',\n",
       " '배']"
      ]
     },
     "execution_count": 45,
     "metadata": {
      "tags": []
     },
     "output_type": "execute_result"
    }
   ],
   "source": [
    "# 명사\r\n",
    "okt.nouns(korean_string)"
   ]
  },
  {
   "cell_type": "markdown",
   "metadata": {
    "id": "B1-j6Kxwj8xF"
   },
   "source": [
    "## 형태소분석기를 통한 word2vec"
   ]
  },
  {
   "cell_type": "code",
   "execution_count": 46,
   "metadata": {
    "id": "MrSdWf2LgL1a"
   },
   "outputs": [],
   "source": [
    "# 원문 : https://news.naver.com/main/read.nhn?mode=LSD&mid=shm&sid1=105&oid=081&aid=0003150845\r\n",
    "news_string = \"\"\"일본의 소행성 탐사선 하야부사 2호가 소행성 ‘류구’에서 채취한 표본(흙)의 새로운 사진이 공개됐다. 최근 일본 우주항공연구개발기구(JAXA)는 최대 1cm에 달하는 검은 표본을 포함 지금까지 1mm이상의 검은 입자가 다수 발견됐다고 밝혔다. 하야부사 2호가 류구에서 가져온 표본은 총 5.4g 정도로 이는 목표치의 50배가 넘는다.\r\n",
    "\r\n",
    "지난 24일 JAXA가 공개한 류구의 표본을 보면 마치 숯덩이로 가득 차 있는듯 보이는데 이는 광학현미경으로 촬영됐기 때문이다.\r\n",
    "\r\n",
    "우리말로 ‘송골매’라는 뜻을 가진 하야부사 2호는 세계 처음으로 소행성 ‘이토카와’의 미립자를 가져온 하야부사의 문제점을 보완, 개발해 지난 2014년 12월 발사됐다. 이후 하야부사 2호는 지난해 7월 지구에서 약 3억4000만㎞ 떨어진 소행성 류구에 접근해 금속탄환으로 웅덩이를 만든 뒤 내부 물질을 채취하는 데 성공했다.\r\n",
    "\r\n",
    "일본 우주항공연구개발기구(JAXA) 요원이 6일 호주 사우스 오스트레일리아주 우메라 사막지대에 떨어진 소행성 류구의 내부물질을 담은 캡슐을 회수해 옮기고 있다.JAXA 제공 AP 연합뉴스\r\n",
    "같은 해 11월 류구를 출발해 다시 지구로 향한 하야부사 2호는 지난 5일 채취한 표본이 담긴 캡슐을 분리해 호주 서부 사막에 떨어뜨리고 새 탐사지인 지구와 화성 사이를 도는 소행성 '1998KY26'으로 향했다.\r\n",
    "\r\n",
    "하야부사 2호가 6년 동안 비행한 거리는 52억㎞로 이는 지구와 달 사이 평균거리에 1만3500배에 달한다.\r\n",
    "\r\n",
    "하야부사 2호가 탐사한 류구는 수많은 바위와 돌로 가득한 소행성으로 지름은 870m, 공전주기는 475일, 자전주기는 7.5시간이다. 특히 태양계 형성 당시의 물질이 고스란히 남아있을 것으로 추정돼 연구가치가 매우 높다. 곧 이번에 탐사선이 가져온 표본에는 태양계와 지구 탄생의 비밀을 풀어줄 단서가 담겨있을 수 있다.\r\n",
    "\"\"\""
   ]
  },
  {
   "cell_type": "code",
   "execution_count": 47,
   "metadata": {
    "colab": {
     "base_uri": "https://localhost:8080/"
    },
    "id": "Y37YV_6Hjhgj",
    "outputId": "890f558e-bcd0-43fb-a8cd-5cfffdb0b930"
   },
   "outputs": [
    {
     "data": {
      "text/plain": [
       "['일본의 소행성 탐사선 하야부사 2호가 소행성 ‘류구’에서 채취한 표본(흙)의 새로운 사진이 공개됐다. 최근 일본 우주항공연구개발기구(JAXA)는 최대 1cm에 달하는 검은 표본을 포함 지금까지 1mm이상의 검은 입자가 다수 발견됐다고 밝혔다. 하야부사 2호가 류구에서 가져온 표본은 총 5.4g 정도로 이는 목표치의 50배가 넘는다.',\n",
       " '',\n",
       " '지난 24일 JAXA가 공개한 류구의 표본을 보면 마치 숯덩이로 가득 차 있는듯 보이는데 이는 광학현미경으로 촬영됐기 때문이다.',\n",
       " '',\n",
       " '우리말로 ‘송골매’라는 뜻을 가진 하야부사 2호는 세계 처음으로 소행성 ‘이토카와’의 미립자를 가져온 하야부사의 문제점을 보완, 개발해 지난 2014년 12월 발사됐다. 이후 하야부사 2호는 지난해 7월 지구에서 약 3억4000만㎞ 떨어진 소행성 류구에 접근해 금속탄환으로 웅덩이를 만든 뒤 내부 물질을 채취하는 데 성공했다.',\n",
       " '',\n",
       " '일본 우주항공연구개발기구(JAXA) 요원이 6일 호주 사우스 오스트레일리아주 우메라 사막지대에 떨어진 소행성 류구의 내부물질을 담은 캡슐을 회수해 옮기고 있다.JAXA 제공 AP 연합뉴스',\n",
       " \"같은 해 11월 류구를 출발해 다시 지구로 향한 하야부사 2호는 지난 5일 채취한 표본이 담긴 캡슐을 분리해 호주 서부 사막에 떨어뜨리고 새 탐사지인 지구와 화성 사이를 도는 소행성 '1998KY26'으로 향했다.\",\n",
       " '',\n",
       " '하야부사 2호가 6년 동안 비행한 거리는 52억㎞로 이는 지구와 달 사이 평균거리에 1만3500배에 달한다.',\n",
       " '',\n",
       " '하야부사 2호가 탐사한 류구는 수많은 바위와 돌로 가득한 소행성으로 지름은 870m, 공전주기는 475일, 자전주기는 7.5시간이다. 특히 태양계 형성 당시의 물질이 고스란히 남아있을 것으로 추정돼 연구가치가 매우 높다. 곧 이번에 탐사선이 가져온 표본에는 태양계와 지구 탄생의 비밀을 풀어줄 단서가 담겨있을 수 있다.']"
      ]
     },
     "execution_count": 47,
     "metadata": {
      "tags": []
     },
     "output_type": "execute_result"
    }
   ],
   "source": [
    "news_list = news_string.splitlines()\r\n",
    "news_list"
   ]
  },
  {
   "cell_type": "code",
   "execution_count": 48,
   "metadata": {
    "id": "jiJ_PuLYjieJ"
   },
   "outputs": [],
   "source": [
    "import os\r\n",
    "news_list = news_string.replace(os.linesep + os.linesep , os.linesep).splitlines()\r\n",
    "# news_list = news_string.replace(\"\\n\\n\" , \"\\n\").splitlines()"
   ]
  },
  {
   "cell_type": "code",
   "execution_count": 49,
   "metadata": {
    "colab": {
     "base_uri": "https://localhost:8080/"
    },
    "id": "pDoPibwQkcF7",
    "outputId": "756e571c-5de1-4eec-fabc-af5df844c3fb"
   },
   "outputs": [
    {
     "data": {
      "text/plain": [
       "['일본의 소행성 탐사선 하야부사 2호가 소행성 ‘류구’에서 채취한 표본(흙)의 새로운 사진이 공개됐다. 최근 일본 우주항공연구개발기구(JAXA)는 최대 1cm에 달하는 검은 표본을 포함 지금까지 1mm이상의 검은 입자가 다수 발견됐다고 밝혔다. 하야부사 2호가 류구에서 가져온 표본은 총 5.4g 정도로 이는 목표치의 50배가 넘는다.',\n",
       " '지난 24일 JAXA가 공개한 류구의 표본을 보면 마치 숯덩이로 가득 차 있는듯 보이는데 이는 광학현미경으로 촬영됐기 때문이다.',\n",
       " '우리말로 ‘송골매’라는 뜻을 가진 하야부사 2호는 세계 처음으로 소행성 ‘이토카와’의 미립자를 가져온 하야부사의 문제점을 보완, 개발해 지난 2014년 12월 발사됐다. 이후 하야부사 2호는 지난해 7월 지구에서 약 3억4000만㎞ 떨어진 소행성 류구에 접근해 금속탄환으로 웅덩이를 만든 뒤 내부 물질을 채취하는 데 성공했다.',\n",
       " '일본 우주항공연구개발기구(JAXA) 요원이 6일 호주 사우스 오스트레일리아주 우메라 사막지대에 떨어진 소행성 류구의 내부물질을 담은 캡슐을 회수해 옮기고 있다.JAXA 제공 AP 연합뉴스',\n",
       " \"같은 해 11월 류구를 출발해 다시 지구로 향한 하야부사 2호는 지난 5일 채취한 표본이 담긴 캡슐을 분리해 호주 서부 사막에 떨어뜨리고 새 탐사지인 지구와 화성 사이를 도는 소행성 '1998KY26'으로 향했다.\",\n",
       " '하야부사 2호가 6년 동안 비행한 거리는 52억㎞로 이는 지구와 달 사이 평균거리에 1만3500배에 달한다.',\n",
       " '하야부사 2호가 탐사한 류구는 수많은 바위와 돌로 가득한 소행성으로 지름은 870m, 공전주기는 475일, 자전주기는 7.5시간이다. 특히 태양계 형성 당시의 물질이 고스란히 남아있을 것으로 추정돼 연구가치가 매우 높다. 곧 이번에 탐사선이 가져온 표본에는 태양계와 지구 탄생의 비밀을 풀어줄 단서가 담겨있을 수 있다.']"
      ]
     },
     "execution_count": 49,
     "metadata": {
      "tags": []
     },
     "output_type": "execute_result"
    }
   ],
   "source": [
    "news_list"
   ]
  },
  {
   "cell_type": "code",
   "execution_count": 50,
   "metadata": {
    "id": "Lif1pycMktHq"
   },
   "outputs": [],
   "source": [
    "news_token = []"
   ]
  },
  {
   "cell_type": "markdown",
   "metadata": {
    "id": "T-K1wPFOlXvv"
   },
   "source": [
    "### 명사 추출 분석"
   ]
  },
  {
   "cell_type": "code",
   "execution_count": 51,
   "metadata": {
    "id": "pbNlaF9Pk3tE"
   },
   "outputs": [],
   "source": [
    "for news in news_list:\r\n",
    "    news_token.append( okt.nouns(news))"
   ]
  },
  {
   "cell_type": "code",
   "execution_count": 52,
   "metadata": {
    "colab": {
     "base_uri": "https://localhost:8080/"
    },
    "id": "CmbxBLGJlQUJ",
    "outputId": "42fb4072-f48e-41bf-e353-7b1b7b033967"
   },
   "outputs": [
    {
     "data": {
      "text/plain": [
       "[['일본',\n",
       "  '소행성',\n",
       "  '탐사선',\n",
       "  '하야부사',\n",
       "  '호가',\n",
       "  '소행성',\n",
       "  '류구',\n",
       "  '채취',\n",
       "  '표본',\n",
       "  '흙',\n",
       "  '의',\n",
       "  '사진',\n",
       "  '공개',\n",
       "  '최근',\n",
       "  '일본',\n",
       "  '우주',\n",
       "  '항공',\n",
       "  '연구개발',\n",
       "  '기구',\n",
       "  '최대',\n",
       "  '달',\n",
       "  '표본',\n",
       "  '포함',\n",
       "  '지금',\n",
       "  '이상',\n",
       "  '입자',\n",
       "  '다수',\n",
       "  '발견',\n",
       "  '하야부사',\n",
       "  '호가',\n",
       "  '류구',\n",
       "  '표본',\n",
       "  '총',\n",
       "  '정도',\n",
       "  '목표',\n",
       "  '치의',\n",
       "  '배'],\n",
       " ['지난', '공개', '류구', '표본', '마치', '숯', '덩이', '가득', '차', '광학현미경', '촬영', '때문'],\n",
       " ['우리말',\n",
       "  '송골매',\n",
       "  '뜻',\n",
       "  '하야부사',\n",
       "  '호',\n",
       "  '세계',\n",
       "  '처음',\n",
       "  '소행성',\n",
       "  '토카',\n",
       "  '의',\n",
       "  '미립',\n",
       "  '하야부사',\n",
       "  '문제점',\n",
       "  '보완',\n",
       "  '개발',\n",
       "  '지난',\n",
       "  '발사',\n",
       "  '이후',\n",
       "  '하야부사',\n",
       "  '호',\n",
       "  '지난해',\n",
       "  '지구',\n",
       "  '약',\n",
       "  '소행성',\n",
       "  '류구',\n",
       "  '접근',\n",
       "  '금속',\n",
       "  '탄환',\n",
       "  '웅덩이',\n",
       "  '뒤',\n",
       "  '내부',\n",
       "  '물질',\n",
       "  '채취',\n",
       "  '데'],\n",
       " ['일본',\n",
       "  '우주',\n",
       "  '항공',\n",
       "  '연구개발',\n",
       "  '기구',\n",
       "  '요원',\n",
       "  '호주',\n",
       "  '사우스',\n",
       "  '오스트레일리아',\n",
       "  '주',\n",
       "  '우메',\n",
       "  '사막',\n",
       "  '지대',\n",
       "  '소행성',\n",
       "  '류구',\n",
       "  '내부',\n",
       "  '물질',\n",
       "  '캡슐',\n",
       "  '회수',\n",
       "  '제공',\n",
       "  '연합뉴스'],\n",
       " ['해',\n",
       "  '류구',\n",
       "  '출발',\n",
       "  '다시',\n",
       "  '지구',\n",
       "  '향',\n",
       "  '하야부사',\n",
       "  '호',\n",
       "  '지난',\n",
       "  '채취',\n",
       "  '표본',\n",
       "  '캡슐',\n",
       "  '분리',\n",
       "  '호주',\n",
       "  '서부',\n",
       "  '사막',\n",
       "  '새',\n",
       "  '탐사',\n",
       "  '지인',\n",
       "  '지구',\n",
       "  '화성',\n",
       "  '사이',\n",
       "  '도',\n",
       "  '소행성',\n",
       "  '향'],\n",
       " ['하야부사', '호가', '동안', '비행', '거리', '로', '지구', '달', '사이', '평균', '거리', '배', '달'],\n",
       " ['하야부사',\n",
       "  '호가',\n",
       "  '탐사',\n",
       "  '류구',\n",
       "  '바위',\n",
       "  '돌',\n",
       "  '소행성',\n",
       "  '지름',\n",
       "  '공전주기',\n",
       "  '자전주기',\n",
       "  '태양계',\n",
       "  '형성',\n",
       "  '당시',\n",
       "  '물질',\n",
       "  '고스',\n",
       "  '란',\n",
       "  '것',\n",
       "  '추정',\n",
       "  '가치',\n",
       "  '매우',\n",
       "  '곧',\n",
       "  '이번',\n",
       "  '탐사선',\n",
       "  '표본',\n",
       "  '태양계',\n",
       "  '지구',\n",
       "  '탄생',\n",
       "  '비밀',\n",
       "  '단서',\n",
       "  '수']]"
      ]
     },
     "execution_count": 52,
     "metadata": {
      "tags": []
     },
     "output_type": "execute_result"
    }
   ],
   "source": [
    "news_token"
   ]
  },
  {
   "cell_type": "code",
   "execution_count": 53,
   "metadata": {
    "id": "vKHV66KIlRnx"
   },
   "outputs": [],
   "source": [
    "model = Word2Vec(sentences = news_token, size = 128, window = 5, min_count = 2)"
   ]
  },
  {
   "cell_type": "code",
   "execution_count": 54,
   "metadata": {
    "colab": {
     "base_uri": "https://localhost:8080/"
    },
    "id": "ytF-kRq-ltuC",
    "outputId": "cca21c60-d5af-48fe-d1a1-ef501cc54d1c"
   },
   "outputs": [
    {
     "name": "stdout",
     "output_type": "stream",
     "text": [
      "Word2Vec(vocab=29, size=128, alpha=0.025)\n"
     ]
    }
   ],
   "source": [
    "print(model)"
   ]
  },
  {
   "cell_type": "code",
   "execution_count": 55,
   "metadata": {
    "colab": {
     "base_uri": "https://localhost:8080/"
    },
    "id": "2k2E1O5Fl5Be",
    "outputId": "5f034434-1b78-40e0-90f5-2418ccf7dc23"
   },
   "outputs": [
    {
     "data": {
      "text/plain": [
       "['하야부사',\n",
       " '소행성',\n",
       " '류구',\n",
       " '표본',\n",
       " '지구',\n",
       " '호가',\n",
       " '일본',\n",
       " '채취',\n",
       " '달',\n",
       " '지난',\n",
       " '호',\n",
       " '물질',\n",
       " '탐사선',\n",
       " '의',\n",
       " '공개',\n",
       " '우주',\n",
       " '항공',\n",
       " '연구개발',\n",
       " '기구',\n",
       " '배',\n",
       " '내부',\n",
       " '호주',\n",
       " '사막',\n",
       " '캡슐',\n",
       " '향',\n",
       " '탐사',\n",
       " '사이',\n",
       " '거리',\n",
       " '태양계']"
      ]
     },
     "execution_count": 55,
     "metadata": {
      "tags": []
     },
     "output_type": "execute_result"
    }
   ],
   "source": [
    "model.wv.index2word"
   ]
  },
  {
   "cell_type": "code",
   "execution_count": 56,
   "metadata": {
    "colab": {
     "base_uri": "https://localhost:8080/"
    },
    "id": "CCi3hSqWmAEG",
    "outputId": "5e727949-bb17-408a-a2ad-ed3dc922e219"
   },
   "outputs": [
    {
     "name": "stderr",
     "output_type": "stream",
     "text": [
      "/usr/local/lib/python3.6/dist-packages/ipykernel_launcher.py:3: DeprecationWarning: Call to deprecated `__getitem__` (Method will be removed in 4.0.0, use self.wv.__getitem__() instead).\n",
      "  This is separate from the ipykernel package so we can avoid doing imports until\n"
     ]
    }
   ],
   "source": [
    "from sklearn.decomposition import PCA\r\n",
    "pca = PCA(n_components=2)\r\n",
    "X = model[model.wv.vocab]\r\n",
    "result = pca.fit_transform(X)"
   ]
  },
  {
   "cell_type": "code",
   "execution_count": null,
   "metadata": {
    "id": "UWVuEebAmtTH"
   },
   "outputs": [],
   "source": [
    "# import matplotlib.pyplot as plt\r\n",
    "\r\n",
    "# plt.figure(figsize=(20,15))\r\n",
    "# plt.scatter(result[:, 0], result[:, 1])\r\n",
    "# words = list(model.wv.vocab)\r\n",
    "# for i, word in enumerate(words):\r\n",
    "# \tplt.annotate(word, xy=(result[i, 0], result[i, 1]))\r\n",
    "# plt.show()"
   ]
  },
  {
   "cell_type": "markdown",
   "metadata": {
    "id": "MBib5DxLndeW"
   },
   "source": [
    "# 한글폰트 설치"
   ]
  },
  {
   "cell_type": "markdown",
   "metadata": {
    "id": "rnqMOXVGw-bz"
   },
   "source": [
    "## 경고!\r\n",
    "```\r\n",
    "colab에서는\r\n",
    "한글폰트가 설치되기 이전에 matplotlib를 출력하게되면\r\n",
    "한글폰트가 없는 상태에서 폰트가 cache되기때분에 문제가 발생!\r\n",
    "```"
   ]
  },
  {
   "cell_type": "code",
   "execution_count": 70,
   "metadata": {
    "id": "zCjrnb3foven"
   },
   "outputs": [],
   "source": [
    "%matplotlib inline  \r\n",
    "\r\n",
    "import matplotlib as mpl  # 기본 설정 만지는 용도\r\n",
    "import matplotlib.pyplot as plt  # 그래프 그리는 용도\r\n",
    "import matplotlib.font_manager as fm  # 폰트 관련 용도"
   ]
  },
  {
   "cell_type": "code",
   "execution_count": 71,
   "metadata": {
    "colab": {
     "base_uri": "https://localhost:8080/"
    },
    "id": "H-NKDSKGpU91",
    "outputId": "6c1e6300-5056-4f0d-8ae4-b779c81d169f"
   },
   "outputs": [
    {
     "name": "stdout",
     "output_type": "stream",
     "text": [
      "sys_font number: 48\n",
      "['/usr/share/fonts/truetype/nanum/NanumPen.ttf', '/usr/share/fonts/truetype/nanum/NanumBarunpenR.ttf', '/usr/share/fonts/truetype/liberation/LiberationSansNarrow-Italic.ttf', '/usr/share/fonts/truetype/nanum/NanumSquareRoundB.ttf', '/usr/share/fonts/truetype/nanum/NanumMyeongjoExtraBold.ttf', '/usr/share/fonts/truetype/nanum/NanumSquareB.ttf', '/usr/share/fonts/truetype/liberation/LiberationMono-BoldItalic.ttf', '/usr/share/fonts/truetype/nanum/NanumSquareL.ttf', '/usr/share/fonts/truetype/liberation/LiberationSans-Bold.ttf', '/usr/share/fonts/truetype/nanum/NanumBarunpenB.ttf', '/usr/share/fonts/truetype/nanum/NanumBrush.ttf', '/usr/share/fonts/truetype/nanum/NanumMyeongjoEcoBold.ttf', '/usr/share/fonts/truetype/nanum/NanumGothicCoding-Bold.ttf', '/usr/share/fonts/truetype/liberation/LiberationSerif-Italic.ttf', '/usr/share/fonts/truetype/liberation/LiberationSans-BoldItalic.ttf', '/usr/share/fonts/truetype/nanum/NanumGothicBold.ttf', '/usr/share/fonts/truetype/liberation/LiberationMono-Italic.ttf', '/usr/share/fonts/truetype/nanum/NanumSquareRoundL.ttf', '/usr/share/fonts/truetype/nanum/NanumMyeongjo.ttf', '/usr/share/fonts/truetype/nanum/NanumMyeongjoBold.ttf', '/usr/share/fonts/truetype/nanum/NanumBarunGothic.ttf', '/usr/share/fonts/truetype/nanum/NanumGothicEcoBold.ttf', '/usr/share/fonts/truetype/nanum/NanumGothic.ttf', '/usr/share/fonts/truetype/nanum/NanumBarunGothicBold.ttf', '/usr/share/fonts/truetype/nanum/NanumGothicLight.ttf', '/usr/share/fonts/truetype/nanum/NanumBarunGothicUltraLight.ttf', '/usr/share/fonts/truetype/liberation/LiberationSansNarrow-Regular.ttf', '/usr/share/fonts/truetype/liberation/LiberationSerif-Bold.ttf', '/usr/share/fonts/truetype/liberation/LiberationMono-Bold.ttf', '/usr/share/fonts/truetype/liberation/LiberationSerif-BoldItalic.ttf', '/usr/share/fonts/truetype/nanum/NanumSquareR.ttf', '/usr/share/fonts/truetype/nanum/NanumBarunGothicLight.ttf', '/usr/share/fonts/truetype/nanum/NanumGothicEco.ttf', '/usr/share/fonts/truetype/liberation/LiberationSansNarrow-Bold.ttf', '/usr/share/fonts/truetype/nanum/NanumSquareRoundEB.ttf', '/usr/share/fonts/truetype/nanum/NanumGothicExtraBold.ttf', '/usr/share/fonts/truetype/nanum/NanumGothicCoding.ttf', '/usr/share/fonts/truetype/nanum/NanumGothicEcoExtraBold.ttf', '/usr/share/fonts/truetype/liberation/LiberationSerif-Regular.ttf', '/usr/share/fonts/truetype/liberation/LiberationSansNarrow-BoldItalic.ttf', '/usr/share/fonts/truetype/liberation/LiberationSans-Regular.ttf', '/usr/share/fonts/truetype/nanum/NanumMyeongjoEcoExtraBold.ttf', '/usr/share/fonts/truetype/humor-sans/Humor-Sans.ttf', '/usr/share/fonts/truetype/liberation/LiberationMono-Regular.ttf', '/usr/share/fonts/truetype/nanum/NanumMyeongjoEco.ttf', '/usr/share/fonts/truetype/nanum/NanumSquareEB.ttf', '/usr/share/fonts/truetype/nanum/NanumSquareRoundR.ttf', '/usr/share/fonts/truetype/liberation/LiberationSans-Italic.ttf']\n",
      "nanum_font number: 31\n"
     ]
    }
   ],
   "source": [
    "sys_font=fm.findSystemFonts()\r\n",
    "print(f\"sys_font number: {len(sys_font)}\")\r\n",
    "print(sys_font)\r\n",
    "\r\n",
    "nanum_font = [f for f in sys_font if 'Nanum' in f]\r\n",
    "print(f\"nanum_font number: {len(nanum_font)}\")"
   ]
  },
  {
   "cell_type": "code",
   "execution_count": 72,
   "metadata": {
    "id": "AigSGEdpnDTJ"
   },
   "outputs": [],
   "source": [
    "!apt-get update -qq > /dev/null\r\n",
    "!apt-get install fonts-nanum* -qq > /dev/null"
   ]
  },
  {
   "cell_type": "code",
   "execution_count": 73,
   "metadata": {
    "colab": {
     "base_uri": "https://localhost:8080/"
    },
    "id": "GE_USoI2nmfS",
    "outputId": "294d579a-0659-43b9-ed28-810a701d6989"
   },
   "outputs": [
    {
     "name": "stdout",
     "output_type": "stream",
     "text": [
      "nanum_font number: 31\n"
     ]
    }
   ],
   "source": [
    "nanum_font = [f for f in sys_font if 'Nanum' in f]\r\n",
    "print(f\"nanum_font number: {len(nanum_font)}\")"
   ]
  },
  {
   "cell_type": "code",
   "execution_count": 74,
   "metadata": {
    "colab": {
     "base_uri": "https://localhost:8080/"
    },
    "id": "Zzsq--jYpbjz",
    "outputId": "b5a6cfb6-2b82-459e-ed08-24e54dc253ec"
   },
   "outputs": [
    {
     "data": {
      "text/plain": [
       "['/usr/share/fonts/truetype/nanum/NanumPen.ttf',\n",
       " '/usr/share/fonts/truetype/nanum/NanumBarunpenR.ttf',\n",
       " '/usr/share/fonts/truetype/nanum/NanumSquareRoundB.ttf',\n",
       " '/usr/share/fonts/truetype/nanum/NanumMyeongjoExtraBold.ttf',\n",
       " '/usr/share/fonts/truetype/nanum/NanumSquareB.ttf',\n",
       " '/usr/share/fonts/truetype/nanum/NanumSquareL.ttf',\n",
       " '/usr/share/fonts/truetype/nanum/NanumBarunpenB.ttf',\n",
       " '/usr/share/fonts/truetype/nanum/NanumBrush.ttf',\n",
       " '/usr/share/fonts/truetype/nanum/NanumMyeongjoEcoBold.ttf',\n",
       " '/usr/share/fonts/truetype/nanum/NanumGothicCoding-Bold.ttf',\n",
       " '/usr/share/fonts/truetype/nanum/NanumGothicBold.ttf',\n",
       " '/usr/share/fonts/truetype/nanum/NanumSquareRoundL.ttf',\n",
       " '/usr/share/fonts/truetype/nanum/NanumMyeongjo.ttf',\n",
       " '/usr/share/fonts/truetype/nanum/NanumMyeongjoBold.ttf',\n",
       " '/usr/share/fonts/truetype/nanum/NanumBarunGothic.ttf',\n",
       " '/usr/share/fonts/truetype/nanum/NanumGothicEcoBold.ttf',\n",
       " '/usr/share/fonts/truetype/nanum/NanumGothic.ttf',\n",
       " '/usr/share/fonts/truetype/nanum/NanumBarunGothicBold.ttf',\n",
       " '/usr/share/fonts/truetype/nanum/NanumGothicLight.ttf',\n",
       " '/usr/share/fonts/truetype/nanum/NanumBarunGothicUltraLight.ttf',\n",
       " '/usr/share/fonts/truetype/nanum/NanumSquareR.ttf',\n",
       " '/usr/share/fonts/truetype/nanum/NanumBarunGothicLight.ttf',\n",
       " '/usr/share/fonts/truetype/nanum/NanumGothicEco.ttf',\n",
       " '/usr/share/fonts/truetype/nanum/NanumSquareRoundEB.ttf',\n",
       " '/usr/share/fonts/truetype/nanum/NanumGothicExtraBold.ttf',\n",
       " '/usr/share/fonts/truetype/nanum/NanumGothicCoding.ttf',\n",
       " '/usr/share/fonts/truetype/nanum/NanumGothicEcoExtraBold.ttf',\n",
       " '/usr/share/fonts/truetype/nanum/NanumMyeongjoEcoExtraBold.ttf',\n",
       " '/usr/share/fonts/truetype/nanum/NanumMyeongjoEco.ttf',\n",
       " '/usr/share/fonts/truetype/nanum/NanumSquareEB.ttf',\n",
       " '/usr/share/fonts/truetype/nanum/NanumSquareRoundR.ttf']"
      ]
     },
     "execution_count": 74,
     "metadata": {
      "tags": []
     },
     "output_type": "execute_result"
    }
   ],
   "source": [
    "nanum_font"
   ]
  },
  {
   "cell_type": "code",
   "execution_count": 75,
   "metadata": {
    "colab": {
     "base_uri": "https://localhost:8080/"
    },
    "id": "_t1BleCtp4B-",
    "outputId": "56cc578b-f56b-441e-a053-6451f85d9017"
   },
   "outputs": [
    {
     "data": {
      "text/plain": [
       "[('Nanum Pen Script', '/usr/share/fonts/truetype/nanum/NanumPen.ttf'),\n",
       " ('NanumBarunpen', '/usr/share/fonts/truetype/nanum/NanumBarunpenR.ttf'),\n",
       " ('NanumSquareRound', '/usr/share/fonts/truetype/nanum/NanumSquareRoundB.ttf'),\n",
       " ('NanumMyeongjo',\n",
       "  '/usr/share/fonts/truetype/nanum/NanumMyeongjoExtraBold.ttf'),\n",
       " ('NanumSquare', '/usr/share/fonts/truetype/nanum/NanumSquareB.ttf'),\n",
       " ('NanumSquare', '/usr/share/fonts/truetype/nanum/NanumSquareL.ttf'),\n",
       " ('NanumBarunpen', '/usr/share/fonts/truetype/nanum/NanumBarunpenB.ttf'),\n",
       " ('Nanum Brush Script', '/usr/share/fonts/truetype/nanum/NanumBrush.ttf'),\n",
       " ('NanumMyeongjo Eco',\n",
       "  '/usr/share/fonts/truetype/nanum/NanumMyeongjoEcoBold.ttf'),\n",
       " ('NanumGothicCoding',\n",
       "  '/usr/share/fonts/truetype/nanum/NanumGothicCoding-Bold.ttf'),\n",
       " ('NanumGothic', '/usr/share/fonts/truetype/nanum/NanumGothicBold.ttf'),\n",
       " ('NanumSquareRound', '/usr/share/fonts/truetype/nanum/NanumSquareRoundL.ttf'),\n",
       " ('NanumMyeongjo', '/usr/share/fonts/truetype/nanum/NanumMyeongjo.ttf'),\n",
       " ('NanumMyeongjo', '/usr/share/fonts/truetype/nanum/NanumMyeongjoBold.ttf'),\n",
       " ('NanumBarunGothic', '/usr/share/fonts/truetype/nanum/NanumBarunGothic.ttf'),\n",
       " ('NanumGothic Eco', '/usr/share/fonts/truetype/nanum/NanumGothicEcoBold.ttf'),\n",
       " ('NanumGothic', '/usr/share/fonts/truetype/nanum/NanumGothic.ttf'),\n",
       " ('NanumBarunGothic',\n",
       "  '/usr/share/fonts/truetype/nanum/NanumBarunGothicBold.ttf'),\n",
       " ('NanumGothic', '/usr/share/fonts/truetype/nanum/NanumGothicLight.ttf'),\n",
       " ('NanumBarunGothic',\n",
       "  '/usr/share/fonts/truetype/nanum/NanumBarunGothicUltraLight.ttf'),\n",
       " ('NanumSquare', '/usr/share/fonts/truetype/nanum/NanumSquareR.ttf'),\n",
       " ('NanumBarunGothic',\n",
       "  '/usr/share/fonts/truetype/nanum/NanumBarunGothicLight.ttf'),\n",
       " ('NanumGothic Eco', '/usr/share/fonts/truetype/nanum/NanumGothicEco.ttf'),\n",
       " ('NanumSquareRound',\n",
       "  '/usr/share/fonts/truetype/nanum/NanumSquareRoundEB.ttf'),\n",
       " ('NanumGothic', '/usr/share/fonts/truetype/nanum/NanumGothicExtraBold.ttf'),\n",
       " ('NanumGothicCoding',\n",
       "  '/usr/share/fonts/truetype/nanum/NanumGothicCoding.ttf'),\n",
       " ('NanumGothic Eco',\n",
       "  '/usr/share/fonts/truetype/nanum/NanumGothicEcoExtraBold.ttf'),\n",
       " ('NanumMyeongjo Eco',\n",
       "  '/usr/share/fonts/truetype/nanum/NanumMyeongjoEcoExtraBold.ttf'),\n",
       " ('NanumMyeongjo Eco', '/usr/share/fonts/truetype/nanum/NanumMyeongjoEco.ttf'),\n",
       " ('NanumSquare', '/usr/share/fonts/truetype/nanum/NanumSquareEB.ttf'),\n",
       " ('NanumSquareRound', '/usr/share/fonts/truetype/nanum/NanumSquareRoundR.ttf')]"
      ]
     },
     "execution_count": 75,
     "metadata": {
      "tags": []
     },
     "output_type": "execute_result"
    }
   ],
   "source": [
    "[(f.name, f.fname) for f in fm.fontManager.ttflist if 'Nanum' in f.name]\r\n"
   ]
  },
  {
   "cell_type": "code",
   "execution_count": 77,
   "metadata": {
    "id": "pgPQi3RuqHM7"
   },
   "outputs": [],
   "source": [
    "fm._rebuild()"
   ]
  },
  {
   "cell_type": "code",
   "execution_count": 78,
   "metadata": {
    "colab": {
     "base_uri": "https://localhost:8080/"
    },
    "id": "liL-jxbepgzz",
    "outputId": "5847bfbf-5a09-45ad-bd47-a8dbb6ceac53"
   },
   "outputs": [
    {
     "name": "stdout",
     "output_type": "stream",
     "text": [
      "NanumMyeongjo\n"
     ]
    }
   ],
   "source": [
    "path = '/usr/share/fonts/truetype/nanum/NanumMyeongjo.ttf'  # 설치된 나눔글꼴중 원하는 녀석의 전체 경로를 가져오자\r\n",
    "font_name = fm.FontProperties(fname=path, size=10).get_name()\r\n",
    "print(font_name)\r\n",
    "plt.rc('font', family=font_name)"
   ]
  },
  {
   "cell_type": "markdown",
   "metadata": {
    "id": "vNnmJz5PyAoT"
   },
   "source": [
    "# 2차원 분석"
   ]
  },
  {
   "cell_type": "code",
   "execution_count": 79,
   "metadata": {
    "colab": {
     "base_uri": "https://localhost:8080/",
     "height": 1000
    },
    "id": "vTELUUJ4qRZD",
    "outputId": "c976d94f-539f-43a8-da8e-980d0c9bd3d3"
   },
   "outputs": [
    {
     "name": "stderr",
     "output_type": "stream",
     "text": [
      "/usr/local/lib/python3.6/dist-packages/matplotlib/backends/backend_agg.py:214: RuntimeWarning: Glyph 51068 missing from current font.\n",
      "  font.set_text(s, 0.0, flags=flags)\n",
      "/usr/local/lib/python3.6/dist-packages/matplotlib/backends/backend_agg.py:214: RuntimeWarning: Glyph 48376 missing from current font.\n",
      "  font.set_text(s, 0.0, flags=flags)\n",
      "/usr/local/lib/python3.6/dist-packages/matplotlib/backends/backend_agg.py:214: RuntimeWarning: Glyph 49548 missing from current font.\n",
      "  font.set_text(s, 0.0, flags=flags)\n",
      "/usr/local/lib/python3.6/dist-packages/matplotlib/backends/backend_agg.py:214: RuntimeWarning: Glyph 54665 missing from current font.\n",
      "  font.set_text(s, 0.0, flags=flags)\n",
      "/usr/local/lib/python3.6/dist-packages/matplotlib/backends/backend_agg.py:214: RuntimeWarning: Glyph 49457 missing from current font.\n",
      "  font.set_text(s, 0.0, flags=flags)\n",
      "/usr/local/lib/python3.6/dist-packages/matplotlib/backends/backend_agg.py:214: RuntimeWarning: Glyph 53456 missing from current font.\n",
      "  font.set_text(s, 0.0, flags=flags)\n",
      "/usr/local/lib/python3.6/dist-packages/matplotlib/backends/backend_agg.py:214: RuntimeWarning: Glyph 49324 missing from current font.\n",
      "  font.set_text(s, 0.0, flags=flags)\n",
      "/usr/local/lib/python3.6/dist-packages/matplotlib/backends/backend_agg.py:214: RuntimeWarning: Glyph 49440 missing from current font.\n",
      "  font.set_text(s, 0.0, flags=flags)\n",
      "/usr/local/lib/python3.6/dist-packages/matplotlib/backends/backend_agg.py:214: RuntimeWarning: Glyph 54616 missing from current font.\n",
      "  font.set_text(s, 0.0, flags=flags)\n",
      "/usr/local/lib/python3.6/dist-packages/matplotlib/backends/backend_agg.py:214: RuntimeWarning: Glyph 50556 missing from current font.\n",
      "  font.set_text(s, 0.0, flags=flags)\n",
      "/usr/local/lib/python3.6/dist-packages/matplotlib/backends/backend_agg.py:214: RuntimeWarning: Glyph 48512 missing from current font.\n",
      "  font.set_text(s, 0.0, flags=flags)\n",
      "/usr/local/lib/python3.6/dist-packages/matplotlib/backends/backend_agg.py:214: RuntimeWarning: Glyph 54840 missing from current font.\n",
      "  font.set_text(s, 0.0, flags=flags)\n",
      "/usr/local/lib/python3.6/dist-packages/matplotlib/backends/backend_agg.py:214: RuntimeWarning: Glyph 44032 missing from current font.\n",
      "  font.set_text(s, 0.0, flags=flags)\n",
      "/usr/local/lib/python3.6/dist-packages/matplotlib/backends/backend_agg.py:214: RuntimeWarning: Glyph 47448 missing from current font.\n",
      "  font.set_text(s, 0.0, flags=flags)\n",
      "/usr/local/lib/python3.6/dist-packages/matplotlib/backends/backend_agg.py:214: RuntimeWarning: Glyph 44396 missing from current font.\n",
      "  font.set_text(s, 0.0, flags=flags)\n",
      "/usr/local/lib/python3.6/dist-packages/matplotlib/backends/backend_agg.py:214: RuntimeWarning: Glyph 52292 missing from current font.\n",
      "  font.set_text(s, 0.0, flags=flags)\n",
      "/usr/local/lib/python3.6/dist-packages/matplotlib/backends/backend_agg.py:214: RuntimeWarning: Glyph 52712 missing from current font.\n",
      "  font.set_text(s, 0.0, flags=flags)\n",
      "/usr/local/lib/python3.6/dist-packages/matplotlib/backends/backend_agg.py:214: RuntimeWarning: Glyph 54364 missing from current font.\n",
      "  font.set_text(s, 0.0, flags=flags)\n",
      "/usr/local/lib/python3.6/dist-packages/matplotlib/backends/backend_agg.py:214: RuntimeWarning: Glyph 51032 missing from current font.\n",
      "  font.set_text(s, 0.0, flags=flags)\n",
      "/usr/local/lib/python3.6/dist-packages/matplotlib/backends/backend_agg.py:214: RuntimeWarning: Glyph 44277 missing from current font.\n",
      "  font.set_text(s, 0.0, flags=flags)\n",
      "/usr/local/lib/python3.6/dist-packages/matplotlib/backends/backend_agg.py:214: RuntimeWarning: Glyph 44060 missing from current font.\n",
      "  font.set_text(s, 0.0, flags=flags)\n",
      "/usr/local/lib/python3.6/dist-packages/matplotlib/backends/backend_agg.py:214: RuntimeWarning: Glyph 50864 missing from current font.\n",
      "  font.set_text(s, 0.0, flags=flags)\n",
      "/usr/local/lib/python3.6/dist-packages/matplotlib/backends/backend_agg.py:214: RuntimeWarning: Glyph 51452 missing from current font.\n",
      "  font.set_text(s, 0.0, flags=flags)\n",
      "/usr/local/lib/python3.6/dist-packages/matplotlib/backends/backend_agg.py:214: RuntimeWarning: Glyph 54637 missing from current font.\n",
      "  font.set_text(s, 0.0, flags=flags)\n",
      "/usr/local/lib/python3.6/dist-packages/matplotlib/backends/backend_agg.py:214: RuntimeWarning: Glyph 50672 missing from current font.\n",
      "  font.set_text(s, 0.0, flags=flags)\n",
      "/usr/local/lib/python3.6/dist-packages/matplotlib/backends/backend_agg.py:214: RuntimeWarning: Glyph 48156 missing from current font.\n",
      "  font.set_text(s, 0.0, flags=flags)\n",
      "/usr/local/lib/python3.6/dist-packages/matplotlib/backends/backend_agg.py:214: RuntimeWarning: Glyph 44592 missing from current font.\n",
      "  font.set_text(s, 0.0, flags=flags)\n",
      "/usr/local/lib/python3.6/dist-packages/matplotlib/backends/backend_agg.py:214: RuntimeWarning: Glyph 45804 missing from current font.\n",
      "  font.set_text(s, 0.0, flags=flags)\n",
      "/usr/local/lib/python3.6/dist-packages/matplotlib/backends/backend_agg.py:214: RuntimeWarning: Glyph 48176 missing from current font.\n",
      "  font.set_text(s, 0.0, flags=flags)\n",
      "/usr/local/lib/python3.6/dist-packages/matplotlib/backends/backend_agg.py:214: RuntimeWarning: Glyph 51648 missing from current font.\n",
      "  font.set_text(s, 0.0, flags=flags)\n",
      "/usr/local/lib/python3.6/dist-packages/matplotlib/backends/backend_agg.py:214: RuntimeWarning: Glyph 45212 missing from current font.\n",
      "  font.set_text(s, 0.0, flags=flags)\n",
      "/usr/local/lib/python3.6/dist-packages/matplotlib/backends/backend_agg.py:214: RuntimeWarning: Glyph 45236 missing from current font.\n",
      "  font.set_text(s, 0.0, flags=flags)\n",
      "/usr/local/lib/python3.6/dist-packages/matplotlib/backends/backend_agg.py:214: RuntimeWarning: Glyph 47932 missing from current font.\n",
      "  font.set_text(s, 0.0, flags=flags)\n",
      "/usr/local/lib/python3.6/dist-packages/matplotlib/backends/backend_agg.py:214: RuntimeWarning: Glyph 51656 missing from current font.\n",
      "  font.set_text(s, 0.0, flags=flags)\n",
      "/usr/local/lib/python3.6/dist-packages/matplotlib/backends/backend_agg.py:214: RuntimeWarning: Glyph 47561 missing from current font.\n",
      "  font.set_text(s, 0.0, flags=flags)\n",
      "/usr/local/lib/python3.6/dist-packages/matplotlib/backends/backend_agg.py:214: RuntimeWarning: Glyph 52897 missing from current font.\n",
      "  font.set_text(s, 0.0, flags=flags)\n",
      "/usr/local/lib/python3.6/dist-packages/matplotlib/backends/backend_agg.py:214: RuntimeWarning: Glyph 49808 missing from current font.\n",
      "  font.set_text(s, 0.0, flags=flags)\n",
      "/usr/local/lib/python3.6/dist-packages/matplotlib/backends/backend_agg.py:214: RuntimeWarning: Glyph 54693 missing from current font.\n",
      "  font.set_text(s, 0.0, flags=flags)\n",
      "/usr/local/lib/python3.6/dist-packages/matplotlib/backends/backend_agg.py:214: RuntimeWarning: Glyph 51060 missing from current font.\n",
      "  font.set_text(s, 0.0, flags=flags)\n",
      "/usr/local/lib/python3.6/dist-packages/matplotlib/backends/backend_agg.py:214: RuntimeWarning: Glyph 44144 missing from current font.\n",
      "  font.set_text(s, 0.0, flags=flags)\n",
      "/usr/local/lib/python3.6/dist-packages/matplotlib/backends/backend_agg.py:214: RuntimeWarning: Glyph 47532 missing from current font.\n",
      "  font.set_text(s, 0.0, flags=flags)\n",
      "/usr/local/lib/python3.6/dist-packages/matplotlib/backends/backend_agg.py:214: RuntimeWarning: Glyph 53468 missing from current font.\n",
      "  font.set_text(s, 0.0, flags=flags)\n",
      "/usr/local/lib/python3.6/dist-packages/matplotlib/backends/backend_agg.py:214: RuntimeWarning: Glyph 50577 missing from current font.\n",
      "  font.set_text(s, 0.0, flags=flags)\n",
      "/usr/local/lib/python3.6/dist-packages/matplotlib/backends/backend_agg.py:214: RuntimeWarning: Glyph 44228 missing from current font.\n",
      "  font.set_text(s, 0.0, flags=flags)\n",
      "/usr/local/lib/python3.6/dist-packages/matplotlib/backends/backend_agg.py:183: RuntimeWarning: Glyph 51068 missing from current font.\n",
      "  font.set_text(s, 0, flags=flags)\n",
      "/usr/local/lib/python3.6/dist-packages/matplotlib/backends/backend_agg.py:183: RuntimeWarning: Glyph 48376 missing from current font.\n",
      "  font.set_text(s, 0, flags=flags)\n",
      "/usr/local/lib/python3.6/dist-packages/matplotlib/backends/backend_agg.py:183: RuntimeWarning: Glyph 49548 missing from current font.\n",
      "  font.set_text(s, 0, flags=flags)\n",
      "/usr/local/lib/python3.6/dist-packages/matplotlib/backends/backend_agg.py:183: RuntimeWarning: Glyph 54665 missing from current font.\n",
      "  font.set_text(s, 0, flags=flags)\n",
      "/usr/local/lib/python3.6/dist-packages/matplotlib/backends/backend_agg.py:183: RuntimeWarning: Glyph 49457 missing from current font.\n",
      "  font.set_text(s, 0, flags=flags)\n",
      "/usr/local/lib/python3.6/dist-packages/matplotlib/backends/backend_agg.py:183: RuntimeWarning: Glyph 53456 missing from current font.\n",
      "  font.set_text(s, 0, flags=flags)\n",
      "/usr/local/lib/python3.6/dist-packages/matplotlib/backends/backend_agg.py:183: RuntimeWarning: Glyph 49324 missing from current font.\n",
      "  font.set_text(s, 0, flags=flags)\n",
      "/usr/local/lib/python3.6/dist-packages/matplotlib/backends/backend_agg.py:183: RuntimeWarning: Glyph 49440 missing from current font.\n",
      "  font.set_text(s, 0, flags=flags)\n",
      "/usr/local/lib/python3.6/dist-packages/matplotlib/backends/backend_agg.py:183: RuntimeWarning: Glyph 54616 missing from current font.\n",
      "  font.set_text(s, 0, flags=flags)\n",
      "/usr/local/lib/python3.6/dist-packages/matplotlib/backends/backend_agg.py:183: RuntimeWarning: Glyph 50556 missing from current font.\n",
      "  font.set_text(s, 0, flags=flags)\n",
      "/usr/local/lib/python3.6/dist-packages/matplotlib/backends/backend_agg.py:183: RuntimeWarning: Glyph 48512 missing from current font.\n",
      "  font.set_text(s, 0, flags=flags)\n",
      "/usr/local/lib/python3.6/dist-packages/matplotlib/backends/backend_agg.py:183: RuntimeWarning: Glyph 54840 missing from current font.\n",
      "  font.set_text(s, 0, flags=flags)\n",
      "/usr/local/lib/python3.6/dist-packages/matplotlib/backends/backend_agg.py:183: RuntimeWarning: Glyph 44032 missing from current font.\n",
      "  font.set_text(s, 0, flags=flags)\n",
      "/usr/local/lib/python3.6/dist-packages/matplotlib/backends/backend_agg.py:183: RuntimeWarning: Glyph 47448 missing from current font.\n",
      "  font.set_text(s, 0, flags=flags)\n",
      "/usr/local/lib/python3.6/dist-packages/matplotlib/backends/backend_agg.py:183: RuntimeWarning: Glyph 44396 missing from current font.\n",
      "  font.set_text(s, 0, flags=flags)\n",
      "/usr/local/lib/python3.6/dist-packages/matplotlib/backends/backend_agg.py:183: RuntimeWarning: Glyph 52292 missing from current font.\n",
      "  font.set_text(s, 0, flags=flags)\n",
      "/usr/local/lib/python3.6/dist-packages/matplotlib/backends/backend_agg.py:183: RuntimeWarning: Glyph 52712 missing from current font.\n",
      "  font.set_text(s, 0, flags=flags)\n",
      "/usr/local/lib/python3.6/dist-packages/matplotlib/backends/backend_agg.py:183: RuntimeWarning: Glyph 54364 missing from current font.\n",
      "  font.set_text(s, 0, flags=flags)\n",
      "/usr/local/lib/python3.6/dist-packages/matplotlib/backends/backend_agg.py:183: RuntimeWarning: Glyph 51032 missing from current font.\n",
      "  font.set_text(s, 0, flags=flags)\n",
      "/usr/local/lib/python3.6/dist-packages/matplotlib/backends/backend_agg.py:183: RuntimeWarning: Glyph 44277 missing from current font.\n",
      "  font.set_text(s, 0, flags=flags)\n",
      "/usr/local/lib/python3.6/dist-packages/matplotlib/backends/backend_agg.py:183: RuntimeWarning: Glyph 44060 missing from current font.\n",
      "  font.set_text(s, 0, flags=flags)\n",
      "/usr/local/lib/python3.6/dist-packages/matplotlib/backends/backend_agg.py:183: RuntimeWarning: Glyph 50864 missing from current font.\n",
      "  font.set_text(s, 0, flags=flags)\n",
      "/usr/local/lib/python3.6/dist-packages/matplotlib/backends/backend_agg.py:183: RuntimeWarning: Glyph 51452 missing from current font.\n",
      "  font.set_text(s, 0, flags=flags)\n",
      "/usr/local/lib/python3.6/dist-packages/matplotlib/backends/backend_agg.py:183: RuntimeWarning: Glyph 54637 missing from current font.\n",
      "  font.set_text(s, 0, flags=flags)\n",
      "/usr/local/lib/python3.6/dist-packages/matplotlib/backends/backend_agg.py:183: RuntimeWarning: Glyph 50672 missing from current font.\n",
      "  font.set_text(s, 0, flags=flags)\n",
      "/usr/local/lib/python3.6/dist-packages/matplotlib/backends/backend_agg.py:183: RuntimeWarning: Glyph 48156 missing from current font.\n",
      "  font.set_text(s, 0, flags=flags)\n",
      "/usr/local/lib/python3.6/dist-packages/matplotlib/backends/backend_agg.py:183: RuntimeWarning: Glyph 44592 missing from current font.\n",
      "  font.set_text(s, 0, flags=flags)\n",
      "/usr/local/lib/python3.6/dist-packages/matplotlib/backends/backend_agg.py:183: RuntimeWarning: Glyph 45804 missing from current font.\n",
      "  font.set_text(s, 0, flags=flags)\n",
      "/usr/local/lib/python3.6/dist-packages/matplotlib/backends/backend_agg.py:183: RuntimeWarning: Glyph 48176 missing from current font.\n",
      "  font.set_text(s, 0, flags=flags)\n",
      "/usr/local/lib/python3.6/dist-packages/matplotlib/backends/backend_agg.py:183: RuntimeWarning: Glyph 51648 missing from current font.\n",
      "  font.set_text(s, 0, flags=flags)\n",
      "/usr/local/lib/python3.6/dist-packages/matplotlib/backends/backend_agg.py:183: RuntimeWarning: Glyph 45212 missing from current font.\n",
      "  font.set_text(s, 0, flags=flags)\n",
      "/usr/local/lib/python3.6/dist-packages/matplotlib/backends/backend_agg.py:183: RuntimeWarning: Glyph 45236 missing from current font.\n",
      "  font.set_text(s, 0, flags=flags)\n",
      "/usr/local/lib/python3.6/dist-packages/matplotlib/backends/backend_agg.py:183: RuntimeWarning: Glyph 47932 missing from current font.\n",
      "  font.set_text(s, 0, flags=flags)\n",
      "/usr/local/lib/python3.6/dist-packages/matplotlib/backends/backend_agg.py:183: RuntimeWarning: Glyph 51656 missing from current font.\n",
      "  font.set_text(s, 0, flags=flags)\n",
      "/usr/local/lib/python3.6/dist-packages/matplotlib/backends/backend_agg.py:183: RuntimeWarning: Glyph 47561 missing from current font.\n",
      "  font.set_text(s, 0, flags=flags)\n",
      "/usr/local/lib/python3.6/dist-packages/matplotlib/backends/backend_agg.py:183: RuntimeWarning: Glyph 52897 missing from current font.\n",
      "  font.set_text(s, 0, flags=flags)\n",
      "/usr/local/lib/python3.6/dist-packages/matplotlib/backends/backend_agg.py:183: RuntimeWarning: Glyph 49808 missing from current font.\n",
      "  font.set_text(s, 0, flags=flags)\n",
      "/usr/local/lib/python3.6/dist-packages/matplotlib/backends/backend_agg.py:183: RuntimeWarning: Glyph 54693 missing from current font.\n",
      "  font.set_text(s, 0, flags=flags)\n",
      "/usr/local/lib/python3.6/dist-packages/matplotlib/backends/backend_agg.py:183: RuntimeWarning: Glyph 51060 missing from current font.\n",
      "  font.set_text(s, 0, flags=flags)\n",
      "/usr/local/lib/python3.6/dist-packages/matplotlib/backends/backend_agg.py:183: RuntimeWarning: Glyph 44144 missing from current font.\n",
      "  font.set_text(s, 0, flags=flags)\n",
      "/usr/local/lib/python3.6/dist-packages/matplotlib/backends/backend_agg.py:183: RuntimeWarning: Glyph 47532 missing from current font.\n",
      "  font.set_text(s, 0, flags=flags)\n",
      "/usr/local/lib/python3.6/dist-packages/matplotlib/backends/backend_agg.py:183: RuntimeWarning: Glyph 53468 missing from current font.\n",
      "  font.set_text(s, 0, flags=flags)\n",
      "/usr/local/lib/python3.6/dist-packages/matplotlib/backends/backend_agg.py:183: RuntimeWarning: Glyph 50577 missing from current font.\n",
      "  font.set_text(s, 0, flags=flags)\n",
      "/usr/local/lib/python3.6/dist-packages/matplotlib/backends/backend_agg.py:183: RuntimeWarning: Glyph 44228 missing from current font.\n",
      "  font.set_text(s, 0, flags=flags)\n"
     ]
    },
    {
     "data": {
      "image/png": "[encoded data removed]",
      "text/plain": [
       "<Figure size 1440x1080 with 1 Axes>"
      ]
     },
     "metadata": {
      "needs_background": "light",
      "tags": []
     },
     "output_type": "display_data"
    }
   ],
   "source": [
    "# plt.rc('font', family='NanumBarunGothic')\r\n",
    "\r\n",
    "plt.rcParams[\"font.size\"] = 20\r\n",
    "plt.rcParams[\"figure.figsize\"] = (20,15)\r\n",
    "plt.scatter(result[:, 0], result[:, 1])\r\n",
    "words = list(model.wv.vocab)\r\n",
    "for i, word in enumerate(words):\r\n",
    "\tplt.annotate(word, xy=(result[i, 0], result[i, 1]))\r\n",
    "\r\n",
    "# 그래프에서 마이너스 폰트 깨지는 문제에 대한 대처\r\n",
    "mpl.rcParams['axes.unicode_minus'] = False\r\n",
    "\r\n",
    "plt.show()"
   ]
  },
  {
   "cell_type": "markdown",
   "metadata": {
    "id": "P3phlR_81tOB"
   },
   "source": [
    "# 실습\r\n",
    "- 주어+동사를 이용한 형태소 분석을 실행해보고 결과를 확인해봅니다"
   ]
  },
  {
   "cell_type": "markdown",
   "metadata": {
    "id": "1SWIxaa4waes"
   },
   "source": [
    "### 형태소 분석(주어+동사)"
   ]
  },
  {
   "cell_type": "code",
   "execution_count": 58,
   "metadata": {
    "id": "LL7Tri-fv8qw"
   },
   "outputs": [],
   "source": [
    "news_token_pos = []"
   ]
  },
  {
   "cell_type": "code",
   "execution_count": 59,
   "metadata": {
    "id": "Kv93FBpVwK_2"
   },
   "outputs": [],
   "source": [
    "for news in news_list:\r\n",
    "    news_token_pos.append(okt.pos (news))"
   ]
  },
  {
   "cell_type": "code",
   "execution_count": 60,
   "metadata": {
    "colab": {
     "base_uri": "https://localhost:8080/"
    },
    "id": "efWEr8PYwVuJ",
    "outputId": "ff9fe4fc-52f8-48cd-d6ab-5a0cdff436a4"
   },
   "outputs": [
    {
     "data": {
      "text/plain": [
       "[[('일본', 'Noun'),\n",
       "  ('의', 'Josa'),\n",
       "  ('소행성', 'Noun'),\n",
       "  ('탐사선', 'Noun'),\n",
       "  ('하야부사', 'Noun'),\n",
       "  ('2', 'Number'),\n",
       "  ('호가', 'Noun'),\n",
       "  ('소행성', 'Noun'),\n",
       "  ('‘', 'Foreign'),\n",
       "  ('류구', 'Noun'),\n",
       "  ('’', 'Punctuation'),\n",
       "  ('에서', 'Josa'),\n",
       "  ('채취', 'Noun'),\n",
       "  ('한', 'Josa'),\n",
       "  ('표본', 'Noun'),\n",
       "  ('(', 'Punctuation'),\n",
       "  ('흙', 'Noun'),\n",
       "  (')', 'Punctuation'),\n",
       "  ('의', 'Noun'),\n",
       "  ('새로운', 'Adjective'),\n",
       "  ('사진', 'Noun'),\n",
       "  ('이', 'Josa'),\n",
       "  ('공개', 'Noun'),\n",
       "  ('됐다', 'Verb'),\n",
       "  ('.', 'Punctuation'),\n",
       "  ('최근', 'Noun'),\n",
       "  ('일본', 'Noun'),\n",
       "  ('우주', 'Noun'),\n",
       "  ('항공', 'Noun'),\n",
       "  ('연구개발', 'Noun'),\n",
       "  ('기구', 'Noun'),\n",
       "  ('(', 'Punctuation'),\n",
       "  ('JAXA', 'Alpha'),\n",
       "  (')', 'Punctuation'),\n",
       "  ('는', 'Verb'),\n",
       "  ('최대', 'Noun'),\n",
       "  ('1', 'Number'),\n",
       "  ('cm', 'Alpha'),\n",
       "  ('에', 'Josa'),\n",
       "  ('달', 'Noun'),\n",
       "  ('하는', 'Verb'),\n",
       "  ('검은', 'Adjective'),\n",
       "  ('표본', 'Noun'),\n",
       "  ('을', 'Josa'),\n",
       "  ('포함', 'Noun'),\n",
       "  ('지금', 'Noun'),\n",
       "  ('까지', 'Josa'),\n",
       "  ('1', 'Number'),\n",
       "  ('mm', 'Alpha'),\n",
       "  ('이상', 'Noun'),\n",
       "  ('의', 'Josa'),\n",
       "  ('검은', 'Adjective'),\n",
       "  ('입자', 'Noun'),\n",
       "  ('가', 'Josa'),\n",
       "  ('다수', 'Noun'),\n",
       "  ('발견', 'Noun'),\n",
       "  ('됐다고', 'Verb'),\n",
       "  ('밝혔다', 'Verb'),\n",
       "  ('.', 'Punctuation'),\n",
       "  ('하야부사', 'Noun'),\n",
       "  ('2', 'Number'),\n",
       "  ('호가', 'Noun'),\n",
       "  ('류구', 'Noun'),\n",
       "  ('에서', 'Josa'),\n",
       "  ('가져온', 'Verb'),\n",
       "  ('표본', 'Noun'),\n",
       "  ('은', 'Josa'),\n",
       "  ('총', 'Noun'),\n",
       "  ('5.4', 'Number'),\n",
       "  ('g', 'Alpha'),\n",
       "  ('정도', 'Noun'),\n",
       "  ('로', 'Josa'),\n",
       "  ('이는', 'Verb'),\n",
       "  ('목표', 'Noun'),\n",
       "  ('치의', 'Noun'),\n",
       "  ('50', 'Number'),\n",
       "  ('배', 'Noun'),\n",
       "  ('가', 'Josa'),\n",
       "  ('넘는다', 'Verb'),\n",
       "  ('.', 'Punctuation')],\n",
       " [('지난', 'Noun'),\n",
       "  ('24일', 'Number'),\n",
       "  ('JAXA', 'Alpha'),\n",
       "  ('가', 'Verb'),\n",
       "  ('공개', 'Noun'),\n",
       "  ('한', 'Josa'),\n",
       "  ('류구', 'Noun'),\n",
       "  ('의', 'Josa'),\n",
       "  ('표본', 'Noun'),\n",
       "  ('을', 'Josa'),\n",
       "  ('보면', 'Verb'),\n",
       "  ('마치', 'Noun'),\n",
       "  ('숯', 'Noun'),\n",
       "  ('덩이', 'Noun'),\n",
       "  ('로', 'Josa'),\n",
       "  ('가득', 'Noun'),\n",
       "  ('차', 'Noun'),\n",
       "  ('있는듯', 'Adjective'),\n",
       "  ('보이는데', 'Verb'),\n",
       "  ('이는', 'Verb'),\n",
       "  ('광학현미경', 'Noun'),\n",
       "  ('으로', 'Josa'),\n",
       "  ('촬영', 'Noun'),\n",
       "  ('됐기', 'Verb'),\n",
       "  ('때문', 'Noun'),\n",
       "  ('이다', 'Josa'),\n",
       "  ('.', 'Punctuation')],\n",
       " [('우리말', 'Noun'),\n",
       "  ('로', 'Josa'),\n",
       "  ('‘', 'Foreign'),\n",
       "  ('송골매', 'Noun'),\n",
       "  ('’', 'Punctuation'),\n",
       "  ('라는', 'Josa'),\n",
       "  ('뜻', 'Noun'),\n",
       "  ('을', 'Josa'),\n",
       "  ('가진', 'Verb'),\n",
       "  ('하야부사', 'Noun'),\n",
       "  ('2', 'Number'),\n",
       "  ('호', 'Noun'),\n",
       "  ('는', 'Josa'),\n",
       "  ('세계', 'Noun'),\n",
       "  ('처음', 'Noun'),\n",
       "  ('으로', 'Josa'),\n",
       "  ('소행성', 'Noun'),\n",
       "  ('‘', 'Foreign'),\n",
       "  ('이', 'Determiner'),\n",
       "  ('토카', 'Noun'),\n",
       "  ('와', 'Josa'),\n",
       "  ('’', 'Punctuation'),\n",
       "  ('의', 'Noun'),\n",
       "  ('미립', 'Noun'),\n",
       "  ('자', 'Suffix'),\n",
       "  ('를', 'Josa'),\n",
       "  ('가져온', 'Verb'),\n",
       "  ('하야부사', 'Noun'),\n",
       "  ('의', 'Josa'),\n",
       "  ('문제점', 'Noun'),\n",
       "  ('을', 'Josa'),\n",
       "  ('보완', 'Noun'),\n",
       "  (',', 'Punctuation'),\n",
       "  ('개발', 'Noun'),\n",
       "  ('해', 'Verb'),\n",
       "  ('지난', 'Noun'),\n",
       "  ('2014년', 'Number'),\n",
       "  ('12월', 'Number'),\n",
       "  ('발사', 'Noun'),\n",
       "  ('됐다', 'Verb'),\n",
       "  ('.', 'Punctuation'),\n",
       "  ('이후', 'Noun'),\n",
       "  ('하야부사', 'Noun'),\n",
       "  ('2', 'Number'),\n",
       "  ('호', 'Noun'),\n",
       "  ('는', 'Josa'),\n",
       "  ('지난해', 'Noun'),\n",
       "  ('7월', 'Number'),\n",
       "  ('지구', 'Noun'),\n",
       "  ('에서', 'Josa'),\n",
       "  ('약', 'Noun'),\n",
       "  ('3억', 'Number'),\n",
       "  ('4000만', 'Number'),\n",
       "  ('㎞', 'Foreign'),\n",
       "  ('떨어진', 'Verb'),\n",
       "  ('소행성', 'Noun'),\n",
       "  ('류구', 'Noun'),\n",
       "  ('에', 'Josa'),\n",
       "  ('접근', 'Noun'),\n",
       "  ('해', 'Verb'),\n",
       "  ('금속', 'Noun'),\n",
       "  ('탄환', 'Noun'),\n",
       "  ('으로', 'Josa'),\n",
       "  ('웅덩이', 'Noun'),\n",
       "  ('를', 'Josa'),\n",
       "  ('만든', 'Verb'),\n",
       "  ('뒤', 'Noun'),\n",
       "  ('내부', 'Noun'),\n",
       "  ('물질', 'Noun'),\n",
       "  ('을', 'Josa'),\n",
       "  ('채취', 'Noun'),\n",
       "  ('하는', 'Verb'),\n",
       "  ('데', 'Noun'),\n",
       "  ('성공했다', 'Adjective'),\n",
       "  ('.', 'Punctuation')],\n",
       " [('일본', 'Noun'),\n",
       "  ('우주', 'Noun'),\n",
       "  ('항공', 'Noun'),\n",
       "  ('연구개발', 'Noun'),\n",
       "  ('기구', 'Noun'),\n",
       "  ('(', 'Punctuation'),\n",
       "  ('JAXA', 'Alpha'),\n",
       "  (')', 'Punctuation'),\n",
       "  ('요원', 'Noun'),\n",
       "  ('이', 'Josa'),\n",
       "  ('6일', 'Number'),\n",
       "  ('호주', 'Noun'),\n",
       "  ('사우스', 'Noun'),\n",
       "  ('오스트레일리아', 'Noun'),\n",
       "  ('주', 'Noun'),\n",
       "  ('우메', 'Noun'),\n",
       "  ('라', 'Josa'),\n",
       "  ('사막', 'Noun'),\n",
       "  ('지대', 'Noun'),\n",
       "  ('에', 'Josa'),\n",
       "  ('떨어진', 'Verb'),\n",
       "  ('소행성', 'Noun'),\n",
       "  ('류구', 'Noun'),\n",
       "  ('의', 'Josa'),\n",
       "  ('내부', 'Noun'),\n",
       "  ('물질', 'Noun'),\n",
       "  ('을', 'Josa'),\n",
       "  ('담은', 'Verb'),\n",
       "  ('캡슐', 'Noun'),\n",
       "  ('을', 'Josa'),\n",
       "  ('회수', 'Noun'),\n",
       "  ('해', 'Verb'),\n",
       "  ('옮기고', 'Verb'),\n",
       "  ('있다', 'Adjective'),\n",
       "  ('.', 'Punctuation'),\n",
       "  ('JAXA', 'Alpha'),\n",
       "  ('제공', 'Noun'),\n",
       "  ('AP', 'Alpha'),\n",
       "  ('연합뉴스', 'Noun')],\n",
       " [('같은', 'Adjective'),\n",
       "  ('해', 'Noun'),\n",
       "  ('11월', 'Number'),\n",
       "  ('류구', 'Noun'),\n",
       "  ('를', 'Josa'),\n",
       "  ('출발', 'Noun'),\n",
       "  ('해', 'Verb'),\n",
       "  ('다시', 'Noun'),\n",
       "  ('지구', 'Noun'),\n",
       "  ('로', 'Josa'),\n",
       "  ('향', 'Noun'),\n",
       "  ('한', 'Josa'),\n",
       "  ('하야부사', 'Noun'),\n",
       "  ('2', 'Number'),\n",
       "  ('호', 'Noun'),\n",
       "  ('는', 'Josa'),\n",
       "  ('지난', 'Noun'),\n",
       "  ('5일', 'Number'),\n",
       "  ('채취', 'Noun'),\n",
       "  ('한', 'Josa'),\n",
       "  ('표본', 'Noun'),\n",
       "  ('이', 'Josa'),\n",
       "  ('담긴', 'Verb'),\n",
       "  ('캡슐', 'Noun'),\n",
       "  ('을', 'Josa'),\n",
       "  ('분리', 'Noun'),\n",
       "  ('해', 'Verb'),\n",
       "  ('호주', 'Noun'),\n",
       "  ('서부', 'Noun'),\n",
       "  ('사막', 'Noun'),\n",
       "  ('에', 'Josa'),\n",
       "  ('떨어뜨리고', 'Verb'),\n",
       "  ('새', 'Noun'),\n",
       "  ('탐사', 'Noun'),\n",
       "  ('지인', 'Noun'),\n",
       "  ('지구', 'Noun'),\n",
       "  ('와', 'Josa'),\n",
       "  ('화성', 'Noun'),\n",
       "  ('사이', 'Noun'),\n",
       "  ('를', 'Josa'),\n",
       "  ('도', 'Noun'),\n",
       "  ('는', 'Josa'),\n",
       "  ('소행성', 'Noun'),\n",
       "  (\"'\", 'Punctuation'),\n",
       "  ('1998', 'Number'),\n",
       "  ('KY', 'Alpha'),\n",
       "  ('26', 'Number'),\n",
       "  (\"'\", 'Punctuation'),\n",
       "  ('으로', 'Josa'),\n",
       "  ('향', 'Noun'),\n",
       "  ('했다', 'Verb'),\n",
       "  ('.', 'Punctuation')],\n",
       " [('하야부사', 'Noun'),\n",
       "  ('2', 'Number'),\n",
       "  ('호가', 'Noun'),\n",
       "  ('6년', 'Number'),\n",
       "  ('동안', 'Noun'),\n",
       "  ('비행', 'Noun'),\n",
       "  ('한', 'Josa'),\n",
       "  ('거리', 'Noun'),\n",
       "  ('는', 'Josa'),\n",
       "  ('52억', 'Number'),\n",
       "  ('㎞', 'Foreign'),\n",
       "  ('로', 'Noun'),\n",
       "  ('이는', 'Verb'),\n",
       "  ('지구', 'Noun'),\n",
       "  ('와', 'Josa'),\n",
       "  ('달', 'Noun'),\n",
       "  ('사이', 'Noun'),\n",
       "  ('평균', 'Noun'),\n",
       "  ('거리', 'Noun'),\n",
       "  ('에', 'Josa'),\n",
       "  ('1만', 'Number'),\n",
       "  ('3500', 'Number'),\n",
       "  ('배', 'Noun'),\n",
       "  ('에', 'Josa'),\n",
       "  ('달', 'Noun'),\n",
       "  ('한', 'Josa'),\n",
       "  ('다', 'Adverb'),\n",
       "  ('.', 'Punctuation')],\n",
       " [('하야부사', 'Noun'),\n",
       "  ('2', 'Number'),\n",
       "  ('호가', 'Noun'),\n",
       "  ('탐사', 'Noun'),\n",
       "  ('한', 'Josa'),\n",
       "  ('류구', 'Noun'),\n",
       "  ('는', 'Josa'),\n",
       "  ('수많은', 'Adjective'),\n",
       "  ('바위', 'Noun'),\n",
       "  ('와', 'Josa'),\n",
       "  ('돌', 'Noun'),\n",
       "  ('로', 'Josa'),\n",
       "  ('가득한', 'Adjective'),\n",
       "  ('소행성', 'Noun'),\n",
       "  ('으로', 'Josa'),\n",
       "  ('지름', 'Noun'),\n",
       "  ('은', 'Josa'),\n",
       "  ('870', 'Number'),\n",
       "  ('m', 'Alpha'),\n",
       "  (',', 'Punctuation'),\n",
       "  ('공전주기', 'Noun'),\n",
       "  ('는', 'Josa'),\n",
       "  ('475일', 'Number'),\n",
       "  (',', 'Punctuation'),\n",
       "  ('자전주기', 'Noun'),\n",
       "  ('는', 'Josa'),\n",
       "  ('7.5시간', 'Number'),\n",
       "  ('이다', 'Foreign'),\n",
       "  ('.', 'Punctuation'),\n",
       "  ('특히', 'Adverb'),\n",
       "  ('태양계', 'Noun'),\n",
       "  ('형성', 'Noun'),\n",
       "  ('당시', 'Noun'),\n",
       "  ('의', 'Josa'),\n",
       "  ('물질', 'Noun'),\n",
       "  ('이', 'Josa'),\n",
       "  ('고스', 'Noun'),\n",
       "  ('란', 'Noun'),\n",
       "  ('히', 'Adverb'),\n",
       "  ('남아있을', 'Verb'),\n",
       "  ('것', 'Noun'),\n",
       "  ('으로', 'Josa'),\n",
       "  ('추정', 'Noun'),\n",
       "  ('돼', 'Verb'),\n",
       "  ('연', 'Modifier'),\n",
       "  ('구', 'Modifier'),\n",
       "  ('가치', 'Noun'),\n",
       "  ('가', 'Josa'),\n",
       "  ('매우', 'Noun'),\n",
       "  ('높다', 'Adjective'),\n",
       "  ('.', 'Punctuation'),\n",
       "  ('곧', 'Noun'),\n",
       "  ('이번', 'Noun'),\n",
       "  ('에', 'Josa'),\n",
       "  ('탐사선', 'Noun'),\n",
       "  ('이', 'Josa'),\n",
       "  ('가져온', 'Verb'),\n",
       "  ('표본', 'Noun'),\n",
       "  ('에는', 'Josa'),\n",
       "  ('태양계', 'Noun'),\n",
       "  ('와', 'Josa'),\n",
       "  ('지구', 'Noun'),\n",
       "  ('탄생', 'Noun'),\n",
       "  ('의', 'Josa'),\n",
       "  ('비밀', 'Noun'),\n",
       "  ('을', 'Josa'),\n",
       "  ('풀어줄', 'Verb'),\n",
       "  ('단서', 'Noun'),\n",
       "  ('가', 'Josa'),\n",
       "  ('담겨있을', 'Verb'),\n",
       "  ('수', 'Noun'),\n",
       "  ('있다', 'Adjective'),\n",
       "  ('.', 'Punctuation')]]"
      ]
     },
     "execution_count": 60,
     "metadata": {
      "tags": []
     },
     "output_type": "execute_result"
    }
   ],
   "source": [
    "news_token_pos"
   ]
  },
  {
   "cell_type": "code",
   "execution_count": 61,
   "metadata": {
    "id": "IF_lWsdgwWAh"
   },
   "outputs": [],
   "source": [
    "news_token_pos = []"
   ]
  },
  {
   "cell_type": "code",
   "execution_count": 62,
   "metadata": {
    "id": "v3RQ9c0fyx9Y"
   },
   "outputs": [],
   "source": [
    "def get_noun_and_verb(pos_token_list):\r\n",
    "    result = []\r\n",
    "    for (word, pos) in pos_token_list:\r\n",
    "        if pos == 'Noun' or pos == 'Verb':\r\n",
    "            result.append(word)\r\n",
    "            print('word :{}, pos:{}'.format(word, pos))\r\n",
    "    return result\r\n"
   ]
  },
  {
   "cell_type": "code",
   "execution_count": 63,
   "metadata": {
    "colab": {
     "base_uri": "https://localhost:8080/"
    },
    "id": "z_FJyfOvyr_h",
    "outputId": "03bf90d6-4604-4bfd-a8e4-9718508ad76a"
   },
   "outputs": [
    {
     "name": "stdout",
     "output_type": "stream",
     "text": [
      "word :일본, pos:Noun\n",
      "word :소행성, pos:Noun\n",
      "word :탐사선, pos:Noun\n",
      "word :하야부사, pos:Noun\n",
      "word :호가, pos:Noun\n",
      "word :소행성, pos:Noun\n",
      "word :류구, pos:Noun\n",
      "word :채취, pos:Noun\n",
      "word :표본, pos:Noun\n",
      "word :흙, pos:Noun\n",
      "word :의, pos:Noun\n",
      "word :사진, pos:Noun\n",
      "word :공개, pos:Noun\n",
      "word :됐다, pos:Verb\n",
      "word :최근, pos:Noun\n",
      "word :일본, pos:Noun\n",
      "word :우주, pos:Noun\n",
      "word :항공, pos:Noun\n",
      "word :연구개발, pos:Noun\n",
      "word :기구, pos:Noun\n",
      "word :는, pos:Verb\n",
      "word :최대, pos:Noun\n",
      "word :달, pos:Noun\n",
      "word :하는, pos:Verb\n",
      "word :표본, pos:Noun\n",
      "word :포함, pos:Noun\n",
      "word :지금, pos:Noun\n",
      "word :이상, pos:Noun\n",
      "word :입자, pos:Noun\n",
      "word :다수, pos:Noun\n",
      "word :발견, pos:Noun\n",
      "word :됐다고, pos:Verb\n",
      "word :밝혔다, pos:Verb\n",
      "word :하야부사, pos:Noun\n",
      "word :호가, pos:Noun\n",
      "word :류구, pos:Noun\n",
      "word :가져온, pos:Verb\n",
      "word :표본, pos:Noun\n",
      "word :총, pos:Noun\n",
      "word :정도, pos:Noun\n",
      "word :이는, pos:Verb\n",
      "word :목표, pos:Noun\n",
      "word :치의, pos:Noun\n",
      "word :배, pos:Noun\n",
      "word :넘는다, pos:Verb\n",
      "word :지난, pos:Noun\n",
      "word :가, pos:Verb\n",
      "word :공개, pos:Noun\n",
      "word :류구, pos:Noun\n",
      "word :표본, pos:Noun\n",
      "word :보면, pos:Verb\n",
      "word :마치, pos:Noun\n",
      "word :숯, pos:Noun\n",
      "word :덩이, pos:Noun\n",
      "word :가득, pos:Noun\n",
      "word :차, pos:Noun\n",
      "word :보이는데, pos:Verb\n",
      "word :이는, pos:Verb\n",
      "word :광학현미경, pos:Noun\n",
      "word :촬영, pos:Noun\n",
      "word :됐기, pos:Verb\n",
      "word :때문, pos:Noun\n",
      "word :우리말, pos:Noun\n",
      "word :송골매, pos:Noun\n",
      "word :뜻, pos:Noun\n",
      "word :가진, pos:Verb\n",
      "word :하야부사, pos:Noun\n",
      "word :호, pos:Noun\n",
      "word :세계, pos:Noun\n",
      "word :처음, pos:Noun\n",
      "word :소행성, pos:Noun\n",
      "word :토카, pos:Noun\n",
      "word :의, pos:Noun\n",
      "word :미립, pos:Noun\n",
      "word :가져온, pos:Verb\n",
      "word :하야부사, pos:Noun\n",
      "word :문제점, pos:Noun\n",
      "word :보완, pos:Noun\n",
      "word :개발, pos:Noun\n",
      "word :해, pos:Verb\n",
      "word :지난, pos:Noun\n",
      "word :발사, pos:Noun\n",
      "word :됐다, pos:Verb\n",
      "word :이후, pos:Noun\n",
      "word :하야부사, pos:Noun\n",
      "word :호, pos:Noun\n",
      "word :지난해, pos:Noun\n",
      "word :지구, pos:Noun\n",
      "word :약, pos:Noun\n",
      "word :떨어진, pos:Verb\n",
      "word :소행성, pos:Noun\n",
      "word :류구, pos:Noun\n",
      "word :접근, pos:Noun\n",
      "word :해, pos:Verb\n",
      "word :금속, pos:Noun\n",
      "word :탄환, pos:Noun\n",
      "word :웅덩이, pos:Noun\n",
      "word :만든, pos:Verb\n",
      "word :뒤, pos:Noun\n",
      "word :내부, pos:Noun\n",
      "word :물질, pos:Noun\n",
      "word :채취, pos:Noun\n",
      "word :하는, pos:Verb\n",
      "word :데, pos:Noun\n",
      "word :일본, pos:Noun\n",
      "word :우주, pos:Noun\n",
      "word :항공, pos:Noun\n",
      "word :연구개발, pos:Noun\n",
      "word :기구, pos:Noun\n",
      "word :요원, pos:Noun\n",
      "word :호주, pos:Noun\n",
      "word :사우스, pos:Noun\n",
      "word :오스트레일리아, pos:Noun\n",
      "word :주, pos:Noun\n",
      "word :우메, pos:Noun\n",
      "word :사막, pos:Noun\n",
      "word :지대, pos:Noun\n",
      "word :떨어진, pos:Verb\n",
      "word :소행성, pos:Noun\n",
      "word :류구, pos:Noun\n",
      "word :내부, pos:Noun\n",
      "word :물질, pos:Noun\n",
      "word :담은, pos:Verb\n",
      "word :캡슐, pos:Noun\n",
      "word :회수, pos:Noun\n",
      "word :해, pos:Verb\n",
      "word :옮기고, pos:Verb\n",
      "word :제공, pos:Noun\n",
      "word :연합뉴스, pos:Noun\n",
      "word :해, pos:Noun\n",
      "word :류구, pos:Noun\n",
      "word :출발, pos:Noun\n",
      "word :해, pos:Verb\n",
      "word :다시, pos:Noun\n",
      "word :지구, pos:Noun\n",
      "word :향, pos:Noun\n",
      "word :하야부사, pos:Noun\n",
      "word :호, pos:Noun\n",
      "word :지난, pos:Noun\n",
      "word :채취, pos:Noun\n",
      "word :표본, pos:Noun\n",
      "word :담긴, pos:Verb\n",
      "word :캡슐, pos:Noun\n",
      "word :분리, pos:Noun\n",
      "word :해, pos:Verb\n",
      "word :호주, pos:Noun\n",
      "word :서부, pos:Noun\n",
      "word :사막, pos:Noun\n",
      "word :떨어뜨리고, pos:Verb\n",
      "word :새, pos:Noun\n",
      "word :탐사, pos:Noun\n",
      "word :지인, pos:Noun\n",
      "word :지구, pos:Noun\n",
      "word :화성, pos:Noun\n",
      "word :사이, pos:Noun\n",
      "word :도, pos:Noun\n",
      "word :소행성, pos:Noun\n",
      "word :향, pos:Noun\n",
      "word :했다, pos:Verb\n",
      "word :하야부사, pos:Noun\n",
      "word :호가, pos:Noun\n",
      "word :동안, pos:Noun\n",
      "word :비행, pos:Noun\n",
      "word :거리, pos:Noun\n",
      "word :로, pos:Noun\n",
      "word :이는, pos:Verb\n",
      "word :지구, pos:Noun\n",
      "word :달, pos:Noun\n",
      "word :사이, pos:Noun\n",
      "word :평균, pos:Noun\n",
      "word :거리, pos:Noun\n",
      "word :배, pos:Noun\n",
      "word :달, pos:Noun\n",
      "word :하야부사, pos:Noun\n",
      "word :호가, pos:Noun\n",
      "word :탐사, pos:Noun\n",
      "word :류구, pos:Noun\n",
      "word :바위, pos:Noun\n",
      "word :돌, pos:Noun\n",
      "word :소행성, pos:Noun\n",
      "word :지름, pos:Noun\n",
      "word :공전주기, pos:Noun\n",
      "word :자전주기, pos:Noun\n",
      "word :태양계, pos:Noun\n",
      "word :형성, pos:Noun\n",
      "word :당시, pos:Noun\n",
      "word :물질, pos:Noun\n",
      "word :고스, pos:Noun\n",
      "word :란, pos:Noun\n",
      "word :남아있을, pos:Verb\n",
      "word :것, pos:Noun\n",
      "word :추정, pos:Noun\n",
      "word :돼, pos:Verb\n",
      "word :가치, pos:Noun\n",
      "word :매우, pos:Noun\n",
      "word :곧, pos:Noun\n",
      "word :이번, pos:Noun\n",
      "word :탐사선, pos:Noun\n",
      "word :가져온, pos:Verb\n",
      "word :표본, pos:Noun\n",
      "word :태양계, pos:Noun\n",
      "word :지구, pos:Noun\n",
      "word :탄생, pos:Noun\n",
      "word :비밀, pos:Noun\n",
      "word :풀어줄, pos:Verb\n",
      "word :단서, pos:Noun\n",
      "word :담겨있을, pos:Verb\n",
      "word :수, pos:Noun\n"
     ]
    }
   ],
   "source": [
    "for news in news_list:\r\n",
    "    news_token_pos.append(get_noun_and_verb(okt.pos(news)))"
   ]
  },
  {
   "cell_type": "code",
   "execution_count": 64,
   "metadata": {
    "colab": {
     "base_uri": "https://localhost:8080/"
    },
    "id": "4QN7vvdczjsy",
    "outputId": "42a1048f-afcb-4a0d-d54a-92654f94a023"
   },
   "outputs": [
    {
     "data": {
      "text/plain": [
       "[['일본',\n",
       "  '소행성',\n",
       "  '탐사선',\n",
       "  '하야부사',\n",
       "  '호가',\n",
       "  '소행성',\n",
       "  '류구',\n",
       "  '채취',\n",
       "  '표본',\n",
       "  '흙',\n",
       "  '의',\n",
       "  '사진',\n",
       "  '공개',\n",
       "  '됐다',\n",
       "  '최근',\n",
       "  '일본',\n",
       "  '우주',\n",
       "  '항공',\n",
       "  '연구개발',\n",
       "  '기구',\n",
       "  '는',\n",
       "  '최대',\n",
       "  '달',\n",
       "  '하는',\n",
       "  '표본',\n",
       "  '포함',\n",
       "  '지금',\n",
       "  '이상',\n",
       "  '입자',\n",
       "  '다수',\n",
       "  '발견',\n",
       "  '됐다고',\n",
       "  '밝혔다',\n",
       "  '하야부사',\n",
       "  '호가',\n",
       "  '류구',\n",
       "  '가져온',\n",
       "  '표본',\n",
       "  '총',\n",
       "  '정도',\n",
       "  '이는',\n",
       "  '목표',\n",
       "  '치의',\n",
       "  '배',\n",
       "  '넘는다'],\n",
       " ['지난',\n",
       "  '가',\n",
       "  '공개',\n",
       "  '류구',\n",
       "  '표본',\n",
       "  '보면',\n",
       "  '마치',\n",
       "  '숯',\n",
       "  '덩이',\n",
       "  '가득',\n",
       "  '차',\n",
       "  '보이는데',\n",
       "  '이는',\n",
       "  '광학현미경',\n",
       "  '촬영',\n",
       "  '됐기',\n",
       "  '때문'],\n",
       " ['우리말',\n",
       "  '송골매',\n",
       "  '뜻',\n",
       "  '가진',\n",
       "  '하야부사',\n",
       "  '호',\n",
       "  '세계',\n",
       "  '처음',\n",
       "  '소행성',\n",
       "  '토카',\n",
       "  '의',\n",
       "  '미립',\n",
       "  '가져온',\n",
       "  '하야부사',\n",
       "  '문제점',\n",
       "  '보완',\n",
       "  '개발',\n",
       "  '해',\n",
       "  '지난',\n",
       "  '발사',\n",
       "  '됐다',\n",
       "  '이후',\n",
       "  '하야부사',\n",
       "  '호',\n",
       "  '지난해',\n",
       "  '지구',\n",
       "  '약',\n",
       "  '떨어진',\n",
       "  '소행성',\n",
       "  '류구',\n",
       "  '접근',\n",
       "  '해',\n",
       "  '금속',\n",
       "  '탄환',\n",
       "  '웅덩이',\n",
       "  '만든',\n",
       "  '뒤',\n",
       "  '내부',\n",
       "  '물질',\n",
       "  '채취',\n",
       "  '하는',\n",
       "  '데'],\n",
       " ['일본',\n",
       "  '우주',\n",
       "  '항공',\n",
       "  '연구개발',\n",
       "  '기구',\n",
       "  '요원',\n",
       "  '호주',\n",
       "  '사우스',\n",
       "  '오스트레일리아',\n",
       "  '주',\n",
       "  '우메',\n",
       "  '사막',\n",
       "  '지대',\n",
       "  '떨어진',\n",
       "  '소행성',\n",
       "  '류구',\n",
       "  '내부',\n",
       "  '물질',\n",
       "  '담은',\n",
       "  '캡슐',\n",
       "  '회수',\n",
       "  '해',\n",
       "  '옮기고',\n",
       "  '제공',\n",
       "  '연합뉴스'],\n",
       " ['해',\n",
       "  '류구',\n",
       "  '출발',\n",
       "  '해',\n",
       "  '다시',\n",
       "  '지구',\n",
       "  '향',\n",
       "  '하야부사',\n",
       "  '호',\n",
       "  '지난',\n",
       "  '채취',\n",
       "  '표본',\n",
       "  '담긴',\n",
       "  '캡슐',\n",
       "  '분리',\n",
       "  '해',\n",
       "  '호주',\n",
       "  '서부',\n",
       "  '사막',\n",
       "  '떨어뜨리고',\n",
       "  '새',\n",
       "  '탐사',\n",
       "  '지인',\n",
       "  '지구',\n",
       "  '화성',\n",
       "  '사이',\n",
       "  '도',\n",
       "  '소행성',\n",
       "  '향',\n",
       "  '했다'],\n",
       " ['하야부사',\n",
       "  '호가',\n",
       "  '동안',\n",
       "  '비행',\n",
       "  '거리',\n",
       "  '로',\n",
       "  '이는',\n",
       "  '지구',\n",
       "  '달',\n",
       "  '사이',\n",
       "  '평균',\n",
       "  '거리',\n",
       "  '배',\n",
       "  '달'],\n",
       " ['하야부사',\n",
       "  '호가',\n",
       "  '탐사',\n",
       "  '류구',\n",
       "  '바위',\n",
       "  '돌',\n",
       "  '소행성',\n",
       "  '지름',\n",
       "  '공전주기',\n",
       "  '자전주기',\n",
       "  '태양계',\n",
       "  '형성',\n",
       "  '당시',\n",
       "  '물질',\n",
       "  '고스',\n",
       "  '란',\n",
       "  '남아있을',\n",
       "  '것',\n",
       "  '추정',\n",
       "  '돼',\n",
       "  '가치',\n",
       "  '매우',\n",
       "  '곧',\n",
       "  '이번',\n",
       "  '탐사선',\n",
       "  '가져온',\n",
       "  '표본',\n",
       "  '태양계',\n",
       "  '지구',\n",
       "  '탄생',\n",
       "  '비밀',\n",
       "  '풀어줄',\n",
       "  '단서',\n",
       "  '담겨있을',\n",
       "  '수']]"
      ]
     },
     "execution_count": 64,
     "metadata": {
      "tags": []
     },
     "output_type": "execute_result"
    }
   ],
   "source": [
    "news_token_pos"
   ]
  },
  {
   "cell_type": "code",
   "execution_count": 65,
   "metadata": {
    "id": "uPDSwhJ7zpd0"
   },
   "outputs": [],
   "source": [
    "model_pos = Word2Vec(sentences = news_token_pos, size = 128, window = 5, min_count = 2)"
   ]
  },
  {
   "cell_type": "code",
   "execution_count": 66,
   "metadata": {
    "colab": {
     "base_uri": "https://localhost:8080/"
    },
    "id": "3G76sv7Xz4QL",
    "outputId": "9ba1ca3a-277c-4afd-c278-3e124a8bfa62"
   },
   "outputs": [
    {
     "name": "stdout",
     "output_type": "stream",
     "text": [
      "Word2Vec(vocab=35, size=128, alpha=0.025)\n"
     ]
    }
   ],
   "source": [
    "print(model_pos)"
   ]
  },
  {
   "cell_type": "code",
   "execution_count": 67,
   "metadata": {
    "colab": {
     "base_uri": "https://localhost:8080/"
    },
    "id": "vfjQk6kgz49P",
    "outputId": "ee1446f9-021b-4cb2-db04-fe204f7a2608"
   },
   "outputs": [
    {
     "data": {
      "text/plain": [
       "['하야부사',\n",
       " '소행성',\n",
       " '류구',\n",
       " '표본',\n",
       " '해',\n",
       " '지구',\n",
       " '호가',\n",
       " '일본',\n",
       " '채취',\n",
       " '달',\n",
       " '가져온',\n",
       " '이는',\n",
       " '지난',\n",
       " '호',\n",
       " '물질',\n",
       " '탐사선',\n",
       " '의',\n",
       " '공개',\n",
       " '됐다',\n",
       " '우주',\n",
       " '항공',\n",
       " '연구개발',\n",
       " '기구',\n",
       " '하는',\n",
       " '배',\n",
       " '떨어진',\n",
       " '내부',\n",
       " '호주',\n",
       " '사막',\n",
       " '캡슐',\n",
       " '향',\n",
       " '탐사',\n",
       " '사이',\n",
       " '거리',\n",
       " '태양계']"
      ]
     },
     "execution_count": 67,
     "metadata": {
      "tags": []
     },
     "output_type": "execute_result"
    }
   ],
   "source": [
    "model_pos.wv.index2word"
   ]
  },
  {
   "cell_type": "code",
   "execution_count": 68,
   "metadata": {
    "colab": {
     "base_uri": "https://localhost:8080/"
    },
    "id": "HPKGlF4y0Bv_",
    "outputId": "7569e2b8-32f0-4fb1-daab-be4c2f4a3432"
   },
   "outputs": [
    {
     "name": "stderr",
     "output_type": "stream",
     "text": [
      "/usr/local/lib/python3.6/dist-packages/ipykernel_launcher.py:3: DeprecationWarning: Call to deprecated `__getitem__` (Method will be removed in 4.0.0, use self.wv.__getitem__() instead).\n",
      "  This is separate from the ipykernel package so we can avoid doing imports until\n"
     ]
    }
   ],
   "source": [
    "from sklearn.decomposition import PCA\r\n",
    "pca = PCA(n_components=2)\r\n",
    "X = model_pos[model_pos.wv.vocab]\r\n",
    "result_pos = pca.fit_transform(X)"
   ]
  },
  {
   "cell_type": "code",
   "execution_count": 80,
   "metadata": {
    "colab": {
     "base_uri": "https://localhost:8080/",
     "height": 1000
    },
    "id": "RTLyrrK80Qz6",
    "outputId": "bb92388d-3d30-4fdc-82aa-d33da54b44cd"
   },
   "outputs": [
    {
     "name": "stderr",
     "output_type": "stream",
     "text": [
      "/usr/local/lib/python3.6/dist-packages/matplotlib/backends/backend_agg.py:214: RuntimeWarning: Glyph 51068 missing from current font.\n",
      "  font.set_text(s, 0.0, flags=flags)\n",
      "/usr/local/lib/python3.6/dist-packages/matplotlib/backends/backend_agg.py:214: RuntimeWarning: Glyph 48376 missing from current font.\n",
      "  font.set_text(s, 0.0, flags=flags)\n",
      "/usr/local/lib/python3.6/dist-packages/matplotlib/backends/backend_agg.py:214: RuntimeWarning: Glyph 49548 missing from current font.\n",
      "  font.set_text(s, 0.0, flags=flags)\n",
      "/usr/local/lib/python3.6/dist-packages/matplotlib/backends/backend_agg.py:214: RuntimeWarning: Glyph 54665 missing from current font.\n",
      "  font.set_text(s, 0.0, flags=flags)\n",
      "/usr/local/lib/python3.6/dist-packages/matplotlib/backends/backend_agg.py:214: RuntimeWarning: Glyph 49457 missing from current font.\n",
      "  font.set_text(s, 0.0, flags=flags)\n",
      "/usr/local/lib/python3.6/dist-packages/matplotlib/backends/backend_agg.py:214: RuntimeWarning: Glyph 53456 missing from current font.\n",
      "  font.set_text(s, 0.0, flags=flags)\n",
      "/usr/local/lib/python3.6/dist-packages/matplotlib/backends/backend_agg.py:214: RuntimeWarning: Glyph 49324 missing from current font.\n",
      "  font.set_text(s, 0.0, flags=flags)\n",
      "/usr/local/lib/python3.6/dist-packages/matplotlib/backends/backend_agg.py:214: RuntimeWarning: Glyph 49440 missing from current font.\n",
      "  font.set_text(s, 0.0, flags=flags)\n",
      "/usr/local/lib/python3.6/dist-packages/matplotlib/backends/backend_agg.py:214: RuntimeWarning: Glyph 54616 missing from current font.\n",
      "  font.set_text(s, 0.0, flags=flags)\n",
      "/usr/local/lib/python3.6/dist-packages/matplotlib/backends/backend_agg.py:214: RuntimeWarning: Glyph 50556 missing from current font.\n",
      "  font.set_text(s, 0.0, flags=flags)\n",
      "/usr/local/lib/python3.6/dist-packages/matplotlib/backends/backend_agg.py:214: RuntimeWarning: Glyph 48512 missing from current font.\n",
      "  font.set_text(s, 0.0, flags=flags)\n",
      "/usr/local/lib/python3.6/dist-packages/matplotlib/backends/backend_agg.py:214: RuntimeWarning: Glyph 54840 missing from current font.\n",
      "  font.set_text(s, 0.0, flags=flags)\n",
      "/usr/local/lib/python3.6/dist-packages/matplotlib/backends/backend_agg.py:214: RuntimeWarning: Glyph 44032 missing from current font.\n",
      "  font.set_text(s, 0.0, flags=flags)\n",
      "/usr/local/lib/python3.6/dist-packages/matplotlib/backends/backend_agg.py:214: RuntimeWarning: Glyph 47448 missing from current font.\n",
      "  font.set_text(s, 0.0, flags=flags)\n",
      "/usr/local/lib/python3.6/dist-packages/matplotlib/backends/backend_agg.py:214: RuntimeWarning: Glyph 44396 missing from current font.\n",
      "  font.set_text(s, 0.0, flags=flags)\n",
      "/usr/local/lib/python3.6/dist-packages/matplotlib/backends/backend_agg.py:214: RuntimeWarning: Glyph 52292 missing from current font.\n",
      "  font.set_text(s, 0.0, flags=flags)\n",
      "/usr/local/lib/python3.6/dist-packages/matplotlib/backends/backend_agg.py:214: RuntimeWarning: Glyph 52712 missing from current font.\n",
      "  font.set_text(s, 0.0, flags=flags)\n",
      "/usr/local/lib/python3.6/dist-packages/matplotlib/backends/backend_agg.py:214: RuntimeWarning: Glyph 54364 missing from current font.\n",
      "  font.set_text(s, 0.0, flags=flags)\n",
      "/usr/local/lib/python3.6/dist-packages/matplotlib/backends/backend_agg.py:214: RuntimeWarning: Glyph 51032 missing from current font.\n",
      "  font.set_text(s, 0.0, flags=flags)\n",
      "/usr/local/lib/python3.6/dist-packages/matplotlib/backends/backend_agg.py:214: RuntimeWarning: Glyph 44277 missing from current font.\n",
      "  font.set_text(s, 0.0, flags=flags)\n",
      "/usr/local/lib/python3.6/dist-packages/matplotlib/backends/backend_agg.py:214: RuntimeWarning: Glyph 44060 missing from current font.\n",
      "  font.set_text(s, 0.0, flags=flags)\n",
      "/usr/local/lib/python3.6/dist-packages/matplotlib/backends/backend_agg.py:214: RuntimeWarning: Glyph 46096 missing from current font.\n",
      "  font.set_text(s, 0.0, flags=flags)\n",
      "/usr/local/lib/python3.6/dist-packages/matplotlib/backends/backend_agg.py:214: RuntimeWarning: Glyph 45796 missing from current font.\n",
      "  font.set_text(s, 0.0, flags=flags)\n",
      "/usr/local/lib/python3.6/dist-packages/matplotlib/backends/backend_agg.py:214: RuntimeWarning: Glyph 50864 missing from current font.\n",
      "  font.set_text(s, 0.0, flags=flags)\n",
      "/usr/local/lib/python3.6/dist-packages/matplotlib/backends/backend_agg.py:214: RuntimeWarning: Glyph 51452 missing from current font.\n",
      "  font.set_text(s, 0.0, flags=flags)\n",
      "/usr/local/lib/python3.6/dist-packages/matplotlib/backends/backend_agg.py:214: RuntimeWarning: Glyph 54637 missing from current font.\n",
      "  font.set_text(s, 0.0, flags=flags)\n",
      "/usr/local/lib/python3.6/dist-packages/matplotlib/backends/backend_agg.py:214: RuntimeWarning: Glyph 50672 missing from current font.\n",
      "  font.set_text(s, 0.0, flags=flags)\n",
      "/usr/local/lib/python3.6/dist-packages/matplotlib/backends/backend_agg.py:214: RuntimeWarning: Glyph 48156 missing from current font.\n",
      "  font.set_text(s, 0.0, flags=flags)\n",
      "/usr/local/lib/python3.6/dist-packages/matplotlib/backends/backend_agg.py:214: RuntimeWarning: Glyph 44592 missing from current font.\n",
      "  font.set_text(s, 0.0, flags=flags)\n",
      "/usr/local/lib/python3.6/dist-packages/matplotlib/backends/backend_agg.py:214: RuntimeWarning: Glyph 45804 missing from current font.\n",
      "  font.set_text(s, 0.0, flags=flags)\n",
      "/usr/local/lib/python3.6/dist-packages/matplotlib/backends/backend_agg.py:214: RuntimeWarning: Glyph 45716 missing from current font.\n",
      "  font.set_text(s, 0.0, flags=flags)\n",
      "/usr/local/lib/python3.6/dist-packages/matplotlib/backends/backend_agg.py:214: RuntimeWarning: Glyph 51256 missing from current font.\n",
      "  font.set_text(s, 0.0, flags=flags)\n",
      "/usr/local/lib/python3.6/dist-packages/matplotlib/backends/backend_agg.py:214: RuntimeWarning: Glyph 50728 missing from current font.\n",
      "  font.set_text(s, 0.0, flags=flags)\n",
      "/usr/local/lib/python3.6/dist-packages/matplotlib/backends/backend_agg.py:214: RuntimeWarning: Glyph 51060 missing from current font.\n",
      "  font.set_text(s, 0.0, flags=flags)\n",
      "/usr/local/lib/python3.6/dist-packages/matplotlib/backends/backend_agg.py:214: RuntimeWarning: Glyph 48176 missing from current font.\n",
      "  font.set_text(s, 0.0, flags=flags)\n",
      "/usr/local/lib/python3.6/dist-packages/matplotlib/backends/backend_agg.py:214: RuntimeWarning: Glyph 51648 missing from current font.\n",
      "  font.set_text(s, 0.0, flags=flags)\n",
      "/usr/local/lib/python3.6/dist-packages/matplotlib/backends/backend_agg.py:214: RuntimeWarning: Glyph 45212 missing from current font.\n",
      "  font.set_text(s, 0.0, flags=flags)\n",
      "/usr/local/lib/python3.6/dist-packages/matplotlib/backends/backend_agg.py:214: RuntimeWarning: Glyph 54644 missing from current font.\n",
      "  font.set_text(s, 0.0, flags=flags)\n",
      "/usr/local/lib/python3.6/dist-packages/matplotlib/backends/backend_agg.py:214: RuntimeWarning: Glyph 46504 missing from current font.\n",
      "  font.set_text(s, 0.0, flags=flags)\n",
      "/usr/local/lib/python3.6/dist-packages/matplotlib/backends/backend_agg.py:214: RuntimeWarning: Glyph 50612 missing from current font.\n",
      "  font.set_text(s, 0.0, flags=flags)\n",
      "/usr/local/lib/python3.6/dist-packages/matplotlib/backends/backend_agg.py:214: RuntimeWarning: Glyph 51652 missing from current font.\n",
      "  font.set_text(s, 0.0, flags=flags)\n",
      "/usr/local/lib/python3.6/dist-packages/matplotlib/backends/backend_agg.py:214: RuntimeWarning: Glyph 45236 missing from current font.\n",
      "  font.set_text(s, 0.0, flags=flags)\n",
      "/usr/local/lib/python3.6/dist-packages/matplotlib/backends/backend_agg.py:214: RuntimeWarning: Glyph 47932 missing from current font.\n",
      "  font.set_text(s, 0.0, flags=flags)\n",
      "/usr/local/lib/python3.6/dist-packages/matplotlib/backends/backend_agg.py:214: RuntimeWarning: Glyph 51656 missing from current font.\n",
      "  font.set_text(s, 0.0, flags=flags)\n",
      "/usr/local/lib/python3.6/dist-packages/matplotlib/backends/backend_agg.py:214: RuntimeWarning: Glyph 47561 missing from current font.\n",
      "  font.set_text(s, 0.0, flags=flags)\n",
      "/usr/local/lib/python3.6/dist-packages/matplotlib/backends/backend_agg.py:214: RuntimeWarning: Glyph 52897 missing from current font.\n",
      "  font.set_text(s, 0.0, flags=flags)\n",
      "/usr/local/lib/python3.6/dist-packages/matplotlib/backends/backend_agg.py:214: RuntimeWarning: Glyph 49808 missing from current font.\n",
      "  font.set_text(s, 0.0, flags=flags)\n",
      "/usr/local/lib/python3.6/dist-packages/matplotlib/backends/backend_agg.py:214: RuntimeWarning: Glyph 54693 missing from current font.\n",
      "  font.set_text(s, 0.0, flags=flags)\n",
      "/usr/local/lib/python3.6/dist-packages/matplotlib/backends/backend_agg.py:214: RuntimeWarning: Glyph 44144 missing from current font.\n",
      "  font.set_text(s, 0.0, flags=flags)\n",
      "/usr/local/lib/python3.6/dist-packages/matplotlib/backends/backend_agg.py:214: RuntimeWarning: Glyph 47532 missing from current font.\n",
      "  font.set_text(s, 0.0, flags=flags)\n",
      "/usr/local/lib/python3.6/dist-packages/matplotlib/backends/backend_agg.py:214: RuntimeWarning: Glyph 53468 missing from current font.\n",
      "  font.set_text(s, 0.0, flags=flags)\n",
      "/usr/local/lib/python3.6/dist-packages/matplotlib/backends/backend_agg.py:214: RuntimeWarning: Glyph 50577 missing from current font.\n",
      "  font.set_text(s, 0.0, flags=flags)\n",
      "/usr/local/lib/python3.6/dist-packages/matplotlib/backends/backend_agg.py:214: RuntimeWarning: Glyph 44228 missing from current font.\n",
      "  font.set_text(s, 0.0, flags=flags)\n",
      "/usr/local/lib/python3.6/dist-packages/matplotlib/backends/backend_agg.py:183: RuntimeWarning: Glyph 51068 missing from current font.\n",
      "  font.set_text(s, 0, flags=flags)\n",
      "/usr/local/lib/python3.6/dist-packages/matplotlib/backends/backend_agg.py:183: RuntimeWarning: Glyph 48376 missing from current font.\n",
      "  font.set_text(s, 0, flags=flags)\n",
      "/usr/local/lib/python3.6/dist-packages/matplotlib/backends/backend_agg.py:183: RuntimeWarning: Glyph 49548 missing from current font.\n",
      "  font.set_text(s, 0, flags=flags)\n",
      "/usr/local/lib/python3.6/dist-packages/matplotlib/backends/backend_agg.py:183: RuntimeWarning: Glyph 54665 missing from current font.\n",
      "  font.set_text(s, 0, flags=flags)\n",
      "/usr/local/lib/python3.6/dist-packages/matplotlib/backends/backend_agg.py:183: RuntimeWarning: Glyph 49457 missing from current font.\n",
      "  font.set_text(s, 0, flags=flags)\n",
      "/usr/local/lib/python3.6/dist-packages/matplotlib/backends/backend_agg.py:183: RuntimeWarning: Glyph 53456 missing from current font.\n",
      "  font.set_text(s, 0, flags=flags)\n",
      "/usr/local/lib/python3.6/dist-packages/matplotlib/backends/backend_agg.py:183: RuntimeWarning: Glyph 49324 missing from current font.\n",
      "  font.set_text(s, 0, flags=flags)\n",
      "/usr/local/lib/python3.6/dist-packages/matplotlib/backends/backend_agg.py:183: RuntimeWarning: Glyph 49440 missing from current font.\n",
      "  font.set_text(s, 0, flags=flags)\n",
      "/usr/local/lib/python3.6/dist-packages/matplotlib/backends/backend_agg.py:183: RuntimeWarning: Glyph 54616 missing from current font.\n",
      "  font.set_text(s, 0, flags=flags)\n",
      "/usr/local/lib/python3.6/dist-packages/matplotlib/backends/backend_agg.py:183: RuntimeWarning: Glyph 50556 missing from current font.\n",
      "  font.set_text(s, 0, flags=flags)\n",
      "/usr/local/lib/python3.6/dist-packages/matplotlib/backends/backend_agg.py:183: RuntimeWarning: Glyph 48512 missing from current font.\n",
      "  font.set_text(s, 0, flags=flags)\n",
      "/usr/local/lib/python3.6/dist-packages/matplotlib/backends/backend_agg.py:183: RuntimeWarning: Glyph 54840 missing from current font.\n",
      "  font.set_text(s, 0, flags=flags)\n",
      "/usr/local/lib/python3.6/dist-packages/matplotlib/backends/backend_agg.py:183: RuntimeWarning: Glyph 44032 missing from current font.\n",
      "  font.set_text(s, 0, flags=flags)\n",
      "/usr/local/lib/python3.6/dist-packages/matplotlib/backends/backend_agg.py:183: RuntimeWarning: Glyph 47448 missing from current font.\n",
      "  font.set_text(s, 0, flags=flags)\n",
      "/usr/local/lib/python3.6/dist-packages/matplotlib/backends/backend_agg.py:183: RuntimeWarning: Glyph 44396 missing from current font.\n",
      "  font.set_text(s, 0, flags=flags)\n",
      "/usr/local/lib/python3.6/dist-packages/matplotlib/backends/backend_agg.py:183: RuntimeWarning: Glyph 52292 missing from current font.\n",
      "  font.set_text(s, 0, flags=flags)\n",
      "/usr/local/lib/python3.6/dist-packages/matplotlib/backends/backend_agg.py:183: RuntimeWarning: Glyph 52712 missing from current font.\n",
      "  font.set_text(s, 0, flags=flags)\n",
      "/usr/local/lib/python3.6/dist-packages/matplotlib/backends/backend_agg.py:183: RuntimeWarning: Glyph 54364 missing from current font.\n",
      "  font.set_text(s, 0, flags=flags)\n",
      "/usr/local/lib/python3.6/dist-packages/matplotlib/backends/backend_agg.py:183: RuntimeWarning: Glyph 51032 missing from current font.\n",
      "  font.set_text(s, 0, flags=flags)\n",
      "/usr/local/lib/python3.6/dist-packages/matplotlib/backends/backend_agg.py:183: RuntimeWarning: Glyph 44277 missing from current font.\n",
      "  font.set_text(s, 0, flags=flags)\n",
      "/usr/local/lib/python3.6/dist-packages/matplotlib/backends/backend_agg.py:183: RuntimeWarning: Glyph 44060 missing from current font.\n",
      "  font.set_text(s, 0, flags=flags)\n",
      "/usr/local/lib/python3.6/dist-packages/matplotlib/backends/backend_agg.py:183: RuntimeWarning: Glyph 46096 missing from current font.\n",
      "  font.set_text(s, 0, flags=flags)\n",
      "/usr/local/lib/python3.6/dist-packages/matplotlib/backends/backend_agg.py:183: RuntimeWarning: Glyph 45796 missing from current font.\n",
      "  font.set_text(s, 0, flags=flags)\n",
      "/usr/local/lib/python3.6/dist-packages/matplotlib/backends/backend_agg.py:183: RuntimeWarning: Glyph 50864 missing from current font.\n",
      "  font.set_text(s, 0, flags=flags)\n",
      "/usr/local/lib/python3.6/dist-packages/matplotlib/backends/backend_agg.py:183: RuntimeWarning: Glyph 51452 missing from current font.\n",
      "  font.set_text(s, 0, flags=flags)\n",
      "/usr/local/lib/python3.6/dist-packages/matplotlib/backends/backend_agg.py:183: RuntimeWarning: Glyph 54637 missing from current font.\n",
      "  font.set_text(s, 0, flags=flags)\n",
      "/usr/local/lib/python3.6/dist-packages/matplotlib/backends/backend_agg.py:183: RuntimeWarning: Glyph 50672 missing from current font.\n",
      "  font.set_text(s, 0, flags=flags)\n",
      "/usr/local/lib/python3.6/dist-packages/matplotlib/backends/backend_agg.py:183: RuntimeWarning: Glyph 48156 missing from current font.\n",
      "  font.set_text(s, 0, flags=flags)\n",
      "/usr/local/lib/python3.6/dist-packages/matplotlib/backends/backend_agg.py:183: RuntimeWarning: Glyph 44592 missing from current font.\n",
      "  font.set_text(s, 0, flags=flags)\n",
      "/usr/local/lib/python3.6/dist-packages/matplotlib/backends/backend_agg.py:183: RuntimeWarning: Glyph 45804 missing from current font.\n",
      "  font.set_text(s, 0, flags=flags)\n",
      "/usr/local/lib/python3.6/dist-packages/matplotlib/backends/backend_agg.py:183: RuntimeWarning: Glyph 45716 missing from current font.\n",
      "  font.set_text(s, 0, flags=flags)\n",
      "/usr/local/lib/python3.6/dist-packages/matplotlib/backends/backend_agg.py:183: RuntimeWarning: Glyph 51256 missing from current font.\n",
      "  font.set_text(s, 0, flags=flags)\n",
      "/usr/local/lib/python3.6/dist-packages/matplotlib/backends/backend_agg.py:183: RuntimeWarning: Glyph 50728 missing from current font.\n",
      "  font.set_text(s, 0, flags=flags)\n",
      "/usr/local/lib/python3.6/dist-packages/matplotlib/backends/backend_agg.py:183: RuntimeWarning: Glyph 51060 missing from current font.\n",
      "  font.set_text(s, 0, flags=flags)\n",
      "/usr/local/lib/python3.6/dist-packages/matplotlib/backends/backend_agg.py:183: RuntimeWarning: Glyph 48176 missing from current font.\n",
      "  font.set_text(s, 0, flags=flags)\n",
      "/usr/local/lib/python3.6/dist-packages/matplotlib/backends/backend_agg.py:183: RuntimeWarning: Glyph 51648 missing from current font.\n",
      "  font.set_text(s, 0, flags=flags)\n",
      "/usr/local/lib/python3.6/dist-packages/matplotlib/backends/backend_agg.py:183: RuntimeWarning: Glyph 45212 missing from current font.\n",
      "  font.set_text(s, 0, flags=flags)\n",
      "/usr/local/lib/python3.6/dist-packages/matplotlib/backends/backend_agg.py:183: RuntimeWarning: Glyph 54644 missing from current font.\n",
      "  font.set_text(s, 0, flags=flags)\n",
      "/usr/local/lib/python3.6/dist-packages/matplotlib/backends/backend_agg.py:183: RuntimeWarning: Glyph 46504 missing from current font.\n",
      "  font.set_text(s, 0, flags=flags)\n",
      "/usr/local/lib/python3.6/dist-packages/matplotlib/backends/backend_agg.py:183: RuntimeWarning: Glyph 50612 missing from current font.\n",
      "  font.set_text(s, 0, flags=flags)\n",
      "/usr/local/lib/python3.6/dist-packages/matplotlib/backends/backend_agg.py:183: RuntimeWarning: Glyph 51652 missing from current font.\n",
      "  font.set_text(s, 0, flags=flags)\n",
      "/usr/local/lib/python3.6/dist-packages/matplotlib/backends/backend_agg.py:183: RuntimeWarning: Glyph 45236 missing from current font.\n",
      "  font.set_text(s, 0, flags=flags)\n",
      "/usr/local/lib/python3.6/dist-packages/matplotlib/backends/backend_agg.py:183: RuntimeWarning: Glyph 47932 missing from current font.\n",
      "  font.set_text(s, 0, flags=flags)\n",
      "/usr/local/lib/python3.6/dist-packages/matplotlib/backends/backend_agg.py:183: RuntimeWarning: Glyph 51656 missing from current font.\n",
      "  font.set_text(s, 0, flags=flags)\n",
      "/usr/local/lib/python3.6/dist-packages/matplotlib/backends/backend_agg.py:183: RuntimeWarning: Glyph 47561 missing from current font.\n",
      "  font.set_text(s, 0, flags=flags)\n",
      "/usr/local/lib/python3.6/dist-packages/matplotlib/backends/backend_agg.py:183: RuntimeWarning: Glyph 52897 missing from current font.\n",
      "  font.set_text(s, 0, flags=flags)\n",
      "/usr/local/lib/python3.6/dist-packages/matplotlib/backends/backend_agg.py:183: RuntimeWarning: Glyph 49808 missing from current font.\n",
      "  font.set_text(s, 0, flags=flags)\n",
      "/usr/local/lib/python3.6/dist-packages/matplotlib/backends/backend_agg.py:183: RuntimeWarning: Glyph 54693 missing from current font.\n",
      "  font.set_text(s, 0, flags=flags)\n",
      "/usr/local/lib/python3.6/dist-packages/matplotlib/backends/backend_agg.py:183: RuntimeWarning: Glyph 44144 missing from current font.\n",
      "  font.set_text(s, 0, flags=flags)\n",
      "/usr/local/lib/python3.6/dist-packages/matplotlib/backends/backend_agg.py:183: RuntimeWarning: Glyph 47532 missing from current font.\n",
      "  font.set_text(s, 0, flags=flags)\n",
      "/usr/local/lib/python3.6/dist-packages/matplotlib/backends/backend_agg.py:183: RuntimeWarning: Glyph 53468 missing from current font.\n",
      "  font.set_text(s, 0, flags=flags)\n",
      "/usr/local/lib/python3.6/dist-packages/matplotlib/backends/backend_agg.py:183: RuntimeWarning: Glyph 50577 missing from current font.\n",
      "  font.set_text(s, 0, flags=flags)\n",
      "/usr/local/lib/python3.6/dist-packages/matplotlib/backends/backend_agg.py:183: RuntimeWarning: Glyph 44228 missing from current font.\n",
      "  font.set_text(s, 0, flags=flags)\n"
     ]
    },
    {
     "data": {
      "image/png": "[encoded data removed]",
      "text/plain": [
       "<Figure size 1440x1080 with 1 Axes>"
      ]
     },
     "metadata": {
      "needs_background": "light",
      "tags": []
     },
     "output_type": "display_data"
    }
   ],
   "source": [
    "plt.rcParams[\"font.size\"] = 20\r\n",
    "plt.rcParams[\"figure.figsize\"] = (20,15)\r\n",
    "plt.scatter(result_pos[:, 0], result_pos[:, 1])\r\n",
    "words = list(model_pos.wv.vocab)\r\n",
    "for i, word in enumerate(words):\r\n",
    "\tplt.annotate(word, xy=(result_pos[i, 0], result_pos[i, 1]))\r\n",
    "\r\n",
    "# 그래프에서 마이너스 폰트 깨지는 문제에 대한 대처\r\n",
    "mpl.rcParams['axes.unicode_minus'] = False\r\n",
    "\r\n",
    "plt.show()"
   ]
  }
 ],
 "metadata": {
  "colab": {
   "collapsed_sections": [],
   "name": "lab2_nlp_base.ipynb",
   "provenance": [],
   "toc_visible": true
  },
  "kernelspec": {
   "display_name": "Python 3",
   "name": "python3"
  }
 },
 "nbformat": 4,
 "nbformat_minor": 0
}
